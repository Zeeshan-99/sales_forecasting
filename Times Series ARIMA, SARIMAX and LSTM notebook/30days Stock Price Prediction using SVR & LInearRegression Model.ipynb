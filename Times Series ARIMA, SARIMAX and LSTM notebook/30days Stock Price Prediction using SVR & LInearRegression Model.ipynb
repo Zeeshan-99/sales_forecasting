{
 "cells": [
  {
   "cell_type": "code",
   "execution_count": 1,
   "metadata": {},
   "outputs": [],
   "source": [
    "# Importing the required libraries"
   ]
  },
  {
   "cell_type": "code",
   "execution_count": 2,
   "metadata": {},
   "outputs": [],
   "source": [
    "import pandas as pd\n",
    "import numpy as np\n",
    "from sklearn.svm import SVR\n",
    "from sklearn.linear_model import LinearRegression\n",
    "import matplotlib.pyplot as plt"
   ]
  },
  {
   "cell_type": "code",
   "execution_count": 3,
   "metadata": {},
   "outputs": [],
   "source": [
    "#Load the data"
   ]
  },
  {
   "cell_type": "code",
   "execution_count": 30,
   "metadata": {},
   "outputs": [],
   "source": [
    "df=pd.read_csv('TATAGLOBAL.BO.csv')\n",
    "df=df.head(30)"
   ]
  },
  {
   "cell_type": "code",
   "execution_count": 32,
   "metadata": {},
   "outputs": [
    {
     "data": {
      "text/plain": [
       "(30, 7)"
      ]
     },
     "execution_count": 32,
     "metadata": {},
     "output_type": "execute_result"
    }
   ],
   "source": [
    "df.shape"
   ]
  },
  {
   "cell_type": "code",
   "execution_count": 5,
   "metadata": {},
   "outputs": [],
   "source": [
    "# Create the list / x and y datset"
   ]
  },
  {
   "cell_type": "code",
   "execution_count": 33,
   "metadata": {},
   "outputs": [
    {
     "data": {
      "text/plain": [
       "(30, 7)"
      ]
     },
     "execution_count": 33,
     "metadata": {},
     "output_type": "execute_result"
    }
   ],
   "source": [
    "df.shape"
   ]
  },
  {
   "cell_type": "code",
   "execution_count": 34,
   "metadata": {},
   "outputs": [
    {
     "data": {
      "text/html": [
       "<div>\n",
       "<style scoped>\n",
       "    .dataframe tbody tr th:only-of-type {\n",
       "        vertical-align: middle;\n",
       "    }\n",
       "\n",
       "    .dataframe tbody tr th {\n",
       "        vertical-align: top;\n",
       "    }\n",
       "\n",
       "    .dataframe thead th {\n",
       "        text-align: right;\n",
       "    }\n",
       "</style>\n",
       "<table border=\"1\" class=\"dataframe\">\n",
       "  <thead>\n",
       "    <tr style=\"text-align: right;\">\n",
       "      <th></th>\n",
       "      <th>Date</th>\n",
       "      <th>Open</th>\n",
       "      <th>High</th>\n",
       "      <th>Low</th>\n",
       "      <th>Close</th>\n",
       "      <th>Adj Close</th>\n",
       "      <th>Volume</th>\n",
       "    </tr>\n",
       "  </thead>\n",
       "  <tbody>\n",
       "    <tr>\n",
       "      <th>29</th>\n",
       "      <td>2012-07-09</td>\n",
       "      <td>117.050003</td>\n",
       "      <td>117.5</td>\n",
       "      <td>113.699997</td>\n",
       "      <td>114.099998</td>\n",
       "      <td>100.180862</td>\n",
       "      <td>295348.0</td>\n",
       "    </tr>\n",
       "  </tbody>\n",
       "</table>\n",
       "</div>"
      ],
      "text/plain": [
       "          Date        Open   High         Low       Close   Adj Close  \\\n",
       "29  2012-07-09  117.050003  117.5  113.699997  114.099998  100.180862   \n",
       "\n",
       "      Volume  \n",
       "29  295348.0  "
      ]
     },
     "execution_count": 34,
     "metadata": {},
     "output_type": "execute_result"
    }
   ],
   "source": [
    "df.tail(1)"
   ]
  },
  {
   "cell_type": "code",
   "execution_count": 35,
   "metadata": {},
   "outputs": [],
   "source": [
    "# Get all of the data except for the last row"
   ]
  },
  {
   "cell_type": "code",
   "execution_count": 36,
   "metadata": {},
   "outputs": [
    {
     "data": {
      "text/html": [
       "<div>\n",
       "<style scoped>\n",
       "    .dataframe tbody tr th:only-of-type {\n",
       "        vertical-align: middle;\n",
       "    }\n",
       "\n",
       "    .dataframe tbody tr th {\n",
       "        vertical-align: top;\n",
       "    }\n",
       "\n",
       "    .dataframe thead th {\n",
       "        text-align: right;\n",
       "    }\n",
       "</style>\n",
       "<table border=\"1\" class=\"dataframe\">\n",
       "  <thead>\n",
       "    <tr style=\"text-align: right;\">\n",
       "      <th></th>\n",
       "      <th>Date</th>\n",
       "      <th>Open</th>\n",
       "      <th>High</th>\n",
       "      <th>Low</th>\n",
       "      <th>Close</th>\n",
       "      <th>Adj Close</th>\n",
       "      <th>Volume</th>\n",
       "    </tr>\n",
       "  </thead>\n",
       "  <tbody>\n",
       "    <tr>\n",
       "      <th>0</th>\n",
       "      <td>2012-05-29</td>\n",
       "      <td>112.599998</td>\n",
       "      <td>114.400002</td>\n",
       "      <td>109.150002</td>\n",
       "      <td>109.900002</td>\n",
       "      <td>96.493225</td>\n",
       "      <td>225822.0</td>\n",
       "    </tr>\n",
       "    <tr>\n",
       "      <th>1</th>\n",
       "      <td>2012-05-30</td>\n",
       "      <td>109.849998</td>\n",
       "      <td>110.550003</td>\n",
       "      <td>107.000000</td>\n",
       "      <td>107.400002</td>\n",
       "      <td>94.298195</td>\n",
       "      <td>115051.0</td>\n",
       "    </tr>\n",
       "    <tr>\n",
       "      <th>2</th>\n",
       "      <td>2012-05-31</td>\n",
       "      <td>106.500000</td>\n",
       "      <td>109.199997</td>\n",
       "      <td>106.500000</td>\n",
       "      <td>107.800003</td>\n",
       "      <td>94.649391</td>\n",
       "      <td>134958.0</td>\n",
       "    </tr>\n",
       "    <tr>\n",
       "      <th>3</th>\n",
       "      <td>2012-06-01</td>\n",
       "      <td>108.099998</td>\n",
       "      <td>109.099998</td>\n",
       "      <td>104.949997</td>\n",
       "      <td>105.550003</td>\n",
       "      <td>92.673882</td>\n",
       "      <td>162538.0</td>\n",
       "    </tr>\n",
       "    <tr>\n",
       "      <th>4</th>\n",
       "      <td>2012-06-04</td>\n",
       "      <td>104.449997</td>\n",
       "      <td>105.699997</td>\n",
       "      <td>102.500000</td>\n",
       "      <td>104.699997</td>\n",
       "      <td>91.927574</td>\n",
       "      <td>140364.0</td>\n",
       "    </tr>\n",
       "    <tr>\n",
       "      <th>5</th>\n",
       "      <td>2012-06-05</td>\n",
       "      <td>104.900002</td>\n",
       "      <td>107.699997</td>\n",
       "      <td>104.000000</td>\n",
       "      <td>105.199997</td>\n",
       "      <td>92.366585</td>\n",
       "      <td>183330.0</td>\n",
       "    </tr>\n",
       "    <tr>\n",
       "      <th>6</th>\n",
       "      <td>2012-06-06</td>\n",
       "      <td>105.300003</td>\n",
       "      <td>108.750000</td>\n",
       "      <td>105.300003</td>\n",
       "      <td>108.050003</td>\n",
       "      <td>94.868919</td>\n",
       "      <td>161023.0</td>\n",
       "    </tr>\n",
       "    <tr>\n",
       "      <th>7</th>\n",
       "      <td>2012-06-07</td>\n",
       "      <td>116.900002</td>\n",
       "      <td>116.900002</td>\n",
       "      <td>108.000000</td>\n",
       "      <td>109.199997</td>\n",
       "      <td>95.878616</td>\n",
       "      <td>193018.0</td>\n",
       "    </tr>\n",
       "    <tr>\n",
       "      <th>8</th>\n",
       "      <td>2012-06-08</td>\n",
       "      <td>109.949997</td>\n",
       "      <td>112.650002</td>\n",
       "      <td>107.250000</td>\n",
       "      <td>111.949997</td>\n",
       "      <td>98.293129</td>\n",
       "      <td>542449.0</td>\n",
       "    </tr>\n",
       "    <tr>\n",
       "      <th>9</th>\n",
       "      <td>2012-06-11</td>\n",
       "      <td>113.500000</td>\n",
       "      <td>114.150002</td>\n",
       "      <td>110.150002</td>\n",
       "      <td>110.900002</td>\n",
       "      <td>97.371231</td>\n",
       "      <td>240203.0</td>\n",
       "    </tr>\n",
       "    <tr>\n",
       "      <th>10</th>\n",
       "      <td>2012-06-12</td>\n",
       "      <td>110.000000</td>\n",
       "      <td>113.099998</td>\n",
       "      <td>109.650002</td>\n",
       "      <td>112.099998</td>\n",
       "      <td>98.424850</td>\n",
       "      <td>150867.0</td>\n",
       "    </tr>\n",
       "    <tr>\n",
       "      <th>11</th>\n",
       "      <td>2012-06-13</td>\n",
       "      <td>112.500000</td>\n",
       "      <td>112.849998</td>\n",
       "      <td>108.050003</td>\n",
       "      <td>108.800003</td>\n",
       "      <td>95.527412</td>\n",
       "      <td>142315.0</td>\n",
       "    </tr>\n",
       "    <tr>\n",
       "      <th>12</th>\n",
       "      <td>2012-06-14</td>\n",
       "      <td>108.000000</td>\n",
       "      <td>109.750000</td>\n",
       "      <td>105.500000</td>\n",
       "      <td>105.849998</td>\n",
       "      <td>92.937279</td>\n",
       "      <td>220761.0</td>\n",
       "    </tr>\n",
       "    <tr>\n",
       "      <th>13</th>\n",
       "      <td>2012-06-15</td>\n",
       "      <td>107.500000</td>\n",
       "      <td>108.000000</td>\n",
       "      <td>105.000000</td>\n",
       "      <td>107.699997</td>\n",
       "      <td>94.561607</td>\n",
       "      <td>108699.0</td>\n",
       "    </tr>\n",
       "    <tr>\n",
       "      <th>14</th>\n",
       "      <td>2012-06-18</td>\n",
       "      <td>108.800003</td>\n",
       "      <td>109.150002</td>\n",
       "      <td>104.650002</td>\n",
       "      <td>105.849998</td>\n",
       "      <td>92.937279</td>\n",
       "      <td>162005.0</td>\n",
       "    </tr>\n",
       "    <tr>\n",
       "      <th>15</th>\n",
       "      <td>2012-06-19</td>\n",
       "      <td>108.300003</td>\n",
       "      <td>108.300003</td>\n",
       "      <td>104.449997</td>\n",
       "      <td>104.849998</td>\n",
       "      <td>92.059280</td>\n",
       "      <td>237662.0</td>\n",
       "    </tr>\n",
       "    <tr>\n",
       "      <th>16</th>\n",
       "      <td>2012-06-20</td>\n",
       "      <td>105.949997</td>\n",
       "      <td>107.449997</td>\n",
       "      <td>104.750000</td>\n",
       "      <td>106.199997</td>\n",
       "      <td>93.244583</td>\n",
       "      <td>229400.0</td>\n",
       "    </tr>\n",
       "    <tr>\n",
       "      <th>17</th>\n",
       "      <td>2012-06-21</td>\n",
       "      <td>108.099998</td>\n",
       "      <td>108.349998</td>\n",
       "      <td>106.000000</td>\n",
       "      <td>107.699997</td>\n",
       "      <td>94.561607</td>\n",
       "      <td>217239.0</td>\n",
       "    </tr>\n",
       "    <tr>\n",
       "      <th>18</th>\n",
       "      <td>2012-06-22</td>\n",
       "      <td>109.500000</td>\n",
       "      <td>109.500000</td>\n",
       "      <td>106.800003</td>\n",
       "      <td>108.099998</td>\n",
       "      <td>94.912811</td>\n",
       "      <td>251028.0</td>\n",
       "    </tr>\n",
       "    <tr>\n",
       "      <th>19</th>\n",
       "      <td>2012-06-25</td>\n",
       "      <td>109.900002</td>\n",
       "      <td>111.500000</td>\n",
       "      <td>108.500000</td>\n",
       "      <td>109.199997</td>\n",
       "      <td>95.878616</td>\n",
       "      <td>302213.0</td>\n",
       "    </tr>\n",
       "    <tr>\n",
       "      <th>20</th>\n",
       "      <td>2012-06-26</td>\n",
       "      <td>109.849998</td>\n",
       "      <td>116.000000</td>\n",
       "      <td>109.550003</td>\n",
       "      <td>115.050003</td>\n",
       "      <td>101.014961</td>\n",
       "      <td>604478.0</td>\n",
       "    </tr>\n",
       "    <tr>\n",
       "      <th>21</th>\n",
       "      <td>2012-06-27</td>\n",
       "      <td>116.699997</td>\n",
       "      <td>117.849998</td>\n",
       "      <td>115.599998</td>\n",
       "      <td>116.849998</td>\n",
       "      <td>102.595390</td>\n",
       "      <td>700370.0</td>\n",
       "    </tr>\n",
       "    <tr>\n",
       "      <th>22</th>\n",
       "      <td>2012-06-28</td>\n",
       "      <td>117.000000</td>\n",
       "      <td>118.750000</td>\n",
       "      <td>115.050003</td>\n",
       "      <td>115.949997</td>\n",
       "      <td>101.805168</td>\n",
       "      <td>211939.0</td>\n",
       "    </tr>\n",
       "    <tr>\n",
       "      <th>23</th>\n",
       "      <td>2012-06-29</td>\n",
       "      <td>118.250000</td>\n",
       "      <td>118.250000</td>\n",
       "      <td>115.250000</td>\n",
       "      <td>115.949997</td>\n",
       "      <td>101.805168</td>\n",
       "      <td>315505.0</td>\n",
       "    </tr>\n",
       "    <tr>\n",
       "      <th>24</th>\n",
       "      <td>2012-07-02</td>\n",
       "      <td>114.949997</td>\n",
       "      <td>119.500000</td>\n",
       "      <td>114.949997</td>\n",
       "      <td>118.050003</td>\n",
       "      <td>103.648994</td>\n",
       "      <td>258003.0</td>\n",
       "    </tr>\n",
       "    <tr>\n",
       "      <th>25</th>\n",
       "      <td>2012-07-03</td>\n",
       "      <td>117.000000</td>\n",
       "      <td>119.949997</td>\n",
       "      <td>116.599998</td>\n",
       "      <td>119.550003</td>\n",
       "      <td>104.966019</td>\n",
       "      <td>222818.0</td>\n",
       "    </tr>\n",
       "    <tr>\n",
       "      <th>26</th>\n",
       "      <td>2012-07-04</td>\n",
       "      <td>120.000000</td>\n",
       "      <td>121.000000</td>\n",
       "      <td>118.150002</td>\n",
       "      <td>118.750000</td>\n",
       "      <td>104.263611</td>\n",
       "      <td>242048.0</td>\n",
       "    </tr>\n",
       "    <tr>\n",
       "      <th>27</th>\n",
       "      <td>2012-07-05</td>\n",
       "      <td>118.750000</td>\n",
       "      <td>120.050003</td>\n",
       "      <td>118.349998</td>\n",
       "      <td>119.599998</td>\n",
       "      <td>105.009903</td>\n",
       "      <td>158887.0</td>\n",
       "    </tr>\n",
       "    <tr>\n",
       "      <th>28</th>\n",
       "      <td>2012-07-06</td>\n",
       "      <td>119.150002</td>\n",
       "      <td>119.449997</td>\n",
       "      <td>117.099998</td>\n",
       "      <td>117.449997</td>\n",
       "      <td>103.122192</td>\n",
       "      <td>117944.0</td>\n",
       "    </tr>\n",
       "  </tbody>\n",
       "</table>\n",
       "</div>"
      ],
      "text/plain": [
       "          Date        Open        High         Low       Close   Adj Close  \\\n",
       "0   2012-05-29  112.599998  114.400002  109.150002  109.900002   96.493225   \n",
       "1   2012-05-30  109.849998  110.550003  107.000000  107.400002   94.298195   \n",
       "2   2012-05-31  106.500000  109.199997  106.500000  107.800003   94.649391   \n",
       "3   2012-06-01  108.099998  109.099998  104.949997  105.550003   92.673882   \n",
       "4   2012-06-04  104.449997  105.699997  102.500000  104.699997   91.927574   \n",
       "5   2012-06-05  104.900002  107.699997  104.000000  105.199997   92.366585   \n",
       "6   2012-06-06  105.300003  108.750000  105.300003  108.050003   94.868919   \n",
       "7   2012-06-07  116.900002  116.900002  108.000000  109.199997   95.878616   \n",
       "8   2012-06-08  109.949997  112.650002  107.250000  111.949997   98.293129   \n",
       "9   2012-06-11  113.500000  114.150002  110.150002  110.900002   97.371231   \n",
       "10  2012-06-12  110.000000  113.099998  109.650002  112.099998   98.424850   \n",
       "11  2012-06-13  112.500000  112.849998  108.050003  108.800003   95.527412   \n",
       "12  2012-06-14  108.000000  109.750000  105.500000  105.849998   92.937279   \n",
       "13  2012-06-15  107.500000  108.000000  105.000000  107.699997   94.561607   \n",
       "14  2012-06-18  108.800003  109.150002  104.650002  105.849998   92.937279   \n",
       "15  2012-06-19  108.300003  108.300003  104.449997  104.849998   92.059280   \n",
       "16  2012-06-20  105.949997  107.449997  104.750000  106.199997   93.244583   \n",
       "17  2012-06-21  108.099998  108.349998  106.000000  107.699997   94.561607   \n",
       "18  2012-06-22  109.500000  109.500000  106.800003  108.099998   94.912811   \n",
       "19  2012-06-25  109.900002  111.500000  108.500000  109.199997   95.878616   \n",
       "20  2012-06-26  109.849998  116.000000  109.550003  115.050003  101.014961   \n",
       "21  2012-06-27  116.699997  117.849998  115.599998  116.849998  102.595390   \n",
       "22  2012-06-28  117.000000  118.750000  115.050003  115.949997  101.805168   \n",
       "23  2012-06-29  118.250000  118.250000  115.250000  115.949997  101.805168   \n",
       "24  2012-07-02  114.949997  119.500000  114.949997  118.050003  103.648994   \n",
       "25  2012-07-03  117.000000  119.949997  116.599998  119.550003  104.966019   \n",
       "26  2012-07-04  120.000000  121.000000  118.150002  118.750000  104.263611   \n",
       "27  2012-07-05  118.750000  120.050003  118.349998  119.599998  105.009903   \n",
       "28  2012-07-06  119.150002  119.449997  117.099998  117.449997  103.122192   \n",
       "\n",
       "      Volume  \n",
       "0   225822.0  \n",
       "1   115051.0  \n",
       "2   134958.0  \n",
       "3   162538.0  \n",
       "4   140364.0  \n",
       "5   183330.0  \n",
       "6   161023.0  \n",
       "7   193018.0  \n",
       "8   542449.0  \n",
       "9   240203.0  \n",
       "10  150867.0  \n",
       "11  142315.0  \n",
       "12  220761.0  \n",
       "13  108699.0  \n",
       "14  162005.0  \n",
       "15  237662.0  \n",
       "16  229400.0  \n",
       "17  217239.0  \n",
       "18  251028.0  \n",
       "19  302213.0  \n",
       "20  604478.0  \n",
       "21  700370.0  \n",
       "22  211939.0  \n",
       "23  315505.0  \n",
       "24  258003.0  \n",
       "25  222818.0  \n",
       "26  242048.0  \n",
       "27  158887.0  \n",
       "28  117944.0  "
      ]
     },
     "execution_count": 36,
     "metadata": {},
     "output_type": "execute_result"
    }
   ],
   "source": [
    "df=df.head(len(df)-1)\n",
    "df"
   ]
  },
  {
   "cell_type": "code",
   "execution_count": 37,
   "metadata": {},
   "outputs": [
    {
     "data": {
      "text/plain": [
       "(29, 7)"
      ]
     },
     "execution_count": 37,
     "metadata": {},
     "output_type": "execute_result"
    }
   ],
   "source": [
    "# The new Shape of the data\n",
    "df.shape"
   ]
  },
  {
   "cell_type": "code",
   "execution_count": 38,
   "metadata": {},
   "outputs": [
    {
     "data": {
      "text/plain": [
       "0    2012-05-29\n",
       "1    2012-05-30\n",
       "2    2012-05-31\n",
       "3    2012-06-01\n",
       "4    2012-06-04\n",
       "Name: Date, dtype: object"
      ]
     },
     "execution_count": 38,
     "metadata": {},
     "output_type": "execute_result"
    }
   ],
   "source": [
    "#Get all of the rows from the Date column\n",
    "df_dates=df.loc[:,'Date']\n",
    "df_dates.head()"
   ]
  },
  {
   "cell_type": "code",
   "execution_count": 39,
   "metadata": {},
   "outputs": [],
   "source": [
    "# Get all of the rows from the open column\n",
    "df_open=df.loc[:,'Open']"
   ]
  },
  {
   "cell_type": "code",
   "execution_count": 40,
   "metadata": {},
   "outputs": [],
   "source": [
    "dates=[]\n",
    "prices=[]"
   ]
  },
  {
   "cell_type": "code",
   "execution_count": 41,
   "metadata": {},
   "outputs": [],
   "source": [
    "# Create the Independent data set X"
   ]
  },
  {
   "cell_type": "code",
   "execution_count": 42,
   "metadata": {},
   "outputs": [],
   "source": [
    "for date in df_dates:\n",
    "    dates.append([int(date.split('-')[2])])"
   ]
  },
  {
   "cell_type": "code",
   "execution_count": 43,
   "metadata": {},
   "outputs": [
    {
     "data": {
      "text/plain": [
       "[[29],\n",
       " [30],\n",
       " [31],\n",
       " [1],\n",
       " [4],\n",
       " [5],\n",
       " [6],\n",
       " [7],\n",
       " [8],\n",
       " [11],\n",
       " [12],\n",
       " [13],\n",
       " [14],\n",
       " [15],\n",
       " [18],\n",
       " [19],\n",
       " [20],\n",
       " [21],\n",
       " [22],\n",
       " [25],\n",
       " [26],\n",
       " [27],\n",
       " [28],\n",
       " [29],\n",
       " [2],\n",
       " [3],\n",
       " [4],\n",
       " [5],\n",
       " [6]]"
      ]
     },
     "execution_count": 43,
     "metadata": {},
     "output_type": "execute_result"
    }
   ],
   "source": [
    "dates"
   ]
  },
  {
   "cell_type": "code",
   "execution_count": 44,
   "metadata": {},
   "outputs": [],
   "source": [
    "# Create the dependent data set 'y'"
   ]
  },
  {
   "cell_type": "code",
   "execution_count": 45,
   "metadata": {},
   "outputs": [],
   "source": [
    "for open_price in df_open:\n",
    "    prices.append(float(open_price))"
   ]
  },
  {
   "cell_type": "code",
   "execution_count": 46,
   "metadata": {},
   "outputs": [
    {
     "data": {
      "text/plain": [
       "[112.599998,\n",
       " 109.849998,\n",
       " 106.5,\n",
       " 108.099998,\n",
       " 104.449997,\n",
       " 104.900002,\n",
       " 105.300003,\n",
       " 116.900002,\n",
       " 109.949997,\n",
       " 113.5,\n",
       " 110.0,\n",
       " 112.5,\n",
       " 108.0,\n",
       " 107.5,\n",
       " 108.800003,\n",
       " 108.300003,\n",
       " 105.949997,\n",
       " 108.099998,\n",
       " 109.5,\n",
       " 109.900002,\n",
       " 109.849998,\n",
       " 116.699997,\n",
       " 117.0,\n",
       " 118.25,\n",
       " 114.949997,\n",
       " 117.0,\n",
       " 120.0,\n",
       " 118.75,\n",
       " 119.150002]"
      ]
     },
     "execution_count": 46,
     "metadata": {},
     "output_type": "execute_result"
    }
   ],
   "source": [
    "prices"
   ]
  },
  {
   "cell_type": "code",
   "execution_count": 53,
   "metadata": {},
   "outputs": [],
   "source": [
    "def predict_prices(dates,prices,x):\n",
    "    # Create the 3 Support Vector Regression Models\n",
    "    svr_lin=SVR(kernel='linear',C=1e3)\n",
    "    svr_poly=SVR(kernel='poly',C=1e3, degree=2)\n",
    "    svr_rbf=SVR(kernel='rbf',C=1e3,gamma=0.1)\n",
    "    \n",
    "    # Train the SVR models\n",
    "    svr_lin.fit(dates,prices)\n",
    "    svr_poly.fit(dates,prices)\n",
    "    svr_rbf.fit(dates,prices)\n",
    "    \n",
    "    # Create the Linear Regression model\n",
    "\n",
    "    lin_reg= LinearRegression()\n",
    "    \n",
    "    # Train the linear Regression model\n",
    "    \n",
    "    lin_reg.fit(dates,prices)\n",
    "    \n",
    "    plt.figure(figsize=(15,8))\n",
    "    \n",
    "    plt.scatter(dates,prices, color='black', label='Date')\n",
    "\n",
    "    plt.plot(dates, svr_rbf.predict(dates),color='red', label='SVR_RBF')\n",
    "    plt.plot(dates, svr_poly.predict(dates),color='blue', label='SVR_poly')\n",
    "    plt.plot(dates, svr_lin.predict(dates),color='green', label='SVR_linear')\n",
    "    plt.plot(dates, lin_reg.predict(dates),color='orange', label='linear-reg')\n",
    "\n",
    "    plt.xlabel('Days')\n",
    "    plt.ylabel('Price')\n",
    "    plt.title('Regression')\n",
    "    plt.legend()\n",
    "    plt.show()\n",
    "\n",
    "    return svr_rbf.predict(x)[0],svr_lin.predict(x)[0],svr_poly.predict(x)[0],lin_reg.predict(x)[0]\n",
    "\n",
    "    \n",
    "    "
   ]
  },
  {
   "cell_type": "code",
   "execution_count": 54,
   "metadata": {},
   "outputs": [
    {
     "data": {
      "image/png": "[encoded data removed]",
      "text/plain": [
       "<Figure size 1080x576 with 1 Axes>"
      ]
     },
     "metadata": {
      "needs_background": "light"
     },
     "output_type": "display_data"
    },
    {
     "name": "stdout",
     "output_type": "stream",
     "text": [
      "(117.09984518594621, 109.77727063626412, 109.94540336732268, 110.94919247944665)\n"
     ]
    }
   ],
   "source": [
    "# predict the price of on 28 days\n",
    "predict_price=predict_prices(dates,prices,[[28]])\n",
    "print(predict_price)"
   ]
  },
  {
   "cell_type": "code",
   "execution_count": null,
   "metadata": {},
   "outputs": [],
   "source": []
  },
  {
   "cell_type": "code",
   "execution_count": null,
   "metadata": {},
   "outputs": [],
   "source": []
  },
  {
   "cell_type": "code",
   "execution_count": null,
   "metadata": {},
   "outputs": [],
   "source": []
  },
  {
   "cell_type": "code",
   "execution_count": null,
   "metadata": {},
   "outputs": [],
   "source": []
  },
  {
   "cell_type": "code",
   "execution_count": null,
   "metadata": {},
   "outputs": [],
   "source": []
  }
 ],
 "metadata": {
  "kernelspec": {
   "display_name": "Python 3",
   "language": "python",
   "name": "python3"
  },
  "language_info": {
   "codemirror_mode": {
    "name": "ipython",
    "version": 3
   },
   "file_extension": ".py",
   "mimetype": "text/x-python",
   "name": "python",
   "nbconvert_exporter": "python",
   "pygments_lexer": "ipython3",
   "version": "3.8.5"
  }
 },
 "nbformat": 4,
 "nbformat_minor": 2
}
