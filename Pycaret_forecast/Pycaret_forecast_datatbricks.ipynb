{
 "cells": [
  {
   "cell_type": "markdown",
   "metadata": {},
   "source": [
    "##### Model version\n",
    "- Python 3.9.18\n",
    "-  Pycaret 3.2.0"
   ]
  },
  {
   "cell_type": "code",
   "execution_count": 10,
   "metadata": {},
   "outputs": [
    {
     "name": "stdout",
     "output_type": "stream",
     "text": [
      "Name: pycaretNote: you may need to restart the kernel to use updated packages.\n",
      "\n",
      "Version: 3.2.0\n",
      "Summary: PyCaret - An open source, low-code machine learning library in Python.\n",
      "Home-page: https://github.com/pycaret/pycaret\n",
      "Author: Moez Ali\n",
      "Author-email: moez.ali@queensu.ca\n",
      "License: MIT\n",
      "Location: c:\\users\\zeesh\\anaconda3\\envs\\forecasting_env\\lib\\site-packages\n",
      "Requires: category-encoders, cloudpickle, deprecation, imbalanced-learn, importlib-metadata, ipython, ipywidgets, jinja2, joblib, kaleido, lightgbm, markupsafe, matplotlib, nbformat, numba, numpy, pandas, plotly, plotly-resampler, pmdarima, psutil, pyod, requests, schemdraw, scikit-learn, scikit-plot, scipy, sktime, statsmodels, tbats, tqdm, xxhash, yellowbrick\n",
      "Required-by: \n"
     ]
    }
   ],
   "source": [
    "pip show pycaret"
   ]
  },
  {
   "cell_type": "markdown",
   "metadata": {},
   "source": [
    "## Experiment with PyCaret"
   ]
  },
  {
   "cell_type": "code",
   "execution_count": 11,
   "metadata": {},
   "outputs": [
    {
     "data": {
      "text/html": [
       "<div>\n",
       "<style scoped>\n",
       "    .dataframe tbody tr th:only-of-type {\n",
       "        vertical-align: middle;\n",
       "    }\n",
       "\n",
       "    .dataframe tbody tr th {\n",
       "        vertical-align: top;\n",
       "    }\n",
       "\n",
       "    .dataframe thead th {\n",
       "        text-align: right;\n",
       "    }\n",
       "</style>\n",
       "<table border=\"1\" class=\"dataframe\">\n",
       "  <thead>\n",
       "    <tr style=\"text-align: right;\">\n",
       "      <th></th>\n",
       "      <th>Date</th>\n",
       "      <th>Total</th>\n",
       "    </tr>\n",
       "  </thead>\n",
       "  <tbody>\n",
       "    <tr>\n",
       "      <th>0</th>\n",
       "      <td>7/8/2021</td>\n",
       "      <td>3773</td>\n",
       "    </tr>\n",
       "    <tr>\n",
       "      <th>1</th>\n",
       "      <td>7/9/2021</td>\n",
       "      <td>3172</td>\n",
       "    </tr>\n",
       "    <tr>\n",
       "      <th>2</th>\n",
       "      <td>7/10/2021</td>\n",
       "      <td>2079</td>\n",
       "    </tr>\n",
       "    <tr>\n",
       "      <th>3</th>\n",
       "      <td>7/11/2021</td>\n",
       "      <td>2725</td>\n",
       "    </tr>\n",
       "    <tr>\n",
       "      <th>4</th>\n",
       "      <td>7/12/2021</td>\n",
       "      <td>4542</td>\n",
       "    </tr>\n",
       "  </tbody>\n",
       "</table>\n",
       "</div>"
      ],
      "text/plain": [
       "        Date  Total\n",
       "0   7/8/2021   3773\n",
       "1   7/9/2021   3172\n",
       "2  7/10/2021   2079\n",
       "3  7/11/2021   2725\n",
       "4  7/12/2021   4542"
      ]
     },
     "metadata": {},
     "output_type": "display_data"
    }
   ],
   "source": [
    "import pickle\n",
    "import mlflow\n",
    "import pandas as pd\n",
    "from pycaret.time_series import *\n",
    "from pycaret.datasets import get_data\n",
    "import matplotlib.pyplot as plt\n",
    "\n",
    "# ... data preparation and setup\n",
    "data = get_data('pycaret_downloads')\n",
    "data['Date'] = pd.to_datetime(data['Date'])\n",
    "data.set_index('Date', inplace=True)\n"
   ]
  },
  {
   "cell_type": "markdown",
   "metadata": {},
   "source": [
    "# EDA"
   ]
  },
  {
   "cell_type": "code",
   "execution_count": 12,
   "metadata": {},
   "outputs": [
    {
     "data": {
      "application/vnd.plotly.v1+json": {
       "config": {
        "plotlyServerURL": "https://plot.ly"
       },
       "data": [
        {
         "hovertemplate": "Date=%{x}<br>Total=%{y}<extra></extra>",
         "legendgroup": "",
         "line": {
          "color": "#636efa",
          "dash": "solid"
         },
         "marker": {
          "color": "red",
          "symbol": "circle"
         },
         "mode": "markers+lines",
         "name": "",
         "orientation": "v",
         "showlegend": false,
         "type": "scatter",
         "x": [
          "2021-07-08T00:00:00",
          "2021-07-09T00:00:00",
          "2021-07-10T00:00:00",
          "2021-07-11T00:00:00",
          "2021-07-12T00:00:00",
          "2021-07-13T00:00:00",
          "2021-07-14T00:00:00",
          "2021-07-15T00:00:00",
          "2021-07-16T00:00:00",
          "2021-07-17T00:00:00",
          "2021-07-18T00:00:00",
          "2021-07-19T00:00:00",
          "2021-07-20T00:00:00",
          "2021-07-21T00:00:00",
          "2021-07-22T00:00:00",
          "2021-07-23T00:00:00",
          "2021-07-24T00:00:00",
          "2021-07-25T00:00:00",
          "2021-07-26T00:00:00",
          "2021-07-27T00:00:00",
          "2021-07-28T00:00:00",
          "2021-07-29T00:00:00",
          "2021-07-30T00:00:00",
          "2021-07-31T00:00:00",
          "2021-08-01T00:00:00",
          "2021-08-02T00:00:00",
          "2021-08-03T00:00:00",
          "2021-08-04T00:00:00",
          "2021-08-05T00:00:00",
          "2021-08-06T00:00:00",
          "2021-08-07T00:00:00",
          "2021-08-08T00:00:00",
          "2021-08-09T00:00:00",
          "2021-08-10T00:00:00",
          "2021-08-11T00:00:00",
          "2021-08-12T00:00:00",
          "2021-08-13T00:00:00",
          "2021-08-14T00:00:00",
          "2021-08-15T00:00:00",
          "2021-08-16T00:00:00",
          "2021-08-17T00:00:00",
          "2021-08-18T00:00:00",
          "2021-08-19T00:00:00",
          "2021-08-20T00:00:00",
          "2021-08-21T00:00:00",
          "2021-08-22T00:00:00",
          "2021-08-23T00:00:00",
          "2021-08-24T00:00:00",
          "2021-08-25T00:00:00",
          "2021-08-26T00:00:00",
          "2021-08-27T00:00:00",
          "2021-08-28T00:00:00",
          "2021-08-29T00:00:00",
          "2021-08-30T00:00:00",
          "2021-08-31T00:00:00",
          "2021-09-01T00:00:00",
          "2021-09-02T00:00:00",
          "2021-09-03T00:00:00",
          "2021-09-04T00:00:00",
          "2021-09-05T00:00:00",
          "2021-09-06T00:00:00",
          "2021-09-07T00:00:00",
          "2021-09-08T00:00:00",
          "2021-09-09T00:00:00",
          "2021-09-10T00:00:00",
          "2021-09-11T00:00:00",
          "2021-09-12T00:00:00",
          "2021-09-13T00:00:00",
          "2021-09-14T00:00:00",
          "2021-09-15T00:00:00",
          "2021-09-16T00:00:00",
          "2021-09-17T00:00:00",
          "2021-09-18T00:00:00",
          "2021-09-19T00:00:00",
          "2021-09-20T00:00:00",
          "2021-09-21T00:00:00",
          "2021-09-22T00:00:00",
          "2021-09-23T00:00:00",
          "2021-09-24T00:00:00",
          "2021-09-25T00:00:00",
          "2021-09-26T00:00:00",
          "2021-09-27T00:00:00",
          "2021-09-28T00:00:00",
          "2021-09-29T00:00:00",
          "2021-09-30T00:00:00",
          "2021-10-01T00:00:00",
          "2021-10-02T00:00:00",
          "2021-10-03T00:00:00",
          "2021-10-04T00:00:00",
          "2021-10-05T00:00:00"
         ],
         "xaxis": "x",
         "y": [
          3773,
          3172,
          2079,
          2725,
          4542,
          3795,
          3941,
          4064,
          3474,
          2093,
          2426,
          4339,
          4064,
          4224,
          4603,
          4369,
          2532,
          3276,
          4917,
          4430,
          4977,
          5193,
          4001,
          1996,
          2538,
          4764,
          5651,
          5777,
          4789,
          3782,
          1920,
          2526,
          4481,
          6034,
          5006,
          4450,
          3112,
          1914,
          2359,
          3948,
          5727,
          6365,
          6323,
          5151,
          1947,
          3128,
          7999,
          7104,
          6457,
          6643,
          5355,
          2341,
          2367,
          5592,
          6770,
          6877,
          7272,
          6279,
          2741,
          2483,
          5456,
          6082,
          6139,
          5865,
          6362,
          3132,
          2681,
          5788,
          7001,
          6721,
          7556,
          7278,
          4026,
          3514,
          6476,
          7863,
          8418,
          8290,
          7189,
          3567,
          4088,
          7418,
          8765,
          7798,
          9212,
          7115,
          3903,
          5038,
          7843,
          8872
         ],
         "yaxis": "y"
        }
       ],
       "layout": {
        "legend": {
         "tracegroupgap": 0
        },
        "margin": {
         "t": 60
        },
        "template": {
         "data": {
          "bar": [
           {
            "error_x": {
             "color": "#2a3f5f"
            },
            "error_y": {
             "color": "#2a3f5f"
            },
            "marker": {
             "line": {
              "color": "#E5ECF6",
              "width": 0.5
             },
             "pattern": {
              "fillmode": "overlay",
              "size": 10,
              "solidity": 0.2
             }
            },
            "type": "bar"
           }
          ],
          "barpolar": [
           {
            "marker": {
             "line": {
              "color": "#E5ECF6",
              "width": 0.5
             },
             "pattern": {
              "fillmode": "overlay",
              "size": 10,
              "solidity": 0.2
             }
            },
            "type": "barpolar"
           }
          ],
          "carpet": [
           {
            "aaxis": {
             "endlinecolor": "#2a3f5f",
             "gridcolor": "white",
             "linecolor": "white",
             "minorgridcolor": "white",
             "startlinecolor": "#2a3f5f"
            },
            "baxis": {
             "endlinecolor": "#2a3f5f",
             "gridcolor": "white",
             "linecolor": "white",
             "minorgridcolor": "white",
             "startlinecolor": "#2a3f5f"
            },
            "type": "carpet"
           }
          ],
          "choropleth": [
           {
            "colorbar": {
             "outlinewidth": 0,
             "ticks": ""
            },
            "type": "choropleth"
           }
          ],
          "contour": [
           {
            "colorbar": {
             "outlinewidth": 0,
             "ticks": ""
            },
            "colorscale": [
             [
              0,
              "#0d0887"
             ],
             [
              0.1111111111111111,
              "#46039f"
             ],
             [
              0.2222222222222222,
              "#7201a8"
             ],
             [
              0.3333333333333333,
              "#9c179e"
             ],
             [
              0.4444444444444444,
              "#bd3786"
             ],
             [
              0.5555555555555556,
              "#d8576b"
             ],
             [
              0.6666666666666666,
              "#ed7953"
             ],
             [
              0.7777777777777778,
              "#fb9f3a"
             ],
             [
              0.8888888888888888,
              "#fdca26"
             ],
             [
              1,
              "#f0f921"
             ]
            ],
            "type": "contour"
           }
          ],
          "contourcarpet": [
           {
            "colorbar": {
             "outlinewidth": 0,
             "ticks": ""
            },
            "type": "contourcarpet"
           }
          ],
          "heatmap": [
           {
            "colorbar": {
             "outlinewidth": 0,
             "ticks": ""
            },
            "colorscale": [
             [
              0,
              "#0d0887"
             ],
             [
              0.1111111111111111,
              "#46039f"
             ],
             [
              0.2222222222222222,
              "#7201a8"
             ],
             [
              0.3333333333333333,
              "#9c179e"
             ],
             [
              0.4444444444444444,
              "#bd3786"
             ],
             [
              0.5555555555555556,
              "#d8576b"
             ],
             [
              0.6666666666666666,
              "#ed7953"
             ],
             [
              0.7777777777777778,
              "#fb9f3a"
             ],
             [
              0.8888888888888888,
              "#fdca26"
             ],
             [
              1,
              "#f0f921"
             ]
            ],
            "type": "heatmap"
           }
          ],
          "heatmapgl": [
           {
            "colorbar": {
             "outlinewidth": 0,
             "ticks": ""
            },
            "colorscale": [
             [
              0,
              "#0d0887"
             ],
             [
              0.1111111111111111,
              "#46039f"
             ],
             [
              0.2222222222222222,
              "#7201a8"
             ],
             [
              0.3333333333333333,
              "#9c179e"
             ],
             [
              0.4444444444444444,
              "#bd3786"
             ],
             [
              0.5555555555555556,
              "#d8576b"
             ],
             [
              0.6666666666666666,
              "#ed7953"
             ],
             [
              0.7777777777777778,
              "#fb9f3a"
             ],
             [
              0.8888888888888888,
              "#fdca26"
             ],
             [
              1,
              "#f0f921"
             ]
            ],
            "type": "heatmapgl"
           }
          ],
          "histogram": [
           {
            "marker": {
             "pattern": {
              "fillmode": "overlay",
              "size": 10,
              "solidity": 0.2
             }
            },
            "type": "histogram"
           }
          ],
          "histogram2d": [
           {
            "colorbar": {
             "outlinewidth": 0,
             "ticks": ""
            },
            "colorscale": [
             [
              0,
              "#0d0887"
             ],
             [
              0.1111111111111111,
              "#46039f"
             ],
             [
              0.2222222222222222,
              "#7201a8"
             ],
             [
              0.3333333333333333,
              "#9c179e"
             ],
             [
              0.4444444444444444,
              "#bd3786"
             ],
             [
              0.5555555555555556,
              "#d8576b"
             ],
             [
              0.6666666666666666,
              "#ed7953"
             ],
             [
              0.7777777777777778,
              "#fb9f3a"
             ],
             [
              0.8888888888888888,
              "#fdca26"
             ],
             [
              1,
              "#f0f921"
             ]
            ],
            "type": "histogram2d"
           }
          ],
          "histogram2dcontour": [
           {
            "colorbar": {
             "outlinewidth": 0,
             "ticks": ""
            },
            "colorscale": [
             [
              0,
              "#0d0887"
             ],
             [
              0.1111111111111111,
              "#46039f"
             ],
             [
              0.2222222222222222,
              "#7201a8"
             ],
             [
              0.3333333333333333,
              "#9c179e"
             ],
             [
              0.4444444444444444,
              "#bd3786"
             ],
             [
              0.5555555555555556,
              "#d8576b"
             ],
             [
              0.6666666666666666,
              "#ed7953"
             ],
             [
              0.7777777777777778,
              "#fb9f3a"
             ],
             [
              0.8888888888888888,
              "#fdca26"
             ],
             [
              1,
              "#f0f921"
             ]
            ],
            "type": "histogram2dcontour"
           }
          ],
          "mesh3d": [
           {
            "colorbar": {
             "outlinewidth": 0,
             "ticks": ""
            },
            "type": "mesh3d"
           }
          ],
          "parcoords": [
           {
            "line": {
             "colorbar": {
              "outlinewidth": 0,
              "ticks": ""
             }
            },
            "type": "parcoords"
           }
          ],
          "pie": [
           {
            "automargin": true,
            "type": "pie"
           }
          ],
          "scatter": [
           {
            "fillpattern": {
             "fillmode": "overlay",
             "size": 10,
             "solidity": 0.2
            },
            "type": "scatter"
           }
          ],
          "scatter3d": [
           {
            "line": {
             "colorbar": {
              "outlinewidth": 0,
              "ticks": ""
             }
            },
            "marker": {
             "colorbar": {
              "outlinewidth": 0,
              "ticks": ""
             }
            },
            "type": "scatter3d"
           }
          ],
          "scattercarpet": [
           {
            "marker": {
             "colorbar": {
              "outlinewidth": 0,
              "ticks": ""
             }
            },
            "type": "scattercarpet"
           }
          ],
          "scattergeo": [
           {
            "marker": {
             "colorbar": {
              "outlinewidth": 0,
              "ticks": ""
             }
            },
            "type": "scattergeo"
           }
          ],
          "scattergl": [
           {
            "marker": {
             "colorbar": {
              "outlinewidth": 0,
              "ticks": ""
             }
            },
            "type": "scattergl"
           }
          ],
          "scattermapbox": [
           {
            "marker": {
             "colorbar": {
              "outlinewidth": 0,
              "ticks": ""
             }
            },
            "type": "scattermapbox"
           }
          ],
          "scatterpolar": [
           {
            "marker": {
             "colorbar": {
              "outlinewidth": 0,
              "ticks": ""
             }
            },
            "type": "scatterpolar"
           }
          ],
          "scatterpolargl": [
           {
            "marker": {
             "colorbar": {
              "outlinewidth": 0,
              "ticks": ""
             }
            },
            "type": "scatterpolargl"
           }
          ],
          "scatterternary": [
           {
            "marker": {
             "colorbar": {
              "outlinewidth": 0,
              "ticks": ""
             }
            },
            "type": "scatterternary"
           }
          ],
          "surface": [
           {
            "colorbar": {
             "outlinewidth": 0,
             "ticks": ""
            },
            "colorscale": [
             [
              0,
              "#0d0887"
             ],
             [
              0.1111111111111111,
              "#46039f"
             ],
             [
              0.2222222222222222,
              "#7201a8"
             ],
             [
              0.3333333333333333,
              "#9c179e"
             ],
             [
              0.4444444444444444,
              "#bd3786"
             ],
             [
              0.5555555555555556,
              "#d8576b"
             ],
             [
              0.6666666666666666,
              "#ed7953"
             ],
             [
              0.7777777777777778,
              "#fb9f3a"
             ],
             [
              0.8888888888888888,
              "#fdca26"
             ],
             [
              1,
              "#f0f921"
             ]
            ],
            "type": "surface"
           }
          ],
          "table": [
           {
            "cells": {
             "fill": {
              "color": "#EBF0F8"
             },
             "line": {
              "color": "white"
             }
            },
            "header": {
             "fill": {
              "color": "#C8D4E3"
             },
             "line": {
              "color": "white"
             }
            },
            "type": "table"
           }
          ]
         },
         "layout": {
          "annotationdefaults": {
           "arrowcolor": "#2a3f5f",
           "arrowhead": 0,
           "arrowwidth": 1
          },
          "autotypenumbers": "strict",
          "coloraxis": {
           "colorbar": {
            "outlinewidth": 0,
            "ticks": ""
           }
          },
          "colorscale": {
           "diverging": [
            [
             0,
             "#8e0152"
            ],
            [
             0.1,
             "#c51b7d"
            ],
            [
             0.2,
             "#de77ae"
            ],
            [
             0.3,
             "#f1b6da"
            ],
            [
             0.4,
             "#fde0ef"
            ],
            [
             0.5,
             "#f7f7f7"
            ],
            [
             0.6,
             "#e6f5d0"
            ],
            [
             0.7,
             "#b8e186"
            ],
            [
             0.8,
             "#7fbc41"
            ],
            [
             0.9,
             "#4d9221"
            ],
            [
             1,
             "#276419"
            ]
           ],
           "sequential": [
            [
             0,
             "#0d0887"
            ],
            [
             0.1111111111111111,
             "#46039f"
            ],
            [
             0.2222222222222222,
             "#7201a8"
            ],
            [
             0.3333333333333333,
             "#9c179e"
            ],
            [
             0.4444444444444444,
             "#bd3786"
            ],
            [
             0.5555555555555556,
             "#d8576b"
            ],
            [
             0.6666666666666666,
             "#ed7953"
            ],
            [
             0.7777777777777778,
             "#fb9f3a"
            ],
            [
             0.8888888888888888,
             "#fdca26"
            ],
            [
             1,
             "#f0f921"
            ]
           ],
           "sequentialminus": [
            [
             0,
             "#0d0887"
            ],
            [
             0.1111111111111111,
             "#46039f"
            ],
            [
             0.2222222222222222,
             "#7201a8"
            ],
            [
             0.3333333333333333,
             "#9c179e"
            ],
            [
             0.4444444444444444,
             "#bd3786"
            ],
            [
             0.5555555555555556,
             "#d8576b"
            ],
            [
             0.6666666666666666,
             "#ed7953"
            ],
            [
             0.7777777777777778,
             "#fb9f3a"
            ],
            [
             0.8888888888888888,
             "#fdca26"
            ],
            [
             1,
             "#f0f921"
            ]
           ]
          },
          "colorway": [
           "#636efa",
           "#EF553B",
           "#00cc96",
           "#ab63fa",
           "#FFA15A",
           "#19d3f3",
           "#FF6692",
           "#B6E880",
           "#FF97FF",
           "#FECB52"
          ],
          "font": {
           "color": "#2a3f5f"
          },
          "geo": {
           "bgcolor": "white",
           "lakecolor": "white",
           "landcolor": "#E5ECF6",
           "showlakes": true,
           "showland": true,
           "subunitcolor": "white"
          },
          "hoverlabel": {
           "align": "left"
          },
          "hovermode": "closest",
          "mapbox": {
           "style": "light"
          },
          "paper_bgcolor": "white",
          "plot_bgcolor": "#E5ECF6",
          "polar": {
           "angularaxis": {
            "gridcolor": "white",
            "linecolor": "white",
            "ticks": ""
           },
           "bgcolor": "#E5ECF6",
           "radialaxis": {
            "gridcolor": "white",
            "linecolor": "white",
            "ticks": ""
           }
          },
          "scene": {
           "xaxis": {
            "backgroundcolor": "#E5ECF6",
            "gridcolor": "white",
            "gridwidth": 2,
            "linecolor": "white",
            "showbackground": true,
            "ticks": "",
            "zerolinecolor": "white"
           },
           "yaxis": {
            "backgroundcolor": "#E5ECF6",
            "gridcolor": "white",
            "gridwidth": 2,
            "linecolor": "white",
            "showbackground": true,
            "ticks": "",
            "zerolinecolor": "white"
           },
           "zaxis": {
            "backgroundcolor": "#E5ECF6",
            "gridcolor": "white",
            "gridwidth": 2,
            "linecolor": "white",
            "showbackground": true,
            "ticks": "",
            "zerolinecolor": "white"
           }
          },
          "shapedefaults": {
           "line": {
            "color": "#2a3f5f"
           }
          },
          "ternary": {
           "aaxis": {
            "gridcolor": "white",
            "linecolor": "white",
            "ticks": ""
           },
           "baxis": {
            "gridcolor": "white",
            "linecolor": "white",
            "ticks": ""
           },
           "bgcolor": "#E5ECF6",
           "caxis": {
            "gridcolor": "white",
            "linecolor": "white",
            "ticks": ""
           }
          },
          "title": {
           "x": 0.05
          },
          "xaxis": {
           "automargin": true,
           "gridcolor": "white",
           "linecolor": "white",
           "ticks": "",
           "title": {
            "standoff": 15
           },
           "zerolinecolor": "white",
           "zerolinewidth": 2
          },
          "yaxis": {
           "automargin": true,
           "gridcolor": "white",
           "linecolor": "white",
           "ticks": "",
           "title": {
            "standoff": 15
           },
           "zerolinecolor": "white",
           "zerolinewidth": 2
          }
         }
        },
        "xaxis": {
         "anchor": "y",
         "domain": [
          0,
          1
         ],
         "rangeselector": {
          "buttons": [
           {
            "count": 1,
            "label": "1d",
            "step": "day",
            "stepmode": "backward"
           },
           {
            "count": 7,
            "label": "1w",
            "step": "day",
            "stepmode": "backward"
           },
           {
            "count": 1,
            "label": "1m",
            "step": "month",
            "stepmode": "backward"
           },
           {
            "count": 1,
            "label": "1y",
            "step": "year",
            "stepmode": "backward"
           },
           {
            "step": "all"
           }
          ]
         },
         "rangeslider": {
          "visible": true
         },
         "title": {
          "text": "Date"
         },
         "type": "date"
        },
        "yaxis": {
         "anchor": "x",
         "domain": [
          0,
          1
         ],
         "title": {
          "text": "Total"
         }
        }
       }
      }
     },
     "metadata": {},
     "output_type": "display_data"
    }
   ],
   "source": [
    "import plotly.express as px\n",
    "\n",
    "# Assuming daily_data is a DataFrame with a 'date' column\n",
    "dt=data.reset_index()\n",
    "df_test= dt.copy()\n",
    "\n",
    "fig = px.line(df_test, x='Date', y='Total', markers=True)\n",
    "# Update the marker color\n",
    "fig.update_traces(marker=dict(color='red'))\n",
    "\n",
    "# Update the layout to include zooming functionality\n",
    "fig.update_layout(\n",
    "    xaxis=dict(\n",
    "        rangeselector=dict(\n",
    "            buttons=list([\n",
    "                dict(count=1, label=\"1d\", step=\"day\", stepmode=\"backward\"),\n",
    "                dict(count=7, label=\"1w\", step=\"day\", stepmode=\"backward\"),\n",
    "                dict(count=1, label=\"1m\", step=\"month\", stepmode=\"backward\"),\n",
    "                dict(count=1, label=\"1y\", step=\"year\", stepmode=\"backward\"),\n",
    "                dict(step=\"all\")\n",
    "            ])\n",
    "        ),\n",
    "        rangeslider=dict(visible=True),\n",
    "        type=\"date\"\n",
    "    )\n",
    ")\n",
    "\n",
    "fig.show()"
   ]
  },
  {
   "cell_type": "code",
   "execution_count": null,
   "metadata": {},
   "outputs": [],
   "source": []
  },
  {
   "cell_type": "markdown",
   "metadata": {},
   "source": [
    "# Modeling"
   ]
  },
  {
   "cell_type": "code",
   "execution_count": 13,
   "metadata": {},
   "outputs": [
    {
     "name": "stderr",
     "output_type": "stream",
     "text": [
      "2024/03/07 15:02:19 INFO mlflow.tracking.fluent: Autologging successfully enabled for xgboost.\n",
      "2024/03/07 15:02:19 INFO mlflow.tracking.fluent: Autologging successfully enabled for lightgbm.\n",
      "2024/03/07 15:02:19 INFO mlflow.tracking.fluent: Autologging successfully enabled for statsmodels.\n"
     ]
    },
    {
     "name": "stderr",
     "output_type": "stream",
     "text": [
      "2024/03/07 15:02:20 INFO mlflow.tracking.fluent: Autologging successfully enabled for sklearn.\n"
     ]
    },
    {
     "data": {
      "text/html": [
       "<style type=\"text/css\">\n",
       "#T_14dfb_row25_col1 {\n",
       "  background-color: lightgreen;\n",
       "}\n",
       "</style>\n",
       "<table id=\"T_14dfb\">\n",
       "  <thead>\n",
       "    <tr>\n",
       "      <th class=\"blank level0\" >&nbsp;</th>\n",
       "      <th id=\"T_14dfb_level0_col0\" class=\"col_heading level0 col0\" >Description</th>\n",
       "      <th id=\"T_14dfb_level0_col1\" class=\"col_heading level0 col1\" >Value</th>\n",
       "    </tr>\n",
       "  </thead>\n",
       "  <tbody>\n",
       "    <tr>\n",
       "      <th id=\"T_14dfb_level0_row0\" class=\"row_heading level0 row0\" >0</th>\n",
       "      <td id=\"T_14dfb_row0_col0\" class=\"data row0 col0\" >session_id</td>\n",
       "      <td id=\"T_14dfb_row0_col1\" class=\"data row0 col1\" >123</td>\n",
       "    </tr>\n",
       "    <tr>\n",
       "      <th id=\"T_14dfb_level0_row1\" class=\"row_heading level0 row1\" >1</th>\n",
       "      <td id=\"T_14dfb_row1_col0\" class=\"data row1 col0\" >Target</td>\n",
       "      <td id=\"T_14dfb_row1_col1\" class=\"data row1 col1\" >Total</td>\n",
       "    </tr>\n",
       "    <tr>\n",
       "      <th id=\"T_14dfb_level0_row2\" class=\"row_heading level0 row2\" >2</th>\n",
       "      <td id=\"T_14dfb_row2_col0\" class=\"data row2 col0\" >Approach</td>\n",
       "      <td id=\"T_14dfb_row2_col1\" class=\"data row2 col1\" >Univariate</td>\n",
       "    </tr>\n",
       "    <tr>\n",
       "      <th id=\"T_14dfb_level0_row3\" class=\"row_heading level0 row3\" >3</th>\n",
       "      <td id=\"T_14dfb_row3_col0\" class=\"data row3 col0\" >Exogenous Variables</td>\n",
       "      <td id=\"T_14dfb_row3_col1\" class=\"data row3 col1\" >Not Present</td>\n",
       "    </tr>\n",
       "    <tr>\n",
       "      <th id=\"T_14dfb_level0_row4\" class=\"row_heading level0 row4\" >4</th>\n",
       "      <td id=\"T_14dfb_row4_col0\" class=\"data row4 col0\" >Original data shape</td>\n",
       "      <td id=\"T_14dfb_row4_col1\" class=\"data row4 col1\" >(90, 1)</td>\n",
       "    </tr>\n",
       "    <tr>\n",
       "      <th id=\"T_14dfb_level0_row5\" class=\"row_heading level0 row5\" >5</th>\n",
       "      <td id=\"T_14dfb_row5_col0\" class=\"data row5 col0\" >Transformed data shape</td>\n",
       "      <td id=\"T_14dfb_row5_col1\" class=\"data row5 col1\" >(90, 1)</td>\n",
       "    </tr>\n",
       "    <tr>\n",
       "      <th id=\"T_14dfb_level0_row6\" class=\"row_heading level0 row6\" >6</th>\n",
       "      <td id=\"T_14dfb_row6_col0\" class=\"data row6 col0\" >Transformed train set shape</td>\n",
       "      <td id=\"T_14dfb_row6_col1\" class=\"data row6 col1\" >(78, 1)</td>\n",
       "    </tr>\n",
       "    <tr>\n",
       "      <th id=\"T_14dfb_level0_row7\" class=\"row_heading level0 row7\" >7</th>\n",
       "      <td id=\"T_14dfb_row7_col0\" class=\"data row7 col0\" >Transformed test set shape</td>\n",
       "      <td id=\"T_14dfb_row7_col1\" class=\"data row7 col1\" >(12, 1)</td>\n",
       "    </tr>\n",
       "    <tr>\n",
       "      <th id=\"T_14dfb_level0_row8\" class=\"row_heading level0 row8\" >8</th>\n",
       "      <td id=\"T_14dfb_row8_col0\" class=\"data row8 col0\" >Rows with missing values</td>\n",
       "      <td id=\"T_14dfb_row8_col1\" class=\"data row8 col1\" >0.0%</td>\n",
       "    </tr>\n",
       "    <tr>\n",
       "      <th id=\"T_14dfb_level0_row9\" class=\"row_heading level0 row9\" >9</th>\n",
       "      <td id=\"T_14dfb_row9_col0\" class=\"data row9 col0\" >Fold Generator</td>\n",
       "      <td id=\"T_14dfb_row9_col1\" class=\"data row9 col1\" >ExpandingWindowSplitter</td>\n",
       "    </tr>\n",
       "    <tr>\n",
       "      <th id=\"T_14dfb_level0_row10\" class=\"row_heading level0 row10\" >10</th>\n",
       "      <td id=\"T_14dfb_row10_col0\" class=\"data row10 col0\" >Fold Number</td>\n",
       "      <td id=\"T_14dfb_row10_col1\" class=\"data row10 col1\" >3</td>\n",
       "    </tr>\n",
       "    <tr>\n",
       "      <th id=\"T_14dfb_level0_row11\" class=\"row_heading level0 row11\" >11</th>\n",
       "      <td id=\"T_14dfb_row11_col0\" class=\"data row11 col0\" >Enforce Prediction Interval</td>\n",
       "      <td id=\"T_14dfb_row11_col1\" class=\"data row11 col1\" >False</td>\n",
       "    </tr>\n",
       "    <tr>\n",
       "      <th id=\"T_14dfb_level0_row12\" class=\"row_heading level0 row12\" >12</th>\n",
       "      <td id=\"T_14dfb_row12_col0\" class=\"data row12 col0\" >Splits used for hyperparameters</td>\n",
       "      <td id=\"T_14dfb_row12_col1\" class=\"data row12 col1\" >all</td>\n",
       "    </tr>\n",
       "    <tr>\n",
       "      <th id=\"T_14dfb_level0_row13\" class=\"row_heading level0 row13\" >13</th>\n",
       "      <td id=\"T_14dfb_row13_col0\" class=\"data row13 col0\" >User Defined Seasonal Period(s)</td>\n",
       "      <td id=\"T_14dfb_row13_col1\" class=\"data row13 col1\" >None</td>\n",
       "    </tr>\n",
       "    <tr>\n",
       "      <th id=\"T_14dfb_level0_row14\" class=\"row_heading level0 row14\" >14</th>\n",
       "      <td id=\"T_14dfb_row14_col0\" class=\"data row14 col0\" >Ignore Seasonality Test</td>\n",
       "      <td id=\"T_14dfb_row14_col1\" class=\"data row14 col1\" >False</td>\n",
       "    </tr>\n",
       "    <tr>\n",
       "      <th id=\"T_14dfb_level0_row15\" class=\"row_heading level0 row15\" >15</th>\n",
       "      <td id=\"T_14dfb_row15_col0\" class=\"data row15 col0\" >Seasonality Detection Algo</td>\n",
       "      <td id=\"T_14dfb_row15_col1\" class=\"data row15 col1\" >auto</td>\n",
       "    </tr>\n",
       "    <tr>\n",
       "      <th id=\"T_14dfb_level0_row16\" class=\"row_heading level0 row16\" >16</th>\n",
       "      <td id=\"T_14dfb_row16_col0\" class=\"data row16 col0\" >Max Period to Consider</td>\n",
       "      <td id=\"T_14dfb_row16_col1\" class=\"data row16 col1\" >60</td>\n",
       "    </tr>\n",
       "    <tr>\n",
       "      <th id=\"T_14dfb_level0_row17\" class=\"row_heading level0 row17\" >17</th>\n",
       "      <td id=\"T_14dfb_row17_col0\" class=\"data row17 col0\" >Seasonal Period(s) Tested</td>\n",
       "      <td id=\"T_14dfb_row17_col1\" class=\"data row17 col1\" >[7, 14, 21, 28]</td>\n",
       "    </tr>\n",
       "    <tr>\n",
       "      <th id=\"T_14dfb_level0_row18\" class=\"row_heading level0 row18\" >18</th>\n",
       "      <td id=\"T_14dfb_row18_col0\" class=\"data row18 col0\" >Significant Seasonal Period(s)</td>\n",
       "      <td id=\"T_14dfb_row18_col1\" class=\"data row18 col1\" >[7, 14, 21, 28]</td>\n",
       "    </tr>\n",
       "    <tr>\n",
       "      <th id=\"T_14dfb_level0_row19\" class=\"row_heading level0 row19\" >19</th>\n",
       "      <td id=\"T_14dfb_row19_col0\" class=\"data row19 col0\" >Significant Seasonal Period(s) without Harmonics</td>\n",
       "      <td id=\"T_14dfb_row19_col1\" class=\"data row19 col1\" >[28, 21]</td>\n",
       "    </tr>\n",
       "    <tr>\n",
       "      <th id=\"T_14dfb_level0_row20\" class=\"row_heading level0 row20\" >20</th>\n",
       "      <td id=\"T_14dfb_row20_col0\" class=\"data row20 col0\" >Remove Harmonics</td>\n",
       "      <td id=\"T_14dfb_row20_col1\" class=\"data row20 col1\" >False</td>\n",
       "    </tr>\n",
       "    <tr>\n",
       "      <th id=\"T_14dfb_level0_row21\" class=\"row_heading level0 row21\" >21</th>\n",
       "      <td id=\"T_14dfb_row21_col0\" class=\"data row21 col0\" >Harmonics Order Method</td>\n",
       "      <td id=\"T_14dfb_row21_col1\" class=\"data row21 col1\" >harmonic_max</td>\n",
       "    </tr>\n",
       "    <tr>\n",
       "      <th id=\"T_14dfb_level0_row22\" class=\"row_heading level0 row22\" >22</th>\n",
       "      <td id=\"T_14dfb_row22_col0\" class=\"data row22 col0\" >Num Seasonalities to Use</td>\n",
       "      <td id=\"T_14dfb_row22_col1\" class=\"data row22 col1\" >1</td>\n",
       "    </tr>\n",
       "    <tr>\n",
       "      <th id=\"T_14dfb_level0_row23\" class=\"row_heading level0 row23\" >23</th>\n",
       "      <td id=\"T_14dfb_row23_col0\" class=\"data row23 col0\" >All Seasonalities to Use</td>\n",
       "      <td id=\"T_14dfb_row23_col1\" class=\"data row23 col1\" >[7]</td>\n",
       "    </tr>\n",
       "    <tr>\n",
       "      <th id=\"T_14dfb_level0_row24\" class=\"row_heading level0 row24\" >24</th>\n",
       "      <td id=\"T_14dfb_row24_col0\" class=\"data row24 col0\" >Primary Seasonality</td>\n",
       "      <td id=\"T_14dfb_row24_col1\" class=\"data row24 col1\" >7</td>\n",
       "    </tr>\n",
       "    <tr>\n",
       "      <th id=\"T_14dfb_level0_row25\" class=\"row_heading level0 row25\" >25</th>\n",
       "      <td id=\"T_14dfb_row25_col0\" class=\"data row25 col0\" >Seasonality Present</td>\n",
       "      <td id=\"T_14dfb_row25_col1\" class=\"data row25 col1\" >True</td>\n",
       "    </tr>\n",
       "    <tr>\n",
       "      <th id=\"T_14dfb_level0_row26\" class=\"row_heading level0 row26\" >26</th>\n",
       "      <td id=\"T_14dfb_row26_col0\" class=\"data row26 col0\" >Seasonality Type</td>\n",
       "      <td id=\"T_14dfb_row26_col1\" class=\"data row26 col1\" >mul</td>\n",
       "    </tr>\n",
       "    <tr>\n",
       "      <th id=\"T_14dfb_level0_row27\" class=\"row_heading level0 row27\" >27</th>\n",
       "      <td id=\"T_14dfb_row27_col0\" class=\"data row27 col0\" >Target Strictly Positive</td>\n",
       "      <td id=\"T_14dfb_row27_col1\" class=\"data row27 col1\" >True</td>\n",
       "    </tr>\n",
       "    <tr>\n",
       "      <th id=\"T_14dfb_level0_row28\" class=\"row_heading level0 row28\" >28</th>\n",
       "      <td id=\"T_14dfb_row28_col0\" class=\"data row28 col0\" >Target White Noise</td>\n",
       "      <td id=\"T_14dfb_row28_col1\" class=\"data row28 col1\" >No</td>\n",
       "    </tr>\n",
       "    <tr>\n",
       "      <th id=\"T_14dfb_level0_row29\" class=\"row_heading level0 row29\" >29</th>\n",
       "      <td id=\"T_14dfb_row29_col0\" class=\"data row29 col0\" >Recommended d</td>\n",
       "      <td id=\"T_14dfb_row29_col1\" class=\"data row29 col1\" >1</td>\n",
       "    </tr>\n",
       "    <tr>\n",
       "      <th id=\"T_14dfb_level0_row30\" class=\"row_heading level0 row30\" >30</th>\n",
       "      <td id=\"T_14dfb_row30_col0\" class=\"data row30 col0\" >Recommended Seasonal D</td>\n",
       "      <td id=\"T_14dfb_row30_col1\" class=\"data row30 col1\" >1</td>\n",
       "    </tr>\n",
       "    <tr>\n",
       "      <th id=\"T_14dfb_level0_row31\" class=\"row_heading level0 row31\" >31</th>\n",
       "      <td id=\"T_14dfb_row31_col0\" class=\"data row31 col0\" >Preprocess</td>\n",
       "      <td id=\"T_14dfb_row31_col1\" class=\"data row31 col1\" >False</td>\n",
       "    </tr>\n",
       "    <tr>\n",
       "      <th id=\"T_14dfb_level0_row32\" class=\"row_heading level0 row32\" >32</th>\n",
       "      <td id=\"T_14dfb_row32_col0\" class=\"data row32 col0\" >CPU Jobs</td>\n",
       "      <td id=\"T_14dfb_row32_col1\" class=\"data row32 col1\" >-1</td>\n",
       "    </tr>\n",
       "    <tr>\n",
       "      <th id=\"T_14dfb_level0_row33\" class=\"row_heading level0 row33\" >33</th>\n",
       "      <td id=\"T_14dfb_row33_col0\" class=\"data row33 col0\" >Use GPU</td>\n",
       "      <td id=\"T_14dfb_row33_col1\" class=\"data row33 col1\" >False</td>\n",
       "    </tr>\n",
       "    <tr>\n",
       "      <th id=\"T_14dfb_level0_row34\" class=\"row_heading level0 row34\" >34</th>\n",
       "      <td id=\"T_14dfb_row34_col0\" class=\"data row34 col0\" >Log Experiment</td>\n",
       "      <td id=\"T_14dfb_row34_col1\" class=\"data row34 col1\" >False</td>\n",
       "    </tr>\n",
       "    <tr>\n",
       "      <th id=\"T_14dfb_level0_row35\" class=\"row_heading level0 row35\" >35</th>\n",
       "      <td id=\"T_14dfb_row35_col0\" class=\"data row35 col0\" >Experiment Name</td>\n",
       "      <td id=\"T_14dfb_row35_col1\" class=\"data row35 col1\" >ts-default-name</td>\n",
       "    </tr>\n",
       "    <tr>\n",
       "      <th id=\"T_14dfb_level0_row36\" class=\"row_heading level0 row36\" >36</th>\n",
       "      <td id=\"T_14dfb_row36_col0\" class=\"data row36 col0\" >USI</td>\n",
       "      <td id=\"T_14dfb_row36_col1\" class=\"data row36 col1\" >cdcd</td>\n",
       "    </tr>\n",
       "  </tbody>\n",
       "</table>\n"
      ],
      "text/plain": [
       "<pandas.io.formats.style.Styler at 0x12dcb470e20>"
      ]
     },
     "metadata": {},
     "output_type": "display_data"
    },
    {
     "name": "stderr",
     "output_type": "stream",
     "text": [
      "2024/03/07 15:06:11 WARNING mlflow.utils.autologging_utils: Encountered unexpected error during statsmodels autologging: Changing param values is not allowed. Param with key='method' was already logged with value='qr' for run ID='31224a34430b4bfc9fbf4be33a9e5acf'. Attempted logging new value 'pinv'.\n",
      "2024/03/07 15:06:11 WARNING mlflow.utils.autologging_utils: Encountered unexpected error during statsmodels autologging: Changing param values is not allowed. Param with key='method' was already logged with value='qr' for run ID='31224a34430b4bfc9fbf4be33a9e5acf'. Attempted logging new value 'pinv'.\n",
      "2024/03/07 15:06:11 WARNING mlflow.utils.autologging_utils: Encountered unexpected error during statsmodels autologging: Changing param values is not allowed. Param with key='method' was already logged with value='qr' for run ID='31224a34430b4bfc9fbf4be33a9e5acf'. Attempted logging new value 'pinv'.\n",
      "2024/03/07 15:06:11 WARNING mlflow.utils.autologging_utils: Encountered unexpected error during statsmodels autologging: Changing param values is not allowed. Param with key='method' was already logged with value='qr' for run ID='31224a34430b4bfc9fbf4be33a9e5acf'. Attempted logging new value 'pinv'.\n",
      "2024/03/07 15:06:11 WARNING mlflow.utils.autologging_utils: Encountered unexpected error during statsmodels autologging: Changing param values is not allowed. Param with key='method' was already logged with value='qr' for run ID='31224a34430b4bfc9fbf4be33a9e5acf'. Attempted logging new value 'pinv'.\n",
      "2024/03/07 15:06:11 WARNING mlflow.utils.autologging_utils: Encountered unexpected error during statsmodels autologging: Changing param values is not allowed. Param with key='method' was already logged with value='qr' for run ID='31224a34430b4bfc9fbf4be33a9e5acf'. Attempted logging new value 'pinv'.\n",
      "2024/03/07 15:06:11 WARNING mlflow.utils.autologging_utils: Encountered unexpected error during statsmodels autologging: Changing param values is not allowed. Param with key='method' was already logged with value='qr' for run ID='31224a34430b4bfc9fbf4be33a9e5acf'. Attempted logging new value 'pinv'.\n",
      "2024/03/07 15:06:11 WARNING mlflow.utils.autologging_utils: Encountered unexpected error during statsmodels autologging: Changing param values is not allowed. Param with key='method' was already logged with value='qr' for run ID='31224a34430b4bfc9fbf4be33a9e5acf'. Attempted logging new value 'pinv'.\n",
      "2024/03/07 15:06:11 WARNING mlflow.utils.autologging_utils: Encountered unexpected error during statsmodels autologging: Changing param values is not allowed. Param with key='method' was already logged with value='qr' for run ID='31224a34430b4bfc9fbf4be33a9e5acf'. Attempted logging new value 'pinv'.\n",
      "2024/03/07 15:06:12 WARNING mlflow.utils.autologging_utils: Encountered unexpected error during statsmodels autologging: Changing param values is not allowed. Param with key='method' was already logged with value='qr' for run ID='31224a34430b4bfc9fbf4be33a9e5acf'. Attempted logging new value 'pinv'.\n",
      "2024/03/07 15:06:12 WARNING mlflow.utils.autologging_utils: Encountered unexpected error during statsmodels autologging: Changing param values is not allowed. Param with key='method' was already logged with value='qr' for run ID='31224a34430b4bfc9fbf4be33a9e5acf'. Attempted logging new value 'pinv'.\n",
      "2024/03/07 15:06:12 WARNING mlflow.utils.autologging_utils: Encountered unexpected error during statsmodels autologging: Changing param values is not allowed. Param with key='method' was already logged with value='qr' for run ID='31224a34430b4bfc9fbf4be33a9e5acf'. Attempted logging new value 'pinv'.\n",
      "2024/03/07 15:06:12 WARNING mlflow.utils.autologging_utils: Encountered unexpected error during statsmodels autologging: Changing param values is not allowed. Param with key='method' was already logged with value='qr' for run ID='31224a34430b4bfc9fbf4be33a9e5acf'. Attempted logging new value 'pinv'.\n",
      "2024/03/07 15:06:12 WARNING mlflow.utils.autologging_utils: Encountered unexpected error during statsmodels autologging: Changing param values is not allowed. Param with key='method' was already logged with value='qr' for run ID='31224a34430b4bfc9fbf4be33a9e5acf'. Attempted logging new value 'pinv'.\n",
      "2024/03/07 15:06:12 WARNING mlflow.utils.autologging_utils: Encountered unexpected error during statsmodels autologging: Changing param values is not allowed. Param with key='method' was already logged with value='qr' for run ID='31224a34430b4bfc9fbf4be33a9e5acf'. Attempted logging new value 'pinv'.\n"
     ]
    },
    {
     "data": {
      "text/html": [],
      "text/plain": [
       "<IPython.core.display.HTML object>"
      ]
     },
     "metadata": {},
     "output_type": "display_data"
    },
    {
     "data": {
      "text/html": [
       "<style type=\"text/css\">\n",
       "#T_b40c5 th {\n",
       "  text-align: left;\n",
       "}\n",
       "#T_b40c5_row0_col0, #T_b40c5_row0_col5, #T_b40c5_row0_col6, #T_b40c5_row0_col7, #T_b40c5_row1_col0, #T_b40c5_row1_col1, #T_b40c5_row1_col2, #T_b40c5_row1_col3, #T_b40c5_row1_col4, #T_b40c5_row1_col5, #T_b40c5_row1_col6, #T_b40c5_row1_col7, #T_b40c5_row2_col0, #T_b40c5_row2_col1, #T_b40c5_row2_col2, #T_b40c5_row2_col3, #T_b40c5_row2_col4, #T_b40c5_row3_col0, #T_b40c5_row3_col1, #T_b40c5_row3_col2, #T_b40c5_row3_col3, #T_b40c5_row3_col4, #T_b40c5_row3_col5, #T_b40c5_row3_col6, #T_b40c5_row3_col7, #T_b40c5_row4_col0, #T_b40c5_row4_col1, #T_b40c5_row4_col2, #T_b40c5_row4_col3, #T_b40c5_row4_col4, #T_b40c5_row4_col5, #T_b40c5_row4_col6, #T_b40c5_row4_col7, #T_b40c5_row5_col0, #T_b40c5_row5_col1, #T_b40c5_row5_col2, #T_b40c5_row5_col3, #T_b40c5_row5_col4, #T_b40c5_row5_col5, #T_b40c5_row5_col6, #T_b40c5_row5_col7, #T_b40c5_row6_col0, #T_b40c5_row6_col1, #T_b40c5_row6_col2, #T_b40c5_row6_col3, #T_b40c5_row6_col4, #T_b40c5_row6_col5, #T_b40c5_row6_col6, #T_b40c5_row6_col7, #T_b40c5_row7_col0, #T_b40c5_row7_col1, #T_b40c5_row7_col2, #T_b40c5_row7_col3, #T_b40c5_row7_col4, #T_b40c5_row7_col5, #T_b40c5_row7_col6, #T_b40c5_row7_col7, #T_b40c5_row8_col0, #T_b40c5_row8_col1, #T_b40c5_row8_col2, #T_b40c5_row8_col3, #T_b40c5_row8_col4, #T_b40c5_row8_col5, #T_b40c5_row8_col6, #T_b40c5_row8_col7, #T_b40c5_row9_col0, #T_b40c5_row9_col1, #T_b40c5_row9_col2, #T_b40c5_row9_col3, #T_b40c5_row9_col4, #T_b40c5_row9_col5, #T_b40c5_row9_col6, #T_b40c5_row9_col7, #T_b40c5_row10_col0, #T_b40c5_row10_col1, #T_b40c5_row10_col2, #T_b40c5_row10_col3, #T_b40c5_row10_col4, #T_b40c5_row10_col5, #T_b40c5_row10_col6, #T_b40c5_row10_col7, #T_b40c5_row11_col0, #T_b40c5_row11_col1, #T_b40c5_row11_col2, #T_b40c5_row11_col3, #T_b40c5_row11_col4, #T_b40c5_row11_col5, #T_b40c5_row11_col6, #T_b40c5_row11_col7, #T_b40c5_row12_col0, #T_b40c5_row12_col1, #T_b40c5_row12_col2, #T_b40c5_row12_col3, #T_b40c5_row12_col4, #T_b40c5_row12_col5, #T_b40c5_row12_col6, #T_b40c5_row12_col7, #T_b40c5_row13_col0, #T_b40c5_row13_col1, #T_b40c5_row13_col2, #T_b40c5_row13_col3, #T_b40c5_row13_col4, #T_b40c5_row13_col5, #T_b40c5_row13_col6, #T_b40c5_row13_col7, #T_b40c5_row14_col0, #T_b40c5_row14_col1, #T_b40c5_row14_col2, #T_b40c5_row14_col3, #T_b40c5_row14_col4, #T_b40c5_row14_col5, #T_b40c5_row14_col6, #T_b40c5_row14_col7, #T_b40c5_row15_col0, #T_b40c5_row15_col1, #T_b40c5_row15_col2, #T_b40c5_row15_col3, #T_b40c5_row15_col4, #T_b40c5_row15_col5, #T_b40c5_row15_col6, #T_b40c5_row15_col7, #T_b40c5_row16_col0, #T_b40c5_row16_col1, #T_b40c5_row16_col2, #T_b40c5_row16_col3, #T_b40c5_row16_col4, #T_b40c5_row16_col5, #T_b40c5_row16_col6, #T_b40c5_row16_col7, #T_b40c5_row17_col0, #T_b40c5_row17_col1, #T_b40c5_row17_col2, #T_b40c5_row17_col3, #T_b40c5_row17_col4, #T_b40c5_row17_col5, #T_b40c5_row17_col6, #T_b40c5_row17_col7, #T_b40c5_row18_col0, #T_b40c5_row18_col1, #T_b40c5_row18_col2, #T_b40c5_row18_col3, #T_b40c5_row18_col4, #T_b40c5_row18_col5, #T_b40c5_row18_col6, #T_b40c5_row18_col7, #T_b40c5_row19_col0, #T_b40c5_row19_col1, #T_b40c5_row19_col2, #T_b40c5_row19_col3, #T_b40c5_row19_col4, #T_b40c5_row19_col5, #T_b40c5_row19_col6, #T_b40c5_row19_col7, #T_b40c5_row20_col0, #T_b40c5_row20_col1, #T_b40c5_row20_col2, #T_b40c5_row20_col3, #T_b40c5_row20_col4, #T_b40c5_row20_col5, #T_b40c5_row20_col6, #T_b40c5_row20_col7, #T_b40c5_row21_col0, #T_b40c5_row21_col1, #T_b40c5_row21_col2, #T_b40c5_row21_col3, #T_b40c5_row21_col4, #T_b40c5_row21_col5, #T_b40c5_row21_col6, #T_b40c5_row21_col7, #T_b40c5_row22_col0, #T_b40c5_row22_col1, #T_b40c5_row22_col2, #T_b40c5_row22_col3, #T_b40c5_row22_col4, #T_b40c5_row22_col5, #T_b40c5_row22_col6, #T_b40c5_row22_col7, #T_b40c5_row23_col0, #T_b40c5_row23_col1, #T_b40c5_row23_col2, #T_b40c5_row23_col3, #T_b40c5_row23_col4, #T_b40c5_row23_col5, #T_b40c5_row23_col6, #T_b40c5_row23_col7, #T_b40c5_row24_col0, #T_b40c5_row24_col1, #T_b40c5_row24_col2, #T_b40c5_row24_col3, #T_b40c5_row24_col4, #T_b40c5_row24_col5, #T_b40c5_row24_col6, #T_b40c5_row24_col7, #T_b40c5_row25_col0, #T_b40c5_row25_col1, #T_b40c5_row25_col2, #T_b40c5_row25_col3, #T_b40c5_row25_col4, #T_b40c5_row25_col5, #T_b40c5_row25_col6, #T_b40c5_row25_col7, #T_b40c5_row26_col0, #T_b40c5_row26_col1, #T_b40c5_row26_col2, #T_b40c5_row26_col3, #T_b40c5_row26_col4, #T_b40c5_row26_col5, #T_b40c5_row26_col6, #T_b40c5_row26_col7, #T_b40c5_row27_col0, #T_b40c5_row27_col1, #T_b40c5_row27_col2, #T_b40c5_row27_col3, #T_b40c5_row27_col4, #T_b40c5_row27_col5, #T_b40c5_row27_col6, #T_b40c5_row27_col7 {\n",
       "  text-align: left;\n",
       "}\n",
       "#T_b40c5_row0_col1, #T_b40c5_row0_col2, #T_b40c5_row0_col3, #T_b40c5_row0_col4, #T_b40c5_row2_col5, #T_b40c5_row2_col6, #T_b40c5_row2_col7 {\n",
       "  text-align: left;\n",
       "  background-color: yellow;\n",
       "}\n",
       "#T_b40c5_row0_col8, #T_b40c5_row1_col8, #T_b40c5_row2_col8, #T_b40c5_row3_col8, #T_b40c5_row4_col8, #T_b40c5_row5_col8, #T_b40c5_row6_col8, #T_b40c5_row7_col8, #T_b40c5_row8_col8, #T_b40c5_row9_col8, #T_b40c5_row10_col8, #T_b40c5_row11_col8, #T_b40c5_row12_col8, #T_b40c5_row13_col8, #T_b40c5_row14_col8, #T_b40c5_row15_col8, #T_b40c5_row16_col8, #T_b40c5_row17_col8, #T_b40c5_row18_col8, #T_b40c5_row19_col8, #T_b40c5_row20_col8, #T_b40c5_row21_col8, #T_b40c5_row22_col8, #T_b40c5_row23_col8, #T_b40c5_row24_col8, #T_b40c5_row26_col8, #T_b40c5_row27_col8 {\n",
       "  text-align: left;\n",
       "  background-color: lightgrey;\n",
       "}\n",
       "#T_b40c5_row25_col8 {\n",
       "  text-align: left;\n",
       "  background-color: yellow;\n",
       "  background-color: lightgrey;\n",
       "}\n",
       "</style>\n",
       "<table id=\"T_b40c5\">\n",
       "  <thead>\n",
       "    <tr>\n",
       "      <th class=\"blank level0\" >&nbsp;</th>\n",
       "      <th id=\"T_b40c5_level0_col0\" class=\"col_heading level0 col0\" >Model</th>\n",
       "      <th id=\"T_b40c5_level0_col1\" class=\"col_heading level0 col1\" >MASE</th>\n",
       "      <th id=\"T_b40c5_level0_col2\" class=\"col_heading level0 col2\" >RMSSE</th>\n",
       "      <th id=\"T_b40c5_level0_col3\" class=\"col_heading level0 col3\" >MAE</th>\n",
       "      <th id=\"T_b40c5_level0_col4\" class=\"col_heading level0 col4\" >RMSE</th>\n",
       "      <th id=\"T_b40c5_level0_col5\" class=\"col_heading level0 col5\" >MAPE</th>\n",
       "      <th id=\"T_b40c5_level0_col6\" class=\"col_heading level0 col6\" >SMAPE</th>\n",
       "      <th id=\"T_b40c5_level0_col7\" class=\"col_heading level0 col7\" >R2</th>\n",
       "      <th id=\"T_b40c5_level0_col8\" class=\"col_heading level0 col8\" >TT (Sec)</th>\n",
       "    </tr>\n",
       "  </thead>\n",
       "  <tbody>\n",
       "    <tr>\n",
       "      <th id=\"T_b40c5_level0_row0\" class=\"row_heading level0 row0\" >theta</th>\n",
       "      <td id=\"T_b40c5_row0_col0\" class=\"data row0 col0\" >Theta Forecaster</td>\n",
       "      <td id=\"T_b40c5_row0_col1\" class=\"data row0 col1\" >1.2803</td>\n",
       "      <td id=\"T_b40c5_row0_col2\" class=\"data row0 col2\" >1.1409</td>\n",
       "      <td id=\"T_b40c5_row0_col3\" class=\"data row0 col3\" >736.2266</td>\n",
       "      <td id=\"T_b40c5_row0_col4\" class=\"data row0 col4\" >898.0371</td>\n",
       "      <td id=\"T_b40c5_row0_col5\" class=\"data row0 col5\" >0.1556</td>\n",
       "      <td id=\"T_b40c5_row0_col6\" class=\"data row0 col6\" >0.1523</td>\n",
       "      <td id=\"T_b40c5_row0_col7\" class=\"data row0 col7\" >0.7302</td>\n",
       "      <td id=\"T_b40c5_row0_col8\" class=\"data row0 col8\" >0.0433</td>\n",
       "    </tr>\n",
       "    <tr>\n",
       "      <th id=\"T_b40c5_level0_row1\" class=\"row_heading level0 row1\" >knn_cds_dt</th>\n",
       "      <td id=\"T_b40c5_row1_col0\" class=\"data row1 col0\" >K Neighbors w/ Cond. Deseasonalize & Detrending</td>\n",
       "      <td id=\"T_b40c5_row1_col1\" class=\"data row1 col1\" >1.3460</td>\n",
       "      <td id=\"T_b40c5_row1_col2\" class=\"data row1 col2\" >1.2833</td>\n",
       "      <td id=\"T_b40c5_row1_col3\" class=\"data row1 col3\" >737.3306</td>\n",
       "      <td id=\"T_b40c5_row1_col4\" class=\"data row1 col4\" >934.8335</td>\n",
       "      <td id=\"T_b40c5_row1_col5\" class=\"data row1 col5\" >0.1430</td>\n",
       "      <td id=\"T_b40c5_row1_col6\" class=\"data row1 col6\" >0.1419</td>\n",
       "      <td id=\"T_b40c5_row1_col7\" class=\"data row1 col7\" >0.7346</td>\n",
       "      <td id=\"T_b40c5_row1_col8\" class=\"data row1 col8\" >0.2900</td>\n",
       "    </tr>\n",
       "    <tr>\n",
       "      <th id=\"T_b40c5_level0_row2\" class=\"row_heading level0 row2\" >huber_cds_dt</th>\n",
       "      <td id=\"T_b40c5_row2_col0\" class=\"data row2 col0\" >Huber w/ Cond. Deseasonalize & Detrending</td>\n",
       "      <td id=\"T_b40c5_row2_col1\" class=\"data row2 col1\" >1.3698</td>\n",
       "      <td id=\"T_b40c5_row2_col2\" class=\"data row2 col2\" >1.3083</td>\n",
       "      <td id=\"T_b40c5_row2_col3\" class=\"data row2 col3\" >738.8352</td>\n",
       "      <td id=\"T_b40c5_row2_col4\" class=\"data row2 col4\" >922.5881</td>\n",
       "      <td id=\"T_b40c5_row2_col5\" class=\"data row2 col5\" >0.1326</td>\n",
       "      <td id=\"T_b40c5_row2_col6\" class=\"data row2 col6\" >0.1401</td>\n",
       "      <td id=\"T_b40c5_row2_col7\" class=\"data row2 col7\" >0.7353</td>\n",
       "      <td id=\"T_b40c5_row2_col8\" class=\"data row2 col8\" >0.2033</td>\n",
       "    </tr>\n",
       "    <tr>\n",
       "      <th id=\"T_b40c5_level0_row3\" class=\"row_heading level0 row3\" >en_cds_dt</th>\n",
       "      <td id=\"T_b40c5_row3_col0\" class=\"data row3 col0\" >Elastic Net w/ Cond. Deseasonalize & Detrending</td>\n",
       "      <td id=\"T_b40c5_row3_col1\" class=\"data row3 col1\" >1.4299</td>\n",
       "      <td id=\"T_b40c5_row3_col2\" class=\"data row3 col2\" >1.3469</td>\n",
       "      <td id=\"T_b40c5_row3_col3\" class=\"data row3 col3\" >777.9459</td>\n",
       "      <td id=\"T_b40c5_row3_col4\" class=\"data row3 col4\" >964.8748</td>\n",
       "      <td id=\"T_b40c5_row3_col5\" class=\"data row3 col5\" >0.1413</td>\n",
       "      <td id=\"T_b40c5_row3_col6\" class=\"data row3 col6\" >0.1466</td>\n",
       "      <td id=\"T_b40c5_row3_col7\" class=\"data row3 col7\" >0.7146</td>\n",
       "      <td id=\"T_b40c5_row3_col8\" class=\"data row3 col8\" >0.6967</td>\n",
       "    </tr>\n",
       "    <tr>\n",
       "      <th id=\"T_b40c5_level0_row4\" class=\"row_heading level0 row4\" >ridge_cds_dt</th>\n",
       "      <td id=\"T_b40c5_row4_col0\" class=\"data row4 col0\" >Ridge w/ Cond. Deseasonalize & Detrending</td>\n",
       "      <td id=\"T_b40c5_row4_col1\" class=\"data row4 col1\" >1.4299</td>\n",
       "      <td id=\"T_b40c5_row4_col2\" class=\"data row4 col2\" >1.3469</td>\n",
       "      <td id=\"T_b40c5_row4_col3\" class=\"data row4 col3\" >777.9461</td>\n",
       "      <td id=\"T_b40c5_row4_col4\" class=\"data row4 col4\" >964.8752</td>\n",
       "      <td id=\"T_b40c5_row4_col5\" class=\"data row4 col5\" >0.1413</td>\n",
       "      <td id=\"T_b40c5_row4_col6\" class=\"data row4 col6\" >0.1466</td>\n",
       "      <td id=\"T_b40c5_row4_col7\" class=\"data row4 col7\" >0.7146</td>\n",
       "      <td id=\"T_b40c5_row4_col8\" class=\"data row4 col8\" >0.6700</td>\n",
       "    </tr>\n",
       "    <tr>\n",
       "      <th id=\"T_b40c5_level0_row5\" class=\"row_heading level0 row5\" >lasso_cds_dt</th>\n",
       "      <td id=\"T_b40c5_row5_col0\" class=\"data row5 col0\" >Lasso w/ Cond. Deseasonalize & Detrending</td>\n",
       "      <td id=\"T_b40c5_row5_col1\" class=\"data row5 col1\" >1.4299</td>\n",
       "      <td id=\"T_b40c5_row5_col2\" class=\"data row5 col2\" >1.3469</td>\n",
       "      <td id=\"T_b40c5_row5_col3\" class=\"data row5 col3\" >777.9457</td>\n",
       "      <td id=\"T_b40c5_row5_col4\" class=\"data row5 col4\" >964.8746</td>\n",
       "      <td id=\"T_b40c5_row5_col5\" class=\"data row5 col5\" >0.1413</td>\n",
       "      <td id=\"T_b40c5_row5_col6\" class=\"data row5 col6\" >0.1466</td>\n",
       "      <td id=\"T_b40c5_row5_col7\" class=\"data row5 col7\" >0.7146</td>\n",
       "      <td id=\"T_b40c5_row5_col8\" class=\"data row5 col8\" >0.3000</td>\n",
       "    </tr>\n",
       "    <tr>\n",
       "      <th id=\"T_b40c5_level0_row6\" class=\"row_heading level0 row6\" >llar_cds_dt</th>\n",
       "      <td id=\"T_b40c5_row6_col0\" class=\"data row6 col0\" >Lasso Least Angular Regressor w/ Cond. Deseasonalize & Detrending</td>\n",
       "      <td id=\"T_b40c5_row6_col1\" class=\"data row6 col1\" >1.4299</td>\n",
       "      <td id=\"T_b40c5_row6_col2\" class=\"data row6 col2\" >1.3469</td>\n",
       "      <td id=\"T_b40c5_row6_col3\" class=\"data row6 col3\" >777.9457</td>\n",
       "      <td id=\"T_b40c5_row6_col4\" class=\"data row6 col4\" >964.8746</td>\n",
       "      <td id=\"T_b40c5_row6_col5\" class=\"data row6 col5\" >0.1413</td>\n",
       "      <td id=\"T_b40c5_row6_col6\" class=\"data row6 col6\" >0.1466</td>\n",
       "      <td id=\"T_b40c5_row6_col7\" class=\"data row6 col7\" >0.7146</td>\n",
       "      <td id=\"T_b40c5_row6_col8\" class=\"data row6 col8\" >0.1833</td>\n",
       "    </tr>\n",
       "    <tr>\n",
       "      <th id=\"T_b40c5_level0_row7\" class=\"row_heading level0 row7\" >lr_cds_dt</th>\n",
       "      <td id=\"T_b40c5_row7_col0\" class=\"data row7 col0\" >Linear w/ Cond. Deseasonalize & Detrending</td>\n",
       "      <td id=\"T_b40c5_row7_col1\" class=\"data row7 col1\" >1.4299</td>\n",
       "      <td id=\"T_b40c5_row7_col2\" class=\"data row7 col2\" >1.3469</td>\n",
       "      <td id=\"T_b40c5_row7_col3\" class=\"data row7 col3\" >777.9461</td>\n",
       "      <td id=\"T_b40c5_row7_col4\" class=\"data row7 col4\" >964.8752</td>\n",
       "      <td id=\"T_b40c5_row7_col5\" class=\"data row7 col5\" >0.1413</td>\n",
       "      <td id=\"T_b40c5_row7_col6\" class=\"data row7 col6\" >0.1466</td>\n",
       "      <td id=\"T_b40c5_row7_col7\" class=\"data row7 col7\" >0.7146</td>\n",
       "      <td id=\"T_b40c5_row7_col8\" class=\"data row7 col8\" >1.4133</td>\n",
       "    </tr>\n",
       "    <tr>\n",
       "      <th id=\"T_b40c5_level0_row8\" class=\"row_heading level0 row8\" >lightgbm_cds_dt</th>\n",
       "      <td id=\"T_b40c5_row8_col0\" class=\"data row8 col0\" >Light Gradient Boosting w/ Cond. Deseasonalize & Detrending</td>\n",
       "      <td id=\"T_b40c5_row8_col1\" class=\"data row8 col1\" >1.4680</td>\n",
       "      <td id=\"T_b40c5_row8_col2\" class=\"data row8 col2\" >1.3076</td>\n",
       "      <td id=\"T_b40c5_row8_col3\" class=\"data row8 col3\" >795.8164</td>\n",
       "      <td id=\"T_b40c5_row8_col4\" class=\"data row8 col4\" >936.3670</td>\n",
       "      <td id=\"T_b40c5_row8_col5\" class=\"data row8 col5\" >0.1531</td>\n",
       "      <td id=\"T_b40c5_row8_col6\" class=\"data row8 col6\" >0.1538</td>\n",
       "      <td id=\"T_b40c5_row8_col7\" class=\"data row8 col7\" >0.7309</td>\n",
       "      <td id=\"T_b40c5_row8_col8\" class=\"data row8 col8\" >1.8200</td>\n",
       "    </tr>\n",
       "    <tr>\n",
       "      <th id=\"T_b40c5_level0_row9\" class=\"row_heading level0 row9\" >br_cds_dt</th>\n",
       "      <td id=\"T_b40c5_row9_col0\" class=\"data row9 col0\" >Bayesian Ridge w/ Cond. Deseasonalize & Detrending</td>\n",
       "      <td id=\"T_b40c5_row9_col1\" class=\"data row9 col1\" >1.4741</td>\n",
       "      <td id=\"T_b40c5_row9_col2\" class=\"data row9 col2\" >1.3402</td>\n",
       "      <td id=\"T_b40c5_row9_col3\" class=\"data row9 col3\" >804.2119</td>\n",
       "      <td id=\"T_b40c5_row9_col4\" class=\"data row9 col4\" >968.4707</td>\n",
       "      <td id=\"T_b40c5_row9_col5\" class=\"data row9 col5\" >0.1520</td>\n",
       "      <td id=\"T_b40c5_row9_col6\" class=\"data row9 col6\" >0.1547</td>\n",
       "      <td id=\"T_b40c5_row9_col7\" class=\"data row9 col7\" >0.7141</td>\n",
       "      <td id=\"T_b40c5_row9_col8\" class=\"data row9 col8\" >0.1900</td>\n",
       "    </tr>\n",
       "    <tr>\n",
       "      <th id=\"T_b40c5_level0_row10\" class=\"row_heading level0 row10\" >rf_cds_dt</th>\n",
       "      <td id=\"T_b40c5_row10_col0\" class=\"data row10 col0\" >Random Forest w/ Cond. Deseasonalize & Detrending</td>\n",
       "      <td id=\"T_b40c5_row10_col1\" class=\"data row10 col1\" >1.4776</td>\n",
       "      <td id=\"T_b40c5_row10_col2\" class=\"data row10 col2\" >1.3468</td>\n",
       "      <td id=\"T_b40c5_row10_col3\" class=\"data row10 col3\" >807.6133</td>\n",
       "      <td id=\"T_b40c5_row10_col4\" class=\"data row10 col4\" >976.0953</td>\n",
       "      <td id=\"T_b40c5_row10_col5\" class=\"data row10 col5\" >0.1557</td>\n",
       "      <td id=\"T_b40c5_row10_col6\" class=\"data row10 col6\" >0.1553</td>\n",
       "      <td id=\"T_b40c5_row10_col7\" class=\"data row10 col7\" >0.7088</td>\n",
       "      <td id=\"T_b40c5_row10_col8\" class=\"data row10 col8\" >0.3867</td>\n",
       "    </tr>\n",
       "    <tr>\n",
       "      <th id=\"T_b40c5_level0_row11\" class=\"row_heading level0 row11\" >omp_cds_dt</th>\n",
       "      <td id=\"T_b40c5_row11_col0\" class=\"data row11 col0\" >Orthogonal Matching Pursuit w/ Cond. Deseasonalize & Detrending</td>\n",
       "      <td id=\"T_b40c5_row11_col1\" class=\"data row11 col1\" >1.4808</td>\n",
       "      <td id=\"T_b40c5_row11_col2\" class=\"data row11 col2\" >1.3262</td>\n",
       "      <td id=\"T_b40c5_row11_col3\" class=\"data row11 col3\" >812.5633</td>\n",
       "      <td id=\"T_b40c5_row11_col4\" class=\"data row11 col4\" >970.0213</td>\n",
       "      <td id=\"T_b40c5_row11_col5\" class=\"data row11 col5\" >0.1608</td>\n",
       "      <td id=\"T_b40c5_row11_col6\" class=\"data row11 col6\" >0.1593</td>\n",
       "      <td id=\"T_b40c5_row11_col7\" class=\"data row11 col7\" >0.7140</td>\n",
       "      <td id=\"T_b40c5_row11_col8\" class=\"data row11 col8\" >0.1733</td>\n",
       "    </tr>\n",
       "    <tr>\n",
       "      <th id=\"T_b40c5_level0_row12\" class=\"row_heading level0 row12\" >et_cds_dt</th>\n",
       "      <td id=\"T_b40c5_row12_col0\" class=\"data row12 col0\" >Extra Trees w/ Cond. Deseasonalize & Detrending</td>\n",
       "      <td id=\"T_b40c5_row12_col1\" class=\"data row12 col1\" >1.4924</td>\n",
       "      <td id=\"T_b40c5_row12_col2\" class=\"data row12 col2\" >1.3884</td>\n",
       "      <td id=\"T_b40c5_row12_col3\" class=\"data row12 col3\" >816.6963</td>\n",
       "      <td id=\"T_b40c5_row12_col4\" class=\"data row12 col4\" >1015.6426</td>\n",
       "      <td id=\"T_b40c5_row12_col5\" class=\"data row12 col5\" >0.1592</td>\n",
       "      <td id=\"T_b40c5_row12_col6\" class=\"data row12 col6\" >0.1572</td>\n",
       "      <td id=\"T_b40c5_row12_col7\" class=\"data row12 col7\" >0.6828</td>\n",
       "      <td id=\"T_b40c5_row12_col8\" class=\"data row12 col8\" >0.3633</td>\n",
       "    </tr>\n",
       "    <tr>\n",
       "      <th id=\"T_b40c5_level0_row13\" class=\"row_heading level0 row13\" >dt_cds_dt</th>\n",
       "      <td id=\"T_b40c5_row13_col0\" class=\"data row13 col0\" >Decision Tree w/ Cond. Deseasonalize & Detrending</td>\n",
       "      <td id=\"T_b40c5_row13_col1\" class=\"data row13 col1\" >1.5252</td>\n",
       "      <td id=\"T_b40c5_row13_col2\" class=\"data row13 col2\" >1.3490</td>\n",
       "      <td id=\"T_b40c5_row13_col3\" class=\"data row13 col3\" >854.0697</td>\n",
       "      <td id=\"T_b40c5_row13_col4\" class=\"data row13 col4\" >1015.9296</td>\n",
       "      <td id=\"T_b40c5_row13_col5\" class=\"data row13 col5\" >0.1592</td>\n",
       "      <td id=\"T_b40c5_row13_col6\" class=\"data row13 col6\" >0.1634</td>\n",
       "      <td id=\"T_b40c5_row13_col7\" class=\"data row13 col7\" >0.6828</td>\n",
       "      <td id=\"T_b40c5_row13_col8\" class=\"data row13 col8\" >0.2100</td>\n",
       "    </tr>\n",
       "    <tr>\n",
       "      <th id=\"T_b40c5_level0_row14\" class=\"row_heading level0 row14\" >auto_arima</th>\n",
       "      <td id=\"T_b40c5_row14_col0\" class=\"data row14 col0\" >Auto ARIMA</td>\n",
       "      <td id=\"T_b40c5_row14_col1\" class=\"data row14 col1\" >1.5452</td>\n",
       "      <td id=\"T_b40c5_row14_col2\" class=\"data row14 col2\" >1.5203</td>\n",
       "      <td id=\"T_b40c5_row14_col3\" class=\"data row14 col3\" >812.7396</td>\n",
       "      <td id=\"T_b40c5_row14_col4\" class=\"data row14 col4\" >1035.2552</td>\n",
       "      <td id=\"T_b40c5_row14_col5\" class=\"data row14 col5\" >0.1416</td>\n",
       "      <td id=\"T_b40c5_row14_col6\" class=\"data row14 col6\" >0.1563</td>\n",
       "      <td id=\"T_b40c5_row14_col7\" class=\"data row14 col7\" >0.6407</td>\n",
       "      <td id=\"T_b40c5_row14_col8\" class=\"data row14 col8\" >1.0600</td>\n",
       "    </tr>\n",
       "    <tr>\n",
       "      <th id=\"T_b40c5_level0_row15\" class=\"row_heading level0 row15\" >ada_cds_dt</th>\n",
       "      <td id=\"T_b40c5_row15_col0\" class=\"data row15 col0\" >AdaBoost w/ Cond. Deseasonalize & Detrending</td>\n",
       "      <td id=\"T_b40c5_row15_col1\" class=\"data row15 col1\" >1.5608</td>\n",
       "      <td id=\"T_b40c5_row15_col2\" class=\"data row15 col2\" >1.4035</td>\n",
       "      <td id=\"T_b40c5_row15_col3\" class=\"data row15 col3\" >852.5498</td>\n",
       "      <td id=\"T_b40c5_row15_col4\" class=\"data row15 col4\" >1018.4109</td>\n",
       "      <td id=\"T_b40c5_row15_col5\" class=\"data row15 col5\" >0.1565</td>\n",
       "      <td id=\"T_b40c5_row15_col6\" class=\"data row15 col6\" >0.1600</td>\n",
       "      <td id=\"T_b40c5_row15_col7\" class=\"data row15 col7\" >0.6846</td>\n",
       "      <td id=\"T_b40c5_row15_col8\" class=\"data row15 col8\" >0.2467</td>\n",
       "    </tr>\n",
       "    <tr>\n",
       "      <th id=\"T_b40c5_level0_row16\" class=\"row_heading level0 row16\" >catboost_cds_dt</th>\n",
       "      <td id=\"T_b40c5_row16_col0\" class=\"data row16 col0\" >CatBoost Regressor w/ Cond. Deseasonalize & Detrending</td>\n",
       "      <td id=\"T_b40c5_row16_col1\" class=\"data row16 col1\" >1.5761</td>\n",
       "      <td id=\"T_b40c5_row16_col2\" class=\"data row16 col2\" >1.4343</td>\n",
       "      <td id=\"T_b40c5_row16_col3\" class=\"data row16 col3\" >876.4963</td>\n",
       "      <td id=\"T_b40c5_row16_col4\" class=\"data row16 col4\" >1068.6240</td>\n",
       "      <td id=\"T_b40c5_row16_col5\" class=\"data row16 col5\" >0.1611</td>\n",
       "      <td id=\"T_b40c5_row16_col6\" class=\"data row16 col6\" >0.1645</td>\n",
       "      <td id=\"T_b40c5_row16_col7\" class=\"data row16 col7\" >0.6526</td>\n",
       "      <td id=\"T_b40c5_row16_col8\" class=\"data row16 col8\" >1.5100</td>\n",
       "    </tr>\n",
       "    <tr>\n",
       "      <th id=\"T_b40c5_level0_row17\" class=\"row_heading level0 row17\" >arima</th>\n",
       "      <td id=\"T_b40c5_row17_col0\" class=\"data row17 col0\" >ARIMA</td>\n",
       "      <td id=\"T_b40c5_row17_col1\" class=\"data row17 col1\" >1.6079</td>\n",
       "      <td id=\"T_b40c5_row17_col2\" class=\"data row17 col2\" >1.5517</td>\n",
       "      <td id=\"T_b40c5_row17_col3\" class=\"data row17 col3\" >863.9179</td>\n",
       "      <td id=\"T_b40c5_row17_col4\" class=\"data row17 col4\" >1089.2393</td>\n",
       "      <td id=\"T_b40c5_row17_col5\" class=\"data row17 col5\" >0.1438</td>\n",
       "      <td id=\"T_b40c5_row17_col6\" class=\"data row17 col6\" >0.1610</td>\n",
       "      <td id=\"T_b40c5_row17_col7\" class=\"data row17 col7\" >0.6246</td>\n",
       "      <td id=\"T_b40c5_row17_col8\" class=\"data row17 col8\" >0.0667</td>\n",
       "    </tr>\n",
       "    <tr>\n",
       "      <th id=\"T_b40c5_level0_row18\" class=\"row_heading level0 row18\" >gbr_cds_dt</th>\n",
       "      <td id=\"T_b40c5_row18_col0\" class=\"data row18 col0\" >Gradient Boosting w/ Cond. Deseasonalize & Detrending</td>\n",
       "      <td id=\"T_b40c5_row18_col1\" class=\"data row18 col1\" >1.6106</td>\n",
       "      <td id=\"T_b40c5_row18_col2\" class=\"data row18 col2\" >1.4854</td>\n",
       "      <td id=\"T_b40c5_row18_col3\" class=\"data row18 col3\" >886.0023</td>\n",
       "      <td id=\"T_b40c5_row18_col4\" class=\"data row18 col4\" >1099.2155</td>\n",
       "      <td id=\"T_b40c5_row18_col5\" class=\"data row18 col5\" >0.1644</td>\n",
       "      <td id=\"T_b40c5_row18_col6\" class=\"data row18 col6\" >0.1668</td>\n",
       "      <td id=\"T_b40c5_row18_col7\" class=\"data row18 col7\" >0.6340</td>\n",
       "      <td id=\"T_b40c5_row18_col8\" class=\"data row18 col8\" >0.2133</td>\n",
       "    </tr>\n",
       "    <tr>\n",
       "      <th id=\"T_b40c5_level0_row19\" class=\"row_heading level0 row19\" >ets</th>\n",
       "      <td id=\"T_b40c5_row19_col0\" class=\"data row19 col0\" >ETS</td>\n",
       "      <td id=\"T_b40c5_row19_col1\" class=\"data row19 col1\" >1.6110</td>\n",
       "      <td id=\"T_b40c5_row19_col2\" class=\"data row19 col2\" >1.5532</td>\n",
       "      <td id=\"T_b40c5_row19_col3\" class=\"data row19 col3\" >868.5861</td>\n",
       "      <td id=\"T_b40c5_row19_col4\" class=\"data row19 col4\" >1101.2111</td>\n",
       "      <td id=\"T_b40c5_row19_col5\" class=\"data row19 col5\" >0.1545</td>\n",
       "      <td id=\"T_b40c5_row19_col6\" class=\"data row19 col6\" >0.1717</td>\n",
       "      <td id=\"T_b40c5_row19_col7\" class=\"data row19 col7\" >0.6175</td>\n",
       "      <td id=\"T_b40c5_row19_col8\" class=\"data row19 col8\" >0.0533</td>\n",
       "    </tr>\n",
       "    <tr>\n",
       "      <th id=\"T_b40c5_level0_row20\" class=\"row_heading level0 row20\" >exp_smooth</th>\n",
       "      <td id=\"T_b40c5_row20_col0\" class=\"data row20 col0\" >Exponential Smoothing</td>\n",
       "      <td id=\"T_b40c5_row20_col1\" class=\"data row20 col1\" >1.7197</td>\n",
       "      <td id=\"T_b40c5_row20_col2\" class=\"data row20 col2\" >1.5986</td>\n",
       "      <td id=\"T_b40c5_row20_col3\" class=\"data row20 col3\" >926.8297</td>\n",
       "      <td id=\"T_b40c5_row20_col4\" class=\"data row20 col4\" >1138.0023</td>\n",
       "      <td id=\"T_b40c5_row20_col5\" class=\"data row20 col5\" >0.1650</td>\n",
       "      <td id=\"T_b40c5_row20_col6\" class=\"data row20 col6\" >0.1836</td>\n",
       "      <td id=\"T_b40c5_row20_col7\" class=\"data row20 col7\" >0.5894</td>\n",
       "      <td id=\"T_b40c5_row20_col8\" class=\"data row20 col8\" >0.0533</td>\n",
       "    </tr>\n",
       "    <tr>\n",
       "      <th id=\"T_b40c5_level0_row21\" class=\"row_heading level0 row21\" >xgboost_cds_dt</th>\n",
       "      <td id=\"T_b40c5_row21_col0\" class=\"data row21 col0\" >Extreme Gradient Boosting w/ Cond. Deseasonalize & Detrending</td>\n",
       "      <td id=\"T_b40c5_row21_col1\" class=\"data row21 col1\" >1.8517</td>\n",
       "      <td id=\"T_b40c5_row21_col2\" class=\"data row21 col2\" >1.6829</td>\n",
       "      <td id=\"T_b40c5_row21_col3\" class=\"data row21 col3\" >1005.2797</td>\n",
       "      <td id=\"T_b40c5_row21_col4\" class=\"data row21 col4\" >1215.3140</td>\n",
       "      <td id=\"T_b40c5_row21_col5\" class=\"data row21 col5\" >0.1864</td>\n",
       "      <td id=\"T_b40c5_row21_col6\" class=\"data row21 col6\" >0.1928</td>\n",
       "      <td id=\"T_b40c5_row21_col7\" class=\"data row21 col7\" >0.5481</td>\n",
       "      <td id=\"T_b40c5_row21_col8\" class=\"data row21 col8\" >0.2833</td>\n",
       "    </tr>\n",
       "    <tr>\n",
       "      <th id=\"T_b40c5_level0_row22\" class=\"row_heading level0 row22\" >stlf</th>\n",
       "      <td id=\"T_b40c5_row22_col0\" class=\"data row22 col0\" >STLF</td>\n",
       "      <td id=\"T_b40c5_row22_col1\" class=\"data row22 col1\" >1.9243</td>\n",
       "      <td id=\"T_b40c5_row22_col2\" class=\"data row22 col2\" >1.7320</td>\n",
       "      <td id=\"T_b40c5_row22_col3\" class=\"data row22 col3\" >1045.9902</td>\n",
       "      <td id=\"T_b40c5_row22_col4\" class=\"data row22 col4\" >1234.6802</td>\n",
       "      <td id=\"T_b40c5_row22_col5\" class=\"data row22 col5\" >0.1879</td>\n",
       "      <td id=\"T_b40c5_row22_col6\" class=\"data row22 col6\" >0.2148</td>\n",
       "      <td id=\"T_b40c5_row22_col7\" class=\"data row22 col7\" >0.5303</td>\n",
       "      <td id=\"T_b40c5_row22_col8\" class=\"data row22 col8\" >0.0567</td>\n",
       "    </tr>\n",
       "    <tr>\n",
       "      <th id=\"T_b40c5_level0_row23\" class=\"row_heading level0 row23\" >snaive</th>\n",
       "      <td id=\"T_b40c5_row23_col0\" class=\"data row23 col0\" >Seasonal Naive Forecaster</td>\n",
       "      <td id=\"T_b40c5_row23_col1\" class=\"data row23 col1\" >1.9425</td>\n",
       "      <td id=\"T_b40c5_row23_col2\" class=\"data row23 col2\" >1.8070</td>\n",
       "      <td id=\"T_b40c5_row23_col3\" class=\"data row23 col3\" >1047.0000</td>\n",
       "      <td id=\"T_b40c5_row23_col4\" class=\"data row23 col4\" >1274.1344</td>\n",
       "      <td id=\"T_b40c5_row23_col5\" class=\"data row23 col5\" >0.1773</td>\n",
       "      <td id=\"T_b40c5_row23_col6\" class=\"data row23 col6\" >0.2036</td>\n",
       "      <td id=\"T_b40c5_row23_col7\" class=\"data row23 col7\" >0.4854</td>\n",
       "      <td id=\"T_b40c5_row23_col8\" class=\"data row23 col8\" >2.3233</td>\n",
       "    </tr>\n",
       "    <tr>\n",
       "      <th id=\"T_b40c5_level0_row24\" class=\"row_heading level0 row24\" >polytrend</th>\n",
       "      <td id=\"T_b40c5_row24_col0\" class=\"data row24 col0\" >Polynomial Trend Forecaster</td>\n",
       "      <td id=\"T_b40c5_row24_col1\" class=\"data row24 col1\" >3.0546</td>\n",
       "      <td id=\"T_b40c5_row24_col2\" class=\"data row24 col2\" >2.4880</td>\n",
       "      <td id=\"T_b40c5_row24_col3\" class=\"data row24 col3\" >1690.0993</td>\n",
       "      <td id=\"T_b40c5_row24_col4\" class=\"data row24 col4\" >1862.8069</td>\n",
       "      <td id=\"T_b40c5_row24_col5\" class=\"data row24 col5\" >0.3897</td>\n",
       "      <td id=\"T_b40c5_row24_col6\" class=\"data row24 col6\" >0.3373</td>\n",
       "      <td id=\"T_b40c5_row24_col7\" class=\"data row24 col7\" >-0.0584</td>\n",
       "      <td id=\"T_b40c5_row24_col8\" class=\"data row24 col8\" >0.0233</td>\n",
       "    </tr>\n",
       "    <tr>\n",
       "      <th id=\"T_b40c5_level0_row25\" class=\"row_heading level0 row25\" >croston</th>\n",
       "      <td id=\"T_b40c5_row25_col0\" class=\"data row25 col0\" >Croston</td>\n",
       "      <td id=\"T_b40c5_row25_col1\" class=\"data row25 col1\" >3.4375</td>\n",
       "      <td id=\"T_b40c5_row25_col2\" class=\"data row25 col2\" >2.7017</td>\n",
       "      <td id=\"T_b40c5_row25_col3\" class=\"data row25 col3\" >1916.9503</td>\n",
       "      <td id=\"T_b40c5_row25_col4\" class=\"data row25 col4\" >2037.9221</td>\n",
       "      <td id=\"T_b40c5_row25_col5\" class=\"data row25 col5\" >0.3961</td>\n",
       "      <td id=\"T_b40c5_row25_col6\" class=\"data row25 col6\" >0.3825</td>\n",
       "      <td id=\"T_b40c5_row25_col7\" class=\"data row25 col7\" >-0.2689</td>\n",
       "      <td id=\"T_b40c5_row25_col8\" class=\"data row25 col8\" >0.0200</td>\n",
       "    </tr>\n",
       "    <tr>\n",
       "      <th id=\"T_b40c5_level0_row26\" class=\"row_heading level0 row26\" >naive</th>\n",
       "      <td id=\"T_b40c5_row26_col0\" class=\"data row26 col0\" >Naive Forecaster</td>\n",
       "      <td id=\"T_b40c5_row26_col1\" class=\"data row26 col1\" >3.7114</td>\n",
       "      <td id=\"T_b40c5_row26_col2\" class=\"data row26 col2\" >3.3296</td>\n",
       "      <td id=\"T_b40c5_row26_col3\" class=\"data row26 col3\" >2107.0833</td>\n",
       "      <td id=\"T_b40c5_row26_col4\" class=\"data row26 col4\" >2556.7183</td>\n",
       "      <td id=\"T_b40c5_row26_col5\" class=\"data row26 col5\" >0.4821</td>\n",
       "      <td id=\"T_b40c5_row26_col6\" class=\"data row26 col6\" >0.4243</td>\n",
       "      <td id=\"T_b40c5_row26_col7\" class=\"data row26 col7\" >-1.1462</td>\n",
       "      <td id=\"T_b40c5_row26_col8\" class=\"data row26 col8\" >4.7400</td>\n",
       "    </tr>\n",
       "    <tr>\n",
       "      <th id=\"T_b40c5_level0_row27\" class=\"row_heading level0 row27\" >grand_means</th>\n",
       "      <td id=\"T_b40c5_row27_col0\" class=\"data row27 col0\" >Grand Means Forecaster</td>\n",
       "      <td id=\"T_b40c5_row27_col1\" class=\"data row27 col1\" >3.8440</td>\n",
       "      <td id=\"T_b40c5_row27_col2\" class=\"data row27 col2\" >3.0484</td>\n",
       "      <td id=\"T_b40c5_row27_col3\" class=\"data row27 col3\" >2161.3468</td>\n",
       "      <td id=\"T_b40c5_row27_col4\" class=\"data row27 col4\" >2332.4820</td>\n",
       "      <td id=\"T_b40c5_row27_col5\" class=\"data row27 col5\" >0.4052</td>\n",
       "      <td id=\"T_b40c5_row27_col6\" class=\"data row27 col6\" >0.4345</td>\n",
       "      <td id=\"T_b40c5_row27_col7\" class=\"data row27 col7\" >-0.6826</td>\n",
       "      <td id=\"T_b40c5_row27_col8\" class=\"data row27 col8\" >2.6333</td>\n",
       "    </tr>\n",
       "  </tbody>\n",
       "</table>\n"
      ],
      "text/plain": [
       "<pandas.io.formats.style.Styler at 0x12dcb972b80>"
      ]
     },
     "metadata": {},
     "output_type": "display_data"
    },
    {
     "data": {
      "text/html": [],
      "text/plain": [
       "<IPython.core.display.HTML object>"
      ]
     },
     "metadata": {},
     "output_type": "display_data"
    }
   ],
   "source": [
    "# Log best model and PyCaret artifacts to MLflow\n",
    "mlflow.autolog()\n",
    "with mlflow.start_run():\n",
    "    # Set up PyCaret\n",
    "    s = setup(data, fh=12, session_id=123)\n",
    "    # Log experiment to MLflow\n",
    "    mlflow.set_experiment(\"Pycaret_experiment\")\n",
    "    # Train models\n",
    "    check_stats()\n",
    "    \n",
    "    best = compare_models()\n",
    "    # Log PyCaret experiment\n",
    "    mlflow.log_params({'fh': 12, 'session_id': 123})\n"
   ]
  },
  {
   "cell_type": "markdown",
   "metadata": {},
   "source": [
    "# Check statistics"
   ]
  },
  {
   "cell_type": "code",
   "execution_count": 14,
   "metadata": {},
   "outputs": [
    {
     "name": "stderr",
     "output_type": "stream",
     "text": [
      "2024/03/07 15:07:21 INFO mlflow.utils.autologging_utils: Created MLflow autologging run with ID '445ae369eec14a408fe168d97826ec12', which will track hyperparameters, performance metrics, model artifacts, and lineage information for the current statsmodels workflow\n",
      "2024/03/07 15:07:28 INFO mlflow.utils.autologging_utils: Created MLflow autologging run with ID '4184aa1011174ff4bb3ea78309b8505d', which will track hyperparameters, performance metrics, model artifacts, and lineage information for the current statsmodels workflow\n",
      "2024/03/07 15:07:34 INFO mlflow.utils.autologging_utils: Created MLflow autologging run with ID 'f2e874a0a259498b91a8dda3ce2c958d', which will track hyperparameters, performance metrics, model artifacts, and lineage information for the current statsmodels workflow\n",
      "2024/03/07 15:07:41 INFO mlflow.utils.autologging_utils: Created MLflow autologging run with ID '9093e0bedc8d455082a69ff84cdf0c56', which will track hyperparameters, performance metrics, model artifacts, and lineage information for the current statsmodels workflow\n",
      "2024/03/07 15:07:48 INFO mlflow.utils.autologging_utils: Created MLflow autologging run with ID '33f0f4451f82411a8b42e5984431cb0c', which will track hyperparameters, performance metrics, model artifacts, and lineage information for the current statsmodels workflow\n",
      "2024/03/07 15:07:54 INFO mlflow.utils.autologging_utils: Created MLflow autologging run with ID '0d64634e52fe4bdb9d7c1a8395e0d978', which will track hyperparameters, performance metrics, model artifacts, and lineage information for the current statsmodels workflow\n",
      "2024/03/07 15:08:02 INFO mlflow.utils.autologging_utils: Created MLflow autologging run with ID '30ef60bf74a04a9e88bca821b78e13af', which will track hyperparameters, performance metrics, model artifacts, and lineage information for the current statsmodels workflow\n",
      "2024/03/07 15:08:09 INFO mlflow.utils.autologging_utils: Created MLflow autologging run with ID '41ed2303f801403788800ef38441faea', which will track hyperparameters, performance metrics, model artifacts, and lineage information for the current statsmodels workflow\n",
      "2024/03/07 15:08:16 INFO mlflow.utils.autologging_utils: Created MLflow autologging run with ID 'f8d8b7b6afb84628a722a025046ac631', which will track hyperparameters, performance metrics, model artifacts, and lineage information for the current statsmodels workflow\n",
      "2024/03/07 15:08:22 INFO mlflow.utils.autologging_utils: Created MLflow autologging run with ID '6c61e821af644b01b29c06f50070908e', which will track hyperparameters, performance metrics, model artifacts, and lineage information for the current statsmodels workflow\n",
      "2024/03/07 15:08:29 INFO mlflow.utils.autologging_utils: Created MLflow autologging run with ID 'dcc185933bc946299fcde56560e1d484', which will track hyperparameters, performance metrics, model artifacts, and lineage information for the current statsmodels workflow\n",
      "2024/03/07 15:08:35 INFO mlflow.utils.autologging_utils: Created MLflow autologging run with ID '73e59fc1ec46405aad1c457f4db10e53', which will track hyperparameters, performance metrics, model artifacts, and lineage information for the current statsmodels workflow\n",
      "2024/03/07 15:08:43 INFO mlflow.utils.autologging_utils: Created MLflow autologging run with ID '3fb19747eb62434dbf3f992885369726', which will track hyperparameters, performance metrics, model artifacts, and lineage information for the current statsmodels workflow\n",
      "2024/03/07 15:08:51 INFO mlflow.utils.autologging_utils: Created MLflow autologging run with ID '2081bde40e5b4dfdab69633c5e201c88', which will track hyperparameters, performance metrics, model artifacts, and lineage information for the current statsmodels workflow\n",
      "2024/03/07 15:08:59 INFO mlflow.utils.autologging_utils: Created MLflow autologging run with ID '918ab134e35e49858d5d736645293278', which will track hyperparameters, performance metrics, model artifacts, and lineage information for the current statsmodels workflow\n"
     ]
    },
    {
     "data": {
      "text/html": [
       "<div>\n",
       "<style scoped>\n",
       "    .dataframe tbody tr th:only-of-type {\n",
       "        vertical-align: middle;\n",
       "    }\n",
       "\n",
       "    .dataframe tbody tr th {\n",
       "        vertical-align: top;\n",
       "    }\n",
       "\n",
       "    .dataframe thead th {\n",
       "        text-align: right;\n",
       "    }\n",
       "</style>\n",
       "<table border=\"1\" class=\"dataframe\">\n",
       "  <thead>\n",
       "    <tr style=\"text-align: right;\">\n",
       "      <th></th>\n",
       "      <th>Test</th>\n",
       "      <th>Test Name</th>\n",
       "      <th>Data</th>\n",
       "      <th>Property</th>\n",
       "      <th>Setting</th>\n",
       "      <th>Value</th>\n",
       "    </tr>\n",
       "  </thead>\n",
       "  <tbody>\n",
       "    <tr>\n",
       "      <th>0</th>\n",
       "      <td>Summary</td>\n",
       "      <td>Statistics</td>\n",
       "      <td>Transformed</td>\n",
       "      <td>Length</td>\n",
       "      <td></td>\n",
       "      <td>90.0</td>\n",
       "    </tr>\n",
       "    <tr>\n",
       "      <th>1</th>\n",
       "      <td>Summary</td>\n",
       "      <td>Statistics</td>\n",
       "      <td>Transformed</td>\n",
       "      <td># Missing Values</td>\n",
       "      <td></td>\n",
       "      <td>0.0</td>\n",
       "    </tr>\n",
       "    <tr>\n",
       "      <th>2</th>\n",
       "      <td>Summary</td>\n",
       "      <td>Statistics</td>\n",
       "      <td>Transformed</td>\n",
       "      <td>Mean</td>\n",
       "      <td></td>\n",
       "      <td>4960.366667</td>\n",
       "    </tr>\n",
       "    <tr>\n",
       "      <th>3</th>\n",
       "      <td>Summary</td>\n",
       "      <td>Statistics</td>\n",
       "      <td>Transformed</td>\n",
       "      <td>Median</td>\n",
       "      <td></td>\n",
       "      <td>4776.5</td>\n",
       "    </tr>\n",
       "    <tr>\n",
       "      <th>4</th>\n",
       "      <td>Summary</td>\n",
       "      <td>Statistics</td>\n",
       "      <td>Transformed</td>\n",
       "      <td>Standard Deviation</td>\n",
       "      <td></td>\n",
       "      <td>1939.000116</td>\n",
       "    </tr>\n",
       "    <tr>\n",
       "      <th>5</th>\n",
       "      <td>Summary</td>\n",
       "      <td>Statistics</td>\n",
       "      <td>Transformed</td>\n",
       "      <td>Variance</td>\n",
       "      <td></td>\n",
       "      <td>3759721.448315</td>\n",
       "    </tr>\n",
       "    <tr>\n",
       "      <th>6</th>\n",
       "      <td>Summary</td>\n",
       "      <td>Statistics</td>\n",
       "      <td>Transformed</td>\n",
       "      <td>Kurtosis</td>\n",
       "      <td></td>\n",
       "      <td>-0.920113</td>\n",
       "    </tr>\n",
       "    <tr>\n",
       "      <th>7</th>\n",
       "      <td>Summary</td>\n",
       "      <td>Statistics</td>\n",
       "      <td>Transformed</td>\n",
       "      <td>Skewness</td>\n",
       "      <td></td>\n",
       "      <td>0.22622</td>\n",
       "    </tr>\n",
       "    <tr>\n",
       "      <th>8</th>\n",
       "      <td>Summary</td>\n",
       "      <td>Statistics</td>\n",
       "      <td>Transformed</td>\n",
       "      <td># Distinct Values</td>\n",
       "      <td></td>\n",
       "      <td>89.0</td>\n",
       "    </tr>\n",
       "    <tr>\n",
       "      <th>9</th>\n",
       "      <td>White Noise</td>\n",
       "      <td>Ljung-Box</td>\n",
       "      <td>Transformed</td>\n",
       "      <td>Test Statictic</td>\n",
       "      <td>{'alpha': 0.05, 'K': 24}</td>\n",
       "      <td>293.08932</td>\n",
       "    </tr>\n",
       "    <tr>\n",
       "      <th>10</th>\n",
       "      <td>White Noise</td>\n",
       "      <td>Ljung-Box</td>\n",
       "      <td>Transformed</td>\n",
       "      <td>Test Statictic</td>\n",
       "      <td>{'alpha': 0.05, 'K': 48}</td>\n",
       "      <td>460.125833</td>\n",
       "    </tr>\n",
       "    <tr>\n",
       "      <th>11</th>\n",
       "      <td>White Noise</td>\n",
       "      <td>Ljung-Box</td>\n",
       "      <td>Transformed</td>\n",
       "      <td>p-value</td>\n",
       "      <td>{'alpha': 0.05, 'K': 24}</td>\n",
       "      <td>0.0</td>\n",
       "    </tr>\n",
       "    <tr>\n",
       "      <th>12</th>\n",
       "      <td>White Noise</td>\n",
       "      <td>Ljung-Box</td>\n",
       "      <td>Transformed</td>\n",
       "      <td>p-value</td>\n",
       "      <td>{'alpha': 0.05, 'K': 48}</td>\n",
       "      <td>0.0</td>\n",
       "    </tr>\n",
       "    <tr>\n",
       "      <th>13</th>\n",
       "      <td>White Noise</td>\n",
       "      <td>Ljung-Box</td>\n",
       "      <td>Transformed</td>\n",
       "      <td>White Noise</td>\n",
       "      <td>{'alpha': 0.05, 'K': 24}</td>\n",
       "      <td>False</td>\n",
       "    </tr>\n",
       "    <tr>\n",
       "      <th>14</th>\n",
       "      <td>White Noise</td>\n",
       "      <td>Ljung-Box</td>\n",
       "      <td>Transformed</td>\n",
       "      <td>White Noise</td>\n",
       "      <td>{'alpha': 0.05, 'K': 48}</td>\n",
       "      <td>False</td>\n",
       "    </tr>\n",
       "    <tr>\n",
       "      <th>15</th>\n",
       "      <td>Stationarity</td>\n",
       "      <td>ADF</td>\n",
       "      <td>Transformed</td>\n",
       "      <td>Stationarity</td>\n",
       "      <td>{'alpha': 0.05}</td>\n",
       "      <td>False</td>\n",
       "    </tr>\n",
       "    <tr>\n",
       "      <th>16</th>\n",
       "      <td>Stationarity</td>\n",
       "      <td>ADF</td>\n",
       "      <td>Transformed</td>\n",
       "      <td>p-value</td>\n",
       "      <td>{'alpha': 0.05}</td>\n",
       "      <td>0.958371</td>\n",
       "    </tr>\n",
       "    <tr>\n",
       "      <th>17</th>\n",
       "      <td>Stationarity</td>\n",
       "      <td>ADF</td>\n",
       "      <td>Transformed</td>\n",
       "      <td>Test Statistic</td>\n",
       "      <td>{'alpha': 0.05}</td>\n",
       "      <td>-0.001944</td>\n",
       "    </tr>\n",
       "    <tr>\n",
       "      <th>18</th>\n",
       "      <td>Stationarity</td>\n",
       "      <td>ADF</td>\n",
       "      <td>Transformed</td>\n",
       "      <td>Critical Value 1%</td>\n",
       "      <td>{'alpha': 0.05}</td>\n",
       "      <td>-3.512738</td>\n",
       "    </tr>\n",
       "    <tr>\n",
       "      <th>19</th>\n",
       "      <td>Stationarity</td>\n",
       "      <td>ADF</td>\n",
       "      <td>Transformed</td>\n",
       "      <td>Critical Value 5%</td>\n",
       "      <td>{'alpha': 0.05}</td>\n",
       "      <td>-2.89749</td>\n",
       "    </tr>\n",
       "    <tr>\n",
       "      <th>20</th>\n",
       "      <td>Stationarity</td>\n",
       "      <td>ADF</td>\n",
       "      <td>Transformed</td>\n",
       "      <td>Critical Value 10%</td>\n",
       "      <td>{'alpha': 0.05}</td>\n",
       "      <td>-2.585949</td>\n",
       "    </tr>\n",
       "    <tr>\n",
       "      <th>21</th>\n",
       "      <td>Stationarity</td>\n",
       "      <td>KPSS</td>\n",
       "      <td>Transformed</td>\n",
       "      <td>Trend Stationarity</td>\n",
       "      <td>{'alpha': 0.05}</td>\n",
       "      <td>True</td>\n",
       "    </tr>\n",
       "    <tr>\n",
       "      <th>22</th>\n",
       "      <td>Stationarity</td>\n",
       "      <td>KPSS</td>\n",
       "      <td>Transformed</td>\n",
       "      <td>p-value</td>\n",
       "      <td>{'alpha': 0.05}</td>\n",
       "      <td>0.1</td>\n",
       "    </tr>\n",
       "    <tr>\n",
       "      <th>23</th>\n",
       "      <td>Stationarity</td>\n",
       "      <td>KPSS</td>\n",
       "      <td>Transformed</td>\n",
       "      <td>Test Statistic</td>\n",
       "      <td>{'alpha': 0.05}</td>\n",
       "      <td>0.032908</td>\n",
       "    </tr>\n",
       "    <tr>\n",
       "      <th>24</th>\n",
       "      <td>Stationarity</td>\n",
       "      <td>KPSS</td>\n",
       "      <td>Transformed</td>\n",
       "      <td>Critical Value 10%</td>\n",
       "      <td>{'alpha': 0.05}</td>\n",
       "      <td>0.119</td>\n",
       "    </tr>\n",
       "    <tr>\n",
       "      <th>25</th>\n",
       "      <td>Stationarity</td>\n",
       "      <td>KPSS</td>\n",
       "      <td>Transformed</td>\n",
       "      <td>Critical Value 5%</td>\n",
       "      <td>{'alpha': 0.05}</td>\n",
       "      <td>0.146</td>\n",
       "    </tr>\n",
       "    <tr>\n",
       "      <th>26</th>\n",
       "      <td>Stationarity</td>\n",
       "      <td>KPSS</td>\n",
       "      <td>Transformed</td>\n",
       "      <td>Critical Value 2.5%</td>\n",
       "      <td>{'alpha': 0.05}</td>\n",
       "      <td>0.176</td>\n",
       "    </tr>\n",
       "    <tr>\n",
       "      <th>27</th>\n",
       "      <td>Stationarity</td>\n",
       "      <td>KPSS</td>\n",
       "      <td>Transformed</td>\n",
       "      <td>Critical Value 1%</td>\n",
       "      <td>{'alpha': 0.05}</td>\n",
       "      <td>0.216</td>\n",
       "    </tr>\n",
       "    <tr>\n",
       "      <th>28</th>\n",
       "      <td>Normality</td>\n",
       "      <td>Shapiro</td>\n",
       "      <td>Transformed</td>\n",
       "      <td>Normality</td>\n",
       "      <td>{'alpha': 0.05}</td>\n",
       "      <td>False</td>\n",
       "    </tr>\n",
       "    <tr>\n",
       "      <th>29</th>\n",
       "      <td>Normality</td>\n",
       "      <td>Shapiro</td>\n",
       "      <td>Transformed</td>\n",
       "      <td>p-value</td>\n",
       "      <td>{'alpha': 0.05}</td>\n",
       "      <td>0.017958</td>\n",
       "    </tr>\n",
       "  </tbody>\n",
       "</table>\n",
       "</div>"
      ],
      "text/plain": [
       "            Test   Test Name         Data             Property  \\\n",
       "0        Summary  Statistics  Transformed               Length   \n",
       "1        Summary  Statistics  Transformed     # Missing Values   \n",
       "2        Summary  Statistics  Transformed                 Mean   \n",
       "3        Summary  Statistics  Transformed               Median   \n",
       "4        Summary  Statistics  Transformed   Standard Deviation   \n",
       "5        Summary  Statistics  Transformed             Variance   \n",
       "6        Summary  Statistics  Transformed             Kurtosis   \n",
       "7        Summary  Statistics  Transformed             Skewness   \n",
       "8        Summary  Statistics  Transformed    # Distinct Values   \n",
       "9    White Noise   Ljung-Box  Transformed       Test Statictic   \n",
       "10   White Noise   Ljung-Box  Transformed       Test Statictic   \n",
       "11   White Noise   Ljung-Box  Transformed              p-value   \n",
       "12   White Noise   Ljung-Box  Transformed              p-value   \n",
       "13   White Noise   Ljung-Box  Transformed          White Noise   \n",
       "14   White Noise   Ljung-Box  Transformed          White Noise   \n",
       "15  Stationarity         ADF  Transformed         Stationarity   \n",
       "16  Stationarity         ADF  Transformed              p-value   \n",
       "17  Stationarity         ADF  Transformed       Test Statistic   \n",
       "18  Stationarity         ADF  Transformed    Critical Value 1%   \n",
       "19  Stationarity         ADF  Transformed    Critical Value 5%   \n",
       "20  Stationarity         ADF  Transformed   Critical Value 10%   \n",
       "21  Stationarity        KPSS  Transformed   Trend Stationarity   \n",
       "22  Stationarity        KPSS  Transformed              p-value   \n",
       "23  Stationarity        KPSS  Transformed       Test Statistic   \n",
       "24  Stationarity        KPSS  Transformed   Critical Value 10%   \n",
       "25  Stationarity        KPSS  Transformed    Critical Value 5%   \n",
       "26  Stationarity        KPSS  Transformed  Critical Value 2.5%   \n",
       "27  Stationarity        KPSS  Transformed    Critical Value 1%   \n",
       "28     Normality     Shapiro  Transformed            Normality   \n",
       "29     Normality     Shapiro  Transformed              p-value   \n",
       "\n",
       "                     Setting           Value  \n",
       "0                                       90.0  \n",
       "1                                        0.0  \n",
       "2                                4960.366667  \n",
       "3                                     4776.5  \n",
       "4                                1939.000116  \n",
       "5                             3759721.448315  \n",
       "6                                  -0.920113  \n",
       "7                                    0.22622  \n",
       "8                                       89.0  \n",
       "9   {'alpha': 0.05, 'K': 24}       293.08932  \n",
       "10  {'alpha': 0.05, 'K': 48}      460.125833  \n",
       "11  {'alpha': 0.05, 'K': 24}             0.0  \n",
       "12  {'alpha': 0.05, 'K': 48}             0.0  \n",
       "13  {'alpha': 0.05, 'K': 24}           False  \n",
       "14  {'alpha': 0.05, 'K': 48}           False  \n",
       "15           {'alpha': 0.05}           False  \n",
       "16           {'alpha': 0.05}        0.958371  \n",
       "17           {'alpha': 0.05}       -0.001944  \n",
       "18           {'alpha': 0.05}       -3.512738  \n",
       "19           {'alpha': 0.05}        -2.89749  \n",
       "20           {'alpha': 0.05}       -2.585949  \n",
       "21           {'alpha': 0.05}            True  \n",
       "22           {'alpha': 0.05}             0.1  \n",
       "23           {'alpha': 0.05}        0.032908  \n",
       "24           {'alpha': 0.05}           0.119  \n",
       "25           {'alpha': 0.05}           0.146  \n",
       "26           {'alpha': 0.05}           0.176  \n",
       "27           {'alpha': 0.05}           0.216  \n",
       "28           {'alpha': 0.05}           False  \n",
       "29           {'alpha': 0.05}        0.017958  "
      ]
     },
     "execution_count": 14,
     "metadata": {},
     "output_type": "execute_result"
    }
   ],
   "source": [
    "check_stats()"
   ]
  },
  {
   "cell_type": "markdown",
   "metadata": {},
   "source": [
    "## Compare Model"
   ]
  },
  {
   "cell_type": "code",
   "execution_count": 15,
   "metadata": {},
   "outputs": [
    {
     "data": {
      "text/html": [],
      "text/plain": [
       "<IPython.core.display.HTML object>"
      ]
     },
     "metadata": {},
     "output_type": "display_data"
    },
    {
     "data": {
      "text/html": [
       "<div>\n",
       "<style scoped>\n",
       "    .dataframe tbody tr th:only-of-type {\n",
       "        vertical-align: middle;\n",
       "    }\n",
       "\n",
       "    .dataframe tbody tr th {\n",
       "        vertical-align: top;\n",
       "    }\n",
       "\n",
       "    .dataframe thead th {\n",
       "        text-align: right;\n",
       "    }\n",
       "</style>\n",
       "<table border=\"1\" class=\"dataframe\">\n",
       "  <thead>\n",
       "    <tr style=\"text-align: right;\">\n",
       "      <th></th>\n",
       "      <th>Model</th>\n",
       "      <th>MASE</th>\n",
       "      <th>RMSSE</th>\n",
       "      <th>MAE</th>\n",
       "      <th>RMSE</th>\n",
       "      <th>MAPE</th>\n",
       "      <th>SMAPE</th>\n",
       "      <th>R2</th>\n",
       "      <th>TT (Sec)</th>\n",
       "    </tr>\n",
       "  </thead>\n",
       "  <tbody>\n",
       "  </tbody>\n",
       "</table>\n",
       "</div>"
      ],
      "text/plain": [
       "Empty DataFrame\n",
       "Columns: [Model, MASE, RMSSE, MAE, RMSE, MAPE, SMAPE, R2, TT (Sec)]\n",
       "Index: []"
      ]
     },
     "metadata": {},
     "output_type": "display_data"
    },
    {
     "data": {
      "text/html": [],
      "text/plain": [
       "<IPython.core.display.HTML object>"
      ]
     },
     "metadata": {},
     "output_type": "display_data"
    }
   ],
   "source": [
    "best = compare_models()"
   ]
  },
  {
   "cell_type": "code",
   "execution_count": 16,
   "metadata": {},
   "outputs": [],
   "source": [
    "# final_model = pull(best)\n",
    "# final_model.fit()"
   ]
  },
  {
   "cell_type": "code",
   "execution_count": 17,
   "metadata": {},
   "outputs": [
    {
     "data": {
      "text/plain": [
       "{'deseasonalize': True, 'initial_level': None, 'sp': 7}"
      ]
     },
     "execution_count": 17,
     "metadata": {},
     "output_type": "execute_result"
    }
   ],
   "source": [
    "best.get_params()"
   ]
  },
  {
   "cell_type": "code",
   "execution_count": 18,
   "metadata": {},
   "outputs": [],
   "source": [
    "# best_mae_models_top3 = compare_models(sort = 'R2', n_select = 3)\n",
    "# list of top 3 models by MAE\n",
    "# best_mae_models_top3\n"
   ]
  },
  {
   "cell_type": "markdown",
   "metadata": {},
   "source": [
    "## Analyze Model"
   ]
  },
  {
   "cell_type": "code",
   "execution_count": 19,
   "metadata": {},
   "outputs": [
    {
     "data": {
      "text/html": [],
      "text/plain": [
       "<IPython.core.display.HTML object>"
      ]
     },
     "metadata": {},
     "output_type": "display_data"
    },
    {
     "data": {
      "text/html": [
       "<style type=\"text/css\">\n",
       "#T_8cc9a_row3_col0, #T_8cc9a_row3_col1, #T_8cc9a_row3_col2, #T_8cc9a_row3_col3, #T_8cc9a_row3_col4, #T_8cc9a_row3_col5, #T_8cc9a_row3_col6, #T_8cc9a_row3_col7 {\n",
       "  background: yellow;\n",
       "}\n",
       "</style>\n",
       "<table id=\"T_8cc9a\">\n",
       "  <thead>\n",
       "    <tr>\n",
       "      <th class=\"blank level0\" >&nbsp;</th>\n",
       "      <th id=\"T_8cc9a_level0_col0\" class=\"col_heading level0 col0\" >cutoff</th>\n",
       "      <th id=\"T_8cc9a_level0_col1\" class=\"col_heading level0 col1\" >MASE</th>\n",
       "      <th id=\"T_8cc9a_level0_col2\" class=\"col_heading level0 col2\" >RMSSE</th>\n",
       "      <th id=\"T_8cc9a_level0_col3\" class=\"col_heading level0 col3\" >MAE</th>\n",
       "      <th id=\"T_8cc9a_level0_col4\" class=\"col_heading level0 col4\" >RMSE</th>\n",
       "      <th id=\"T_8cc9a_level0_col5\" class=\"col_heading level0 col5\" >MAPE</th>\n",
       "      <th id=\"T_8cc9a_level0_col6\" class=\"col_heading level0 col6\" >SMAPE</th>\n",
       "      <th id=\"T_8cc9a_level0_col7\" class=\"col_heading level0 col7\" >R2</th>\n",
       "    </tr>\n",
       "  </thead>\n",
       "  <tbody>\n",
       "    <tr>\n",
       "      <th id=\"T_8cc9a_level0_row0\" class=\"row_heading level0 row0\" >0</th>\n",
       "      <td id=\"T_8cc9a_row0_col0\" class=\"data row0 col0\" >2021-08-18</td>\n",
       "      <td id=\"T_8cc9a_row0_col1\" class=\"data row0 col1\" >3.9079</td>\n",
       "      <td id=\"T_8cc9a_row0_col2\" class=\"data row0 col2\" >4.2981</td>\n",
       "      <td id=\"T_8cc9a_row0_col3\" class=\"data row0 col3\" >1788.2500</td>\n",
       "      <td id=\"T_8cc9a_row0_col4\" class=\"data row0 col4\" >2390.4059</td>\n",
       "      <td id=\"T_8cc9a_row0_col5\" class=\"data row0 col5\" >0.6371</td>\n",
       "      <td id=\"T_8cc9a_row0_col6\" class=\"data row0 col6\" >0.3749</td>\n",
       "      <td id=\"T_8cc9a_row0_col7\" class=\"data row0 col7\" >-0.4494</td>\n",
       "    </tr>\n",
       "    <tr>\n",
       "      <th id=\"T_8cc9a_level0_row1\" class=\"row_heading level0 row1\" >1</th>\n",
       "      <td id=\"T_8cc9a_row1_col0\" class=\"data row1 col0\" >2021-08-30</td>\n",
       "      <td id=\"T_8cc9a_row1_col1\" class=\"data row1 col1\" >1.9968</td>\n",
       "      <td id=\"T_8cc9a_row1_col2\" class=\"data row1 col2\" >1.6706</td>\n",
       "      <td id=\"T_8cc9a_row1_col3\" class=\"data row1 col3\" >1288.8333</td>\n",
       "      <td id=\"T_8cc9a_row1_col4\" class=\"data row1 col4\" >1617.7194</td>\n",
       "      <td id=\"T_8cc9a_row1_col5\" class=\"data row1 col5\" >0.3451</td>\n",
       "      <td id=\"T_8cc9a_row1_col6\" class=\"data row1 col6\" >0.2642</td>\n",
       "      <td id=\"T_8cc9a_row1_col7\" class=\"data row1 col7\" >-0.0072</td>\n",
       "    </tr>\n",
       "    <tr>\n",
       "      <th id=\"T_8cc9a_level0_row2\" class=\"row_heading level0 row2\" >2</th>\n",
       "      <td id=\"T_8cc9a_row2_col0\" class=\"data row2 col0\" >2021-09-11</td>\n",
       "      <td id=\"T_8cc9a_row2_col1\" class=\"data row2 col1\" >5.2294</td>\n",
       "      <td id=\"T_8cc9a_row2_col2\" class=\"data row2 col2\" >4.0201</td>\n",
       "      <td id=\"T_8cc9a_row2_col3\" class=\"data row2 col3\" >3244.1667</td>\n",
       "      <td id=\"T_8cc9a_row2_col4\" class=\"data row2 col4\" >3662.0296</td>\n",
       "      <td id=\"T_8cc9a_row2_col5\" class=\"data row2 col5\" >0.4640</td>\n",
       "      <td id=\"T_8cc9a_row2_col6\" class=\"data row2 col6\" >0.6339</td>\n",
       "      <td id=\"T_8cc9a_row2_col7\" class=\"data row2 col7\" >-2.9818</td>\n",
       "    </tr>\n",
       "    <tr>\n",
       "      <th id=\"T_8cc9a_level0_row3\" class=\"row_heading level0 row3\" >Mean</th>\n",
       "      <td id=\"T_8cc9a_row3_col0\" class=\"data row3 col0\" >NaT</td>\n",
       "      <td id=\"T_8cc9a_row3_col1\" class=\"data row3 col1\" >3.7114</td>\n",
       "      <td id=\"T_8cc9a_row3_col2\" class=\"data row3 col2\" >3.3296</td>\n",
       "      <td id=\"T_8cc9a_row3_col3\" class=\"data row3 col3\" >2107.0833</td>\n",
       "      <td id=\"T_8cc9a_row3_col4\" class=\"data row3 col4\" >2556.7183</td>\n",
       "      <td id=\"T_8cc9a_row3_col5\" class=\"data row3 col5\" >0.4821</td>\n",
       "      <td id=\"T_8cc9a_row3_col6\" class=\"data row3 col6\" >0.4243</td>\n",
       "      <td id=\"T_8cc9a_row3_col7\" class=\"data row3 col7\" >-1.1462</td>\n",
       "    </tr>\n",
       "    <tr>\n",
       "      <th id=\"T_8cc9a_level0_row4\" class=\"row_heading level0 row4\" >SD</th>\n",
       "      <td id=\"T_8cc9a_row4_col0\" class=\"data row4 col0\" >NaT</td>\n",
       "      <td id=\"T_8cc9a_row4_col1\" class=\"data row4 col1\" >1.3270</td>\n",
       "      <td id=\"T_8cc9a_row4_col2\" class=\"data row4 col2\" >1.1786</td>\n",
       "      <td id=\"T_8cc9a_row4_col3\" class=\"data row4 col3\" >829.4870</td>\n",
       "      <td id=\"T_8cc9a_row4_col4\" class=\"data row4 col4\" >842.8309</td>\n",
       "      <td id=\"T_8cc9a_row4_col5\" class=\"data row4 col5\" >0.1199</td>\n",
       "      <td id=\"T_8cc9a_row4_col6\" class=\"data row4 col6\" >0.1549</td>\n",
       "      <td id=\"T_8cc9a_row4_col7\" class=\"data row4 col7\" >1.3105</td>\n",
       "    </tr>\n",
       "  </tbody>\n",
       "</table>\n"
      ],
      "text/plain": [
       "<pandas.io.formats.style.Styler at 0x12dd1455cd0>"
      ]
     },
     "metadata": {},
     "output_type": "display_data"
    },
    {
     "data": {
      "text/html": [],
      "text/plain": [
       "<IPython.core.display.HTML object>"
      ]
     },
     "metadata": {},
     "output_type": "display_data"
    }
   ],
   "source": [
    "naive=create_model('naive')"
   ]
  },
  {
   "cell_type": "code",
   "execution_count": 20,
   "metadata": {},
   "outputs": [
    {
     "data": {
      "text/html": [],
      "text/plain": [
       "<IPython.core.display.HTML object>"
      ]
     },
     "metadata": {},
     "output_type": "display_data"
    },
    {
     "data": {
      "text/html": [
       "<style type=\"text/css\">\n",
       "#T_3715f_row3_col0, #T_3715f_row3_col1, #T_3715f_row3_col2, #T_3715f_row3_col3, #T_3715f_row3_col4, #T_3715f_row3_col5, #T_3715f_row3_col6, #T_3715f_row3_col7 {\n",
       "  background: yellow;\n",
       "}\n",
       "</style>\n",
       "<table id=\"T_3715f\">\n",
       "  <thead>\n",
       "    <tr>\n",
       "      <th class=\"blank level0\" >&nbsp;</th>\n",
       "      <th id=\"T_3715f_level0_col0\" class=\"col_heading level0 col0\" >cutoff</th>\n",
       "      <th id=\"T_3715f_level0_col1\" class=\"col_heading level0 col1\" >MASE</th>\n",
       "      <th id=\"T_3715f_level0_col2\" class=\"col_heading level0 col2\" >RMSSE</th>\n",
       "      <th id=\"T_3715f_level0_col3\" class=\"col_heading level0 col3\" >MAE</th>\n",
       "      <th id=\"T_3715f_level0_col4\" class=\"col_heading level0 col4\" >RMSE</th>\n",
       "      <th id=\"T_3715f_level0_col5\" class=\"col_heading level0 col5\" >MAPE</th>\n",
       "      <th id=\"T_3715f_level0_col6\" class=\"col_heading level0 col6\" >SMAPE</th>\n",
       "      <th id=\"T_3715f_level0_col7\" class=\"col_heading level0 col7\" >R2</th>\n",
       "    </tr>\n",
       "  </thead>\n",
       "  <tbody>\n",
       "    <tr>\n",
       "      <th id=\"T_3715f_level0_row0\" class=\"row_heading level0 row0\" >0</th>\n",
       "      <td id=\"T_3715f_row0_col0\" class=\"data row0 col0\" >2021-08-18</td>\n",
       "      <td id=\"T_3715f_row0_col1\" class=\"data row0 col1\" >1.2785</td>\n",
       "      <td id=\"T_3715f_row0_col2\" class=\"data row0 col2\" >1.3734</td>\n",
       "      <td id=\"T_3715f_row0_col3\" class=\"data row0 col3\" >585.0244</td>\n",
       "      <td id=\"T_3715f_row0_col4\" class=\"data row0 col4\" >763.8488</td>\n",
       "      <td id=\"T_3715f_row0_col5\" class=\"data row0 col5\" >0.1576</td>\n",
       "      <td id=\"T_3715f_row0_col6\" class=\"data row0 col6\" >0.1421</td>\n",
       "      <td id=\"T_3715f_row0_col7\" class=\"data row0 col7\" >0.8520</td>\n",
       "    </tr>\n",
       "    <tr>\n",
       "      <th id=\"T_3715f_level0_row1\" class=\"row_heading level0 row1\" >1</th>\n",
       "      <td id=\"T_3715f_row1_col0\" class=\"data row1 col0\" >2021-08-30</td>\n",
       "      <td id=\"T_3715f_row1_col1\" class=\"data row1 col1\" >1.3553</td>\n",
       "      <td id=\"T_3715f_row1_col2\" class=\"data row1 col2\" >1.1081</td>\n",
       "      <td id=\"T_3715f_row1_col3\" class=\"data row1 col3\" >874.7426</td>\n",
       "      <td id=\"T_3715f_row1_col4\" class=\"data row1 col4\" >1073.0322</td>\n",
       "      <td id=\"T_3715f_row1_col5\" class=\"data row1 col5\" >0.1630</td>\n",
       "      <td id=\"T_3715f_row1_col6\" class=\"data row1 col6\" >0.1787</td>\n",
       "      <td id=\"T_3715f_row1_col7\" class=\"data row1 col7\" >0.5568</td>\n",
       "    </tr>\n",
       "    <tr>\n",
       "      <th id=\"T_3715f_level0_row2\" class=\"row_heading level0 row2\" >2</th>\n",
       "      <td id=\"T_3715f_row2_col0\" class=\"data row2 col0\" >2021-09-11</td>\n",
       "      <td id=\"T_3715f_row2_col1\" class=\"data row2 col1\" >1.2072</td>\n",
       "      <td id=\"T_3715f_row2_col2\" class=\"data row2 col2\" >0.9410</td>\n",
       "      <td id=\"T_3715f_row2_col3\" class=\"data row2 col3\" >748.9128</td>\n",
       "      <td id=\"T_3715f_row2_col4\" class=\"data row2 col4\" >857.2304</td>\n",
       "      <td id=\"T_3715f_row2_col5\" class=\"data row2 col5\" >0.1462</td>\n",
       "      <td id=\"T_3715f_row2_col6\" class=\"data row2 col6\" >0.1362</td>\n",
       "      <td id=\"T_3715f_row2_col7\" class=\"data row2 col7\" >0.7818</td>\n",
       "    </tr>\n",
       "    <tr>\n",
       "      <th id=\"T_3715f_level0_row3\" class=\"row_heading level0 row3\" >Mean</th>\n",
       "      <td id=\"T_3715f_row3_col0\" class=\"data row3 col0\" >NaT</td>\n",
       "      <td id=\"T_3715f_row3_col1\" class=\"data row3 col1\" >1.2803</td>\n",
       "      <td id=\"T_3715f_row3_col2\" class=\"data row3 col2\" >1.1409</td>\n",
       "      <td id=\"T_3715f_row3_col3\" class=\"data row3 col3\" >736.2266</td>\n",
       "      <td id=\"T_3715f_row3_col4\" class=\"data row3 col4\" >898.0371</td>\n",
       "      <td id=\"T_3715f_row3_col5\" class=\"data row3 col5\" >0.1556</td>\n",
       "      <td id=\"T_3715f_row3_col6\" class=\"data row3 col6\" >0.1523</td>\n",
       "      <td id=\"T_3715f_row3_col7\" class=\"data row3 col7\" >0.7302</td>\n",
       "    </tr>\n",
       "    <tr>\n",
       "      <th id=\"T_3715f_level0_row4\" class=\"row_heading level0 row4\" >SD</th>\n",
       "      <td id=\"T_3715f_row4_col0\" class=\"data row4 col0\" >NaT</td>\n",
       "      <td id=\"T_3715f_row4_col1\" class=\"data row4 col1\" >0.0605</td>\n",
       "      <td id=\"T_3715f_row4_col2\" class=\"data row4 col2\" >0.1780</td>\n",
       "      <td id=\"T_3715f_row4_col3\" class=\"data row4 col3\" >118.6166</td>\n",
       "      <td id=\"T_3715f_row4_col4\" class=\"data row4 col4\" >129.4797</td>\n",
       "      <td id=\"T_3715f_row4_col5\" class=\"data row4 col5\" >0.0070</td>\n",
       "      <td id=\"T_3715f_row4_col6\" class=\"data row4 col6\" >0.0188</td>\n",
       "      <td id=\"T_3715f_row4_col7\" class=\"data row4 col7\" >0.1259</td>\n",
       "    </tr>\n",
       "  </tbody>\n",
       "</table>\n"
      ],
      "text/plain": [
       "<pandas.io.formats.style.Styler at 0x12dcb2595b0>"
      ]
     },
     "metadata": {},
     "output_type": "display_data"
    },
    {
     "data": {
      "text/html": [],
      "text/plain": [
       "<IPython.core.display.HTML object>"
      ]
     },
     "metadata": {},
     "output_type": "display_data"
    }
   ],
   "source": [
    "theta=create_model('theta')"
   ]
  },
  {
   "cell_type": "code",
   "execution_count": 21,
   "metadata": {},
   "outputs": [
    {
     "data": {
      "text/html": [],
      "text/plain": [
       "<IPython.core.display.HTML object>"
      ]
     },
     "metadata": {},
     "output_type": "display_data"
    },
    {
     "data": {
      "text/html": [
       "<style type=\"text/css\">\n",
       "#T_0b8f1_row3_col0, #T_0b8f1_row3_col1, #T_0b8f1_row3_col2, #T_0b8f1_row3_col3, #T_0b8f1_row3_col4, #T_0b8f1_row3_col5, #T_0b8f1_row3_col6, #T_0b8f1_row3_col7 {\n",
       "  background: yellow;\n",
       "}\n",
       "</style>\n",
       "<table id=\"T_0b8f1\">\n",
       "  <thead>\n",
       "    <tr>\n",
       "      <th class=\"blank level0\" >&nbsp;</th>\n",
       "      <th id=\"T_0b8f1_level0_col0\" class=\"col_heading level0 col0\" >cutoff</th>\n",
       "      <th id=\"T_0b8f1_level0_col1\" class=\"col_heading level0 col1\" >MASE</th>\n",
       "      <th id=\"T_0b8f1_level0_col2\" class=\"col_heading level0 col2\" >RMSSE</th>\n",
       "      <th id=\"T_0b8f1_level0_col3\" class=\"col_heading level0 col3\" >MAE</th>\n",
       "      <th id=\"T_0b8f1_level0_col4\" class=\"col_heading level0 col4\" >RMSE</th>\n",
       "      <th id=\"T_0b8f1_level0_col5\" class=\"col_heading level0 col5\" >MAPE</th>\n",
       "      <th id=\"T_0b8f1_level0_col6\" class=\"col_heading level0 col6\" >SMAPE</th>\n",
       "      <th id=\"T_0b8f1_level0_col7\" class=\"col_heading level0 col7\" >R2</th>\n",
       "    </tr>\n",
       "  </thead>\n",
       "  <tbody>\n",
       "    <tr>\n",
       "      <th id=\"T_0b8f1_level0_row0\" class=\"row_heading level0 row0\" >0</th>\n",
       "      <td id=\"T_0b8f1_row0_col0\" class=\"data row0 col0\" >2021-08-18</td>\n",
       "      <td id=\"T_0b8f1_row0_col1\" class=\"data row0 col1\" >1.2785</td>\n",
       "      <td id=\"T_0b8f1_row0_col2\" class=\"data row0 col2\" >1.3734</td>\n",
       "      <td id=\"T_0b8f1_row0_col3\" class=\"data row0 col3\" >585.0244</td>\n",
       "      <td id=\"T_0b8f1_row0_col4\" class=\"data row0 col4\" >763.8488</td>\n",
       "      <td id=\"T_0b8f1_row0_col5\" class=\"data row0 col5\" >0.1576</td>\n",
       "      <td id=\"T_0b8f1_row0_col6\" class=\"data row0 col6\" >0.1421</td>\n",
       "      <td id=\"T_0b8f1_row0_col7\" class=\"data row0 col7\" >0.8520</td>\n",
       "    </tr>\n",
       "    <tr>\n",
       "      <th id=\"T_0b8f1_level0_row1\" class=\"row_heading level0 row1\" >1</th>\n",
       "      <td id=\"T_0b8f1_row1_col0\" class=\"data row1 col0\" >2021-08-30</td>\n",
       "      <td id=\"T_0b8f1_row1_col1\" class=\"data row1 col1\" >1.3553</td>\n",
       "      <td id=\"T_0b8f1_row1_col2\" class=\"data row1 col2\" >1.1081</td>\n",
       "      <td id=\"T_0b8f1_row1_col3\" class=\"data row1 col3\" >874.7426</td>\n",
       "      <td id=\"T_0b8f1_row1_col4\" class=\"data row1 col4\" >1073.0322</td>\n",
       "      <td id=\"T_0b8f1_row1_col5\" class=\"data row1 col5\" >0.1630</td>\n",
       "      <td id=\"T_0b8f1_row1_col6\" class=\"data row1 col6\" >0.1787</td>\n",
       "      <td id=\"T_0b8f1_row1_col7\" class=\"data row1 col7\" >0.5568</td>\n",
       "    </tr>\n",
       "    <tr>\n",
       "      <th id=\"T_0b8f1_level0_row2\" class=\"row_heading level0 row2\" >2</th>\n",
       "      <td id=\"T_0b8f1_row2_col0\" class=\"data row2 col0\" >2021-09-11</td>\n",
       "      <td id=\"T_0b8f1_row2_col1\" class=\"data row2 col1\" >1.2072</td>\n",
       "      <td id=\"T_0b8f1_row2_col2\" class=\"data row2 col2\" >0.9410</td>\n",
       "      <td id=\"T_0b8f1_row2_col3\" class=\"data row2 col3\" >748.9128</td>\n",
       "      <td id=\"T_0b8f1_row2_col4\" class=\"data row2 col4\" >857.2304</td>\n",
       "      <td id=\"T_0b8f1_row2_col5\" class=\"data row2 col5\" >0.1462</td>\n",
       "      <td id=\"T_0b8f1_row2_col6\" class=\"data row2 col6\" >0.1362</td>\n",
       "      <td id=\"T_0b8f1_row2_col7\" class=\"data row2 col7\" >0.7818</td>\n",
       "    </tr>\n",
       "    <tr>\n",
       "      <th id=\"T_0b8f1_level0_row3\" class=\"row_heading level0 row3\" >Mean</th>\n",
       "      <td id=\"T_0b8f1_row3_col0\" class=\"data row3 col0\" >NaT</td>\n",
       "      <td id=\"T_0b8f1_row3_col1\" class=\"data row3 col1\" >1.2803</td>\n",
       "      <td id=\"T_0b8f1_row3_col2\" class=\"data row3 col2\" >1.1409</td>\n",
       "      <td id=\"T_0b8f1_row3_col3\" class=\"data row3 col3\" >736.2266</td>\n",
       "      <td id=\"T_0b8f1_row3_col4\" class=\"data row3 col4\" >898.0371</td>\n",
       "      <td id=\"T_0b8f1_row3_col5\" class=\"data row3 col5\" >0.1556</td>\n",
       "      <td id=\"T_0b8f1_row3_col6\" class=\"data row3 col6\" >0.1523</td>\n",
       "      <td id=\"T_0b8f1_row3_col7\" class=\"data row3 col7\" >0.7302</td>\n",
       "    </tr>\n",
       "    <tr>\n",
       "      <th id=\"T_0b8f1_level0_row4\" class=\"row_heading level0 row4\" >SD</th>\n",
       "      <td id=\"T_0b8f1_row4_col0\" class=\"data row4 col0\" >NaT</td>\n",
       "      <td id=\"T_0b8f1_row4_col1\" class=\"data row4 col1\" >0.0605</td>\n",
       "      <td id=\"T_0b8f1_row4_col2\" class=\"data row4 col2\" >0.1780</td>\n",
       "      <td id=\"T_0b8f1_row4_col3\" class=\"data row4 col3\" >118.6166</td>\n",
       "      <td id=\"T_0b8f1_row4_col4\" class=\"data row4 col4\" >129.4797</td>\n",
       "      <td id=\"T_0b8f1_row4_col5\" class=\"data row4 col5\" >0.0070</td>\n",
       "      <td id=\"T_0b8f1_row4_col6\" class=\"data row4 col6\" >0.0188</td>\n",
       "      <td id=\"T_0b8f1_row4_col7\" class=\"data row4 col7\" >0.1259</td>\n",
       "    </tr>\n",
       "  </tbody>\n",
       "</table>\n"
      ],
      "text/plain": [
       "<pandas.io.formats.style.Styler at 0x12dd1523af0>"
      ]
     },
     "metadata": {},
     "output_type": "display_data"
    },
    {
     "data": {
      "text/html": [],
      "text/plain": [
       "<IPython.core.display.HTML object>"
      ]
     },
     "metadata": {},
     "output_type": "display_data"
    },
    {
     "name": "stdout",
     "output_type": "stream",
     "text": [
      "Fitting 3 folds for each of 2 candidates, totalling 6 fits\n"
     ]
    },
    {
     "name": "stderr",
     "output_type": "stream",
     "text": [
      "[Parallel(n_jobs=-1)]: Using backend LokyBackend with 8 concurrent workers.\n",
      "[Parallel(n_jobs=-1)]: Done   6 out of   6 | elapsed:    0.0s finished\n"
     ]
    }
   ],
   "source": [
    "tuned_theta= tune_model(theta)"
   ]
  },
  {
   "cell_type": "markdown",
   "metadata": {},
   "source": [
    "## EDA-2nd"
   ]
  },
  {
   "cell_type": "code",
   "execution_count": 22,
   "metadata": {},
   "outputs": [
    {
     "data": {
      "application/vnd.plotly.v1+json": {
       "config": {
        "plotlyServerURL": "https://plot.ly"
       },
       "data": [
        {
         "line": {
          "color": "rgb(31, 119, 180)",
          "width": 2
         },
         "marker": {
          "color": "rgb(31, 119, 180)",
          "size": 5
         },
         "mode": "lines+markers",
         "name": "Train (original)",
         "type": "scattergl",
         "x": [
          "2021-07-08T00:00:00",
          "2021-07-09T00:00:00",
          "2021-07-10T00:00:00",
          "2021-07-11T00:00:00",
          "2021-07-12T00:00:00",
          "2021-07-13T00:00:00",
          "2021-07-14T00:00:00",
          "2021-07-15T00:00:00",
          "2021-07-16T00:00:00",
          "2021-07-17T00:00:00",
          "2021-07-18T00:00:00",
          "2021-07-19T00:00:00",
          "2021-07-20T00:00:00",
          "2021-07-21T00:00:00",
          "2021-07-22T00:00:00",
          "2021-07-23T00:00:00",
          "2021-07-24T00:00:00",
          "2021-07-25T00:00:00",
          "2021-07-26T00:00:00",
          "2021-07-27T00:00:00",
          "2021-07-28T00:00:00",
          "2021-07-29T00:00:00",
          "2021-07-30T00:00:00",
          "2021-07-31T00:00:00",
          "2021-08-01T00:00:00",
          "2021-08-02T00:00:00",
          "2021-08-03T00:00:00",
          "2021-08-04T00:00:00",
          "2021-08-05T00:00:00",
          "2021-08-06T00:00:00",
          "2021-08-07T00:00:00",
          "2021-08-08T00:00:00",
          "2021-08-09T00:00:00",
          "2021-08-10T00:00:00",
          "2021-08-11T00:00:00",
          "2021-08-12T00:00:00",
          "2021-08-13T00:00:00",
          "2021-08-14T00:00:00",
          "2021-08-15T00:00:00",
          "2021-08-16T00:00:00",
          "2021-08-17T00:00:00",
          "2021-08-18T00:00:00",
          "2021-08-19T00:00:00",
          "2021-08-20T00:00:00",
          "2021-08-21T00:00:00",
          "2021-08-22T00:00:00",
          "2021-08-23T00:00:00",
          "2021-08-24T00:00:00",
          "2021-08-25T00:00:00",
          "2021-08-26T00:00:00",
          "2021-08-27T00:00:00",
          "2021-08-28T00:00:00",
          "2021-08-29T00:00:00",
          "2021-08-30T00:00:00",
          "2021-08-31T00:00:00",
          "2021-09-01T00:00:00",
          "2021-09-02T00:00:00",
          "2021-09-03T00:00:00",
          "2021-09-04T00:00:00",
          "2021-09-05T00:00:00",
          "2021-09-06T00:00:00",
          "2021-09-07T00:00:00",
          "2021-09-08T00:00:00",
          "2021-09-09T00:00:00",
          "2021-09-10T00:00:00",
          "2021-09-11T00:00:00",
          "2021-09-12T00:00:00",
          "2021-09-13T00:00:00",
          "2021-09-14T00:00:00",
          "2021-09-15T00:00:00",
          "2021-09-16T00:00:00",
          "2021-09-17T00:00:00",
          "2021-09-18T00:00:00",
          "2021-09-19T00:00:00",
          "2021-09-20T00:00:00",
          "2021-09-21T00:00:00",
          "2021-09-22T00:00:00",
          "2021-09-23T00:00:00",
          "2021-09-24T00:00:00",
          "2021-09-25T00:00:00",
          "2021-09-26T00:00:00",
          "2021-09-27T00:00:00",
          "2021-09-28T00:00:00",
          "2021-09-29T00:00:00",
          "2021-09-30T00:00:00",
          "2021-10-01T00:00:00",
          "2021-10-02T00:00:00",
          "2021-10-03T00:00:00",
          "2021-10-04T00:00:00",
          "2021-10-05T00:00:00"
         ],
         "xaxis": "x",
         "y": [
          3773,
          3172,
          2079,
          2725,
          4542,
          3795,
          3941,
          4064,
          3474,
          2093,
          2426,
          4339,
          4064,
          4224,
          4603,
          4369,
          2532,
          3276,
          4917,
          4430,
          4977,
          5193,
          4001,
          1996,
          2538,
          4764,
          5651,
          5777,
          4789,
          3782,
          1920,
          2526,
          4481,
          6034,
          5006,
          4450,
          3112,
          1914,
          2359,
          3948,
          5727,
          6365,
          6323,
          5151,
          1947,
          3128,
          7999,
          7104,
          6457,
          6643,
          5355,
          2341,
          2367,
          5592,
          6770,
          6877,
          7272,
          6279,
          2741,
          2483,
          5456,
          6082,
          6139,
          5865,
          6362,
          3132,
          2681,
          5788,
          7001,
          6721,
          7556,
          7278,
          4026,
          3514,
          6476,
          7863,
          8418,
          8290,
          null,
          null,
          null,
          null,
          null,
          null,
          null,
          null,
          null,
          null,
          null,
          null
         ],
         "yaxis": "y"
        },
        {
         "line": {
          "color": "rgb(255, 127, 14)",
          "width": 2
         },
         "marker": {
          "color": "rgb(255, 127, 14)",
          "size": 5
         },
         "mode": "lines+markers",
         "name": "Test (original)",
         "type": "scattergl",
         "x": [
          "2021-07-08T00:00:00",
          "2021-07-09T00:00:00",
          "2021-07-10T00:00:00",
          "2021-07-11T00:00:00",
          "2021-07-12T00:00:00",
          "2021-07-13T00:00:00",
          "2021-07-14T00:00:00",
          "2021-07-15T00:00:00",
          "2021-07-16T00:00:00",
          "2021-07-17T00:00:00",
          "2021-07-18T00:00:00",
          "2021-07-19T00:00:00",
          "2021-07-20T00:00:00",
          "2021-07-21T00:00:00",
          "2021-07-22T00:00:00",
          "2021-07-23T00:00:00",
          "2021-07-24T00:00:00",
          "2021-07-25T00:00:00",
          "2021-07-26T00:00:00",
          "2021-07-27T00:00:00",
          "2021-07-28T00:00:00",
          "2021-07-29T00:00:00",
          "2021-07-30T00:00:00",
          "2021-07-31T00:00:00",
          "2021-08-01T00:00:00",
          "2021-08-02T00:00:00",
          "2021-08-03T00:00:00",
          "2021-08-04T00:00:00",
          "2021-08-05T00:00:00",
          "2021-08-06T00:00:00",
          "2021-08-07T00:00:00",
          "2021-08-08T00:00:00",
          "2021-08-09T00:00:00",
          "2021-08-10T00:00:00",
          "2021-08-11T00:00:00",
          "2021-08-12T00:00:00",
          "2021-08-13T00:00:00",
          "2021-08-14T00:00:00",
          "2021-08-15T00:00:00",
          "2021-08-16T00:00:00",
          "2021-08-17T00:00:00",
          "2021-08-18T00:00:00",
          "2021-08-19T00:00:00",
          "2021-08-20T00:00:00",
          "2021-08-21T00:00:00",
          "2021-08-22T00:00:00",
          "2021-08-23T00:00:00",
          "2021-08-24T00:00:00",
          "2021-08-25T00:00:00",
          "2021-08-26T00:00:00",
          "2021-08-27T00:00:00",
          "2021-08-28T00:00:00",
          "2021-08-29T00:00:00",
          "2021-08-30T00:00:00",
          "2021-08-31T00:00:00",
          "2021-09-01T00:00:00",
          "2021-09-02T00:00:00",
          "2021-09-03T00:00:00",
          "2021-09-04T00:00:00",
          "2021-09-05T00:00:00",
          "2021-09-06T00:00:00",
          "2021-09-07T00:00:00",
          "2021-09-08T00:00:00",
          "2021-09-09T00:00:00",
          "2021-09-10T00:00:00",
          "2021-09-11T00:00:00",
          "2021-09-12T00:00:00",
          "2021-09-13T00:00:00",
          "2021-09-14T00:00:00",
          "2021-09-15T00:00:00",
          "2021-09-16T00:00:00",
          "2021-09-17T00:00:00",
          "2021-09-18T00:00:00",
          "2021-09-19T00:00:00",
          "2021-09-20T00:00:00",
          "2021-09-21T00:00:00",
          "2021-09-22T00:00:00",
          "2021-09-23T00:00:00",
          "2021-09-24T00:00:00",
          "2021-09-25T00:00:00",
          "2021-09-26T00:00:00",
          "2021-09-27T00:00:00",
          "2021-09-28T00:00:00",
          "2021-09-29T00:00:00",
          "2021-09-30T00:00:00",
          "2021-10-01T00:00:00",
          "2021-10-02T00:00:00",
          "2021-10-03T00:00:00",
          "2021-10-04T00:00:00",
          "2021-10-05T00:00:00"
         ],
         "xaxis": "x",
         "y": [
          null,
          null,
          null,
          null,
          null,
          null,
          null,
          null,
          null,
          null,
          null,
          null,
          null,
          null,
          null,
          null,
          null,
          null,
          null,
          null,
          null,
          null,
          null,
          null,
          null,
          null,
          null,
          null,
          null,
          null,
          null,
          null,
          null,
          null,
          null,
          null,
          null,
          null,
          null,
          null,
          null,
          null,
          null,
          null,
          null,
          null,
          null,
          null,
          null,
          null,
          null,
          null,
          null,
          null,
          null,
          null,
          null,
          null,
          null,
          null,
          null,
          null,
          null,
          null,
          null,
          null,
          null,
          null,
          null,
          null,
          null,
          null,
          null,
          null,
          null,
          null,
          null,
          null,
          7189,
          3567,
          4088,
          7418,
          8765,
          7798,
          9212,
          7115,
          3903,
          5038,
          7843,
          8872
         ],
         "yaxis": "y"
        }
       ],
       "layout": {
        "annotations": [
         {
          "font": {
           "size": 16
          },
          "showarrow": false,
          "text": "Total",
          "x": 0.5,
          "xanchor": "center",
          "xref": "paper",
          "y": 1,
          "yanchor": "bottom",
          "yref": "paper"
         }
        ],
        "showlegend": true,
        "template": {
         "data": {
          "bar": [
           {
            "error_x": {
             "color": "rgb(51,51,51)"
            },
            "error_y": {
             "color": "rgb(51,51,51)"
            },
            "marker": {
             "line": {
              "color": "rgb(237,237,237)",
              "width": 0.5
             },
             "pattern": {
              "fillmode": "overlay",
              "size": 10,
              "solidity": 0.2
             }
            },
            "type": "bar"
           }
          ],
          "barpolar": [
           {
            "marker": {
             "line": {
              "color": "rgb(237,237,237)",
              "width": 0.5
             },
             "pattern": {
              "fillmode": "overlay",
              "size": 10,
              "solidity": 0.2
             }
            },
            "type": "barpolar"
           }
          ],
          "carpet": [
           {
            "aaxis": {
             "endlinecolor": "rgb(51,51,51)",
             "gridcolor": "white",
             "linecolor": "white",
             "minorgridcolor": "white",
             "startlinecolor": "rgb(51,51,51)"
            },
            "baxis": {
             "endlinecolor": "rgb(51,51,51)",
             "gridcolor": "white",
             "linecolor": "white",
             "minorgridcolor": "white",
             "startlinecolor": "rgb(51,51,51)"
            },
            "type": "carpet"
           }
          ],
          "choropleth": [
           {
            "colorbar": {
             "outlinewidth": 0,
             "tickcolor": "rgb(237,237,237)",
             "ticklen": 6,
             "ticks": "inside"
            },
            "type": "choropleth"
           }
          ],
          "contour": [
           {
            "colorbar": {
             "outlinewidth": 0,
             "tickcolor": "rgb(237,237,237)",
             "ticklen": 6,
             "ticks": "inside"
            },
            "colorscale": [
             [
              0,
              "rgb(20,44,66)"
             ],
             [
              1,
              "rgb(90,179,244)"
             ]
            ],
            "type": "contour"
           }
          ],
          "contourcarpet": [
           {
            "colorbar": {
             "outlinewidth": 0,
             "tickcolor": "rgb(237,237,237)",
             "ticklen": 6,
             "ticks": "inside"
            },
            "type": "contourcarpet"
           }
          ],
          "heatmap": [
           {
            "colorbar": {
             "outlinewidth": 0,
             "tickcolor": "rgb(237,237,237)",
             "ticklen": 6,
             "ticks": "inside"
            },
            "colorscale": [
             [
              0,
              "rgb(20,44,66)"
             ],
             [
              1,
              "rgb(90,179,244)"
             ]
            ],
            "type": "heatmap"
           }
          ],
          "heatmapgl": [
           {
            "colorbar": {
             "outlinewidth": 0,
             "tickcolor": "rgb(237,237,237)",
             "ticklen": 6,
             "ticks": "inside"
            },
            "colorscale": [
             [
              0,
              "rgb(20,44,66)"
             ],
             [
              1,
              "rgb(90,179,244)"
             ]
            ],
            "type": "heatmapgl"
           }
          ],
          "histogram": [
           {
            "marker": {
             "pattern": {
              "fillmode": "overlay",
              "size": 10,
              "solidity": 0.2
             }
            },
            "type": "histogram"
           }
          ],
          "histogram2d": [
           {
            "colorbar": {
             "outlinewidth": 0,
             "tickcolor": "rgb(237,237,237)",
             "ticklen": 6,
             "ticks": "inside"
            },
            "colorscale": [
             [
              0,
              "rgb(20,44,66)"
             ],
             [
              1,
              "rgb(90,179,244)"
             ]
            ],
            "type": "histogram2d"
           }
          ],
          "histogram2dcontour": [
           {
            "colorbar": {
             "outlinewidth": 0,
             "tickcolor": "rgb(237,237,237)",
             "ticklen": 6,
             "ticks": "inside"
            },
            "colorscale": [
             [
              0,
              "rgb(20,44,66)"
             ],
             [
              1,
              "rgb(90,179,244)"
             ]
            ],
            "type": "histogram2dcontour"
           }
          ],
          "mesh3d": [
           {
            "colorbar": {
             "outlinewidth": 0,
             "tickcolor": "rgb(237,237,237)",
             "ticklen": 6,
             "ticks": "inside"
            },
            "type": "mesh3d"
           }
          ],
          "parcoords": [
           {
            "line": {
             "colorbar": {
              "outlinewidth": 0,
              "tickcolor": "rgb(237,237,237)",
              "ticklen": 6,
              "ticks": "inside"
             }
            },
            "type": "parcoords"
           }
          ],
          "pie": [
           {
            "automargin": true,
            "type": "pie"
           }
          ],
          "scatter": [
           {
            "fillpattern": {
             "fillmode": "overlay",
             "size": 10,
             "solidity": 0.2
            },
            "type": "scatter"
           }
          ],
          "scatter3d": [
           {
            "line": {
             "colorbar": {
              "outlinewidth": 0,
              "tickcolor": "rgb(237,237,237)",
              "ticklen": 6,
              "ticks": "inside"
             }
            },
            "marker": {
             "colorbar": {
              "outlinewidth": 0,
              "tickcolor": "rgb(237,237,237)",
              "ticklen": 6,
              "ticks": "inside"
             }
            },
            "type": "scatter3d"
           }
          ],
          "scattercarpet": [
           {
            "marker": {
             "colorbar": {
              "outlinewidth": 0,
              "tickcolor": "rgb(237,237,237)",
              "ticklen": 6,
              "ticks": "inside"
             }
            },
            "type": "scattercarpet"
           }
          ],
          "scattergeo": [
           {
            "marker": {
             "colorbar": {
              "outlinewidth": 0,
              "tickcolor": "rgb(237,237,237)",
              "ticklen": 6,
              "ticks": "inside"
             }
            },
            "type": "scattergeo"
           }
          ],
          "scattergl": [
           {
            "marker": {
             "colorbar": {
              "outlinewidth": 0,
              "tickcolor": "rgb(237,237,237)",
              "ticklen": 6,
              "ticks": "inside"
             }
            },
            "type": "scattergl"
           }
          ],
          "scattermapbox": [
           {
            "marker": {
             "colorbar": {
              "outlinewidth": 0,
              "tickcolor": "rgb(237,237,237)",
              "ticklen": 6,
              "ticks": "inside"
             }
            },
            "type": "scattermapbox"
           }
          ],
          "scatterpolar": [
           {
            "marker": {
             "colorbar": {
              "outlinewidth": 0,
              "tickcolor": "rgb(237,237,237)",
              "ticklen": 6,
              "ticks": "inside"
             }
            },
            "type": "scatterpolar"
           }
          ],
          "scatterpolargl": [
           {
            "marker": {
             "colorbar": {
              "outlinewidth": 0,
              "tickcolor": "rgb(237,237,237)",
              "ticklen": 6,
              "ticks": "inside"
             }
            },
            "type": "scatterpolargl"
           }
          ],
          "scatterternary": [
           {
            "marker": {
             "colorbar": {
              "outlinewidth": 0,
              "tickcolor": "rgb(237,237,237)",
              "ticklen": 6,
              "ticks": "inside"
             }
            },
            "type": "scatterternary"
           }
          ],
          "surface": [
           {
            "colorbar": {
             "outlinewidth": 0,
             "tickcolor": "rgb(237,237,237)",
             "ticklen": 6,
             "ticks": "inside"
            },
            "colorscale": [
             [
              0,
              "rgb(20,44,66)"
             ],
             [
              1,
              "rgb(90,179,244)"
             ]
            ],
            "type": "surface"
           }
          ],
          "table": [
           {
            "cells": {
             "fill": {
              "color": "rgb(237,237,237)"
             },
             "line": {
              "color": "white"
             }
            },
            "header": {
             "fill": {
              "color": "rgb(217,217,217)"
             },
             "line": {
              "color": "white"
             }
            },
            "type": "table"
           }
          ]
         },
         "layout": {
          "annotationdefaults": {
           "arrowhead": 0,
           "arrowwidth": 1
          },
          "autotypenumbers": "strict",
          "coloraxis": {
           "colorbar": {
            "outlinewidth": 0,
            "tickcolor": "rgb(237,237,237)",
            "ticklen": 6,
            "ticks": "inside"
           }
          },
          "colorscale": {
           "sequential": [
            [
             0,
             "rgb(20,44,66)"
            ],
            [
             1,
             "rgb(90,179,244)"
            ]
           ],
           "sequentialminus": [
            [
             0,
             "rgb(20,44,66)"
            ],
            [
             1,
             "rgb(90,179,244)"
            ]
           ]
          },
          "colorway": [
           "#F8766D",
           "#A3A500",
           "#00BF7D",
           "#00B0F6",
           "#E76BF3"
          ],
          "font": {
           "color": "rgb(51,51,51)"
          },
          "geo": {
           "bgcolor": "white",
           "lakecolor": "white",
           "landcolor": "rgb(237,237,237)",
           "showlakes": true,
           "showland": true,
           "subunitcolor": "white"
          },
          "hoverlabel": {
           "align": "left"
          },
          "hovermode": "closest",
          "paper_bgcolor": "white",
          "plot_bgcolor": "rgb(237,237,237)",
          "polar": {
           "angularaxis": {
            "gridcolor": "white",
            "linecolor": "white",
            "showgrid": true,
            "tickcolor": "rgb(51,51,51)",
            "ticks": "outside"
           },
           "bgcolor": "rgb(237,237,237)",
           "radialaxis": {
            "gridcolor": "white",
            "linecolor": "white",
            "showgrid": true,
            "tickcolor": "rgb(51,51,51)",
            "ticks": "outside"
           }
          },
          "scene": {
           "xaxis": {
            "backgroundcolor": "rgb(237,237,237)",
            "gridcolor": "white",
            "gridwidth": 2,
            "linecolor": "white",
            "showbackground": true,
            "showgrid": true,
            "tickcolor": "rgb(51,51,51)",
            "ticks": "outside",
            "zerolinecolor": "white"
           },
           "yaxis": {
            "backgroundcolor": "rgb(237,237,237)",
            "gridcolor": "white",
            "gridwidth": 2,
            "linecolor": "white",
            "showbackground": true,
            "showgrid": true,
            "tickcolor": "rgb(51,51,51)",
            "ticks": "outside",
            "zerolinecolor": "white"
           },
           "zaxis": {
            "backgroundcolor": "rgb(237,237,237)",
            "gridcolor": "white",
            "gridwidth": 2,
            "linecolor": "white",
            "showbackground": true,
            "showgrid": true,
            "tickcolor": "rgb(51,51,51)",
            "ticks": "outside",
            "zerolinecolor": "white"
           }
          },
          "shapedefaults": {
           "fillcolor": "black",
           "line": {
            "width": 0
           },
           "opacity": 0.3
          },
          "ternary": {
           "aaxis": {
            "gridcolor": "white",
            "linecolor": "white",
            "showgrid": true,
            "tickcolor": "rgb(51,51,51)",
            "ticks": "outside"
           },
           "baxis": {
            "gridcolor": "white",
            "linecolor": "white",
            "showgrid": true,
            "tickcolor": "rgb(51,51,51)",
            "ticks": "outside"
           },
           "bgcolor": "rgb(237,237,237)",
           "caxis": {
            "gridcolor": "white",
            "linecolor": "white",
            "showgrid": true,
            "tickcolor": "rgb(51,51,51)",
            "ticks": "outside"
           }
          },
          "xaxis": {
           "automargin": true,
           "gridcolor": "white",
           "linecolor": "white",
           "showgrid": true,
           "tickcolor": "rgb(51,51,51)",
           "ticks": "outside",
           "title": {
            "standoff": 15
           },
           "zerolinecolor": "white"
          },
          "yaxis": {
           "automargin": true,
           "gridcolor": "white",
           "linecolor": "white",
           "showgrid": true,
           "tickcolor": "rgb(51,51,51)",
           "ticks": "outside",
           "title": {
            "standoff": 15
           },
           "zerolinecolor": "white"
          }
         }
        },
        "title": {
         "text": "Time Series | Target = Total"
        },
        "xaxis": {
         "anchor": "y",
         "domain": [
          0,
          1
         ]
        },
        "yaxis": {
         "anchor": "x",
         "domain": [
          0,
          1
         ]
        }
       }
      }
     },
     "metadata": {},
     "output_type": "display_data"
    }
   ],
   "source": [
    "plot_model(plot='train_test_split')"
   ]
  },
  {
   "cell_type": "code",
   "execution_count": 23,
   "metadata": {},
   "outputs": [
    {
     "data": {
      "application/vnd.plotly.v1+json": {
       "config": {
        "plotlyServerURL": "https://plot.ly"
       },
       "data": [
        {
         "hoverinfo": "skip",
         "line": {
          "color": "#C0C0C0"
         },
         "mode": "lines+markers",
         "name": "Unchanged",
         "showlegend": false,
         "type": "scattergl",
         "x": [
          "2021-07-08T00:00:00",
          "2021-07-09T00:00:00"
         ],
         "y": [
          "2",
          "2"
         ]
        },
        {
         "hoverinfo": "skip",
         "line": {
          "color": "#C0C0C0"
         },
         "mode": "lines+markers",
         "name": "Unchanged",
         "showlegend": false,
         "type": "scattergl",
         "x": [
          "2021-07-09T00:00:00",
          "2021-07-10T00:00:00"
         ],
         "y": [
          "2",
          "2"
         ]
        },
        {
         "hoverinfo": "skip",
         "line": {
          "color": "#C0C0C0"
         },
         "mode": "lines+markers",
         "name": "Unchanged",
         "showlegend": false,
         "type": "scattergl",
         "x": [
          "2021-07-10T00:00:00",
          "2021-07-11T00:00:00"
         ],
         "y": [
          "2",
          "2"
         ]
        },
        {
         "hoverinfo": "skip",
         "line": {
          "color": "#C0C0C0"
         },
         "mode": "lines+markers",
         "name": "Unchanged",
         "showlegend": false,
         "type": "scattergl",
         "x": [
          "2021-07-11T00:00:00",
          "2021-07-12T00:00:00"
         ],
         "y": [
          "2",
          "2"
         ]
        },
        {
         "hoverinfo": "skip",
         "line": {
          "color": "#C0C0C0"
         },
         "mode": "lines+markers",
         "name": "Unchanged",
         "showlegend": false,
         "type": "scattergl",
         "x": [
          "2021-07-12T00:00:00",
          "2021-07-13T00:00:00"
         ],
         "y": [
          "2",
          "2"
         ]
        },
        {
         "hoverinfo": "skip",
         "line": {
          "color": "#C0C0C0"
         },
         "mode": "lines+markers",
         "name": "Unchanged",
         "showlegend": false,
         "type": "scattergl",
         "x": [
          "2021-07-13T00:00:00",
          "2021-07-14T00:00:00"
         ],
         "y": [
          "2",
          "2"
         ]
        },
        {
         "hoverinfo": "skip",
         "line": {
          "color": "#C0C0C0"
         },
         "mode": "lines+markers",
         "name": "Unchanged",
         "showlegend": false,
         "type": "scattergl",
         "x": [
          "2021-07-14T00:00:00",
          "2021-07-15T00:00:00"
         ],
         "y": [
          "2",
          "2"
         ]
        },
        {
         "hoverinfo": "skip",
         "line": {
          "color": "#C0C0C0"
         },
         "mode": "lines+markers",
         "name": "Unchanged",
         "showlegend": false,
         "type": "scattergl",
         "x": [
          "2021-07-15T00:00:00",
          "2021-07-16T00:00:00"
         ],
         "y": [
          "2",
          "2"
         ]
        },
        {
         "hoverinfo": "skip",
         "line": {
          "color": "#C0C0C0"
         },
         "mode": "lines+markers",
         "name": "Unchanged",
         "showlegend": false,
         "type": "scattergl",
         "x": [
          "2021-07-16T00:00:00",
          "2021-07-17T00:00:00"
         ],
         "y": [
          "2",
          "2"
         ]
        },
        {
         "hoverinfo": "skip",
         "line": {
          "color": "#C0C0C0"
         },
         "mode": "lines+markers",
         "name": "Unchanged",
         "showlegend": false,
         "type": "scattergl",
         "x": [
          "2021-07-17T00:00:00",
          "2021-07-18T00:00:00"
         ],
         "y": [
          "2",
          "2"
         ]
        },
        {
         "hoverinfo": "skip",
         "line": {
          "color": "#C0C0C0"
         },
         "mode": "lines+markers",
         "name": "Unchanged",
         "showlegend": false,
         "type": "scattergl",
         "x": [
          "2021-07-18T00:00:00",
          "2021-07-19T00:00:00"
         ],
         "y": [
          "2",
          "2"
         ]
        },
        {
         "hoverinfo": "skip",
         "line": {
          "color": "#C0C0C0"
         },
         "mode": "lines+markers",
         "name": "Unchanged",
         "showlegend": false,
         "type": "scattergl",
         "x": [
          "2021-07-19T00:00:00",
          "2021-07-20T00:00:00"
         ],
         "y": [
          "2",
          "2"
         ]
        },
        {
         "hoverinfo": "skip",
         "line": {
          "color": "#C0C0C0"
         },
         "mode": "lines+markers",
         "name": "Unchanged",
         "showlegend": false,
         "type": "scattergl",
         "x": [
          "2021-07-20T00:00:00",
          "2021-07-21T00:00:00"
         ],
         "y": [
          "2",
          "2"
         ]
        },
        {
         "hoverinfo": "skip",
         "line": {
          "color": "#C0C0C0"
         },
         "mode": "lines+markers",
         "name": "Unchanged",
         "showlegend": false,
         "type": "scattergl",
         "x": [
          "2021-07-21T00:00:00",
          "2021-07-22T00:00:00"
         ],
         "y": [
          "2",
          "2"
         ]
        },
        {
         "hoverinfo": "skip",
         "line": {
          "color": "#C0C0C0"
         },
         "mode": "lines+markers",
         "name": "Unchanged",
         "showlegend": false,
         "type": "scattergl",
         "x": [
          "2021-07-22T00:00:00",
          "2021-07-23T00:00:00"
         ],
         "y": [
          "2",
          "2"
         ]
        },
        {
         "hoverinfo": "skip",
         "line": {
          "color": "#C0C0C0"
         },
         "mode": "lines+markers",
         "name": "Unchanged",
         "showlegend": false,
         "type": "scattergl",
         "x": [
          "2021-07-23T00:00:00",
          "2021-07-24T00:00:00"
         ],
         "y": [
          "2",
          "2"
         ]
        },
        {
         "hoverinfo": "skip",
         "line": {
          "color": "#C0C0C0"
         },
         "mode": "lines+markers",
         "name": "Unchanged",
         "showlegend": false,
         "type": "scattergl",
         "x": [
          "2021-07-24T00:00:00",
          "2021-07-25T00:00:00"
         ],
         "y": [
          "2",
          "2"
         ]
        },
        {
         "hoverinfo": "skip",
         "line": {
          "color": "#C0C0C0"
         },
         "mode": "lines+markers",
         "name": "Unchanged",
         "showlegend": false,
         "type": "scattergl",
         "x": [
          "2021-07-25T00:00:00",
          "2021-07-26T00:00:00"
         ],
         "y": [
          "2",
          "2"
         ]
        },
        {
         "hoverinfo": "skip",
         "line": {
          "color": "#C0C0C0"
         },
         "mode": "lines+markers",
         "name": "Unchanged",
         "showlegend": false,
         "type": "scattergl",
         "x": [
          "2021-07-26T00:00:00",
          "2021-07-27T00:00:00"
         ],
         "y": [
          "2",
          "2"
         ]
        },
        {
         "hoverinfo": "skip",
         "line": {
          "color": "#C0C0C0"
         },
         "mode": "lines+markers",
         "name": "Unchanged",
         "showlegend": false,
         "type": "scattergl",
         "x": [
          "2021-07-27T00:00:00",
          "2021-07-28T00:00:00"
         ],
         "y": [
          "2",
          "2"
         ]
        },
        {
         "hoverinfo": "skip",
         "line": {
          "color": "#C0C0C0"
         },
         "mode": "lines+markers",
         "name": "Unchanged",
         "showlegend": false,
         "type": "scattergl",
         "x": [
          "2021-07-28T00:00:00",
          "2021-07-29T00:00:00"
         ],
         "y": [
          "2",
          "2"
         ]
        },
        {
         "hoverinfo": "skip",
         "line": {
          "color": "#C0C0C0"
         },
         "mode": "lines+markers",
         "name": "Unchanged",
         "showlegend": false,
         "type": "scattergl",
         "x": [
          "2021-07-29T00:00:00",
          "2021-07-30T00:00:00"
         ],
         "y": [
          "2",
          "2"
         ]
        },
        {
         "hoverinfo": "skip",
         "line": {
          "color": "#C0C0C0"
         },
         "mode": "lines+markers",
         "name": "Unchanged",
         "showlegend": false,
         "type": "scattergl",
         "x": [
          "2021-07-30T00:00:00",
          "2021-07-31T00:00:00"
         ],
         "y": [
          "2",
          "2"
         ]
        },
        {
         "hoverinfo": "skip",
         "line": {
          "color": "#C0C0C0"
         },
         "mode": "lines+markers",
         "name": "Unchanged",
         "showlegend": false,
         "type": "scattergl",
         "x": [
          "2021-07-31T00:00:00",
          "2021-08-01T00:00:00"
         ],
         "y": [
          "2",
          "2"
         ]
        },
        {
         "hoverinfo": "skip",
         "line": {
          "color": "#C0C0C0"
         },
         "mode": "lines+markers",
         "name": "Unchanged",
         "showlegend": false,
         "type": "scattergl",
         "x": [
          "2021-08-01T00:00:00",
          "2021-08-02T00:00:00"
         ],
         "y": [
          "2",
          "2"
         ]
        },
        {
         "hoverinfo": "skip",
         "line": {
          "color": "#C0C0C0"
         },
         "mode": "lines+markers",
         "name": "Unchanged",
         "showlegend": false,
         "type": "scattergl",
         "x": [
          "2021-08-02T00:00:00",
          "2021-08-03T00:00:00"
         ],
         "y": [
          "2",
          "2"
         ]
        },
        {
         "hoverinfo": "skip",
         "line": {
          "color": "#C0C0C0"
         },
         "mode": "lines+markers",
         "name": "Unchanged",
         "showlegend": false,
         "type": "scattergl",
         "x": [
          "2021-08-03T00:00:00",
          "2021-08-04T00:00:00"
         ],
         "y": [
          "2",
          "2"
         ]
        },
        {
         "hoverinfo": "skip",
         "line": {
          "color": "#C0C0C0"
         },
         "mode": "lines+markers",
         "name": "Unchanged",
         "showlegend": false,
         "type": "scattergl",
         "x": [
          "2021-08-04T00:00:00",
          "2021-08-05T00:00:00"
         ],
         "y": [
          "2",
          "2"
         ]
        },
        {
         "hoverinfo": "skip",
         "line": {
          "color": "#C0C0C0"
         },
         "mode": "lines+markers",
         "name": "Unchanged",
         "showlegend": false,
         "type": "scattergl",
         "x": [
          "2021-08-05T00:00:00",
          "2021-08-06T00:00:00"
         ],
         "y": [
          "2",
          "2"
         ]
        },
        {
         "hoverinfo": "skip",
         "line": {
          "color": "#C0C0C0"
         },
         "mode": "lines+markers",
         "name": "Unchanged",
         "showlegend": false,
         "type": "scattergl",
         "x": [
          "2021-08-06T00:00:00",
          "2021-08-07T00:00:00"
         ],
         "y": [
          "2",
          "2"
         ]
        },
        {
         "hoverinfo": "skip",
         "line": {
          "color": "#C0C0C0"
         },
         "mode": "lines+markers",
         "name": "Unchanged",
         "showlegend": false,
         "type": "scattergl",
         "x": [
          "2021-08-07T00:00:00",
          "2021-08-08T00:00:00"
         ],
         "y": [
          "2",
          "2"
         ]
        },
        {
         "hoverinfo": "skip",
         "line": {
          "color": "#C0C0C0"
         },
         "mode": "lines+markers",
         "name": "Unchanged",
         "showlegend": false,
         "type": "scattergl",
         "x": [
          "2021-08-08T00:00:00",
          "2021-08-09T00:00:00"
         ],
         "y": [
          "2",
          "2"
         ]
        },
        {
         "hoverinfo": "skip",
         "line": {
          "color": "#C0C0C0"
         },
         "mode": "lines+markers",
         "name": "Unchanged",
         "showlegend": false,
         "type": "scattergl",
         "x": [
          "2021-08-09T00:00:00",
          "2021-08-10T00:00:00"
         ],
         "y": [
          "2",
          "2"
         ]
        },
        {
         "hoverinfo": "skip",
         "line": {
          "color": "#C0C0C0"
         },
         "mode": "lines+markers",
         "name": "Unchanged",
         "showlegend": false,
         "type": "scattergl",
         "x": [
          "2021-08-10T00:00:00",
          "2021-08-11T00:00:00"
         ],
         "y": [
          "2",
          "2"
         ]
        },
        {
         "hoverinfo": "skip",
         "line": {
          "color": "#C0C0C0"
         },
         "mode": "lines+markers",
         "name": "Unchanged",
         "showlegend": false,
         "type": "scattergl",
         "x": [
          "2021-08-11T00:00:00",
          "2021-08-12T00:00:00"
         ],
         "y": [
          "2",
          "2"
         ]
        },
        {
         "hoverinfo": "skip",
         "line": {
          "color": "#C0C0C0"
         },
         "mode": "lines+markers",
         "name": "Unchanged",
         "showlegend": false,
         "type": "scattergl",
         "x": [
          "2021-08-12T00:00:00",
          "2021-08-13T00:00:00"
         ],
         "y": [
          "2",
          "2"
         ]
        },
        {
         "hoverinfo": "skip",
         "line": {
          "color": "#C0C0C0"
         },
         "mode": "lines+markers",
         "name": "Unchanged",
         "showlegend": false,
         "type": "scattergl",
         "x": [
          "2021-08-13T00:00:00",
          "2021-08-14T00:00:00"
         ],
         "y": [
          "2",
          "2"
         ]
        },
        {
         "hoverinfo": "skip",
         "line": {
          "color": "#C0C0C0"
         },
         "mode": "lines+markers",
         "name": "Unchanged",
         "showlegend": false,
         "type": "scattergl",
         "x": [
          "2021-08-14T00:00:00",
          "2021-08-15T00:00:00"
         ],
         "y": [
          "2",
          "2"
         ]
        },
        {
         "hoverinfo": "skip",
         "line": {
          "color": "#C0C0C0"
         },
         "mode": "lines+markers",
         "name": "Unchanged",
         "showlegend": false,
         "type": "scattergl",
         "x": [
          "2021-08-15T00:00:00",
          "2021-08-16T00:00:00"
         ],
         "y": [
          "2",
          "2"
         ]
        },
        {
         "hoverinfo": "skip",
         "line": {
          "color": "#C0C0C0"
         },
         "mode": "lines+markers",
         "name": "Unchanged",
         "showlegend": false,
         "type": "scattergl",
         "x": [
          "2021-08-16T00:00:00",
          "2021-08-17T00:00:00"
         ],
         "y": [
          "2",
          "2"
         ]
        },
        {
         "hoverinfo": "skip",
         "line": {
          "color": "#C0C0C0"
         },
         "mode": "lines+markers",
         "name": "Unchanged",
         "showlegend": false,
         "type": "scattergl",
         "x": [
          "2021-08-17T00:00:00",
          "2021-08-18T00:00:00"
         ],
         "y": [
          "2",
          "2"
         ]
        },
        {
         "hoverinfo": "skip",
         "line": {
          "color": "#C0C0C0"
         },
         "mode": "lines+markers",
         "name": "Unchanged",
         "showlegend": false,
         "type": "scattergl",
         "x": [
          "2021-08-18T00:00:00",
          "2021-08-19T00:00:00"
         ],
         "y": [
          "2",
          "2"
         ]
        },
        {
         "hoverinfo": "skip",
         "line": {
          "color": "#C0C0C0"
         },
         "mode": "lines+markers",
         "name": "Unchanged",
         "showlegend": false,
         "type": "scattergl",
         "x": [
          "2021-08-19T00:00:00",
          "2021-08-20T00:00:00"
         ],
         "y": [
          "2",
          "2"
         ]
        },
        {
         "hoverinfo": "skip",
         "line": {
          "color": "#C0C0C0"
         },
         "mode": "lines+markers",
         "name": "Unchanged",
         "showlegend": false,
         "type": "scattergl",
         "x": [
          "2021-08-20T00:00:00",
          "2021-08-21T00:00:00"
         ],
         "y": [
          "2",
          "2"
         ]
        },
        {
         "hoverinfo": "skip",
         "line": {
          "color": "#C0C0C0"
         },
         "mode": "lines+markers",
         "name": "Unchanged",
         "showlegend": false,
         "type": "scattergl",
         "x": [
          "2021-08-21T00:00:00",
          "2021-08-22T00:00:00"
         ],
         "y": [
          "2",
          "2"
         ]
        },
        {
         "hoverinfo": "skip",
         "line": {
          "color": "#C0C0C0"
         },
         "mode": "lines+markers",
         "name": "Unchanged",
         "showlegend": false,
         "type": "scattergl",
         "x": [
          "2021-08-22T00:00:00",
          "2021-08-23T00:00:00"
         ],
         "y": [
          "2",
          "2"
         ]
        },
        {
         "hoverinfo": "skip",
         "line": {
          "color": "#C0C0C0"
         },
         "mode": "lines+markers",
         "name": "Unchanged",
         "showlegend": false,
         "type": "scattergl",
         "x": [
          "2021-08-23T00:00:00",
          "2021-08-24T00:00:00"
         ],
         "y": [
          "2",
          "2"
         ]
        },
        {
         "hoverinfo": "skip",
         "line": {
          "color": "#C0C0C0"
         },
         "mode": "lines+markers",
         "name": "Unchanged",
         "showlegend": false,
         "type": "scattergl",
         "x": [
          "2021-08-24T00:00:00",
          "2021-08-25T00:00:00"
         ],
         "y": [
          "2",
          "2"
         ]
        },
        {
         "hoverinfo": "skip",
         "line": {
          "color": "#C0C0C0"
         },
         "mode": "lines+markers",
         "name": "Unchanged",
         "showlegend": false,
         "type": "scattergl",
         "x": [
          "2021-08-25T00:00:00",
          "2021-08-26T00:00:00"
         ],
         "y": [
          "2",
          "2"
         ]
        },
        {
         "hoverinfo": "skip",
         "line": {
          "color": "#C0C0C0"
         },
         "mode": "lines+markers",
         "name": "Unchanged",
         "showlegend": false,
         "type": "scattergl",
         "x": [
          "2021-08-26T00:00:00",
          "2021-08-27T00:00:00"
         ],
         "y": [
          "2",
          "2"
         ]
        },
        {
         "hoverinfo": "skip",
         "line": {
          "color": "#C0C0C0"
         },
         "mode": "lines+markers",
         "name": "Unchanged",
         "showlegend": false,
         "type": "scattergl",
         "x": [
          "2021-08-27T00:00:00",
          "2021-08-28T00:00:00"
         ],
         "y": [
          "2",
          "2"
         ]
        },
        {
         "hoverinfo": "skip",
         "line": {
          "color": "#C0C0C0"
         },
         "mode": "lines+markers",
         "name": "Unchanged",
         "showlegend": false,
         "type": "scattergl",
         "x": [
          "2021-08-28T00:00:00",
          "2021-08-29T00:00:00"
         ],
         "y": [
          "2",
          "2"
         ]
        },
        {
         "hoverinfo": "skip",
         "line": {
          "color": "#C0C0C0"
         },
         "mode": "lines+markers",
         "name": "Unchanged",
         "showlegend": false,
         "type": "scattergl",
         "x": [
          "2021-08-29T00:00:00",
          "2021-08-30T00:00:00"
         ],
         "y": [
          "2",
          "2"
         ]
        },
        {
         "hoverinfo": "skip",
         "line": {
          "color": "#C0C0C0"
         },
         "mode": "lines+markers",
         "name": "Unchanged",
         "showlegend": false,
         "type": "scattergl",
         "x": [
          "2021-08-30T00:00:00",
          "2021-08-31T00:00:00"
         ],
         "y": [
          "2",
          "2"
         ]
        },
        {
         "hoverinfo": "skip",
         "line": {
          "color": "#C0C0C0"
         },
         "mode": "lines+markers",
         "name": "Unchanged",
         "showlegend": false,
         "type": "scattergl",
         "x": [
          "2021-08-31T00:00:00",
          "2021-09-01T00:00:00"
         ],
         "y": [
          "2",
          "2"
         ]
        },
        {
         "hoverinfo": "skip",
         "line": {
          "color": "#C0C0C0"
         },
         "mode": "lines+markers",
         "name": "Unchanged",
         "showlegend": false,
         "type": "scattergl",
         "x": [
          "2021-09-01T00:00:00",
          "2021-09-02T00:00:00"
         ],
         "y": [
          "2",
          "2"
         ]
        },
        {
         "hoverinfo": "skip",
         "line": {
          "color": "#C0C0C0"
         },
         "mode": "lines+markers",
         "name": "Unchanged",
         "showlegend": false,
         "type": "scattergl",
         "x": [
          "2021-09-02T00:00:00",
          "2021-09-03T00:00:00"
         ],
         "y": [
          "2",
          "2"
         ]
        },
        {
         "hoverinfo": "skip",
         "line": {
          "color": "#C0C0C0"
         },
         "mode": "lines+markers",
         "name": "Unchanged",
         "showlegend": false,
         "type": "scattergl",
         "x": [
          "2021-09-03T00:00:00",
          "2021-09-04T00:00:00"
         ],
         "y": [
          "2",
          "2"
         ]
        },
        {
         "hoverinfo": "skip",
         "line": {
          "color": "#C0C0C0"
         },
         "mode": "lines+markers",
         "name": "Unchanged",
         "showlegend": false,
         "type": "scattergl",
         "x": [
          "2021-09-04T00:00:00",
          "2021-09-05T00:00:00"
         ],
         "y": [
          "2",
          "2"
         ]
        },
        {
         "hoverinfo": "skip",
         "line": {
          "color": "#C0C0C0"
         },
         "mode": "lines+markers",
         "name": "Unchanged",
         "showlegend": false,
         "type": "scattergl",
         "x": [
          "2021-09-05T00:00:00",
          "2021-09-06T00:00:00"
         ],
         "y": [
          "2",
          "2"
         ]
        },
        {
         "hoverinfo": "skip",
         "line": {
          "color": "#C0C0C0"
         },
         "mode": "lines+markers",
         "name": "Unchanged",
         "showlegend": false,
         "type": "scattergl",
         "x": [
          "2021-09-06T00:00:00",
          "2021-09-07T00:00:00"
         ],
         "y": [
          "2",
          "2"
         ]
        },
        {
         "hoverinfo": "skip",
         "line": {
          "color": "#C0C0C0"
         },
         "mode": "lines+markers",
         "name": "Unchanged",
         "showlegend": false,
         "type": "scattergl",
         "x": [
          "2021-09-07T00:00:00",
          "2021-09-08T00:00:00"
         ],
         "y": [
          "2",
          "2"
         ]
        },
        {
         "hoverinfo": "skip",
         "line": {
          "color": "#C0C0C0"
         },
         "mode": "lines+markers",
         "name": "Unchanged",
         "showlegend": false,
         "type": "scattergl",
         "x": [
          "2021-09-08T00:00:00",
          "2021-09-09T00:00:00"
         ],
         "y": [
          "2",
          "2"
         ]
        },
        {
         "hoverinfo": "skip",
         "line": {
          "color": "#C0C0C0"
         },
         "mode": "lines+markers",
         "name": "Unchanged",
         "showlegend": false,
         "type": "scattergl",
         "x": [
          "2021-09-09T00:00:00",
          "2021-09-10T00:00:00"
         ],
         "y": [
          "2",
          "2"
         ]
        },
        {
         "hoverinfo": "skip",
         "line": {
          "color": "#C0C0C0"
         },
         "mode": "lines+markers",
         "name": "Unchanged",
         "showlegend": false,
         "type": "scattergl",
         "x": [
          "2021-09-10T00:00:00",
          "2021-09-11T00:00:00"
         ],
         "y": [
          "2",
          "2"
         ]
        },
        {
         "hoverinfo": "skip",
         "line": {
          "color": "#C0C0C0"
         },
         "mode": "lines+markers",
         "name": "Unchanged",
         "showlegend": false,
         "type": "scattergl",
         "x": [
          "2021-09-11T00:00:00",
          "2021-09-12T00:00:00"
         ],
         "y": [
          "2",
          "2"
         ]
        },
        {
         "hoverinfo": "skip",
         "line": {
          "color": "#C0C0C0"
         },
         "mode": "lines+markers",
         "name": "Unchanged",
         "showlegend": false,
         "type": "scattergl",
         "x": [
          "2021-09-12T00:00:00",
          "2021-09-13T00:00:00"
         ],
         "y": [
          "2",
          "2"
         ]
        },
        {
         "hoverinfo": "skip",
         "line": {
          "color": "#C0C0C0"
         },
         "mode": "lines+markers",
         "name": "Unchanged",
         "showlegend": false,
         "type": "scattergl",
         "x": [
          "2021-09-13T00:00:00",
          "2021-09-14T00:00:00"
         ],
         "y": [
          "2",
          "2"
         ]
        },
        {
         "hoverinfo": "skip",
         "line": {
          "color": "#C0C0C0"
         },
         "mode": "lines+markers",
         "name": "Unchanged",
         "showlegend": false,
         "type": "scattergl",
         "x": [
          "2021-09-14T00:00:00",
          "2021-09-15T00:00:00"
         ],
         "y": [
          "2",
          "2"
         ]
        },
        {
         "hoverinfo": "skip",
         "line": {
          "color": "#C0C0C0"
         },
         "mode": "lines+markers",
         "name": "Unchanged",
         "showlegend": false,
         "type": "scattergl",
         "x": [
          "2021-09-15T00:00:00",
          "2021-09-16T00:00:00"
         ],
         "y": [
          "2",
          "2"
         ]
        },
        {
         "hoverinfo": "skip",
         "line": {
          "color": "#C0C0C0"
         },
         "mode": "lines+markers",
         "name": "Unchanged",
         "showlegend": false,
         "type": "scattergl",
         "x": [
          "2021-09-16T00:00:00",
          "2021-09-17T00:00:00"
         ],
         "y": [
          "2",
          "2"
         ]
        },
        {
         "hoverinfo": "skip",
         "line": {
          "color": "#C0C0C0"
         },
         "mode": "lines+markers",
         "name": "Unchanged",
         "showlegend": false,
         "type": "scattergl",
         "x": [
          "2021-09-17T00:00:00",
          "2021-09-18T00:00:00"
         ],
         "y": [
          "2",
          "2"
         ]
        },
        {
         "hoverinfo": "skip",
         "line": {
          "color": "#C0C0C0"
         },
         "mode": "lines+markers",
         "name": "Unchanged",
         "showlegend": false,
         "type": "scattergl",
         "x": [
          "2021-09-18T00:00:00",
          "2021-09-19T00:00:00"
         ],
         "y": [
          "2",
          "2"
         ]
        },
        {
         "hoverinfo": "skip",
         "line": {
          "color": "#C0C0C0"
         },
         "mode": "lines+markers",
         "name": "Unchanged",
         "showlegend": false,
         "type": "scattergl",
         "x": [
          "2021-09-19T00:00:00",
          "2021-09-20T00:00:00"
         ],
         "y": [
          "2",
          "2"
         ]
        },
        {
         "hoverinfo": "skip",
         "line": {
          "color": "#C0C0C0"
         },
         "mode": "lines+markers",
         "name": "Unchanged",
         "showlegend": false,
         "type": "scattergl",
         "x": [
          "2021-09-20T00:00:00",
          "2021-09-21T00:00:00"
         ],
         "y": [
          "2",
          "2"
         ]
        },
        {
         "hoverinfo": "skip",
         "line": {
          "color": "#C0C0C0"
         },
         "mode": "lines+markers",
         "name": "Unchanged",
         "showlegend": false,
         "type": "scattergl",
         "x": [
          "2021-09-21T00:00:00",
          "2021-09-22T00:00:00"
         ],
         "y": [
          "2",
          "2"
         ]
        },
        {
         "hoverinfo": "skip",
         "line": {
          "color": "#C0C0C0"
         },
         "mode": "lines+markers",
         "name": "Unchanged",
         "showlegend": false,
         "type": "scattergl",
         "x": [
          "2021-09-22T00:00:00",
          "2021-09-23T00:00:00"
         ],
         "y": [
          "2",
          "2"
         ]
        },
        {
         "hoverinfo": "skip",
         "line": {
          "color": "#1f77b4"
         },
         "mode": "lines+markers",
         "name": "Train",
         "showlegend": false,
         "type": "scattergl",
         "x": [
          "2021-07-08T00:00:00",
          "2021-07-09T00:00:00"
         ],
         "y": [
          "2",
          "2"
         ]
        },
        {
         "hoverinfo": "skip",
         "line": {
          "color": "#1f77b4"
         },
         "mode": "lines+markers",
         "name": "Train",
         "showlegend": false,
         "type": "scattergl",
         "x": [
          "2021-07-09T00:00:00",
          "2021-07-10T00:00:00"
         ],
         "y": [
          "2",
          "2"
         ]
        },
        {
         "hoverinfo": "skip",
         "line": {
          "color": "#1f77b4"
         },
         "mode": "lines+markers",
         "name": "Train",
         "showlegend": false,
         "type": "scattergl",
         "x": [
          "2021-07-10T00:00:00",
          "2021-07-11T00:00:00"
         ],
         "y": [
          "2",
          "2"
         ]
        },
        {
         "hoverinfo": "skip",
         "line": {
          "color": "#1f77b4"
         },
         "mode": "lines+markers",
         "name": "Train",
         "showlegend": false,
         "type": "scattergl",
         "x": [
          "2021-07-11T00:00:00",
          "2021-07-12T00:00:00"
         ],
         "y": [
          "2",
          "2"
         ]
        },
        {
         "hoverinfo": "skip",
         "line": {
          "color": "#1f77b4"
         },
         "mode": "lines+markers",
         "name": "Train",
         "showlegend": false,
         "type": "scattergl",
         "x": [
          "2021-07-12T00:00:00",
          "2021-07-13T00:00:00"
         ],
         "y": [
          "2",
          "2"
         ]
        },
        {
         "hoverinfo": "skip",
         "line": {
          "color": "#1f77b4"
         },
         "mode": "lines+markers",
         "name": "Train",
         "showlegend": false,
         "type": "scattergl",
         "x": [
          "2021-07-13T00:00:00",
          "2021-07-14T00:00:00"
         ],
         "y": [
          "2",
          "2"
         ]
        },
        {
         "hoverinfo": "skip",
         "line": {
          "color": "#1f77b4"
         },
         "mode": "lines+markers",
         "name": "Train",
         "showlegend": false,
         "type": "scattergl",
         "x": [
          "2021-07-14T00:00:00",
          "2021-07-15T00:00:00"
         ],
         "y": [
          "2",
          "2"
         ]
        },
        {
         "hoverinfo": "skip",
         "line": {
          "color": "#1f77b4"
         },
         "mode": "lines+markers",
         "name": "Train",
         "showlegend": false,
         "type": "scattergl",
         "x": [
          "2021-07-15T00:00:00",
          "2021-07-16T00:00:00"
         ],
         "y": [
          "2",
          "2"
         ]
        },
        {
         "hoverinfo": "skip",
         "line": {
          "color": "#1f77b4"
         },
         "mode": "lines+markers",
         "name": "Train",
         "showlegend": false,
         "type": "scattergl",
         "x": [
          "2021-07-16T00:00:00",
          "2021-07-17T00:00:00"
         ],
         "y": [
          "2",
          "2"
         ]
        },
        {
         "hoverinfo": "skip",
         "line": {
          "color": "#1f77b4"
         },
         "mode": "lines+markers",
         "name": "Train",
         "showlegend": false,
         "type": "scattergl",
         "x": [
          "2021-07-17T00:00:00",
          "2021-07-18T00:00:00"
         ],
         "y": [
          "2",
          "2"
         ]
        },
        {
         "hoverinfo": "skip",
         "line": {
          "color": "#1f77b4"
         },
         "mode": "lines+markers",
         "name": "Train",
         "showlegend": false,
         "type": "scattergl",
         "x": [
          "2021-07-18T00:00:00",
          "2021-07-19T00:00:00"
         ],
         "y": [
          "2",
          "2"
         ]
        },
        {
         "hoverinfo": "skip",
         "line": {
          "color": "#1f77b4"
         },
         "mode": "lines+markers",
         "name": "Train",
         "showlegend": false,
         "type": "scattergl",
         "x": [
          "2021-07-19T00:00:00",
          "2021-07-20T00:00:00"
         ],
         "y": [
          "2",
          "2"
         ]
        },
        {
         "hoverinfo": "skip",
         "line": {
          "color": "#1f77b4"
         },
         "mode": "lines+markers",
         "name": "Train",
         "showlegend": false,
         "type": "scattergl",
         "x": [
          "2021-07-20T00:00:00",
          "2021-07-21T00:00:00"
         ],
         "y": [
          "2",
          "2"
         ]
        },
        {
         "hoverinfo": "skip",
         "line": {
          "color": "#1f77b4"
         },
         "mode": "lines+markers",
         "name": "Train",
         "showlegend": false,
         "type": "scattergl",
         "x": [
          "2021-07-21T00:00:00",
          "2021-07-22T00:00:00"
         ],
         "y": [
          "2",
          "2"
         ]
        },
        {
         "hoverinfo": "skip",
         "line": {
          "color": "#1f77b4"
         },
         "mode": "lines+markers",
         "name": "Train",
         "showlegend": false,
         "type": "scattergl",
         "x": [
          "2021-07-22T00:00:00",
          "2021-07-23T00:00:00"
         ],
         "y": [
          "2",
          "2"
         ]
        },
        {
         "hoverinfo": "skip",
         "line": {
          "color": "#1f77b4"
         },
         "mode": "lines+markers",
         "name": "Train",
         "showlegend": false,
         "type": "scattergl",
         "x": [
          "2021-07-23T00:00:00",
          "2021-07-24T00:00:00"
         ],
         "y": [
          "2",
          "2"
         ]
        },
        {
         "hoverinfo": "skip",
         "line": {
          "color": "#1f77b4"
         },
         "mode": "lines+markers",
         "name": "Train",
         "showlegend": false,
         "type": "scattergl",
         "x": [
          "2021-07-24T00:00:00",
          "2021-07-25T00:00:00"
         ],
         "y": [
          "2",
          "2"
         ]
        },
        {
         "hoverinfo": "skip",
         "line": {
          "color": "#1f77b4"
         },
         "mode": "lines+markers",
         "name": "Train",
         "showlegend": false,
         "type": "scattergl",
         "x": [
          "2021-07-25T00:00:00",
          "2021-07-26T00:00:00"
         ],
         "y": [
          "2",
          "2"
         ]
        },
        {
         "hoverinfo": "skip",
         "line": {
          "color": "#1f77b4"
         },
         "mode": "lines+markers",
         "name": "Train",
         "showlegend": false,
         "type": "scattergl",
         "x": [
          "2021-07-26T00:00:00",
          "2021-07-27T00:00:00"
         ],
         "y": [
          "2",
          "2"
         ]
        },
        {
         "hoverinfo": "skip",
         "line": {
          "color": "#1f77b4"
         },
         "mode": "lines+markers",
         "name": "Train",
         "showlegend": false,
         "type": "scattergl",
         "x": [
          "2021-07-27T00:00:00",
          "2021-07-28T00:00:00"
         ],
         "y": [
          "2",
          "2"
         ]
        },
        {
         "hoverinfo": "skip",
         "line": {
          "color": "#1f77b4"
         },
         "mode": "lines+markers",
         "name": "Train",
         "showlegend": false,
         "type": "scattergl",
         "x": [
          "2021-07-28T00:00:00",
          "2021-07-29T00:00:00"
         ],
         "y": [
          "2",
          "2"
         ]
        },
        {
         "hoverinfo": "skip",
         "line": {
          "color": "#1f77b4"
         },
         "mode": "lines+markers",
         "name": "Train",
         "showlegend": false,
         "type": "scattergl",
         "x": [
          "2021-07-29T00:00:00",
          "2021-07-30T00:00:00"
         ],
         "y": [
          "2",
          "2"
         ]
        },
        {
         "hoverinfo": "skip",
         "line": {
          "color": "#1f77b4"
         },
         "mode": "lines+markers",
         "name": "Train",
         "showlegend": false,
         "type": "scattergl",
         "x": [
          "2021-07-30T00:00:00",
          "2021-07-31T00:00:00"
         ],
         "y": [
          "2",
          "2"
         ]
        },
        {
         "hoverinfo": "skip",
         "line": {
          "color": "#1f77b4"
         },
         "mode": "lines+markers",
         "name": "Train",
         "showlegend": false,
         "type": "scattergl",
         "x": [
          "2021-07-31T00:00:00",
          "2021-08-01T00:00:00"
         ],
         "y": [
          "2",
          "2"
         ]
        },
        {
         "hoverinfo": "skip",
         "line": {
          "color": "#1f77b4"
         },
         "mode": "lines+markers",
         "name": "Train",
         "showlegend": false,
         "type": "scattergl",
         "x": [
          "2021-08-01T00:00:00",
          "2021-08-02T00:00:00"
         ],
         "y": [
          "2",
          "2"
         ]
        },
        {
         "hoverinfo": "skip",
         "line": {
          "color": "#1f77b4"
         },
         "mode": "lines+markers",
         "name": "Train",
         "showlegend": false,
         "type": "scattergl",
         "x": [
          "2021-08-02T00:00:00",
          "2021-08-03T00:00:00"
         ],
         "y": [
          "2",
          "2"
         ]
        },
        {
         "hoverinfo": "skip",
         "line": {
          "color": "#1f77b4"
         },
         "mode": "lines+markers",
         "name": "Train",
         "showlegend": false,
         "type": "scattergl",
         "x": [
          "2021-08-03T00:00:00",
          "2021-08-04T00:00:00"
         ],
         "y": [
          "2",
          "2"
         ]
        },
        {
         "hoverinfo": "skip",
         "line": {
          "color": "#1f77b4"
         },
         "mode": "lines+markers",
         "name": "Train",
         "showlegend": false,
         "type": "scattergl",
         "x": [
          "2021-08-04T00:00:00",
          "2021-08-05T00:00:00"
         ],
         "y": [
          "2",
          "2"
         ]
        },
        {
         "hoverinfo": "skip",
         "line": {
          "color": "#1f77b4"
         },
         "mode": "lines+markers",
         "name": "Train",
         "showlegend": false,
         "type": "scattergl",
         "x": [
          "2021-08-05T00:00:00",
          "2021-08-06T00:00:00"
         ],
         "y": [
          "2",
          "2"
         ]
        },
        {
         "hoverinfo": "skip",
         "line": {
          "color": "#1f77b4"
         },
         "mode": "lines+markers",
         "name": "Train",
         "showlegend": false,
         "type": "scattergl",
         "x": [
          "2021-08-06T00:00:00",
          "2021-08-07T00:00:00"
         ],
         "y": [
          "2",
          "2"
         ]
        },
        {
         "hoverinfo": "skip",
         "line": {
          "color": "#1f77b4"
         },
         "mode": "lines+markers",
         "name": "Train",
         "showlegend": false,
         "type": "scattergl",
         "x": [
          "2021-08-07T00:00:00",
          "2021-08-08T00:00:00"
         ],
         "y": [
          "2",
          "2"
         ]
        },
        {
         "hoverinfo": "skip",
         "line": {
          "color": "#1f77b4"
         },
         "mode": "lines+markers",
         "name": "Train",
         "showlegend": false,
         "type": "scattergl",
         "x": [
          "2021-08-08T00:00:00",
          "2021-08-09T00:00:00"
         ],
         "y": [
          "2",
          "2"
         ]
        },
        {
         "hoverinfo": "skip",
         "line": {
          "color": "#1f77b4"
         },
         "mode": "lines+markers",
         "name": "Train",
         "showlegend": false,
         "type": "scattergl",
         "x": [
          "2021-08-09T00:00:00",
          "2021-08-10T00:00:00"
         ],
         "y": [
          "2",
          "2"
         ]
        },
        {
         "hoverinfo": "skip",
         "line": {
          "color": "#1f77b4"
         },
         "mode": "lines+markers",
         "name": "Train",
         "showlegend": false,
         "type": "scattergl",
         "x": [
          "2021-08-10T00:00:00",
          "2021-08-11T00:00:00"
         ],
         "y": [
          "2",
          "2"
         ]
        },
        {
         "hoverinfo": "skip",
         "line": {
          "color": "#1f77b4"
         },
         "mode": "lines+markers",
         "name": "Train",
         "showlegend": false,
         "type": "scattergl",
         "x": [
          "2021-08-11T00:00:00",
          "2021-08-12T00:00:00"
         ],
         "y": [
          "2",
          "2"
         ]
        },
        {
         "hoverinfo": "skip",
         "line": {
          "color": "#1f77b4"
         },
         "mode": "lines+markers",
         "name": "Train",
         "showlegend": false,
         "type": "scattergl",
         "x": [
          "2021-08-12T00:00:00",
          "2021-08-13T00:00:00"
         ],
         "y": [
          "2",
          "2"
         ]
        },
        {
         "hoverinfo": "skip",
         "line": {
          "color": "#1f77b4"
         },
         "mode": "lines+markers",
         "name": "Train",
         "showlegend": false,
         "type": "scattergl",
         "x": [
          "2021-08-13T00:00:00",
          "2021-08-14T00:00:00"
         ],
         "y": [
          "2",
          "2"
         ]
        },
        {
         "hoverinfo": "skip",
         "line": {
          "color": "#1f77b4"
         },
         "mode": "lines+markers",
         "name": "Train",
         "showlegend": false,
         "type": "scattergl",
         "x": [
          "2021-08-14T00:00:00",
          "2021-08-15T00:00:00"
         ],
         "y": [
          "2",
          "2"
         ]
        },
        {
         "hoverinfo": "skip",
         "line": {
          "color": "#1f77b4"
         },
         "mode": "lines+markers",
         "name": "Train",
         "showlegend": false,
         "type": "scattergl",
         "x": [
          "2021-08-15T00:00:00",
          "2021-08-16T00:00:00"
         ],
         "y": [
          "2",
          "2"
         ]
        },
        {
         "hoverinfo": "skip",
         "line": {
          "color": "#1f77b4"
         },
         "mode": "lines+markers",
         "name": "Train",
         "showlegend": false,
         "type": "scattergl",
         "x": [
          "2021-08-16T00:00:00",
          "2021-08-17T00:00:00"
         ],
         "y": [
          "2",
          "2"
         ]
        },
        {
         "hoverinfo": "skip",
         "line": {
          "color": "#1f77b4"
         },
         "mode": "lines+markers",
         "name": "Train",
         "showlegend": false,
         "type": "scattergl",
         "x": [
          "2021-08-17T00:00:00",
          "2021-08-18T00:00:00"
         ],
         "y": [
          "2",
          "2"
         ]
        },
        {
         "hoverinfo": "skip",
         "line": {
          "color": "#1f77b4"
         },
         "mode": "lines+markers",
         "name": "Train",
         "showlegend": false,
         "type": "scattergl",
         "x": [
          "2021-08-18T00:00:00",
          "2021-08-19T00:00:00"
         ],
         "y": [
          "2",
          "2"
         ]
        },
        {
         "hoverinfo": "skip",
         "line": {
          "color": "#1f77b4"
         },
         "mode": "lines+markers",
         "name": "Train",
         "showlegend": false,
         "type": "scattergl",
         "x": [
          "2021-08-19T00:00:00",
          "2021-08-20T00:00:00"
         ],
         "y": [
          "2",
          "2"
         ]
        },
        {
         "hoverinfo": "skip",
         "line": {
          "color": "#1f77b4"
         },
         "mode": "lines+markers",
         "name": "Train",
         "showlegend": false,
         "type": "scattergl",
         "x": [
          "2021-08-20T00:00:00",
          "2021-08-21T00:00:00"
         ],
         "y": [
          "2",
          "2"
         ]
        },
        {
         "hoverinfo": "skip",
         "line": {
          "color": "#1f77b4"
         },
         "mode": "lines+markers",
         "name": "Train",
         "showlegend": false,
         "type": "scattergl",
         "x": [
          "2021-08-21T00:00:00",
          "2021-08-22T00:00:00"
         ],
         "y": [
          "2",
          "2"
         ]
        },
        {
         "hoverinfo": "skip",
         "line": {
          "color": "#1f77b4"
         },
         "mode": "lines+markers",
         "name": "Train",
         "showlegend": false,
         "type": "scattergl",
         "x": [
          "2021-08-22T00:00:00",
          "2021-08-23T00:00:00"
         ],
         "y": [
          "2",
          "2"
         ]
        },
        {
         "hoverinfo": "skip",
         "line": {
          "color": "#1f77b4"
         },
         "mode": "lines+markers",
         "name": "Train",
         "showlegend": false,
         "type": "scattergl",
         "x": [
          "2021-08-23T00:00:00",
          "2021-08-24T00:00:00"
         ],
         "y": [
          "2",
          "2"
         ]
        },
        {
         "hoverinfo": "skip",
         "line": {
          "color": "#1f77b4"
         },
         "mode": "lines+markers",
         "name": "Train",
         "showlegend": false,
         "type": "scattergl",
         "x": [
          "2021-08-24T00:00:00",
          "2021-08-25T00:00:00"
         ],
         "y": [
          "2",
          "2"
         ]
        },
        {
         "hoverinfo": "skip",
         "line": {
          "color": "#1f77b4"
         },
         "mode": "lines+markers",
         "name": "Train",
         "showlegend": false,
         "type": "scattergl",
         "x": [
          "2021-08-25T00:00:00",
          "2021-08-26T00:00:00"
         ],
         "y": [
          "2",
          "2"
         ]
        },
        {
         "hoverinfo": "skip",
         "line": {
          "color": "#1f77b4"
         },
         "mode": "lines+markers",
         "name": "Train",
         "showlegend": false,
         "type": "scattergl",
         "x": [
          "2021-08-26T00:00:00",
          "2021-08-27T00:00:00"
         ],
         "y": [
          "2",
          "2"
         ]
        },
        {
         "hoverinfo": "skip",
         "line": {
          "color": "#1f77b4"
         },
         "mode": "lines+markers",
         "name": "Train",
         "showlegend": false,
         "type": "scattergl",
         "x": [
          "2021-08-27T00:00:00",
          "2021-08-28T00:00:00"
         ],
         "y": [
          "2",
          "2"
         ]
        },
        {
         "hoverinfo": "skip",
         "line": {
          "color": "#1f77b4"
         },
         "mode": "lines+markers",
         "name": "Train",
         "showlegend": false,
         "type": "scattergl",
         "x": [
          "2021-08-28T00:00:00",
          "2021-08-29T00:00:00"
         ],
         "y": [
          "2",
          "2"
         ]
        },
        {
         "hoverinfo": "skip",
         "line": {
          "color": "#1f77b4"
         },
         "mode": "lines+markers",
         "name": "Train",
         "showlegend": false,
         "type": "scattergl",
         "x": [
          "2021-08-29T00:00:00",
          "2021-08-30T00:00:00"
         ],
         "y": [
          "2",
          "2"
         ]
        },
        {
         "hoverinfo": "skip",
         "line": {
          "color": "#1f77b4"
         },
         "mode": "lines+markers",
         "name": "Train",
         "showlegend": false,
         "type": "scattergl",
         "x": [
          "2021-08-30T00:00:00",
          "2021-08-31T00:00:00"
         ],
         "y": [
          "2",
          "2"
         ]
        },
        {
         "hoverinfo": "skip",
         "line": {
          "color": "#1f77b4"
         },
         "mode": "lines+markers",
         "name": "Train",
         "showlegend": false,
         "type": "scattergl",
         "x": [
          "2021-08-31T00:00:00",
          "2021-09-01T00:00:00"
         ],
         "y": [
          "2",
          "2"
         ]
        },
        {
         "hoverinfo": "skip",
         "line": {
          "color": "#1f77b4"
         },
         "mode": "lines+markers",
         "name": "Train",
         "showlegend": false,
         "type": "scattergl",
         "x": [
          "2021-09-01T00:00:00",
          "2021-09-02T00:00:00"
         ],
         "y": [
          "2",
          "2"
         ]
        },
        {
         "hoverinfo": "skip",
         "line": {
          "color": "#1f77b4"
         },
         "mode": "lines+markers",
         "name": "Train",
         "showlegend": false,
         "type": "scattergl",
         "x": [
          "2021-09-02T00:00:00",
          "2021-09-03T00:00:00"
         ],
         "y": [
          "2",
          "2"
         ]
        },
        {
         "hoverinfo": "skip",
         "line": {
          "color": "#1f77b4"
         },
         "mode": "lines+markers",
         "name": "Train",
         "showlegend": false,
         "type": "scattergl",
         "x": [
          "2021-09-03T00:00:00",
          "2021-09-04T00:00:00"
         ],
         "y": [
          "2",
          "2"
         ]
        },
        {
         "hoverinfo": "skip",
         "line": {
          "color": "#1f77b4"
         },
         "mode": "lines+markers",
         "name": "Train",
         "showlegend": false,
         "type": "scattergl",
         "x": [
          "2021-09-04T00:00:00",
          "2021-09-05T00:00:00"
         ],
         "y": [
          "2",
          "2"
         ]
        },
        {
         "hoverinfo": "skip",
         "line": {
          "color": "#1f77b4"
         },
         "mode": "lines+markers",
         "name": "Train",
         "showlegend": false,
         "type": "scattergl",
         "x": [
          "2021-09-05T00:00:00",
          "2021-09-06T00:00:00"
         ],
         "y": [
          "2",
          "2"
         ]
        },
        {
         "hoverinfo": "skip",
         "line": {
          "color": "#1f77b4"
         },
         "mode": "lines+markers",
         "name": "Train",
         "showlegend": false,
         "type": "scattergl",
         "x": [
          "2021-09-06T00:00:00",
          "2021-09-07T00:00:00"
         ],
         "y": [
          "2",
          "2"
         ]
        },
        {
         "hoverinfo": "skip",
         "line": {
          "color": "#1f77b4"
         },
         "mode": "lines+markers",
         "name": "Train",
         "showlegend": false,
         "type": "scattergl",
         "x": [
          "2021-09-07T00:00:00",
          "2021-09-08T00:00:00"
         ],
         "y": [
          "2",
          "2"
         ]
        },
        {
         "hoverinfo": "skip",
         "line": {
          "color": "#1f77b4"
         },
         "mode": "lines+markers",
         "name": "Train",
         "showlegend": false,
         "type": "scattergl",
         "x": [
          "2021-09-08T00:00:00",
          "2021-09-09T00:00:00"
         ],
         "y": [
          "2",
          "2"
         ]
        },
        {
         "hoverinfo": "skip",
         "line": {
          "color": "#1f77b4"
         },
         "mode": "lines+markers",
         "name": "Train",
         "showlegend": false,
         "type": "scattergl",
         "x": [
          "2021-09-09T00:00:00",
          "2021-09-10T00:00:00"
         ],
         "y": [
          "2",
          "2"
         ]
        },
        {
         "hoverinfo": "skip",
         "line": {
          "color": "#1f77b4"
         },
         "mode": "lines+markers",
         "name": "Train",
         "showlegend": false,
         "type": "scattergl",
         "x": [
          "2021-09-10T00:00:00",
          "2021-09-11T00:00:00"
         ],
         "y": [
          "2",
          "2"
         ]
        },
        {
         "hoverinfo": "skip",
         "line": {
          "color": "#DE970B"
         },
         "mode": "lines+markers",
         "name": "ForecastHorizon",
         "showlegend": false,
         "type": "scattergl",
         "x": [
          "2021-09-12T00:00:00",
          "2021-09-13T00:00:00"
         ],
         "y": [
          "2",
          "2"
         ]
        },
        {
         "hoverinfo": "skip",
         "line": {
          "color": "#DE970B"
         },
         "mode": "lines+markers",
         "name": "ForecastHorizon",
         "showlegend": false,
         "type": "scattergl",
         "x": [
          "2021-09-13T00:00:00",
          "2021-09-14T00:00:00"
         ],
         "y": [
          "2",
          "2"
         ]
        },
        {
         "hoverinfo": "skip",
         "line": {
          "color": "#DE970B"
         },
         "mode": "lines+markers",
         "name": "ForecastHorizon",
         "showlegend": false,
         "type": "scattergl",
         "x": [
          "2021-09-14T00:00:00",
          "2021-09-15T00:00:00"
         ],
         "y": [
          "2",
          "2"
         ]
        },
        {
         "hoverinfo": "skip",
         "line": {
          "color": "#DE970B"
         },
         "mode": "lines+markers",
         "name": "ForecastHorizon",
         "showlegend": false,
         "type": "scattergl",
         "x": [
          "2021-09-15T00:00:00",
          "2021-09-16T00:00:00"
         ],
         "y": [
          "2",
          "2"
         ]
        },
        {
         "hoverinfo": "skip",
         "line": {
          "color": "#DE970B"
         },
         "mode": "lines+markers",
         "name": "ForecastHorizon",
         "showlegend": false,
         "type": "scattergl",
         "x": [
          "2021-09-16T00:00:00",
          "2021-09-17T00:00:00"
         ],
         "y": [
          "2",
          "2"
         ]
        },
        {
         "hoverinfo": "skip",
         "line": {
          "color": "#DE970B"
         },
         "mode": "lines+markers",
         "name": "ForecastHorizon",
         "showlegend": false,
         "type": "scattergl",
         "x": [
          "2021-09-17T00:00:00",
          "2021-09-18T00:00:00"
         ],
         "y": [
          "2",
          "2"
         ]
        },
        {
         "hoverinfo": "skip",
         "line": {
          "color": "#DE970B"
         },
         "mode": "lines+markers",
         "name": "ForecastHorizon",
         "showlegend": false,
         "type": "scattergl",
         "x": [
          "2021-09-18T00:00:00",
          "2021-09-19T00:00:00"
         ],
         "y": [
          "2",
          "2"
         ]
        },
        {
         "hoverinfo": "skip",
         "line": {
          "color": "#DE970B"
         },
         "mode": "lines+markers",
         "name": "ForecastHorizon",
         "showlegend": false,
         "type": "scattergl",
         "x": [
          "2021-09-19T00:00:00",
          "2021-09-20T00:00:00"
         ],
         "y": [
          "2",
          "2"
         ]
        },
        {
         "hoverinfo": "skip",
         "line": {
          "color": "#DE970B"
         },
         "mode": "lines+markers",
         "name": "ForecastHorizon",
         "showlegend": false,
         "type": "scattergl",
         "x": [
          "2021-09-20T00:00:00",
          "2021-09-21T00:00:00"
         ],
         "y": [
          "2",
          "2"
         ]
        },
        {
         "hoverinfo": "skip",
         "line": {
          "color": "#DE970B"
         },
         "mode": "lines+markers",
         "name": "ForecastHorizon",
         "showlegend": false,
         "type": "scattergl",
         "x": [
          "2021-09-21T00:00:00",
          "2021-09-22T00:00:00"
         ],
         "y": [
          "2",
          "2"
         ]
        },
        {
         "hoverinfo": "skip",
         "line": {
          "color": "#DE970B"
         },
         "mode": "lines+markers",
         "name": "ForecastHorizon",
         "showlegend": false,
         "type": "scattergl",
         "x": [
          "2021-09-22T00:00:00",
          "2021-09-23T00:00:00"
         ],
         "y": [
          "2",
          "2"
         ]
        },
        {
         "hoverinfo": "skip",
         "line": {
          "color": "#C0C0C0"
         },
         "mode": "lines+markers",
         "name": "Unchanged",
         "showlegend": false,
         "type": "scattergl",
         "x": [
          "2021-07-08T00:00:00",
          "2021-07-09T00:00:00"
         ],
         "y": [
          "1",
          "1"
         ]
        },
        {
         "hoverinfo": "skip",
         "line": {
          "color": "#C0C0C0"
         },
         "mode": "lines+markers",
         "name": "Unchanged",
         "showlegend": false,
         "type": "scattergl",
         "x": [
          "2021-07-09T00:00:00",
          "2021-07-10T00:00:00"
         ],
         "y": [
          "1",
          "1"
         ]
        },
        {
         "hoverinfo": "skip",
         "line": {
          "color": "#C0C0C0"
         },
         "mode": "lines+markers",
         "name": "Unchanged",
         "showlegend": false,
         "type": "scattergl",
         "x": [
          "2021-07-10T00:00:00",
          "2021-07-11T00:00:00"
         ],
         "y": [
          "1",
          "1"
         ]
        },
        {
         "hoverinfo": "skip",
         "line": {
          "color": "#C0C0C0"
         },
         "mode": "lines+markers",
         "name": "Unchanged",
         "showlegend": false,
         "type": "scattergl",
         "x": [
          "2021-07-11T00:00:00",
          "2021-07-12T00:00:00"
         ],
         "y": [
          "1",
          "1"
         ]
        },
        {
         "hoverinfo": "skip",
         "line": {
          "color": "#C0C0C0"
         },
         "mode": "lines+markers",
         "name": "Unchanged",
         "showlegend": false,
         "type": "scattergl",
         "x": [
          "2021-07-12T00:00:00",
          "2021-07-13T00:00:00"
         ],
         "y": [
          "1",
          "1"
         ]
        },
        {
         "hoverinfo": "skip",
         "line": {
          "color": "#C0C0C0"
         },
         "mode": "lines+markers",
         "name": "Unchanged",
         "showlegend": false,
         "type": "scattergl",
         "x": [
          "2021-07-13T00:00:00",
          "2021-07-14T00:00:00"
         ],
         "y": [
          "1",
          "1"
         ]
        },
        {
         "hoverinfo": "skip",
         "line": {
          "color": "#C0C0C0"
         },
         "mode": "lines+markers",
         "name": "Unchanged",
         "showlegend": false,
         "type": "scattergl",
         "x": [
          "2021-07-14T00:00:00",
          "2021-07-15T00:00:00"
         ],
         "y": [
          "1",
          "1"
         ]
        },
        {
         "hoverinfo": "skip",
         "line": {
          "color": "#C0C0C0"
         },
         "mode": "lines+markers",
         "name": "Unchanged",
         "showlegend": false,
         "type": "scattergl",
         "x": [
          "2021-07-15T00:00:00",
          "2021-07-16T00:00:00"
         ],
         "y": [
          "1",
          "1"
         ]
        },
        {
         "hoverinfo": "skip",
         "line": {
          "color": "#C0C0C0"
         },
         "mode": "lines+markers",
         "name": "Unchanged",
         "showlegend": false,
         "type": "scattergl",
         "x": [
          "2021-07-16T00:00:00",
          "2021-07-17T00:00:00"
         ],
         "y": [
          "1",
          "1"
         ]
        },
        {
         "hoverinfo": "skip",
         "line": {
          "color": "#C0C0C0"
         },
         "mode": "lines+markers",
         "name": "Unchanged",
         "showlegend": false,
         "type": "scattergl",
         "x": [
          "2021-07-17T00:00:00",
          "2021-07-18T00:00:00"
         ],
         "y": [
          "1",
          "1"
         ]
        },
        {
         "hoverinfo": "skip",
         "line": {
          "color": "#C0C0C0"
         },
         "mode": "lines+markers",
         "name": "Unchanged",
         "showlegend": false,
         "type": "scattergl",
         "x": [
          "2021-07-18T00:00:00",
          "2021-07-19T00:00:00"
         ],
         "y": [
          "1",
          "1"
         ]
        },
        {
         "hoverinfo": "skip",
         "line": {
          "color": "#C0C0C0"
         },
         "mode": "lines+markers",
         "name": "Unchanged",
         "showlegend": false,
         "type": "scattergl",
         "x": [
          "2021-07-19T00:00:00",
          "2021-07-20T00:00:00"
         ],
         "y": [
          "1",
          "1"
         ]
        },
        {
         "hoverinfo": "skip",
         "line": {
          "color": "#C0C0C0"
         },
         "mode": "lines+markers",
         "name": "Unchanged",
         "showlegend": false,
         "type": "scattergl",
         "x": [
          "2021-07-20T00:00:00",
          "2021-07-21T00:00:00"
         ],
         "y": [
          "1",
          "1"
         ]
        },
        {
         "hoverinfo": "skip",
         "line": {
          "color": "#C0C0C0"
         },
         "mode": "lines+markers",
         "name": "Unchanged",
         "showlegend": false,
         "type": "scattergl",
         "x": [
          "2021-07-21T00:00:00",
          "2021-07-22T00:00:00"
         ],
         "y": [
          "1",
          "1"
         ]
        },
        {
         "hoverinfo": "skip",
         "line": {
          "color": "#C0C0C0"
         },
         "mode": "lines+markers",
         "name": "Unchanged",
         "showlegend": false,
         "type": "scattergl",
         "x": [
          "2021-07-22T00:00:00",
          "2021-07-23T00:00:00"
         ],
         "y": [
          "1",
          "1"
         ]
        },
        {
         "hoverinfo": "skip",
         "line": {
          "color": "#C0C0C0"
         },
         "mode": "lines+markers",
         "name": "Unchanged",
         "showlegend": false,
         "type": "scattergl",
         "x": [
          "2021-07-23T00:00:00",
          "2021-07-24T00:00:00"
         ],
         "y": [
          "1",
          "1"
         ]
        },
        {
         "hoverinfo": "skip",
         "line": {
          "color": "#C0C0C0"
         },
         "mode": "lines+markers",
         "name": "Unchanged",
         "showlegend": false,
         "type": "scattergl",
         "x": [
          "2021-07-24T00:00:00",
          "2021-07-25T00:00:00"
         ],
         "y": [
          "1",
          "1"
         ]
        },
        {
         "hoverinfo": "skip",
         "line": {
          "color": "#C0C0C0"
         },
         "mode": "lines+markers",
         "name": "Unchanged",
         "showlegend": false,
         "type": "scattergl",
         "x": [
          "2021-07-25T00:00:00",
          "2021-07-26T00:00:00"
         ],
         "y": [
          "1",
          "1"
         ]
        },
        {
         "hoverinfo": "skip",
         "line": {
          "color": "#C0C0C0"
         },
         "mode": "lines+markers",
         "name": "Unchanged",
         "showlegend": false,
         "type": "scattergl",
         "x": [
          "2021-07-26T00:00:00",
          "2021-07-27T00:00:00"
         ],
         "y": [
          "1",
          "1"
         ]
        },
        {
         "hoverinfo": "skip",
         "line": {
          "color": "#C0C0C0"
         },
         "mode": "lines+markers",
         "name": "Unchanged",
         "showlegend": false,
         "type": "scattergl",
         "x": [
          "2021-07-27T00:00:00",
          "2021-07-28T00:00:00"
         ],
         "y": [
          "1",
          "1"
         ]
        },
        {
         "hoverinfo": "skip",
         "line": {
          "color": "#C0C0C0"
         },
         "mode": "lines+markers",
         "name": "Unchanged",
         "showlegend": false,
         "type": "scattergl",
         "x": [
          "2021-07-28T00:00:00",
          "2021-07-29T00:00:00"
         ],
         "y": [
          "1",
          "1"
         ]
        },
        {
         "hoverinfo": "skip",
         "line": {
          "color": "#C0C0C0"
         },
         "mode": "lines+markers",
         "name": "Unchanged",
         "showlegend": false,
         "type": "scattergl",
         "x": [
          "2021-07-29T00:00:00",
          "2021-07-30T00:00:00"
         ],
         "y": [
          "1",
          "1"
         ]
        },
        {
         "hoverinfo": "skip",
         "line": {
          "color": "#C0C0C0"
         },
         "mode": "lines+markers",
         "name": "Unchanged",
         "showlegend": false,
         "type": "scattergl",
         "x": [
          "2021-07-30T00:00:00",
          "2021-07-31T00:00:00"
         ],
         "y": [
          "1",
          "1"
         ]
        },
        {
         "hoverinfo": "skip",
         "line": {
          "color": "#C0C0C0"
         },
         "mode": "lines+markers",
         "name": "Unchanged",
         "showlegend": false,
         "type": "scattergl",
         "x": [
          "2021-07-31T00:00:00",
          "2021-08-01T00:00:00"
         ],
         "y": [
          "1",
          "1"
         ]
        },
        {
         "hoverinfo": "skip",
         "line": {
          "color": "#C0C0C0"
         },
         "mode": "lines+markers",
         "name": "Unchanged",
         "showlegend": false,
         "type": "scattergl",
         "x": [
          "2021-08-01T00:00:00",
          "2021-08-02T00:00:00"
         ],
         "y": [
          "1",
          "1"
         ]
        },
        {
         "hoverinfo": "skip",
         "line": {
          "color": "#C0C0C0"
         },
         "mode": "lines+markers",
         "name": "Unchanged",
         "showlegend": false,
         "type": "scattergl",
         "x": [
          "2021-08-02T00:00:00",
          "2021-08-03T00:00:00"
         ],
         "y": [
          "1",
          "1"
         ]
        },
        {
         "hoverinfo": "skip",
         "line": {
          "color": "#C0C0C0"
         },
         "mode": "lines+markers",
         "name": "Unchanged",
         "showlegend": false,
         "type": "scattergl",
         "x": [
          "2021-08-03T00:00:00",
          "2021-08-04T00:00:00"
         ],
         "y": [
          "1",
          "1"
         ]
        },
        {
         "hoverinfo": "skip",
         "line": {
          "color": "#C0C0C0"
         },
         "mode": "lines+markers",
         "name": "Unchanged",
         "showlegend": false,
         "type": "scattergl",
         "x": [
          "2021-08-04T00:00:00",
          "2021-08-05T00:00:00"
         ],
         "y": [
          "1",
          "1"
         ]
        },
        {
         "hoverinfo": "skip",
         "line": {
          "color": "#C0C0C0"
         },
         "mode": "lines+markers",
         "name": "Unchanged",
         "showlegend": false,
         "type": "scattergl",
         "x": [
          "2021-08-05T00:00:00",
          "2021-08-06T00:00:00"
         ],
         "y": [
          "1",
          "1"
         ]
        },
        {
         "hoverinfo": "skip",
         "line": {
          "color": "#C0C0C0"
         },
         "mode": "lines+markers",
         "name": "Unchanged",
         "showlegend": false,
         "type": "scattergl",
         "x": [
          "2021-08-06T00:00:00",
          "2021-08-07T00:00:00"
         ],
         "y": [
          "1",
          "1"
         ]
        },
        {
         "hoverinfo": "skip",
         "line": {
          "color": "#C0C0C0"
         },
         "mode": "lines+markers",
         "name": "Unchanged",
         "showlegend": false,
         "type": "scattergl",
         "x": [
          "2021-08-07T00:00:00",
          "2021-08-08T00:00:00"
         ],
         "y": [
          "1",
          "1"
         ]
        },
        {
         "hoverinfo": "skip",
         "line": {
          "color": "#C0C0C0"
         },
         "mode": "lines+markers",
         "name": "Unchanged",
         "showlegend": false,
         "type": "scattergl",
         "x": [
          "2021-08-08T00:00:00",
          "2021-08-09T00:00:00"
         ],
         "y": [
          "1",
          "1"
         ]
        },
        {
         "hoverinfo": "skip",
         "line": {
          "color": "#C0C0C0"
         },
         "mode": "lines+markers",
         "name": "Unchanged",
         "showlegend": false,
         "type": "scattergl",
         "x": [
          "2021-08-09T00:00:00",
          "2021-08-10T00:00:00"
         ],
         "y": [
          "1",
          "1"
         ]
        },
        {
         "hoverinfo": "skip",
         "line": {
          "color": "#C0C0C0"
         },
         "mode": "lines+markers",
         "name": "Unchanged",
         "showlegend": false,
         "type": "scattergl",
         "x": [
          "2021-08-10T00:00:00",
          "2021-08-11T00:00:00"
         ],
         "y": [
          "1",
          "1"
         ]
        },
        {
         "hoverinfo": "skip",
         "line": {
          "color": "#C0C0C0"
         },
         "mode": "lines+markers",
         "name": "Unchanged",
         "showlegend": false,
         "type": "scattergl",
         "x": [
          "2021-08-11T00:00:00",
          "2021-08-12T00:00:00"
         ],
         "y": [
          "1",
          "1"
         ]
        },
        {
         "hoverinfo": "skip",
         "line": {
          "color": "#C0C0C0"
         },
         "mode": "lines+markers",
         "name": "Unchanged",
         "showlegend": false,
         "type": "scattergl",
         "x": [
          "2021-08-12T00:00:00",
          "2021-08-13T00:00:00"
         ],
         "y": [
          "1",
          "1"
         ]
        },
        {
         "hoverinfo": "skip",
         "line": {
          "color": "#C0C0C0"
         },
         "mode": "lines+markers",
         "name": "Unchanged",
         "showlegend": false,
         "type": "scattergl",
         "x": [
          "2021-08-13T00:00:00",
          "2021-08-14T00:00:00"
         ],
         "y": [
          "1",
          "1"
         ]
        },
        {
         "hoverinfo": "skip",
         "line": {
          "color": "#C0C0C0"
         },
         "mode": "lines+markers",
         "name": "Unchanged",
         "showlegend": false,
         "type": "scattergl",
         "x": [
          "2021-08-14T00:00:00",
          "2021-08-15T00:00:00"
         ],
         "y": [
          "1",
          "1"
         ]
        },
        {
         "hoverinfo": "skip",
         "line": {
          "color": "#C0C0C0"
         },
         "mode": "lines+markers",
         "name": "Unchanged",
         "showlegend": false,
         "type": "scattergl",
         "x": [
          "2021-08-15T00:00:00",
          "2021-08-16T00:00:00"
         ],
         "y": [
          "1",
          "1"
         ]
        },
        {
         "hoverinfo": "skip",
         "line": {
          "color": "#C0C0C0"
         },
         "mode": "lines+markers",
         "name": "Unchanged",
         "showlegend": false,
         "type": "scattergl",
         "x": [
          "2021-08-16T00:00:00",
          "2021-08-17T00:00:00"
         ],
         "y": [
          "1",
          "1"
         ]
        },
        {
         "hoverinfo": "skip",
         "line": {
          "color": "#C0C0C0"
         },
         "mode": "lines+markers",
         "name": "Unchanged",
         "showlegend": false,
         "type": "scattergl",
         "x": [
          "2021-08-17T00:00:00",
          "2021-08-18T00:00:00"
         ],
         "y": [
          "1",
          "1"
         ]
        },
        {
         "hoverinfo": "skip",
         "line": {
          "color": "#C0C0C0"
         },
         "mode": "lines+markers",
         "name": "Unchanged",
         "showlegend": false,
         "type": "scattergl",
         "x": [
          "2021-08-18T00:00:00",
          "2021-08-19T00:00:00"
         ],
         "y": [
          "1",
          "1"
         ]
        },
        {
         "hoverinfo": "skip",
         "line": {
          "color": "#C0C0C0"
         },
         "mode": "lines+markers",
         "name": "Unchanged",
         "showlegend": false,
         "type": "scattergl",
         "x": [
          "2021-08-19T00:00:00",
          "2021-08-20T00:00:00"
         ],
         "y": [
          "1",
          "1"
         ]
        },
        {
         "hoverinfo": "skip",
         "line": {
          "color": "#C0C0C0"
         },
         "mode": "lines+markers",
         "name": "Unchanged",
         "showlegend": false,
         "type": "scattergl",
         "x": [
          "2021-08-20T00:00:00",
          "2021-08-21T00:00:00"
         ],
         "y": [
          "1",
          "1"
         ]
        },
        {
         "hoverinfo": "skip",
         "line": {
          "color": "#C0C0C0"
         },
         "mode": "lines+markers",
         "name": "Unchanged",
         "showlegend": false,
         "type": "scattergl",
         "x": [
          "2021-08-21T00:00:00",
          "2021-08-22T00:00:00"
         ],
         "y": [
          "1",
          "1"
         ]
        },
        {
         "hoverinfo": "skip",
         "line": {
          "color": "#C0C0C0"
         },
         "mode": "lines+markers",
         "name": "Unchanged",
         "showlegend": false,
         "type": "scattergl",
         "x": [
          "2021-08-22T00:00:00",
          "2021-08-23T00:00:00"
         ],
         "y": [
          "1",
          "1"
         ]
        },
        {
         "hoverinfo": "skip",
         "line": {
          "color": "#C0C0C0"
         },
         "mode": "lines+markers",
         "name": "Unchanged",
         "showlegend": false,
         "type": "scattergl",
         "x": [
          "2021-08-23T00:00:00",
          "2021-08-24T00:00:00"
         ],
         "y": [
          "1",
          "1"
         ]
        },
        {
         "hoverinfo": "skip",
         "line": {
          "color": "#C0C0C0"
         },
         "mode": "lines+markers",
         "name": "Unchanged",
         "showlegend": false,
         "type": "scattergl",
         "x": [
          "2021-08-24T00:00:00",
          "2021-08-25T00:00:00"
         ],
         "y": [
          "1",
          "1"
         ]
        },
        {
         "hoverinfo": "skip",
         "line": {
          "color": "#C0C0C0"
         },
         "mode": "lines+markers",
         "name": "Unchanged",
         "showlegend": false,
         "type": "scattergl",
         "x": [
          "2021-08-25T00:00:00",
          "2021-08-26T00:00:00"
         ],
         "y": [
          "1",
          "1"
         ]
        },
        {
         "hoverinfo": "skip",
         "line": {
          "color": "#C0C0C0"
         },
         "mode": "lines+markers",
         "name": "Unchanged",
         "showlegend": false,
         "type": "scattergl",
         "x": [
          "2021-08-26T00:00:00",
          "2021-08-27T00:00:00"
         ],
         "y": [
          "1",
          "1"
         ]
        },
        {
         "hoverinfo": "skip",
         "line": {
          "color": "#C0C0C0"
         },
         "mode": "lines+markers",
         "name": "Unchanged",
         "showlegend": false,
         "type": "scattergl",
         "x": [
          "2021-08-27T00:00:00",
          "2021-08-28T00:00:00"
         ],
         "y": [
          "1",
          "1"
         ]
        },
        {
         "hoverinfo": "skip",
         "line": {
          "color": "#C0C0C0"
         },
         "mode": "lines+markers",
         "name": "Unchanged",
         "showlegend": false,
         "type": "scattergl",
         "x": [
          "2021-08-28T00:00:00",
          "2021-08-29T00:00:00"
         ],
         "y": [
          "1",
          "1"
         ]
        },
        {
         "hoverinfo": "skip",
         "line": {
          "color": "#C0C0C0"
         },
         "mode": "lines+markers",
         "name": "Unchanged",
         "showlegend": false,
         "type": "scattergl",
         "x": [
          "2021-08-29T00:00:00",
          "2021-08-30T00:00:00"
         ],
         "y": [
          "1",
          "1"
         ]
        },
        {
         "hoverinfo": "skip",
         "line": {
          "color": "#C0C0C0"
         },
         "mode": "lines+markers",
         "name": "Unchanged",
         "showlegend": false,
         "type": "scattergl",
         "x": [
          "2021-08-30T00:00:00",
          "2021-08-31T00:00:00"
         ],
         "y": [
          "1",
          "1"
         ]
        },
        {
         "hoverinfo": "skip",
         "line": {
          "color": "#C0C0C0"
         },
         "mode": "lines+markers",
         "name": "Unchanged",
         "showlegend": false,
         "type": "scattergl",
         "x": [
          "2021-08-31T00:00:00",
          "2021-09-01T00:00:00"
         ],
         "y": [
          "1",
          "1"
         ]
        },
        {
         "hoverinfo": "skip",
         "line": {
          "color": "#C0C0C0"
         },
         "mode": "lines+markers",
         "name": "Unchanged",
         "showlegend": false,
         "type": "scattergl",
         "x": [
          "2021-09-01T00:00:00",
          "2021-09-02T00:00:00"
         ],
         "y": [
          "1",
          "1"
         ]
        },
        {
         "hoverinfo": "skip",
         "line": {
          "color": "#C0C0C0"
         },
         "mode": "lines+markers",
         "name": "Unchanged",
         "showlegend": false,
         "type": "scattergl",
         "x": [
          "2021-09-02T00:00:00",
          "2021-09-03T00:00:00"
         ],
         "y": [
          "1",
          "1"
         ]
        },
        {
         "hoverinfo": "skip",
         "line": {
          "color": "#C0C0C0"
         },
         "mode": "lines+markers",
         "name": "Unchanged",
         "showlegend": false,
         "type": "scattergl",
         "x": [
          "2021-09-03T00:00:00",
          "2021-09-04T00:00:00"
         ],
         "y": [
          "1",
          "1"
         ]
        },
        {
         "hoverinfo": "skip",
         "line": {
          "color": "#C0C0C0"
         },
         "mode": "lines+markers",
         "name": "Unchanged",
         "showlegend": false,
         "type": "scattergl",
         "x": [
          "2021-09-04T00:00:00",
          "2021-09-05T00:00:00"
         ],
         "y": [
          "1",
          "1"
         ]
        },
        {
         "hoverinfo": "skip",
         "line": {
          "color": "#C0C0C0"
         },
         "mode": "lines+markers",
         "name": "Unchanged",
         "showlegend": false,
         "type": "scattergl",
         "x": [
          "2021-09-05T00:00:00",
          "2021-09-06T00:00:00"
         ],
         "y": [
          "1",
          "1"
         ]
        },
        {
         "hoverinfo": "skip",
         "line": {
          "color": "#C0C0C0"
         },
         "mode": "lines+markers",
         "name": "Unchanged",
         "showlegend": false,
         "type": "scattergl",
         "x": [
          "2021-09-06T00:00:00",
          "2021-09-07T00:00:00"
         ],
         "y": [
          "1",
          "1"
         ]
        },
        {
         "hoverinfo": "skip",
         "line": {
          "color": "#C0C0C0"
         },
         "mode": "lines+markers",
         "name": "Unchanged",
         "showlegend": false,
         "type": "scattergl",
         "x": [
          "2021-09-07T00:00:00",
          "2021-09-08T00:00:00"
         ],
         "y": [
          "1",
          "1"
         ]
        },
        {
         "hoverinfo": "skip",
         "line": {
          "color": "#C0C0C0"
         },
         "mode": "lines+markers",
         "name": "Unchanged",
         "showlegend": false,
         "type": "scattergl",
         "x": [
          "2021-09-08T00:00:00",
          "2021-09-09T00:00:00"
         ],
         "y": [
          "1",
          "1"
         ]
        },
        {
         "hoverinfo": "skip",
         "line": {
          "color": "#C0C0C0"
         },
         "mode": "lines+markers",
         "name": "Unchanged",
         "showlegend": false,
         "type": "scattergl",
         "x": [
          "2021-09-09T00:00:00",
          "2021-09-10T00:00:00"
         ],
         "y": [
          "1",
          "1"
         ]
        },
        {
         "hoverinfo": "skip",
         "line": {
          "color": "#C0C0C0"
         },
         "mode": "lines+markers",
         "name": "Unchanged",
         "showlegend": false,
         "type": "scattergl",
         "x": [
          "2021-09-10T00:00:00",
          "2021-09-11T00:00:00"
         ],
         "y": [
          "1",
          "1"
         ]
        },
        {
         "hoverinfo": "skip",
         "line": {
          "color": "#C0C0C0"
         },
         "mode": "lines+markers",
         "name": "Unchanged",
         "showlegend": false,
         "type": "scattergl",
         "x": [
          "2021-09-11T00:00:00",
          "2021-09-12T00:00:00"
         ],
         "y": [
          "1",
          "1"
         ]
        },
        {
         "hoverinfo": "skip",
         "line": {
          "color": "#C0C0C0"
         },
         "mode": "lines+markers",
         "name": "Unchanged",
         "showlegend": false,
         "type": "scattergl",
         "x": [
          "2021-09-12T00:00:00",
          "2021-09-13T00:00:00"
         ],
         "y": [
          "1",
          "1"
         ]
        },
        {
         "hoverinfo": "skip",
         "line": {
          "color": "#C0C0C0"
         },
         "mode": "lines+markers",
         "name": "Unchanged",
         "showlegend": false,
         "type": "scattergl",
         "x": [
          "2021-09-13T00:00:00",
          "2021-09-14T00:00:00"
         ],
         "y": [
          "1",
          "1"
         ]
        },
        {
         "hoverinfo": "skip",
         "line": {
          "color": "#C0C0C0"
         },
         "mode": "lines+markers",
         "name": "Unchanged",
         "showlegend": false,
         "type": "scattergl",
         "x": [
          "2021-09-14T00:00:00",
          "2021-09-15T00:00:00"
         ],
         "y": [
          "1",
          "1"
         ]
        },
        {
         "hoverinfo": "skip",
         "line": {
          "color": "#C0C0C0"
         },
         "mode": "lines+markers",
         "name": "Unchanged",
         "showlegend": false,
         "type": "scattergl",
         "x": [
          "2021-09-15T00:00:00",
          "2021-09-16T00:00:00"
         ],
         "y": [
          "1",
          "1"
         ]
        },
        {
         "hoverinfo": "skip",
         "line": {
          "color": "#C0C0C0"
         },
         "mode": "lines+markers",
         "name": "Unchanged",
         "showlegend": false,
         "type": "scattergl",
         "x": [
          "2021-09-16T00:00:00",
          "2021-09-17T00:00:00"
         ],
         "y": [
          "1",
          "1"
         ]
        },
        {
         "hoverinfo": "skip",
         "line": {
          "color": "#C0C0C0"
         },
         "mode": "lines+markers",
         "name": "Unchanged",
         "showlegend": false,
         "type": "scattergl",
         "x": [
          "2021-09-17T00:00:00",
          "2021-09-18T00:00:00"
         ],
         "y": [
          "1",
          "1"
         ]
        },
        {
         "hoverinfo": "skip",
         "line": {
          "color": "#C0C0C0"
         },
         "mode": "lines+markers",
         "name": "Unchanged",
         "showlegend": false,
         "type": "scattergl",
         "x": [
          "2021-09-18T00:00:00",
          "2021-09-19T00:00:00"
         ],
         "y": [
          "1",
          "1"
         ]
        },
        {
         "hoverinfo": "skip",
         "line": {
          "color": "#C0C0C0"
         },
         "mode": "lines+markers",
         "name": "Unchanged",
         "showlegend": false,
         "type": "scattergl",
         "x": [
          "2021-09-19T00:00:00",
          "2021-09-20T00:00:00"
         ],
         "y": [
          "1",
          "1"
         ]
        },
        {
         "hoverinfo": "skip",
         "line": {
          "color": "#C0C0C0"
         },
         "mode": "lines+markers",
         "name": "Unchanged",
         "showlegend": false,
         "type": "scattergl",
         "x": [
          "2021-09-20T00:00:00",
          "2021-09-21T00:00:00"
         ],
         "y": [
          "1",
          "1"
         ]
        },
        {
         "hoverinfo": "skip",
         "line": {
          "color": "#C0C0C0"
         },
         "mode": "lines+markers",
         "name": "Unchanged",
         "showlegend": false,
         "type": "scattergl",
         "x": [
          "2021-09-21T00:00:00",
          "2021-09-22T00:00:00"
         ],
         "y": [
          "1",
          "1"
         ]
        },
        {
         "hoverinfo": "skip",
         "line": {
          "color": "#C0C0C0"
         },
         "mode": "lines+markers",
         "name": "Unchanged",
         "showlegend": false,
         "type": "scattergl",
         "x": [
          "2021-09-22T00:00:00",
          "2021-09-23T00:00:00"
         ],
         "y": [
          "1",
          "1"
         ]
        },
        {
         "hoverinfo": "skip",
         "line": {
          "color": "#1f77b4"
         },
         "mode": "lines+markers",
         "name": "Train",
         "showlegend": false,
         "type": "scattergl",
         "x": [
          "2021-07-08T00:00:00",
          "2021-07-09T00:00:00"
         ],
         "y": [
          "1",
          "1"
         ]
        },
        {
         "hoverinfo": "skip",
         "line": {
          "color": "#1f77b4"
         },
         "mode": "lines+markers",
         "name": "Train",
         "showlegend": false,
         "type": "scattergl",
         "x": [
          "2021-07-09T00:00:00",
          "2021-07-10T00:00:00"
         ],
         "y": [
          "1",
          "1"
         ]
        },
        {
         "hoverinfo": "skip",
         "line": {
          "color": "#1f77b4"
         },
         "mode": "lines+markers",
         "name": "Train",
         "showlegend": false,
         "type": "scattergl",
         "x": [
          "2021-07-10T00:00:00",
          "2021-07-11T00:00:00"
         ],
         "y": [
          "1",
          "1"
         ]
        },
        {
         "hoverinfo": "skip",
         "line": {
          "color": "#1f77b4"
         },
         "mode": "lines+markers",
         "name": "Train",
         "showlegend": false,
         "type": "scattergl",
         "x": [
          "2021-07-11T00:00:00",
          "2021-07-12T00:00:00"
         ],
         "y": [
          "1",
          "1"
         ]
        },
        {
         "hoverinfo": "skip",
         "line": {
          "color": "#1f77b4"
         },
         "mode": "lines+markers",
         "name": "Train",
         "showlegend": false,
         "type": "scattergl",
         "x": [
          "2021-07-12T00:00:00",
          "2021-07-13T00:00:00"
         ],
         "y": [
          "1",
          "1"
         ]
        },
        {
         "hoverinfo": "skip",
         "line": {
          "color": "#1f77b4"
         },
         "mode": "lines+markers",
         "name": "Train",
         "showlegend": false,
         "type": "scattergl",
         "x": [
          "2021-07-13T00:00:00",
          "2021-07-14T00:00:00"
         ],
         "y": [
          "1",
          "1"
         ]
        },
        {
         "hoverinfo": "skip",
         "line": {
          "color": "#1f77b4"
         },
         "mode": "lines+markers",
         "name": "Train",
         "showlegend": false,
         "type": "scattergl",
         "x": [
          "2021-07-14T00:00:00",
          "2021-07-15T00:00:00"
         ],
         "y": [
          "1",
          "1"
         ]
        },
        {
         "hoverinfo": "skip",
         "line": {
          "color": "#1f77b4"
         },
         "mode": "lines+markers",
         "name": "Train",
         "showlegend": false,
         "type": "scattergl",
         "x": [
          "2021-07-15T00:00:00",
          "2021-07-16T00:00:00"
         ],
         "y": [
          "1",
          "1"
         ]
        },
        {
         "hoverinfo": "skip",
         "line": {
          "color": "#1f77b4"
         },
         "mode": "lines+markers",
         "name": "Train",
         "showlegend": false,
         "type": "scattergl",
         "x": [
          "2021-07-16T00:00:00",
          "2021-07-17T00:00:00"
         ],
         "y": [
          "1",
          "1"
         ]
        },
        {
         "hoverinfo": "skip",
         "line": {
          "color": "#1f77b4"
         },
         "mode": "lines+markers",
         "name": "Train",
         "showlegend": false,
         "type": "scattergl",
         "x": [
          "2021-07-17T00:00:00",
          "2021-07-18T00:00:00"
         ],
         "y": [
          "1",
          "1"
         ]
        },
        {
         "hoverinfo": "skip",
         "line": {
          "color": "#1f77b4"
         },
         "mode": "lines+markers",
         "name": "Train",
         "showlegend": false,
         "type": "scattergl",
         "x": [
          "2021-07-18T00:00:00",
          "2021-07-19T00:00:00"
         ],
         "y": [
          "1",
          "1"
         ]
        },
        {
         "hoverinfo": "skip",
         "line": {
          "color": "#1f77b4"
         },
         "mode": "lines+markers",
         "name": "Train",
         "showlegend": false,
         "type": "scattergl",
         "x": [
          "2021-07-19T00:00:00",
          "2021-07-20T00:00:00"
         ],
         "y": [
          "1",
          "1"
         ]
        },
        {
         "hoverinfo": "skip",
         "line": {
          "color": "#1f77b4"
         },
         "mode": "lines+markers",
         "name": "Train",
         "showlegend": false,
         "type": "scattergl",
         "x": [
          "2021-07-20T00:00:00",
          "2021-07-21T00:00:00"
         ],
         "y": [
          "1",
          "1"
         ]
        },
        {
         "hoverinfo": "skip",
         "line": {
          "color": "#1f77b4"
         },
         "mode": "lines+markers",
         "name": "Train",
         "showlegend": false,
         "type": "scattergl",
         "x": [
          "2021-07-21T00:00:00",
          "2021-07-22T00:00:00"
         ],
         "y": [
          "1",
          "1"
         ]
        },
        {
         "hoverinfo": "skip",
         "line": {
          "color": "#1f77b4"
         },
         "mode": "lines+markers",
         "name": "Train",
         "showlegend": false,
         "type": "scattergl",
         "x": [
          "2021-07-22T00:00:00",
          "2021-07-23T00:00:00"
         ],
         "y": [
          "1",
          "1"
         ]
        },
        {
         "hoverinfo": "skip",
         "line": {
          "color": "#1f77b4"
         },
         "mode": "lines+markers",
         "name": "Train",
         "showlegend": false,
         "type": "scattergl",
         "x": [
          "2021-07-23T00:00:00",
          "2021-07-24T00:00:00"
         ],
         "y": [
          "1",
          "1"
         ]
        },
        {
         "hoverinfo": "skip",
         "line": {
          "color": "#1f77b4"
         },
         "mode": "lines+markers",
         "name": "Train",
         "showlegend": false,
         "type": "scattergl",
         "x": [
          "2021-07-24T00:00:00",
          "2021-07-25T00:00:00"
         ],
         "y": [
          "1",
          "1"
         ]
        },
        {
         "hoverinfo": "skip",
         "line": {
          "color": "#1f77b4"
         },
         "mode": "lines+markers",
         "name": "Train",
         "showlegend": false,
         "type": "scattergl",
         "x": [
          "2021-07-25T00:00:00",
          "2021-07-26T00:00:00"
         ],
         "y": [
          "1",
          "1"
         ]
        },
        {
         "hoverinfo": "skip",
         "line": {
          "color": "#1f77b4"
         },
         "mode": "lines+markers",
         "name": "Train",
         "showlegend": false,
         "type": "scattergl",
         "x": [
          "2021-07-26T00:00:00",
          "2021-07-27T00:00:00"
         ],
         "y": [
          "1",
          "1"
         ]
        },
        {
         "hoverinfo": "skip",
         "line": {
          "color": "#1f77b4"
         },
         "mode": "lines+markers",
         "name": "Train",
         "showlegend": false,
         "type": "scattergl",
         "x": [
          "2021-07-27T00:00:00",
          "2021-07-28T00:00:00"
         ],
         "y": [
          "1",
          "1"
         ]
        },
        {
         "hoverinfo": "skip",
         "line": {
          "color": "#1f77b4"
         },
         "mode": "lines+markers",
         "name": "Train",
         "showlegend": false,
         "type": "scattergl",
         "x": [
          "2021-07-28T00:00:00",
          "2021-07-29T00:00:00"
         ],
         "y": [
          "1",
          "1"
         ]
        },
        {
         "hoverinfo": "skip",
         "line": {
          "color": "#1f77b4"
         },
         "mode": "lines+markers",
         "name": "Train",
         "showlegend": false,
         "type": "scattergl",
         "x": [
          "2021-07-29T00:00:00",
          "2021-07-30T00:00:00"
         ],
         "y": [
          "1",
          "1"
         ]
        },
        {
         "hoverinfo": "skip",
         "line": {
          "color": "#1f77b4"
         },
         "mode": "lines+markers",
         "name": "Train",
         "showlegend": false,
         "type": "scattergl",
         "x": [
          "2021-07-30T00:00:00",
          "2021-07-31T00:00:00"
         ],
         "y": [
          "1",
          "1"
         ]
        },
        {
         "hoverinfo": "skip",
         "line": {
          "color": "#1f77b4"
         },
         "mode": "lines+markers",
         "name": "Train",
         "showlegend": false,
         "type": "scattergl",
         "x": [
          "2021-07-31T00:00:00",
          "2021-08-01T00:00:00"
         ],
         "y": [
          "1",
          "1"
         ]
        },
        {
         "hoverinfo": "skip",
         "line": {
          "color": "#1f77b4"
         },
         "mode": "lines+markers",
         "name": "Train",
         "showlegend": false,
         "type": "scattergl",
         "x": [
          "2021-08-01T00:00:00",
          "2021-08-02T00:00:00"
         ],
         "y": [
          "1",
          "1"
         ]
        },
        {
         "hoverinfo": "skip",
         "line": {
          "color": "#1f77b4"
         },
         "mode": "lines+markers",
         "name": "Train",
         "showlegend": false,
         "type": "scattergl",
         "x": [
          "2021-08-02T00:00:00",
          "2021-08-03T00:00:00"
         ],
         "y": [
          "1",
          "1"
         ]
        },
        {
         "hoverinfo": "skip",
         "line": {
          "color": "#1f77b4"
         },
         "mode": "lines+markers",
         "name": "Train",
         "showlegend": false,
         "type": "scattergl",
         "x": [
          "2021-08-03T00:00:00",
          "2021-08-04T00:00:00"
         ],
         "y": [
          "1",
          "1"
         ]
        },
        {
         "hoverinfo": "skip",
         "line": {
          "color": "#1f77b4"
         },
         "mode": "lines+markers",
         "name": "Train",
         "showlegend": false,
         "type": "scattergl",
         "x": [
          "2021-08-04T00:00:00",
          "2021-08-05T00:00:00"
         ],
         "y": [
          "1",
          "1"
         ]
        },
        {
         "hoverinfo": "skip",
         "line": {
          "color": "#1f77b4"
         },
         "mode": "lines+markers",
         "name": "Train",
         "showlegend": false,
         "type": "scattergl",
         "x": [
          "2021-08-05T00:00:00",
          "2021-08-06T00:00:00"
         ],
         "y": [
          "1",
          "1"
         ]
        },
        {
         "hoverinfo": "skip",
         "line": {
          "color": "#1f77b4"
         },
         "mode": "lines+markers",
         "name": "Train",
         "showlegend": false,
         "type": "scattergl",
         "x": [
          "2021-08-06T00:00:00",
          "2021-08-07T00:00:00"
         ],
         "y": [
          "1",
          "1"
         ]
        },
        {
         "hoverinfo": "skip",
         "line": {
          "color": "#1f77b4"
         },
         "mode": "lines+markers",
         "name": "Train",
         "showlegend": false,
         "type": "scattergl",
         "x": [
          "2021-08-07T00:00:00",
          "2021-08-08T00:00:00"
         ],
         "y": [
          "1",
          "1"
         ]
        },
        {
         "hoverinfo": "skip",
         "line": {
          "color": "#1f77b4"
         },
         "mode": "lines+markers",
         "name": "Train",
         "showlegend": false,
         "type": "scattergl",
         "x": [
          "2021-08-08T00:00:00",
          "2021-08-09T00:00:00"
         ],
         "y": [
          "1",
          "1"
         ]
        },
        {
         "hoverinfo": "skip",
         "line": {
          "color": "#1f77b4"
         },
         "mode": "lines+markers",
         "name": "Train",
         "showlegend": false,
         "type": "scattergl",
         "x": [
          "2021-08-09T00:00:00",
          "2021-08-10T00:00:00"
         ],
         "y": [
          "1",
          "1"
         ]
        },
        {
         "hoverinfo": "skip",
         "line": {
          "color": "#1f77b4"
         },
         "mode": "lines+markers",
         "name": "Train",
         "showlegend": false,
         "type": "scattergl",
         "x": [
          "2021-08-10T00:00:00",
          "2021-08-11T00:00:00"
         ],
         "y": [
          "1",
          "1"
         ]
        },
        {
         "hoverinfo": "skip",
         "line": {
          "color": "#1f77b4"
         },
         "mode": "lines+markers",
         "name": "Train",
         "showlegend": false,
         "type": "scattergl",
         "x": [
          "2021-08-11T00:00:00",
          "2021-08-12T00:00:00"
         ],
         "y": [
          "1",
          "1"
         ]
        },
        {
         "hoverinfo": "skip",
         "line": {
          "color": "#1f77b4"
         },
         "mode": "lines+markers",
         "name": "Train",
         "showlegend": false,
         "type": "scattergl",
         "x": [
          "2021-08-12T00:00:00",
          "2021-08-13T00:00:00"
         ],
         "y": [
          "1",
          "1"
         ]
        },
        {
         "hoverinfo": "skip",
         "line": {
          "color": "#1f77b4"
         },
         "mode": "lines+markers",
         "name": "Train",
         "showlegend": false,
         "type": "scattergl",
         "x": [
          "2021-08-13T00:00:00",
          "2021-08-14T00:00:00"
         ],
         "y": [
          "1",
          "1"
         ]
        },
        {
         "hoverinfo": "skip",
         "line": {
          "color": "#1f77b4"
         },
         "mode": "lines+markers",
         "name": "Train",
         "showlegend": false,
         "type": "scattergl",
         "x": [
          "2021-08-14T00:00:00",
          "2021-08-15T00:00:00"
         ],
         "y": [
          "1",
          "1"
         ]
        },
        {
         "hoverinfo": "skip",
         "line": {
          "color": "#1f77b4"
         },
         "mode": "lines+markers",
         "name": "Train",
         "showlegend": false,
         "type": "scattergl",
         "x": [
          "2021-08-15T00:00:00",
          "2021-08-16T00:00:00"
         ],
         "y": [
          "1",
          "1"
         ]
        },
        {
         "hoverinfo": "skip",
         "line": {
          "color": "#1f77b4"
         },
         "mode": "lines+markers",
         "name": "Train",
         "showlegend": false,
         "type": "scattergl",
         "x": [
          "2021-08-16T00:00:00",
          "2021-08-17T00:00:00"
         ],
         "y": [
          "1",
          "1"
         ]
        },
        {
         "hoverinfo": "skip",
         "line": {
          "color": "#1f77b4"
         },
         "mode": "lines+markers",
         "name": "Train",
         "showlegend": false,
         "type": "scattergl",
         "x": [
          "2021-08-17T00:00:00",
          "2021-08-18T00:00:00"
         ],
         "y": [
          "1",
          "1"
         ]
        },
        {
         "hoverinfo": "skip",
         "line": {
          "color": "#1f77b4"
         },
         "mode": "lines+markers",
         "name": "Train",
         "showlegend": false,
         "type": "scattergl",
         "x": [
          "2021-08-18T00:00:00",
          "2021-08-19T00:00:00"
         ],
         "y": [
          "1",
          "1"
         ]
        },
        {
         "hoverinfo": "skip",
         "line": {
          "color": "#1f77b4"
         },
         "mode": "lines+markers",
         "name": "Train",
         "showlegend": false,
         "type": "scattergl",
         "x": [
          "2021-08-19T00:00:00",
          "2021-08-20T00:00:00"
         ],
         "y": [
          "1",
          "1"
         ]
        },
        {
         "hoverinfo": "skip",
         "line": {
          "color": "#1f77b4"
         },
         "mode": "lines+markers",
         "name": "Train",
         "showlegend": false,
         "type": "scattergl",
         "x": [
          "2021-08-20T00:00:00",
          "2021-08-21T00:00:00"
         ],
         "y": [
          "1",
          "1"
         ]
        },
        {
         "hoverinfo": "skip",
         "line": {
          "color": "#1f77b4"
         },
         "mode": "lines+markers",
         "name": "Train",
         "showlegend": false,
         "type": "scattergl",
         "x": [
          "2021-08-21T00:00:00",
          "2021-08-22T00:00:00"
         ],
         "y": [
          "1",
          "1"
         ]
        },
        {
         "hoverinfo": "skip",
         "line": {
          "color": "#1f77b4"
         },
         "mode": "lines+markers",
         "name": "Train",
         "showlegend": false,
         "type": "scattergl",
         "x": [
          "2021-08-22T00:00:00",
          "2021-08-23T00:00:00"
         ],
         "y": [
          "1",
          "1"
         ]
        },
        {
         "hoverinfo": "skip",
         "line": {
          "color": "#1f77b4"
         },
         "mode": "lines+markers",
         "name": "Train",
         "showlegend": false,
         "type": "scattergl",
         "x": [
          "2021-08-23T00:00:00",
          "2021-08-24T00:00:00"
         ],
         "y": [
          "1",
          "1"
         ]
        },
        {
         "hoverinfo": "skip",
         "line": {
          "color": "#1f77b4"
         },
         "mode": "lines+markers",
         "name": "Train",
         "showlegend": false,
         "type": "scattergl",
         "x": [
          "2021-08-24T00:00:00",
          "2021-08-25T00:00:00"
         ],
         "y": [
          "1",
          "1"
         ]
        },
        {
         "hoverinfo": "skip",
         "line": {
          "color": "#1f77b4"
         },
         "mode": "lines+markers",
         "name": "Train",
         "showlegend": false,
         "type": "scattergl",
         "x": [
          "2021-08-25T00:00:00",
          "2021-08-26T00:00:00"
         ],
         "y": [
          "1",
          "1"
         ]
        },
        {
         "hoverinfo": "skip",
         "line": {
          "color": "#1f77b4"
         },
         "mode": "lines+markers",
         "name": "Train",
         "showlegend": false,
         "type": "scattergl",
         "x": [
          "2021-08-26T00:00:00",
          "2021-08-27T00:00:00"
         ],
         "y": [
          "1",
          "1"
         ]
        },
        {
         "hoverinfo": "skip",
         "line": {
          "color": "#1f77b4"
         },
         "mode": "lines+markers",
         "name": "Train",
         "showlegend": false,
         "type": "scattergl",
         "x": [
          "2021-08-27T00:00:00",
          "2021-08-28T00:00:00"
         ],
         "y": [
          "1",
          "1"
         ]
        },
        {
         "hoverinfo": "skip",
         "line": {
          "color": "#1f77b4"
         },
         "mode": "lines+markers",
         "name": "Train",
         "showlegend": false,
         "type": "scattergl",
         "x": [
          "2021-08-28T00:00:00",
          "2021-08-29T00:00:00"
         ],
         "y": [
          "1",
          "1"
         ]
        },
        {
         "hoverinfo": "skip",
         "line": {
          "color": "#1f77b4"
         },
         "mode": "lines+markers",
         "name": "Train",
         "showlegend": false,
         "type": "scattergl",
         "x": [
          "2021-08-29T00:00:00",
          "2021-08-30T00:00:00"
         ],
         "y": [
          "1",
          "1"
         ]
        },
        {
         "hoverinfo": "skip",
         "line": {
          "color": "#DE970B"
         },
         "mode": "lines+markers",
         "name": "ForecastHorizon",
         "showlegend": false,
         "type": "scattergl",
         "x": [
          "2021-08-31T00:00:00",
          "2021-09-01T00:00:00"
         ],
         "y": [
          "1",
          "1"
         ]
        },
        {
         "hoverinfo": "skip",
         "line": {
          "color": "#DE970B"
         },
         "mode": "lines+markers",
         "name": "ForecastHorizon",
         "showlegend": false,
         "type": "scattergl",
         "x": [
          "2021-09-01T00:00:00",
          "2021-09-02T00:00:00"
         ],
         "y": [
          "1",
          "1"
         ]
        },
        {
         "hoverinfo": "skip",
         "line": {
          "color": "#DE970B"
         },
         "mode": "lines+markers",
         "name": "ForecastHorizon",
         "showlegend": false,
         "type": "scattergl",
         "x": [
          "2021-09-02T00:00:00",
          "2021-09-03T00:00:00"
         ],
         "y": [
          "1",
          "1"
         ]
        },
        {
         "hoverinfo": "skip",
         "line": {
          "color": "#DE970B"
         },
         "mode": "lines+markers",
         "name": "ForecastHorizon",
         "showlegend": false,
         "type": "scattergl",
         "x": [
          "2021-09-03T00:00:00",
          "2021-09-04T00:00:00"
         ],
         "y": [
          "1",
          "1"
         ]
        },
        {
         "hoverinfo": "skip",
         "line": {
          "color": "#DE970B"
         },
         "mode": "lines+markers",
         "name": "ForecastHorizon",
         "showlegend": false,
         "type": "scattergl",
         "x": [
          "2021-09-04T00:00:00",
          "2021-09-05T00:00:00"
         ],
         "y": [
          "1",
          "1"
         ]
        },
        {
         "hoverinfo": "skip",
         "line": {
          "color": "#DE970B"
         },
         "mode": "lines+markers",
         "name": "ForecastHorizon",
         "showlegend": false,
         "type": "scattergl",
         "x": [
          "2021-09-05T00:00:00",
          "2021-09-06T00:00:00"
         ],
         "y": [
          "1",
          "1"
         ]
        },
        {
         "hoverinfo": "skip",
         "line": {
          "color": "#DE970B"
         },
         "mode": "lines+markers",
         "name": "ForecastHorizon",
         "showlegend": false,
         "type": "scattergl",
         "x": [
          "2021-09-06T00:00:00",
          "2021-09-07T00:00:00"
         ],
         "y": [
          "1",
          "1"
         ]
        },
        {
         "hoverinfo": "skip",
         "line": {
          "color": "#DE970B"
         },
         "mode": "lines+markers",
         "name": "ForecastHorizon",
         "showlegend": false,
         "type": "scattergl",
         "x": [
          "2021-09-07T00:00:00",
          "2021-09-08T00:00:00"
         ],
         "y": [
          "1",
          "1"
         ]
        },
        {
         "hoverinfo": "skip",
         "line": {
          "color": "#DE970B"
         },
         "mode": "lines+markers",
         "name": "ForecastHorizon",
         "showlegend": false,
         "type": "scattergl",
         "x": [
          "2021-09-08T00:00:00",
          "2021-09-09T00:00:00"
         ],
         "y": [
          "1",
          "1"
         ]
        },
        {
         "hoverinfo": "skip",
         "line": {
          "color": "#DE970B"
         },
         "mode": "lines+markers",
         "name": "ForecastHorizon",
         "showlegend": false,
         "type": "scattergl",
         "x": [
          "2021-09-09T00:00:00",
          "2021-09-10T00:00:00"
         ],
         "y": [
          "1",
          "1"
         ]
        },
        {
         "hoverinfo": "skip",
         "line": {
          "color": "#DE970B"
         },
         "mode": "lines+markers",
         "name": "ForecastHorizon",
         "showlegend": false,
         "type": "scattergl",
         "x": [
          "2021-09-10T00:00:00",
          "2021-09-11T00:00:00"
         ],
         "y": [
          "1",
          "1"
         ]
        },
        {
         "hoverinfo": "skip",
         "line": {
          "color": "#C0C0C0"
         },
         "mode": "lines+markers",
         "name": "Unchanged",
         "showlegend": false,
         "type": "scattergl",
         "x": [
          "2021-07-08T00:00:00",
          "2021-07-09T00:00:00"
         ],
         "y": [
          "0",
          "0"
         ]
        },
        {
         "hoverinfo": "skip",
         "line": {
          "color": "#C0C0C0"
         },
         "mode": "lines+markers",
         "name": "Unchanged",
         "showlegend": false,
         "type": "scattergl",
         "x": [
          "2021-07-09T00:00:00",
          "2021-07-10T00:00:00"
         ],
         "y": [
          "0",
          "0"
         ]
        },
        {
         "hoverinfo": "skip",
         "line": {
          "color": "#C0C0C0"
         },
         "mode": "lines+markers",
         "name": "Unchanged",
         "showlegend": false,
         "type": "scattergl",
         "x": [
          "2021-07-10T00:00:00",
          "2021-07-11T00:00:00"
         ],
         "y": [
          "0",
          "0"
         ]
        },
        {
         "hoverinfo": "skip",
         "line": {
          "color": "#C0C0C0"
         },
         "mode": "lines+markers",
         "name": "Unchanged",
         "showlegend": false,
         "type": "scattergl",
         "x": [
          "2021-07-11T00:00:00",
          "2021-07-12T00:00:00"
         ],
         "y": [
          "0",
          "0"
         ]
        },
        {
         "hoverinfo": "skip",
         "line": {
          "color": "#C0C0C0"
         },
         "mode": "lines+markers",
         "name": "Unchanged",
         "showlegend": false,
         "type": "scattergl",
         "x": [
          "2021-07-12T00:00:00",
          "2021-07-13T00:00:00"
         ],
         "y": [
          "0",
          "0"
         ]
        },
        {
         "hoverinfo": "skip",
         "line": {
          "color": "#C0C0C0"
         },
         "mode": "lines+markers",
         "name": "Unchanged",
         "showlegend": false,
         "type": "scattergl",
         "x": [
          "2021-07-13T00:00:00",
          "2021-07-14T00:00:00"
         ],
         "y": [
          "0",
          "0"
         ]
        },
        {
         "hoverinfo": "skip",
         "line": {
          "color": "#C0C0C0"
         },
         "mode": "lines+markers",
         "name": "Unchanged",
         "showlegend": false,
         "type": "scattergl",
         "x": [
          "2021-07-14T00:00:00",
          "2021-07-15T00:00:00"
         ],
         "y": [
          "0",
          "0"
         ]
        },
        {
         "hoverinfo": "skip",
         "line": {
          "color": "#C0C0C0"
         },
         "mode": "lines+markers",
         "name": "Unchanged",
         "showlegend": false,
         "type": "scattergl",
         "x": [
          "2021-07-15T00:00:00",
          "2021-07-16T00:00:00"
         ],
         "y": [
          "0",
          "0"
         ]
        },
        {
         "hoverinfo": "skip",
         "line": {
          "color": "#C0C0C0"
         },
         "mode": "lines+markers",
         "name": "Unchanged",
         "showlegend": false,
         "type": "scattergl",
         "x": [
          "2021-07-16T00:00:00",
          "2021-07-17T00:00:00"
         ],
         "y": [
          "0",
          "0"
         ]
        },
        {
         "hoverinfo": "skip",
         "line": {
          "color": "#C0C0C0"
         },
         "mode": "lines+markers",
         "name": "Unchanged",
         "showlegend": false,
         "type": "scattergl",
         "x": [
          "2021-07-17T00:00:00",
          "2021-07-18T00:00:00"
         ],
         "y": [
          "0",
          "0"
         ]
        },
        {
         "hoverinfo": "skip",
         "line": {
          "color": "#C0C0C0"
         },
         "mode": "lines+markers",
         "name": "Unchanged",
         "showlegend": false,
         "type": "scattergl",
         "x": [
          "2021-07-18T00:00:00",
          "2021-07-19T00:00:00"
         ],
         "y": [
          "0",
          "0"
         ]
        },
        {
         "hoverinfo": "skip",
         "line": {
          "color": "#C0C0C0"
         },
         "mode": "lines+markers",
         "name": "Unchanged",
         "showlegend": false,
         "type": "scattergl",
         "x": [
          "2021-07-19T00:00:00",
          "2021-07-20T00:00:00"
         ],
         "y": [
          "0",
          "0"
         ]
        },
        {
         "hoverinfo": "skip",
         "line": {
          "color": "#C0C0C0"
         },
         "mode": "lines+markers",
         "name": "Unchanged",
         "showlegend": false,
         "type": "scattergl",
         "x": [
          "2021-07-20T00:00:00",
          "2021-07-21T00:00:00"
         ],
         "y": [
          "0",
          "0"
         ]
        },
        {
         "hoverinfo": "skip",
         "line": {
          "color": "#C0C0C0"
         },
         "mode": "lines+markers",
         "name": "Unchanged",
         "showlegend": false,
         "type": "scattergl",
         "x": [
          "2021-07-21T00:00:00",
          "2021-07-22T00:00:00"
         ],
         "y": [
          "0",
          "0"
         ]
        },
        {
         "hoverinfo": "skip",
         "line": {
          "color": "#C0C0C0"
         },
         "mode": "lines+markers",
         "name": "Unchanged",
         "showlegend": false,
         "type": "scattergl",
         "x": [
          "2021-07-22T00:00:00",
          "2021-07-23T00:00:00"
         ],
         "y": [
          "0",
          "0"
         ]
        },
        {
         "hoverinfo": "skip",
         "line": {
          "color": "#C0C0C0"
         },
         "mode": "lines+markers",
         "name": "Unchanged",
         "showlegend": false,
         "type": "scattergl",
         "x": [
          "2021-07-23T00:00:00",
          "2021-07-24T00:00:00"
         ],
         "y": [
          "0",
          "0"
         ]
        },
        {
         "hoverinfo": "skip",
         "line": {
          "color": "#C0C0C0"
         },
         "mode": "lines+markers",
         "name": "Unchanged",
         "showlegend": false,
         "type": "scattergl",
         "x": [
          "2021-07-24T00:00:00",
          "2021-07-25T00:00:00"
         ],
         "y": [
          "0",
          "0"
         ]
        },
        {
         "hoverinfo": "skip",
         "line": {
          "color": "#C0C0C0"
         },
         "mode": "lines+markers",
         "name": "Unchanged",
         "showlegend": false,
         "type": "scattergl",
         "x": [
          "2021-07-25T00:00:00",
          "2021-07-26T00:00:00"
         ],
         "y": [
          "0",
          "0"
         ]
        },
        {
         "hoverinfo": "skip",
         "line": {
          "color": "#C0C0C0"
         },
         "mode": "lines+markers",
         "name": "Unchanged",
         "showlegend": false,
         "type": "scattergl",
         "x": [
          "2021-07-26T00:00:00",
          "2021-07-27T00:00:00"
         ],
         "y": [
          "0",
          "0"
         ]
        },
        {
         "hoverinfo": "skip",
         "line": {
          "color": "#C0C0C0"
         },
         "mode": "lines+markers",
         "name": "Unchanged",
         "showlegend": false,
         "type": "scattergl",
         "x": [
          "2021-07-27T00:00:00",
          "2021-07-28T00:00:00"
         ],
         "y": [
          "0",
          "0"
         ]
        },
        {
         "hoverinfo": "skip",
         "line": {
          "color": "#C0C0C0"
         },
         "mode": "lines+markers",
         "name": "Unchanged",
         "showlegend": false,
         "type": "scattergl",
         "x": [
          "2021-07-28T00:00:00",
          "2021-07-29T00:00:00"
         ],
         "y": [
          "0",
          "0"
         ]
        },
        {
         "hoverinfo": "skip",
         "line": {
          "color": "#C0C0C0"
         },
         "mode": "lines+markers",
         "name": "Unchanged",
         "showlegend": false,
         "type": "scattergl",
         "x": [
          "2021-07-29T00:00:00",
          "2021-07-30T00:00:00"
         ],
         "y": [
          "0",
          "0"
         ]
        },
        {
         "hoverinfo": "skip",
         "line": {
          "color": "#C0C0C0"
         },
         "mode": "lines+markers",
         "name": "Unchanged",
         "showlegend": false,
         "type": "scattergl",
         "x": [
          "2021-07-30T00:00:00",
          "2021-07-31T00:00:00"
         ],
         "y": [
          "0",
          "0"
         ]
        },
        {
         "hoverinfo": "skip",
         "line": {
          "color": "#C0C0C0"
         },
         "mode": "lines+markers",
         "name": "Unchanged",
         "showlegend": false,
         "type": "scattergl",
         "x": [
          "2021-07-31T00:00:00",
          "2021-08-01T00:00:00"
         ],
         "y": [
          "0",
          "0"
         ]
        },
        {
         "hoverinfo": "skip",
         "line": {
          "color": "#C0C0C0"
         },
         "mode": "lines+markers",
         "name": "Unchanged",
         "showlegend": false,
         "type": "scattergl",
         "x": [
          "2021-08-01T00:00:00",
          "2021-08-02T00:00:00"
         ],
         "y": [
          "0",
          "0"
         ]
        },
        {
         "hoverinfo": "skip",
         "line": {
          "color": "#C0C0C0"
         },
         "mode": "lines+markers",
         "name": "Unchanged",
         "showlegend": false,
         "type": "scattergl",
         "x": [
          "2021-08-02T00:00:00",
          "2021-08-03T00:00:00"
         ],
         "y": [
          "0",
          "0"
         ]
        },
        {
         "hoverinfo": "skip",
         "line": {
          "color": "#C0C0C0"
         },
         "mode": "lines+markers",
         "name": "Unchanged",
         "showlegend": false,
         "type": "scattergl",
         "x": [
          "2021-08-03T00:00:00",
          "2021-08-04T00:00:00"
         ],
         "y": [
          "0",
          "0"
         ]
        },
        {
         "hoverinfo": "skip",
         "line": {
          "color": "#C0C0C0"
         },
         "mode": "lines+markers",
         "name": "Unchanged",
         "showlegend": false,
         "type": "scattergl",
         "x": [
          "2021-08-04T00:00:00",
          "2021-08-05T00:00:00"
         ],
         "y": [
          "0",
          "0"
         ]
        },
        {
         "hoverinfo": "skip",
         "line": {
          "color": "#C0C0C0"
         },
         "mode": "lines+markers",
         "name": "Unchanged",
         "showlegend": false,
         "type": "scattergl",
         "x": [
          "2021-08-05T00:00:00",
          "2021-08-06T00:00:00"
         ],
         "y": [
          "0",
          "0"
         ]
        },
        {
         "hoverinfo": "skip",
         "line": {
          "color": "#C0C0C0"
         },
         "mode": "lines+markers",
         "name": "Unchanged",
         "showlegend": false,
         "type": "scattergl",
         "x": [
          "2021-08-06T00:00:00",
          "2021-08-07T00:00:00"
         ],
         "y": [
          "0",
          "0"
         ]
        },
        {
         "hoverinfo": "skip",
         "line": {
          "color": "#C0C0C0"
         },
         "mode": "lines+markers",
         "name": "Unchanged",
         "showlegend": false,
         "type": "scattergl",
         "x": [
          "2021-08-07T00:00:00",
          "2021-08-08T00:00:00"
         ],
         "y": [
          "0",
          "0"
         ]
        },
        {
         "hoverinfo": "skip",
         "line": {
          "color": "#C0C0C0"
         },
         "mode": "lines+markers",
         "name": "Unchanged",
         "showlegend": false,
         "type": "scattergl",
         "x": [
          "2021-08-08T00:00:00",
          "2021-08-09T00:00:00"
         ],
         "y": [
          "0",
          "0"
         ]
        },
        {
         "hoverinfo": "skip",
         "line": {
          "color": "#C0C0C0"
         },
         "mode": "lines+markers",
         "name": "Unchanged",
         "showlegend": false,
         "type": "scattergl",
         "x": [
          "2021-08-09T00:00:00",
          "2021-08-10T00:00:00"
         ],
         "y": [
          "0",
          "0"
         ]
        },
        {
         "hoverinfo": "skip",
         "line": {
          "color": "#C0C0C0"
         },
         "mode": "lines+markers",
         "name": "Unchanged",
         "showlegend": false,
         "type": "scattergl",
         "x": [
          "2021-08-10T00:00:00",
          "2021-08-11T00:00:00"
         ],
         "y": [
          "0",
          "0"
         ]
        },
        {
         "hoverinfo": "skip",
         "line": {
          "color": "#C0C0C0"
         },
         "mode": "lines+markers",
         "name": "Unchanged",
         "showlegend": false,
         "type": "scattergl",
         "x": [
          "2021-08-11T00:00:00",
          "2021-08-12T00:00:00"
         ],
         "y": [
          "0",
          "0"
         ]
        },
        {
         "hoverinfo": "skip",
         "line": {
          "color": "#C0C0C0"
         },
         "mode": "lines+markers",
         "name": "Unchanged",
         "showlegend": false,
         "type": "scattergl",
         "x": [
          "2021-08-12T00:00:00",
          "2021-08-13T00:00:00"
         ],
         "y": [
          "0",
          "0"
         ]
        },
        {
         "hoverinfo": "skip",
         "line": {
          "color": "#C0C0C0"
         },
         "mode": "lines+markers",
         "name": "Unchanged",
         "showlegend": false,
         "type": "scattergl",
         "x": [
          "2021-08-13T00:00:00",
          "2021-08-14T00:00:00"
         ],
         "y": [
          "0",
          "0"
         ]
        },
        {
         "hoverinfo": "skip",
         "line": {
          "color": "#C0C0C0"
         },
         "mode": "lines+markers",
         "name": "Unchanged",
         "showlegend": false,
         "type": "scattergl",
         "x": [
          "2021-08-14T00:00:00",
          "2021-08-15T00:00:00"
         ],
         "y": [
          "0",
          "0"
         ]
        },
        {
         "hoverinfo": "skip",
         "line": {
          "color": "#C0C0C0"
         },
         "mode": "lines+markers",
         "name": "Unchanged",
         "showlegend": false,
         "type": "scattergl",
         "x": [
          "2021-08-15T00:00:00",
          "2021-08-16T00:00:00"
         ],
         "y": [
          "0",
          "0"
         ]
        },
        {
         "hoverinfo": "skip",
         "line": {
          "color": "#C0C0C0"
         },
         "mode": "lines+markers",
         "name": "Unchanged",
         "showlegend": false,
         "type": "scattergl",
         "x": [
          "2021-08-16T00:00:00",
          "2021-08-17T00:00:00"
         ],
         "y": [
          "0",
          "0"
         ]
        },
        {
         "hoverinfo": "skip",
         "line": {
          "color": "#C0C0C0"
         },
         "mode": "lines+markers",
         "name": "Unchanged",
         "showlegend": false,
         "type": "scattergl",
         "x": [
          "2021-08-17T00:00:00",
          "2021-08-18T00:00:00"
         ],
         "y": [
          "0",
          "0"
         ]
        },
        {
         "hoverinfo": "skip",
         "line": {
          "color": "#C0C0C0"
         },
         "mode": "lines+markers",
         "name": "Unchanged",
         "showlegend": false,
         "type": "scattergl",
         "x": [
          "2021-08-18T00:00:00",
          "2021-08-19T00:00:00"
         ],
         "y": [
          "0",
          "0"
         ]
        },
        {
         "hoverinfo": "skip",
         "line": {
          "color": "#C0C0C0"
         },
         "mode": "lines+markers",
         "name": "Unchanged",
         "showlegend": false,
         "type": "scattergl",
         "x": [
          "2021-08-19T00:00:00",
          "2021-08-20T00:00:00"
         ],
         "y": [
          "0",
          "0"
         ]
        },
        {
         "hoverinfo": "skip",
         "line": {
          "color": "#C0C0C0"
         },
         "mode": "lines+markers",
         "name": "Unchanged",
         "showlegend": false,
         "type": "scattergl",
         "x": [
          "2021-08-20T00:00:00",
          "2021-08-21T00:00:00"
         ],
         "y": [
          "0",
          "0"
         ]
        },
        {
         "hoverinfo": "skip",
         "line": {
          "color": "#C0C0C0"
         },
         "mode": "lines+markers",
         "name": "Unchanged",
         "showlegend": false,
         "type": "scattergl",
         "x": [
          "2021-08-21T00:00:00",
          "2021-08-22T00:00:00"
         ],
         "y": [
          "0",
          "0"
         ]
        },
        {
         "hoverinfo": "skip",
         "line": {
          "color": "#C0C0C0"
         },
         "mode": "lines+markers",
         "name": "Unchanged",
         "showlegend": false,
         "type": "scattergl",
         "x": [
          "2021-08-22T00:00:00",
          "2021-08-23T00:00:00"
         ],
         "y": [
          "0",
          "0"
         ]
        },
        {
         "hoverinfo": "skip",
         "line": {
          "color": "#C0C0C0"
         },
         "mode": "lines+markers",
         "name": "Unchanged",
         "showlegend": false,
         "type": "scattergl",
         "x": [
          "2021-08-23T00:00:00",
          "2021-08-24T00:00:00"
         ],
         "y": [
          "0",
          "0"
         ]
        },
        {
         "hoverinfo": "skip",
         "line": {
          "color": "#C0C0C0"
         },
         "mode": "lines+markers",
         "name": "Unchanged",
         "showlegend": false,
         "type": "scattergl",
         "x": [
          "2021-08-24T00:00:00",
          "2021-08-25T00:00:00"
         ],
         "y": [
          "0",
          "0"
         ]
        },
        {
         "hoverinfo": "skip",
         "line": {
          "color": "#C0C0C0"
         },
         "mode": "lines+markers",
         "name": "Unchanged",
         "showlegend": false,
         "type": "scattergl",
         "x": [
          "2021-08-25T00:00:00",
          "2021-08-26T00:00:00"
         ],
         "y": [
          "0",
          "0"
         ]
        },
        {
         "hoverinfo": "skip",
         "line": {
          "color": "#C0C0C0"
         },
         "mode": "lines+markers",
         "name": "Unchanged",
         "showlegend": false,
         "type": "scattergl",
         "x": [
          "2021-08-26T00:00:00",
          "2021-08-27T00:00:00"
         ],
         "y": [
          "0",
          "0"
         ]
        },
        {
         "hoverinfo": "skip",
         "line": {
          "color": "#C0C0C0"
         },
         "mode": "lines+markers",
         "name": "Unchanged",
         "showlegend": false,
         "type": "scattergl",
         "x": [
          "2021-08-27T00:00:00",
          "2021-08-28T00:00:00"
         ],
         "y": [
          "0",
          "0"
         ]
        },
        {
         "hoverinfo": "skip",
         "line": {
          "color": "#C0C0C0"
         },
         "mode": "lines+markers",
         "name": "Unchanged",
         "showlegend": false,
         "type": "scattergl",
         "x": [
          "2021-08-28T00:00:00",
          "2021-08-29T00:00:00"
         ],
         "y": [
          "0",
          "0"
         ]
        },
        {
         "hoverinfo": "skip",
         "line": {
          "color": "#C0C0C0"
         },
         "mode": "lines+markers",
         "name": "Unchanged",
         "showlegend": false,
         "type": "scattergl",
         "x": [
          "2021-08-29T00:00:00",
          "2021-08-30T00:00:00"
         ],
         "y": [
          "0",
          "0"
         ]
        },
        {
         "hoverinfo": "skip",
         "line": {
          "color": "#C0C0C0"
         },
         "mode": "lines+markers",
         "name": "Unchanged",
         "showlegend": false,
         "type": "scattergl",
         "x": [
          "2021-08-30T00:00:00",
          "2021-08-31T00:00:00"
         ],
         "y": [
          "0",
          "0"
         ]
        },
        {
         "hoverinfo": "skip",
         "line": {
          "color": "#C0C0C0"
         },
         "mode": "lines+markers",
         "name": "Unchanged",
         "showlegend": false,
         "type": "scattergl",
         "x": [
          "2021-08-31T00:00:00",
          "2021-09-01T00:00:00"
         ],
         "y": [
          "0",
          "0"
         ]
        },
        {
         "hoverinfo": "skip",
         "line": {
          "color": "#C0C0C0"
         },
         "mode": "lines+markers",
         "name": "Unchanged",
         "showlegend": false,
         "type": "scattergl",
         "x": [
          "2021-09-01T00:00:00",
          "2021-09-02T00:00:00"
         ],
         "y": [
          "0",
          "0"
         ]
        },
        {
         "hoverinfo": "skip",
         "line": {
          "color": "#C0C0C0"
         },
         "mode": "lines+markers",
         "name": "Unchanged",
         "showlegend": false,
         "type": "scattergl",
         "x": [
          "2021-09-02T00:00:00",
          "2021-09-03T00:00:00"
         ],
         "y": [
          "0",
          "0"
         ]
        },
        {
         "hoverinfo": "skip",
         "line": {
          "color": "#C0C0C0"
         },
         "mode": "lines+markers",
         "name": "Unchanged",
         "showlegend": false,
         "type": "scattergl",
         "x": [
          "2021-09-03T00:00:00",
          "2021-09-04T00:00:00"
         ],
         "y": [
          "0",
          "0"
         ]
        },
        {
         "hoverinfo": "skip",
         "line": {
          "color": "#C0C0C0"
         },
         "mode": "lines+markers",
         "name": "Unchanged",
         "showlegend": false,
         "type": "scattergl",
         "x": [
          "2021-09-04T00:00:00",
          "2021-09-05T00:00:00"
         ],
         "y": [
          "0",
          "0"
         ]
        },
        {
         "hoverinfo": "skip",
         "line": {
          "color": "#C0C0C0"
         },
         "mode": "lines+markers",
         "name": "Unchanged",
         "showlegend": false,
         "type": "scattergl",
         "x": [
          "2021-09-05T00:00:00",
          "2021-09-06T00:00:00"
         ],
         "y": [
          "0",
          "0"
         ]
        },
        {
         "hoverinfo": "skip",
         "line": {
          "color": "#C0C0C0"
         },
         "mode": "lines+markers",
         "name": "Unchanged",
         "showlegend": false,
         "type": "scattergl",
         "x": [
          "2021-09-06T00:00:00",
          "2021-09-07T00:00:00"
         ],
         "y": [
          "0",
          "0"
         ]
        },
        {
         "hoverinfo": "skip",
         "line": {
          "color": "#C0C0C0"
         },
         "mode": "lines+markers",
         "name": "Unchanged",
         "showlegend": false,
         "type": "scattergl",
         "x": [
          "2021-09-07T00:00:00",
          "2021-09-08T00:00:00"
         ],
         "y": [
          "0",
          "0"
         ]
        },
        {
         "hoverinfo": "skip",
         "line": {
          "color": "#C0C0C0"
         },
         "mode": "lines+markers",
         "name": "Unchanged",
         "showlegend": false,
         "type": "scattergl",
         "x": [
          "2021-09-08T00:00:00",
          "2021-09-09T00:00:00"
         ],
         "y": [
          "0",
          "0"
         ]
        },
        {
         "hoverinfo": "skip",
         "line": {
          "color": "#C0C0C0"
         },
         "mode": "lines+markers",
         "name": "Unchanged",
         "showlegend": false,
         "type": "scattergl",
         "x": [
          "2021-09-09T00:00:00",
          "2021-09-10T00:00:00"
         ],
         "y": [
          "0",
          "0"
         ]
        },
        {
         "hoverinfo": "skip",
         "line": {
          "color": "#C0C0C0"
         },
         "mode": "lines+markers",
         "name": "Unchanged",
         "showlegend": false,
         "type": "scattergl",
         "x": [
          "2021-09-10T00:00:00",
          "2021-09-11T00:00:00"
         ],
         "y": [
          "0",
          "0"
         ]
        },
        {
         "hoverinfo": "skip",
         "line": {
          "color": "#C0C0C0"
         },
         "mode": "lines+markers",
         "name": "Unchanged",
         "showlegend": false,
         "type": "scattergl",
         "x": [
          "2021-09-11T00:00:00",
          "2021-09-12T00:00:00"
         ],
         "y": [
          "0",
          "0"
         ]
        },
        {
         "hoverinfo": "skip",
         "line": {
          "color": "#C0C0C0"
         },
         "mode": "lines+markers",
         "name": "Unchanged",
         "showlegend": false,
         "type": "scattergl",
         "x": [
          "2021-09-12T00:00:00",
          "2021-09-13T00:00:00"
         ],
         "y": [
          "0",
          "0"
         ]
        },
        {
         "hoverinfo": "skip",
         "line": {
          "color": "#C0C0C0"
         },
         "mode": "lines+markers",
         "name": "Unchanged",
         "showlegend": false,
         "type": "scattergl",
         "x": [
          "2021-09-13T00:00:00",
          "2021-09-14T00:00:00"
         ],
         "y": [
          "0",
          "0"
         ]
        },
        {
         "hoverinfo": "skip",
         "line": {
          "color": "#C0C0C0"
         },
         "mode": "lines+markers",
         "name": "Unchanged",
         "showlegend": false,
         "type": "scattergl",
         "x": [
          "2021-09-14T00:00:00",
          "2021-09-15T00:00:00"
         ],
         "y": [
          "0",
          "0"
         ]
        },
        {
         "hoverinfo": "skip",
         "line": {
          "color": "#C0C0C0"
         },
         "mode": "lines+markers",
         "name": "Unchanged",
         "showlegend": false,
         "type": "scattergl",
         "x": [
          "2021-09-15T00:00:00",
          "2021-09-16T00:00:00"
         ],
         "y": [
          "0",
          "0"
         ]
        },
        {
         "hoverinfo": "skip",
         "line": {
          "color": "#C0C0C0"
         },
         "mode": "lines+markers",
         "name": "Unchanged",
         "showlegend": false,
         "type": "scattergl",
         "x": [
          "2021-09-16T00:00:00",
          "2021-09-17T00:00:00"
         ],
         "y": [
          "0",
          "0"
         ]
        },
        {
         "hoverinfo": "skip",
         "line": {
          "color": "#C0C0C0"
         },
         "mode": "lines+markers",
         "name": "Unchanged",
         "showlegend": false,
         "type": "scattergl",
         "x": [
          "2021-09-17T00:00:00",
          "2021-09-18T00:00:00"
         ],
         "y": [
          "0",
          "0"
         ]
        },
        {
         "hoverinfo": "skip",
         "line": {
          "color": "#C0C0C0"
         },
         "mode": "lines+markers",
         "name": "Unchanged",
         "showlegend": false,
         "type": "scattergl",
         "x": [
          "2021-09-18T00:00:00",
          "2021-09-19T00:00:00"
         ],
         "y": [
          "0",
          "0"
         ]
        },
        {
         "hoverinfo": "skip",
         "line": {
          "color": "#C0C0C0"
         },
         "mode": "lines+markers",
         "name": "Unchanged",
         "showlegend": false,
         "type": "scattergl",
         "x": [
          "2021-09-19T00:00:00",
          "2021-09-20T00:00:00"
         ],
         "y": [
          "0",
          "0"
         ]
        },
        {
         "hoverinfo": "skip",
         "line": {
          "color": "#C0C0C0"
         },
         "mode": "lines+markers",
         "name": "Unchanged",
         "showlegend": false,
         "type": "scattergl",
         "x": [
          "2021-09-20T00:00:00",
          "2021-09-21T00:00:00"
         ],
         "y": [
          "0",
          "0"
         ]
        },
        {
         "hoverinfo": "skip",
         "line": {
          "color": "#C0C0C0"
         },
         "mode": "lines+markers",
         "name": "Unchanged",
         "showlegend": false,
         "type": "scattergl",
         "x": [
          "2021-09-21T00:00:00",
          "2021-09-22T00:00:00"
         ],
         "y": [
          "0",
          "0"
         ]
        },
        {
         "hoverinfo": "skip",
         "line": {
          "color": "#C0C0C0"
         },
         "mode": "lines+markers",
         "name": "Unchanged",
         "showlegend": false,
         "type": "scattergl",
         "x": [
          "2021-09-22T00:00:00",
          "2021-09-23T00:00:00"
         ],
         "y": [
          "0",
          "0"
         ]
        },
        {
         "hoverinfo": "skip",
         "line": {
          "color": "#1f77b4"
         },
         "mode": "lines+markers",
         "name": "Train",
         "showlegend": false,
         "type": "scattergl",
         "x": [
          "2021-07-08T00:00:00",
          "2021-07-09T00:00:00"
         ],
         "y": [
          "0",
          "0"
         ]
        },
        {
         "hoverinfo": "skip",
         "line": {
          "color": "#1f77b4"
         },
         "mode": "lines+markers",
         "name": "Train",
         "showlegend": false,
         "type": "scattergl",
         "x": [
          "2021-07-09T00:00:00",
          "2021-07-10T00:00:00"
         ],
         "y": [
          "0",
          "0"
         ]
        },
        {
         "hoverinfo": "skip",
         "line": {
          "color": "#1f77b4"
         },
         "mode": "lines+markers",
         "name": "Train",
         "showlegend": false,
         "type": "scattergl",
         "x": [
          "2021-07-10T00:00:00",
          "2021-07-11T00:00:00"
         ],
         "y": [
          "0",
          "0"
         ]
        },
        {
         "hoverinfo": "skip",
         "line": {
          "color": "#1f77b4"
         },
         "mode": "lines+markers",
         "name": "Train",
         "showlegend": false,
         "type": "scattergl",
         "x": [
          "2021-07-11T00:00:00",
          "2021-07-12T00:00:00"
         ],
         "y": [
          "0",
          "0"
         ]
        },
        {
         "hoverinfo": "skip",
         "line": {
          "color": "#1f77b4"
         },
         "mode": "lines+markers",
         "name": "Train",
         "showlegend": false,
         "type": "scattergl",
         "x": [
          "2021-07-12T00:00:00",
          "2021-07-13T00:00:00"
         ],
         "y": [
          "0",
          "0"
         ]
        },
        {
         "hoverinfo": "skip",
         "line": {
          "color": "#1f77b4"
         },
         "mode": "lines+markers",
         "name": "Train",
         "showlegend": false,
         "type": "scattergl",
         "x": [
          "2021-07-13T00:00:00",
          "2021-07-14T00:00:00"
         ],
         "y": [
          "0",
          "0"
         ]
        },
        {
         "hoverinfo": "skip",
         "line": {
          "color": "#1f77b4"
         },
         "mode": "lines+markers",
         "name": "Train",
         "showlegend": false,
         "type": "scattergl",
         "x": [
          "2021-07-14T00:00:00",
          "2021-07-15T00:00:00"
         ],
         "y": [
          "0",
          "0"
         ]
        },
        {
         "hoverinfo": "skip",
         "line": {
          "color": "#1f77b4"
         },
         "mode": "lines+markers",
         "name": "Train",
         "showlegend": false,
         "type": "scattergl",
         "x": [
          "2021-07-15T00:00:00",
          "2021-07-16T00:00:00"
         ],
         "y": [
          "0",
          "0"
         ]
        },
        {
         "hoverinfo": "skip",
         "line": {
          "color": "#1f77b4"
         },
         "mode": "lines+markers",
         "name": "Train",
         "showlegend": false,
         "type": "scattergl",
         "x": [
          "2021-07-16T00:00:00",
          "2021-07-17T00:00:00"
         ],
         "y": [
          "0",
          "0"
         ]
        },
        {
         "hoverinfo": "skip",
         "line": {
          "color": "#1f77b4"
         },
         "mode": "lines+markers",
         "name": "Train",
         "showlegend": false,
         "type": "scattergl",
         "x": [
          "2021-07-17T00:00:00",
          "2021-07-18T00:00:00"
         ],
         "y": [
          "0",
          "0"
         ]
        },
        {
         "hoverinfo": "skip",
         "line": {
          "color": "#1f77b4"
         },
         "mode": "lines+markers",
         "name": "Train",
         "showlegend": false,
         "type": "scattergl",
         "x": [
          "2021-07-18T00:00:00",
          "2021-07-19T00:00:00"
         ],
         "y": [
          "0",
          "0"
         ]
        },
        {
         "hoverinfo": "skip",
         "line": {
          "color": "#1f77b4"
         },
         "mode": "lines+markers",
         "name": "Train",
         "showlegend": false,
         "type": "scattergl",
         "x": [
          "2021-07-19T00:00:00",
          "2021-07-20T00:00:00"
         ],
         "y": [
          "0",
          "0"
         ]
        },
        {
         "hoverinfo": "skip",
         "line": {
          "color": "#1f77b4"
         },
         "mode": "lines+markers",
         "name": "Train",
         "showlegend": false,
         "type": "scattergl",
         "x": [
          "2021-07-20T00:00:00",
          "2021-07-21T00:00:00"
         ],
         "y": [
          "0",
          "0"
         ]
        },
        {
         "hoverinfo": "skip",
         "line": {
          "color": "#1f77b4"
         },
         "mode": "lines+markers",
         "name": "Train",
         "showlegend": false,
         "type": "scattergl",
         "x": [
          "2021-07-21T00:00:00",
          "2021-07-22T00:00:00"
         ],
         "y": [
          "0",
          "0"
         ]
        },
        {
         "hoverinfo": "skip",
         "line": {
          "color": "#1f77b4"
         },
         "mode": "lines+markers",
         "name": "Train",
         "showlegend": false,
         "type": "scattergl",
         "x": [
          "2021-07-22T00:00:00",
          "2021-07-23T00:00:00"
         ],
         "y": [
          "0",
          "0"
         ]
        },
        {
         "hoverinfo": "skip",
         "line": {
          "color": "#1f77b4"
         },
         "mode": "lines+markers",
         "name": "Train",
         "showlegend": false,
         "type": "scattergl",
         "x": [
          "2021-07-23T00:00:00",
          "2021-07-24T00:00:00"
         ],
         "y": [
          "0",
          "0"
         ]
        },
        {
         "hoverinfo": "skip",
         "line": {
          "color": "#1f77b4"
         },
         "mode": "lines+markers",
         "name": "Train",
         "showlegend": false,
         "type": "scattergl",
         "x": [
          "2021-07-24T00:00:00",
          "2021-07-25T00:00:00"
         ],
         "y": [
          "0",
          "0"
         ]
        },
        {
         "hoverinfo": "skip",
         "line": {
          "color": "#1f77b4"
         },
         "mode": "lines+markers",
         "name": "Train",
         "showlegend": false,
         "type": "scattergl",
         "x": [
          "2021-07-25T00:00:00",
          "2021-07-26T00:00:00"
         ],
         "y": [
          "0",
          "0"
         ]
        },
        {
         "hoverinfo": "skip",
         "line": {
          "color": "#1f77b4"
         },
         "mode": "lines+markers",
         "name": "Train",
         "showlegend": false,
         "type": "scattergl",
         "x": [
          "2021-07-26T00:00:00",
          "2021-07-27T00:00:00"
         ],
         "y": [
          "0",
          "0"
         ]
        },
        {
         "hoverinfo": "skip",
         "line": {
          "color": "#1f77b4"
         },
         "mode": "lines+markers",
         "name": "Train",
         "showlegend": false,
         "type": "scattergl",
         "x": [
          "2021-07-27T00:00:00",
          "2021-07-28T00:00:00"
         ],
         "y": [
          "0",
          "0"
         ]
        },
        {
         "hoverinfo": "skip",
         "line": {
          "color": "#1f77b4"
         },
         "mode": "lines+markers",
         "name": "Train",
         "showlegend": false,
         "type": "scattergl",
         "x": [
          "2021-07-28T00:00:00",
          "2021-07-29T00:00:00"
         ],
         "y": [
          "0",
          "0"
         ]
        },
        {
         "hoverinfo": "skip",
         "line": {
          "color": "#1f77b4"
         },
         "mode": "lines+markers",
         "name": "Train",
         "showlegend": false,
         "type": "scattergl",
         "x": [
          "2021-07-29T00:00:00",
          "2021-07-30T00:00:00"
         ],
         "y": [
          "0",
          "0"
         ]
        },
        {
         "hoverinfo": "skip",
         "line": {
          "color": "#1f77b4"
         },
         "mode": "lines+markers",
         "name": "Train",
         "showlegend": false,
         "type": "scattergl",
         "x": [
          "2021-07-30T00:00:00",
          "2021-07-31T00:00:00"
         ],
         "y": [
          "0",
          "0"
         ]
        },
        {
         "hoverinfo": "skip",
         "line": {
          "color": "#1f77b4"
         },
         "mode": "lines+markers",
         "name": "Train",
         "showlegend": false,
         "type": "scattergl",
         "x": [
          "2021-07-31T00:00:00",
          "2021-08-01T00:00:00"
         ],
         "y": [
          "0",
          "0"
         ]
        },
        {
         "hoverinfo": "skip",
         "line": {
          "color": "#1f77b4"
         },
         "mode": "lines+markers",
         "name": "Train",
         "showlegend": false,
         "type": "scattergl",
         "x": [
          "2021-08-01T00:00:00",
          "2021-08-02T00:00:00"
         ],
         "y": [
          "0",
          "0"
         ]
        },
        {
         "hoverinfo": "skip",
         "line": {
          "color": "#1f77b4"
         },
         "mode": "lines+markers",
         "name": "Train",
         "showlegend": false,
         "type": "scattergl",
         "x": [
          "2021-08-02T00:00:00",
          "2021-08-03T00:00:00"
         ],
         "y": [
          "0",
          "0"
         ]
        },
        {
         "hoverinfo": "skip",
         "line": {
          "color": "#1f77b4"
         },
         "mode": "lines+markers",
         "name": "Train",
         "showlegend": false,
         "type": "scattergl",
         "x": [
          "2021-08-03T00:00:00",
          "2021-08-04T00:00:00"
         ],
         "y": [
          "0",
          "0"
         ]
        },
        {
         "hoverinfo": "skip",
         "line": {
          "color": "#1f77b4"
         },
         "mode": "lines+markers",
         "name": "Train",
         "showlegend": false,
         "type": "scattergl",
         "x": [
          "2021-08-04T00:00:00",
          "2021-08-05T00:00:00"
         ],
         "y": [
          "0",
          "0"
         ]
        },
        {
         "hoverinfo": "skip",
         "line": {
          "color": "#1f77b4"
         },
         "mode": "lines+markers",
         "name": "Train",
         "showlegend": false,
         "type": "scattergl",
         "x": [
          "2021-08-05T00:00:00",
          "2021-08-06T00:00:00"
         ],
         "y": [
          "0",
          "0"
         ]
        },
        {
         "hoverinfo": "skip",
         "line": {
          "color": "#1f77b4"
         },
         "mode": "lines+markers",
         "name": "Train",
         "showlegend": false,
         "type": "scattergl",
         "x": [
          "2021-08-06T00:00:00",
          "2021-08-07T00:00:00"
         ],
         "y": [
          "0",
          "0"
         ]
        },
        {
         "hoverinfo": "skip",
         "line": {
          "color": "#1f77b4"
         },
         "mode": "lines+markers",
         "name": "Train",
         "showlegend": false,
         "type": "scattergl",
         "x": [
          "2021-08-07T00:00:00",
          "2021-08-08T00:00:00"
         ],
         "y": [
          "0",
          "0"
         ]
        },
        {
         "hoverinfo": "skip",
         "line": {
          "color": "#1f77b4"
         },
         "mode": "lines+markers",
         "name": "Train",
         "showlegend": false,
         "type": "scattergl",
         "x": [
          "2021-08-08T00:00:00",
          "2021-08-09T00:00:00"
         ],
         "y": [
          "0",
          "0"
         ]
        },
        {
         "hoverinfo": "skip",
         "line": {
          "color": "#1f77b4"
         },
         "mode": "lines+markers",
         "name": "Train",
         "showlegend": false,
         "type": "scattergl",
         "x": [
          "2021-08-09T00:00:00",
          "2021-08-10T00:00:00"
         ],
         "y": [
          "0",
          "0"
         ]
        },
        {
         "hoverinfo": "skip",
         "line": {
          "color": "#1f77b4"
         },
         "mode": "lines+markers",
         "name": "Train",
         "showlegend": false,
         "type": "scattergl",
         "x": [
          "2021-08-10T00:00:00",
          "2021-08-11T00:00:00"
         ],
         "y": [
          "0",
          "0"
         ]
        },
        {
         "hoverinfo": "skip",
         "line": {
          "color": "#1f77b4"
         },
         "mode": "lines+markers",
         "name": "Train",
         "showlegend": false,
         "type": "scattergl",
         "x": [
          "2021-08-11T00:00:00",
          "2021-08-12T00:00:00"
         ],
         "y": [
          "0",
          "0"
         ]
        },
        {
         "hoverinfo": "skip",
         "line": {
          "color": "#1f77b4"
         },
         "mode": "lines+markers",
         "name": "Train",
         "showlegend": false,
         "type": "scattergl",
         "x": [
          "2021-08-12T00:00:00",
          "2021-08-13T00:00:00"
         ],
         "y": [
          "0",
          "0"
         ]
        },
        {
         "hoverinfo": "skip",
         "line": {
          "color": "#1f77b4"
         },
         "mode": "lines+markers",
         "name": "Train",
         "showlegend": false,
         "type": "scattergl",
         "x": [
          "2021-08-13T00:00:00",
          "2021-08-14T00:00:00"
         ],
         "y": [
          "0",
          "0"
         ]
        },
        {
         "hoverinfo": "skip",
         "line": {
          "color": "#1f77b4"
         },
         "mode": "lines+markers",
         "name": "Train",
         "showlegend": false,
         "type": "scattergl",
         "x": [
          "2021-08-14T00:00:00",
          "2021-08-15T00:00:00"
         ],
         "y": [
          "0",
          "0"
         ]
        },
        {
         "hoverinfo": "skip",
         "line": {
          "color": "#1f77b4"
         },
         "mode": "lines+markers",
         "name": "Train",
         "showlegend": false,
         "type": "scattergl",
         "x": [
          "2021-08-15T00:00:00",
          "2021-08-16T00:00:00"
         ],
         "y": [
          "0",
          "0"
         ]
        },
        {
         "hoverinfo": "skip",
         "line": {
          "color": "#1f77b4"
         },
         "mode": "lines+markers",
         "name": "Train",
         "showlegend": false,
         "type": "scattergl",
         "x": [
          "2021-08-16T00:00:00",
          "2021-08-17T00:00:00"
         ],
         "y": [
          "0",
          "0"
         ]
        },
        {
         "hoverinfo": "skip",
         "line": {
          "color": "#1f77b4"
         },
         "mode": "lines+markers",
         "name": "Train",
         "showlegend": false,
         "type": "scattergl",
         "x": [
          "2021-08-17T00:00:00",
          "2021-08-18T00:00:00"
         ],
         "y": [
          "0",
          "0"
         ]
        },
        {
         "hoverinfo": "skip",
         "line": {
          "color": "#DE970B"
         },
         "mode": "lines+markers",
         "name": "ForecastHorizon",
         "showlegend": false,
         "type": "scattergl",
         "x": [
          "2021-08-19T00:00:00",
          "2021-08-20T00:00:00"
         ],
         "y": [
          "0",
          "0"
         ]
        },
        {
         "hoverinfo": "skip",
         "line": {
          "color": "#DE970B"
         },
         "mode": "lines+markers",
         "name": "ForecastHorizon",
         "showlegend": false,
         "type": "scattergl",
         "x": [
          "2021-08-20T00:00:00",
          "2021-08-21T00:00:00"
         ],
         "y": [
          "0",
          "0"
         ]
        },
        {
         "hoverinfo": "skip",
         "line": {
          "color": "#DE970B"
         },
         "mode": "lines+markers",
         "name": "ForecastHorizon",
         "showlegend": false,
         "type": "scattergl",
         "x": [
          "2021-08-21T00:00:00",
          "2021-08-22T00:00:00"
         ],
         "y": [
          "0",
          "0"
         ]
        },
        {
         "hoverinfo": "skip",
         "line": {
          "color": "#DE970B"
         },
         "mode": "lines+markers",
         "name": "ForecastHorizon",
         "showlegend": false,
         "type": "scattergl",
         "x": [
          "2021-08-22T00:00:00",
          "2021-08-23T00:00:00"
         ],
         "y": [
          "0",
          "0"
         ]
        },
        {
         "hoverinfo": "skip",
         "line": {
          "color": "#DE970B"
         },
         "mode": "lines+markers",
         "name": "ForecastHorizon",
         "showlegend": false,
         "type": "scattergl",
         "x": [
          "2021-08-23T00:00:00",
          "2021-08-24T00:00:00"
         ],
         "y": [
          "0",
          "0"
         ]
        },
        {
         "hoverinfo": "skip",
         "line": {
          "color": "#DE970B"
         },
         "mode": "lines+markers",
         "name": "ForecastHorizon",
         "showlegend": false,
         "type": "scattergl",
         "x": [
          "2021-08-24T00:00:00",
          "2021-08-25T00:00:00"
         ],
         "y": [
          "0",
          "0"
         ]
        },
        {
         "hoverinfo": "skip",
         "line": {
          "color": "#DE970B"
         },
         "mode": "lines+markers",
         "name": "ForecastHorizon",
         "showlegend": false,
         "type": "scattergl",
         "x": [
          "2021-08-25T00:00:00",
          "2021-08-26T00:00:00"
         ],
         "y": [
          "0",
          "0"
         ]
        },
        {
         "hoverinfo": "skip",
         "line": {
          "color": "#DE970B"
         },
         "mode": "lines+markers",
         "name": "ForecastHorizon",
         "showlegend": false,
         "type": "scattergl",
         "x": [
          "2021-08-26T00:00:00",
          "2021-08-27T00:00:00"
         ],
         "y": [
          "0",
          "0"
         ]
        },
        {
         "hoverinfo": "skip",
         "line": {
          "color": "#DE970B"
         },
         "mode": "lines+markers",
         "name": "ForecastHorizon",
         "showlegend": false,
         "type": "scattergl",
         "x": [
          "2021-08-27T00:00:00",
          "2021-08-28T00:00:00"
         ],
         "y": [
          "0",
          "0"
         ]
        },
        {
         "hoverinfo": "skip",
         "line": {
          "color": "#DE970B"
         },
         "mode": "lines+markers",
         "name": "ForecastHorizon",
         "showlegend": false,
         "type": "scattergl",
         "x": [
          "2021-08-28T00:00:00",
          "2021-08-29T00:00:00"
         ],
         "y": [
          "0",
          "0"
         ]
        },
        {
         "hoverinfo": "skip",
         "line": {
          "color": "#DE970B"
         },
         "mode": "lines+markers",
         "name": "ForecastHorizon",
         "showlegend": false,
         "type": "scattergl",
         "x": [
          "2021-08-29T00:00:00",
          "2021-08-30T00:00:00"
         ],
         "y": [
          "0",
          "0"
         ]
        }
       ],
       "layout": {
        "showlegend": true,
        "template": {
         "data": {
          "bar": [
           {
            "error_x": {
             "color": "rgb(51,51,51)"
            },
            "error_y": {
             "color": "rgb(51,51,51)"
            },
            "marker": {
             "line": {
              "color": "rgb(237,237,237)",
              "width": 0.5
             },
             "pattern": {
              "fillmode": "overlay",
              "size": 10,
              "solidity": 0.2
             }
            },
            "type": "bar"
           }
          ],
          "barpolar": [
           {
            "marker": {
             "line": {
              "color": "rgb(237,237,237)",
              "width": 0.5
             },
             "pattern": {
              "fillmode": "overlay",
              "size": 10,
              "solidity": 0.2
             }
            },
            "type": "barpolar"
           }
          ],
          "carpet": [
           {
            "aaxis": {
             "endlinecolor": "rgb(51,51,51)",
             "gridcolor": "white",
             "linecolor": "white",
             "minorgridcolor": "white",
             "startlinecolor": "rgb(51,51,51)"
            },
            "baxis": {
             "endlinecolor": "rgb(51,51,51)",
             "gridcolor": "white",
             "linecolor": "white",
             "minorgridcolor": "white",
             "startlinecolor": "rgb(51,51,51)"
            },
            "type": "carpet"
           }
          ],
          "choropleth": [
           {
            "colorbar": {
             "outlinewidth": 0,
             "tickcolor": "rgb(237,237,237)",
             "ticklen": 6,
             "ticks": "inside"
            },
            "type": "choropleth"
           }
          ],
          "contour": [
           {
            "colorbar": {
             "outlinewidth": 0,
             "tickcolor": "rgb(237,237,237)",
             "ticklen": 6,
             "ticks": "inside"
            },
            "colorscale": [
             [
              0,
              "rgb(20,44,66)"
             ],
             [
              1,
              "rgb(90,179,244)"
             ]
            ],
            "type": "contour"
           }
          ],
          "contourcarpet": [
           {
            "colorbar": {
             "outlinewidth": 0,
             "tickcolor": "rgb(237,237,237)",
             "ticklen": 6,
             "ticks": "inside"
            },
            "type": "contourcarpet"
           }
          ],
          "heatmap": [
           {
            "colorbar": {
             "outlinewidth": 0,
             "tickcolor": "rgb(237,237,237)",
             "ticklen": 6,
             "ticks": "inside"
            },
            "colorscale": [
             [
              0,
              "rgb(20,44,66)"
             ],
             [
              1,
              "rgb(90,179,244)"
             ]
            ],
            "type": "heatmap"
           }
          ],
          "heatmapgl": [
           {
            "colorbar": {
             "outlinewidth": 0,
             "tickcolor": "rgb(237,237,237)",
             "ticklen": 6,
             "ticks": "inside"
            },
            "colorscale": [
             [
              0,
              "rgb(20,44,66)"
             ],
             [
              1,
              "rgb(90,179,244)"
             ]
            ],
            "type": "heatmapgl"
           }
          ],
          "histogram": [
           {
            "marker": {
             "pattern": {
              "fillmode": "overlay",
              "size": 10,
              "solidity": 0.2
             }
            },
            "type": "histogram"
           }
          ],
          "histogram2d": [
           {
            "colorbar": {
             "outlinewidth": 0,
             "tickcolor": "rgb(237,237,237)",
             "ticklen": 6,
             "ticks": "inside"
            },
            "colorscale": [
             [
              0,
              "rgb(20,44,66)"
             ],
             [
              1,
              "rgb(90,179,244)"
             ]
            ],
            "type": "histogram2d"
           }
          ],
          "histogram2dcontour": [
           {
            "colorbar": {
             "outlinewidth": 0,
             "tickcolor": "rgb(237,237,237)",
             "ticklen": 6,
             "ticks": "inside"
            },
            "colorscale": [
             [
              0,
              "rgb(20,44,66)"
             ],
             [
              1,
              "rgb(90,179,244)"
             ]
            ],
            "type": "histogram2dcontour"
           }
          ],
          "mesh3d": [
           {
            "colorbar": {
             "outlinewidth": 0,
             "tickcolor": "rgb(237,237,237)",
             "ticklen": 6,
             "ticks": "inside"
            },
            "type": "mesh3d"
           }
          ],
          "parcoords": [
           {
            "line": {
             "colorbar": {
              "outlinewidth": 0,
              "tickcolor": "rgb(237,237,237)",
              "ticklen": 6,
              "ticks": "inside"
             }
            },
            "type": "parcoords"
           }
          ],
          "pie": [
           {
            "automargin": true,
            "type": "pie"
           }
          ],
          "scatter": [
           {
            "fillpattern": {
             "fillmode": "overlay",
             "size": 10,
             "solidity": 0.2
            },
            "type": "scatter"
           }
          ],
          "scatter3d": [
           {
            "line": {
             "colorbar": {
              "outlinewidth": 0,
              "tickcolor": "rgb(237,237,237)",
              "ticklen": 6,
              "ticks": "inside"
             }
            },
            "marker": {
             "colorbar": {
              "outlinewidth": 0,
              "tickcolor": "rgb(237,237,237)",
              "ticklen": 6,
              "ticks": "inside"
             }
            },
            "type": "scatter3d"
           }
          ],
          "scattercarpet": [
           {
            "marker": {
             "colorbar": {
              "outlinewidth": 0,
              "tickcolor": "rgb(237,237,237)",
              "ticklen": 6,
              "ticks": "inside"
             }
            },
            "type": "scattercarpet"
           }
          ],
          "scattergeo": [
           {
            "marker": {
             "colorbar": {
              "outlinewidth": 0,
              "tickcolor": "rgb(237,237,237)",
              "ticklen": 6,
              "ticks": "inside"
             }
            },
            "type": "scattergeo"
           }
          ],
          "scattergl": [
           {
            "marker": {
             "colorbar": {
              "outlinewidth": 0,
              "tickcolor": "rgb(237,237,237)",
              "ticklen": 6,
              "ticks": "inside"
             }
            },
            "type": "scattergl"
           }
          ],
          "scattermapbox": [
           {
            "marker": {
             "colorbar": {
              "outlinewidth": 0,
              "tickcolor": "rgb(237,237,237)",
              "ticklen": 6,
              "ticks": "inside"
             }
            },
            "type": "scattermapbox"
           }
          ],
          "scatterpolar": [
           {
            "marker": {
             "colorbar": {
              "outlinewidth": 0,
              "tickcolor": "rgb(237,237,237)",
              "ticklen": 6,
              "ticks": "inside"
             }
            },
            "type": "scatterpolar"
           }
          ],
          "scatterpolargl": [
           {
            "marker": {
             "colorbar": {
              "outlinewidth": 0,
              "tickcolor": "rgb(237,237,237)",
              "ticklen": 6,
              "ticks": "inside"
             }
            },
            "type": "scatterpolargl"
           }
          ],
          "scatterternary": [
           {
            "marker": {
             "colorbar": {
              "outlinewidth": 0,
              "tickcolor": "rgb(237,237,237)",
              "ticklen": 6,
              "ticks": "inside"
             }
            },
            "type": "scatterternary"
           }
          ],
          "surface": [
           {
            "colorbar": {
             "outlinewidth": 0,
             "tickcolor": "rgb(237,237,237)",
             "ticklen": 6,
             "ticks": "inside"
            },
            "colorscale": [
             [
              0,
              "rgb(20,44,66)"
             ],
             [
              1,
              "rgb(90,179,244)"
             ]
            ],
            "type": "surface"
           }
          ],
          "table": [
           {
            "cells": {
             "fill": {
              "color": "rgb(237,237,237)"
             },
             "line": {
              "color": "white"
             }
            },
            "header": {
             "fill": {
              "color": "rgb(217,217,217)"
             },
             "line": {
              "color": "white"
             }
            },
            "type": "table"
           }
          ]
         },
         "layout": {
          "annotationdefaults": {
           "arrowhead": 0,
           "arrowwidth": 1
          },
          "autotypenumbers": "strict",
          "coloraxis": {
           "colorbar": {
            "outlinewidth": 0,
            "tickcolor": "rgb(237,237,237)",
            "ticklen": 6,
            "ticks": "inside"
           }
          },
          "colorscale": {
           "sequential": [
            [
             0,
             "rgb(20,44,66)"
            ],
            [
             1,
             "rgb(90,179,244)"
            ]
           ],
           "sequentialminus": [
            [
             0,
             "rgb(20,44,66)"
            ],
            [
             1,
             "rgb(90,179,244)"
            ]
           ]
          },
          "colorway": [
           "#F8766D",
           "#A3A500",
           "#00BF7D",
           "#00B0F6",
           "#E76BF3"
          ],
          "font": {
           "color": "rgb(51,51,51)"
          },
          "geo": {
           "bgcolor": "white",
           "lakecolor": "white",
           "landcolor": "rgb(237,237,237)",
           "showlakes": true,
           "showland": true,
           "subunitcolor": "white"
          },
          "hoverlabel": {
           "align": "left"
          },
          "hovermode": "closest",
          "paper_bgcolor": "white",
          "plot_bgcolor": "rgb(237,237,237)",
          "polar": {
           "angularaxis": {
            "gridcolor": "white",
            "linecolor": "white",
            "showgrid": true,
            "tickcolor": "rgb(51,51,51)",
            "ticks": "outside"
           },
           "bgcolor": "rgb(237,237,237)",
           "radialaxis": {
            "gridcolor": "white",
            "linecolor": "white",
            "showgrid": true,
            "tickcolor": "rgb(51,51,51)",
            "ticks": "outside"
           }
          },
          "scene": {
           "xaxis": {
            "backgroundcolor": "rgb(237,237,237)",
            "gridcolor": "white",
            "gridwidth": 2,
            "linecolor": "white",
            "showbackground": true,
            "showgrid": true,
            "tickcolor": "rgb(51,51,51)",
            "ticks": "outside",
            "zerolinecolor": "white"
           },
           "yaxis": {
            "backgroundcolor": "rgb(237,237,237)",
            "gridcolor": "white",
            "gridwidth": 2,
            "linecolor": "white",
            "showbackground": true,
            "showgrid": true,
            "tickcolor": "rgb(51,51,51)",
            "ticks": "outside",
            "zerolinecolor": "white"
           },
           "zaxis": {
            "backgroundcolor": "rgb(237,237,237)",
            "gridcolor": "white",
            "gridwidth": 2,
            "linecolor": "white",
            "showbackground": true,
            "showgrid": true,
            "tickcolor": "rgb(51,51,51)",
            "ticks": "outside",
            "zerolinecolor": "white"
           }
          },
          "shapedefaults": {
           "fillcolor": "black",
           "line": {
            "width": 0
           },
           "opacity": 0.3
          },
          "ternary": {
           "aaxis": {
            "gridcolor": "white",
            "linecolor": "white",
            "showgrid": true,
            "tickcolor": "rgb(51,51,51)",
            "ticks": "outside"
           },
           "baxis": {
            "gridcolor": "white",
            "linecolor": "white",
            "showgrid": true,
            "tickcolor": "rgb(51,51,51)",
            "ticks": "outside"
           },
           "bgcolor": "rgb(237,237,237)",
           "caxis": {
            "gridcolor": "white",
            "linecolor": "white",
            "showgrid": true,
            "tickcolor": "rgb(51,51,51)",
            "ticks": "outside"
           }
          },
          "xaxis": {
           "automargin": true,
           "gridcolor": "white",
           "linecolor": "white",
           "showgrid": true,
           "tickcolor": "rgb(51,51,51)",
           "ticks": "outside",
           "title": {
            "standoff": 15
           },
           "zerolinecolor": "white"
          },
          "yaxis": {
           "automargin": true,
           "gridcolor": "white",
           "linecolor": "white",
           "showgrid": true,
           "tickcolor": "rgb(51,51,51)",
           "ticks": "outside",
           "title": {
            "standoff": 15
           },
           "zerolinecolor": "white"
          }
         }
        },
        "title": {
         "text": "Train Cross-Validation Splits"
        },
        "xaxis": {
         "title": {
          "text": "Time"
         },
         "zeroline": false
        },
        "yaxis": {
         "title": {
          "text": "Windows"
         }
        }
       }
      }
     },
     "metadata": {},
     "output_type": "display_data"
    }
   ],
   "source": [
    "plot_model(plot='cv')"
   ]
  },
  {
   "cell_type": "code",
   "execution_count": 24,
   "metadata": {},
   "outputs": [
    {
     "data": {
      "application/vnd.plotly.v1+json": {
       "config": {
        "plotlyServerURL": "https://plot.ly"
       },
       "data": [
        {
         "line": {
          "color": "rgb(31, 119, 180)",
          "width": 2
         },
         "marker": {
          "size": 2
         },
         "mode": "lines+markers",
         "name": "Actual",
         "type": "scattergl",
         "x": [
          "2021-07-08T00:00:00",
          "2021-07-09T00:00:00",
          "2021-07-10T00:00:00",
          "2021-07-11T00:00:00",
          "2021-07-12T00:00:00",
          "2021-07-13T00:00:00",
          "2021-07-14T00:00:00",
          "2021-07-15T00:00:00",
          "2021-07-16T00:00:00",
          "2021-07-17T00:00:00",
          "2021-07-18T00:00:00",
          "2021-07-19T00:00:00",
          "2021-07-20T00:00:00",
          "2021-07-21T00:00:00",
          "2021-07-22T00:00:00",
          "2021-07-23T00:00:00",
          "2021-07-24T00:00:00",
          "2021-07-25T00:00:00",
          "2021-07-26T00:00:00",
          "2021-07-27T00:00:00",
          "2021-07-28T00:00:00",
          "2021-07-29T00:00:00",
          "2021-07-30T00:00:00",
          "2021-07-31T00:00:00",
          "2021-08-01T00:00:00",
          "2021-08-02T00:00:00",
          "2021-08-03T00:00:00",
          "2021-08-04T00:00:00",
          "2021-08-05T00:00:00",
          "2021-08-06T00:00:00",
          "2021-08-07T00:00:00",
          "2021-08-08T00:00:00",
          "2021-08-09T00:00:00",
          "2021-08-10T00:00:00",
          "2021-08-11T00:00:00",
          "2021-08-12T00:00:00",
          "2021-08-13T00:00:00",
          "2021-08-14T00:00:00",
          "2021-08-15T00:00:00",
          "2021-08-16T00:00:00",
          "2021-08-17T00:00:00",
          "2021-08-18T00:00:00",
          "2021-08-19T00:00:00",
          "2021-08-20T00:00:00",
          "2021-08-21T00:00:00",
          "2021-08-22T00:00:00",
          "2021-08-23T00:00:00",
          "2021-08-24T00:00:00",
          "2021-08-25T00:00:00",
          "2021-08-26T00:00:00",
          "2021-08-27T00:00:00",
          "2021-08-28T00:00:00",
          "2021-08-29T00:00:00",
          "2021-08-30T00:00:00",
          "2021-08-31T00:00:00",
          "2021-09-01T00:00:00",
          "2021-09-02T00:00:00",
          "2021-09-03T00:00:00",
          "2021-09-04T00:00:00",
          "2021-09-05T00:00:00",
          "2021-09-06T00:00:00",
          "2021-09-07T00:00:00",
          "2021-09-08T00:00:00",
          "2021-09-09T00:00:00",
          "2021-09-10T00:00:00",
          "2021-09-11T00:00:00",
          "2021-09-12T00:00:00",
          "2021-09-13T00:00:00",
          "2021-09-14T00:00:00",
          "2021-09-15T00:00:00",
          "2021-09-16T00:00:00",
          "2021-09-17T00:00:00",
          "2021-09-18T00:00:00",
          "2021-09-19T00:00:00",
          "2021-09-20T00:00:00",
          "2021-09-21T00:00:00",
          "2021-09-22T00:00:00",
          "2021-09-23T00:00:00",
          "2021-09-24T00:00:00",
          "2021-09-25T00:00:00",
          "2021-09-26T00:00:00",
          "2021-09-27T00:00:00",
          "2021-09-28T00:00:00",
          "2021-09-29T00:00:00",
          "2021-09-30T00:00:00",
          "2021-10-01T00:00:00",
          "2021-10-02T00:00:00",
          "2021-10-03T00:00:00",
          "2021-10-04T00:00:00",
          "2021-10-05T00:00:00"
         ],
         "xaxis": "x",
         "y": [
          3773,
          3172,
          2079,
          2725,
          4542,
          3795,
          3941,
          4064,
          3474,
          2093,
          2426,
          4339,
          4064,
          4224,
          4603,
          4369,
          2532,
          3276,
          4917,
          4430,
          4977,
          5193,
          4001,
          1996,
          2538,
          4764,
          5651,
          5777,
          4789,
          3782,
          1920,
          2526,
          4481,
          6034,
          5006,
          4450,
          3112,
          1914,
          2359,
          3948,
          5727,
          6365,
          6323,
          5151,
          1947,
          3128,
          7999,
          7104,
          6457,
          6643,
          5355,
          2341,
          2367,
          5592,
          6770,
          6877,
          7272,
          6279,
          2741,
          2483,
          5456,
          6082,
          6139,
          5865,
          6362,
          3132,
          2681,
          5788,
          7001,
          6721,
          7556,
          7278,
          4026,
          3514,
          6476,
          7863,
          8418,
          8290,
          7189,
          3567,
          4088,
          7418,
          8765,
          7798,
          9212,
          7115,
          3903,
          5038,
          7843,
          8872
         ],
         "yaxis": "y"
        },
        {
         "line": {
          "color": "rgb(255, 127, 14)",
          "width": 2
         },
         "marker": {
          "size": 2
         },
         "mode": "lines+markers",
         "name": "Seasonal",
         "type": "scattergl",
         "x": [
          "2021-07-08T00:00:00",
          "2021-07-09T00:00:00",
          "2021-07-10T00:00:00",
          "2021-07-11T00:00:00",
          "2021-07-12T00:00:00",
          "2021-07-13T00:00:00",
          "2021-07-14T00:00:00",
          "2021-07-15T00:00:00",
          "2021-07-16T00:00:00",
          "2021-07-17T00:00:00",
          "2021-07-18T00:00:00",
          "2021-07-19T00:00:00",
          "2021-07-20T00:00:00",
          "2021-07-21T00:00:00",
          "2021-07-22T00:00:00",
          "2021-07-23T00:00:00",
          "2021-07-24T00:00:00",
          "2021-07-25T00:00:00",
          "2021-07-26T00:00:00",
          "2021-07-27T00:00:00",
          "2021-07-28T00:00:00",
          "2021-07-29T00:00:00",
          "2021-07-30T00:00:00",
          "2021-07-31T00:00:00",
          "2021-08-01T00:00:00",
          "2021-08-02T00:00:00",
          "2021-08-03T00:00:00",
          "2021-08-04T00:00:00",
          "2021-08-05T00:00:00",
          "2021-08-06T00:00:00",
          "2021-08-07T00:00:00",
          "2021-08-08T00:00:00",
          "2021-08-09T00:00:00",
          "2021-08-10T00:00:00",
          "2021-08-11T00:00:00",
          "2021-08-12T00:00:00",
          "2021-08-13T00:00:00",
          "2021-08-14T00:00:00",
          "2021-08-15T00:00:00",
          "2021-08-16T00:00:00",
          "2021-08-17T00:00:00",
          "2021-08-18T00:00:00",
          "2021-08-19T00:00:00",
          "2021-08-20T00:00:00",
          "2021-08-21T00:00:00",
          "2021-08-22T00:00:00",
          "2021-08-23T00:00:00",
          "2021-08-24T00:00:00",
          "2021-08-25T00:00:00",
          "2021-08-26T00:00:00",
          "2021-08-27T00:00:00",
          "2021-08-28T00:00:00",
          "2021-08-29T00:00:00",
          "2021-08-30T00:00:00",
          "2021-08-31T00:00:00",
          "2021-09-01T00:00:00",
          "2021-09-02T00:00:00",
          "2021-09-03T00:00:00",
          "2021-09-04T00:00:00",
          "2021-09-05T00:00:00",
          "2021-09-06T00:00:00",
          "2021-09-07T00:00:00",
          "2021-09-08T00:00:00",
          "2021-09-09T00:00:00",
          "2021-09-10T00:00:00",
          "2021-09-11T00:00:00",
          "2021-09-12T00:00:00",
          "2021-09-13T00:00:00",
          "2021-09-14T00:00:00",
          "2021-09-15T00:00:00",
          "2021-09-16T00:00:00",
          "2021-09-17T00:00:00",
          "2021-09-18T00:00:00",
          "2021-09-19T00:00:00",
          "2021-09-20T00:00:00",
          "2021-09-21T00:00:00",
          "2021-09-22T00:00:00",
          "2021-09-23T00:00:00",
          "2021-09-24T00:00:00",
          "2021-09-25T00:00:00",
          "2021-09-26T00:00:00",
          "2021-09-27T00:00:00",
          "2021-09-28T00:00:00",
          "2021-09-29T00:00:00",
          "2021-09-30T00:00:00",
          "2021-10-01T00:00:00",
          "2021-10-02T00:00:00",
          "2021-10-03T00:00:00",
          "2021-10-04T00:00:00",
          "2021-10-05T00:00:00"
         ],
         "xaxis": "x2",
         "y": [
          1212.2074829931971,
          273.4931972789117,
          -2399.8639455782313,
          -1972.6020408163267,
          596.7312925170069,
          1180.2908163265306,
          1109.7431972789118,
          1212.2074829931971,
          273.4931972789117,
          -2399.8639455782313,
          -1972.6020408163267,
          596.7312925170069,
          1180.2908163265306,
          1109.7431972789118,
          1212.2074829931971,
          273.4931972789117,
          -2399.8639455782313,
          -1972.6020408163267,
          596.7312925170069,
          1180.2908163265306,
          1109.7431972789118,
          1212.2074829931971,
          273.4931972789117,
          -2399.8639455782313,
          -1972.6020408163267,
          596.7312925170069,
          1180.2908163265306,
          1109.7431972789118,
          1212.2074829931971,
          273.4931972789117,
          -2399.8639455782313,
          -1972.6020408163267,
          596.7312925170069,
          1180.2908163265306,
          1109.7431972789118,
          1212.2074829931971,
          273.4931972789117,
          -2399.8639455782313,
          -1972.6020408163267,
          596.7312925170069,
          1180.2908163265306,
          1109.7431972789118,
          1212.2074829931971,
          273.4931972789117,
          -2399.8639455782313,
          -1972.6020408163267,
          596.7312925170069,
          1180.2908163265306,
          1109.7431972789118,
          1212.2074829931971,
          273.4931972789117,
          -2399.8639455782313,
          -1972.6020408163267,
          596.7312925170069,
          1180.2908163265306,
          1109.7431972789118,
          1212.2074829931971,
          273.4931972789117,
          -2399.8639455782313,
          -1972.6020408163267,
          596.7312925170069,
          1180.2908163265306,
          1109.7431972789118,
          1212.2074829931971,
          273.4931972789117,
          -2399.8639455782313,
          -1972.6020408163267,
          596.7312925170069,
          1180.2908163265306,
          1109.7431972789118,
          1212.2074829931971,
          273.4931972789117,
          -2399.8639455782313,
          -1972.6020408163267,
          596.7312925170069,
          1180.2908163265306,
          1109.7431972789118,
          1212.2074829931971,
          273.4931972789117,
          -2399.8639455782313,
          -1972.6020408163267,
          596.7312925170069,
          1180.2908163265306,
          1109.7431972789118,
          1212.2074829931971,
          273.4931972789117,
          -2399.8639455782313,
          -1972.6020408163267,
          596.7312925170069,
          1180.2908163265306
         ],
         "yaxis": "y2"
        },
        {
         "line": {
          "color": "rgb(44, 160, 44)",
          "width": 2
         },
         "marker": {
          "size": 2
         },
         "mode": "lines+markers",
         "name": "Trend",
         "type": "scattergl",
         "x": [
          "2021-07-08T00:00:00",
          "2021-07-09T00:00:00",
          "2021-07-10T00:00:00",
          "2021-07-11T00:00:00",
          "2021-07-12T00:00:00",
          "2021-07-13T00:00:00",
          "2021-07-14T00:00:00",
          "2021-07-15T00:00:00",
          "2021-07-16T00:00:00",
          "2021-07-17T00:00:00",
          "2021-07-18T00:00:00",
          "2021-07-19T00:00:00",
          "2021-07-20T00:00:00",
          "2021-07-21T00:00:00",
          "2021-07-22T00:00:00",
          "2021-07-23T00:00:00",
          "2021-07-24T00:00:00",
          "2021-07-25T00:00:00",
          "2021-07-26T00:00:00",
          "2021-07-27T00:00:00",
          "2021-07-28T00:00:00",
          "2021-07-29T00:00:00",
          "2021-07-30T00:00:00",
          "2021-07-31T00:00:00",
          "2021-08-01T00:00:00",
          "2021-08-02T00:00:00",
          "2021-08-03T00:00:00",
          "2021-08-04T00:00:00",
          "2021-08-05T00:00:00",
          "2021-08-06T00:00:00",
          "2021-08-07T00:00:00",
          "2021-08-08T00:00:00",
          "2021-08-09T00:00:00",
          "2021-08-10T00:00:00",
          "2021-08-11T00:00:00",
          "2021-08-12T00:00:00",
          "2021-08-13T00:00:00",
          "2021-08-14T00:00:00",
          "2021-08-15T00:00:00",
          "2021-08-16T00:00:00",
          "2021-08-17T00:00:00",
          "2021-08-18T00:00:00",
          "2021-08-19T00:00:00",
          "2021-08-20T00:00:00",
          "2021-08-21T00:00:00",
          "2021-08-22T00:00:00",
          "2021-08-23T00:00:00",
          "2021-08-24T00:00:00",
          "2021-08-25T00:00:00",
          "2021-08-26T00:00:00",
          "2021-08-27T00:00:00",
          "2021-08-28T00:00:00",
          "2021-08-29T00:00:00",
          "2021-08-30T00:00:00",
          "2021-08-31T00:00:00",
          "2021-09-01T00:00:00",
          "2021-09-02T00:00:00",
          "2021-09-03T00:00:00",
          "2021-09-04T00:00:00",
          "2021-09-05T00:00:00",
          "2021-09-06T00:00:00",
          "2021-09-07T00:00:00",
          "2021-09-08T00:00:00",
          "2021-09-09T00:00:00",
          "2021-09-10T00:00:00",
          "2021-09-11T00:00:00",
          "2021-09-12T00:00:00",
          "2021-09-13T00:00:00",
          "2021-09-14T00:00:00",
          "2021-09-15T00:00:00",
          "2021-09-16T00:00:00",
          "2021-09-17T00:00:00",
          "2021-09-18T00:00:00",
          "2021-09-19T00:00:00",
          "2021-09-20T00:00:00",
          "2021-09-21T00:00:00",
          "2021-09-22T00:00:00",
          "2021-09-23T00:00:00",
          "2021-09-24T00:00:00",
          "2021-09-25T00:00:00",
          "2021-09-26T00:00:00",
          "2021-09-27T00:00:00",
          "2021-09-28T00:00:00",
          "2021-09-29T00:00:00",
          "2021-09-30T00:00:00",
          "2021-10-01T00:00:00",
          "2021-10-02T00:00:00",
          "2021-10-03T00:00:00",
          "2021-10-04T00:00:00",
          "2021-10-05T00:00:00"
         ],
         "xaxis": "x3",
         "y": [
          null,
          null,
          null,
          3432.4285714285716,
          3474,
          3517.1428571428564,
          3519.142857142857,
          3476.428571428571,
          3447.428571428571,
          3485.857142857142,
          3526.285714285714,
          3603.2857142857138,
          3731.142857142857,
          3793.8571428571427,
          3915.285714285714,
          3997.8571428571427,
          4050.142857142857,
          4157.714285714286,
          4242,
          4189.428571428572,
          4112.857142857142,
          4007.4285714285706,
          3985.5714285714275,
          4160,
          4274.285714285714,
          4216.571428571428,
          4185.285714285714,
          4174.428571428571,
          4172.714285714285,
          4132.285714285714,
          4186.999999999999,
          4076.857142857142,
          4028.428571428571,
          3932.714285714286,
          3931.8571428571427,
          3908,
          3831.8571428571427,
          3788,
          3982.1428571428564,
          4249.714285714285,
          4541,
          4545.714285714285,
          4655.571428571428,
          5234.285714285714,
          5431,
          5444.142857142857,
          5489.857142857142,
          5519,
          5575.285714285714,
          5466.571428571428,
          5122.714285714286,
          5075,
          5135,
          5224.857142857143,
          5356.857142857143,
          5414,
          5430.571428571428,
          5411.142857142857,
          5312.857142857143,
          5207.428571428572,
          5006.428571428571,
          5018.285714285715,
          5074.142857142857,
          5102.428571428572,
          5149.857142857143,
          5281.142857142857,
          5364.285714285714,
          5605.857142857142,
          5736.714285714285,
          5864.428571428571,
          5983.428571428571,
          6081.714285714284,
          6204.857142857141,
          6447.285714285713,
          6552.142857142857,
          6539.428571428571,
          6473.857142857142,
          6555.857142857142,
          6690.428571428571,
          6819.285714285713,
          6730.714285714285,
          6862.428571428571,
          6851.857142857142,
          6899.857142857143,
          7035.571428571428,
          7096.285714285714,
          7111.571428571428,
          null,
          null,
          null
         ],
         "yaxis": "y3"
        },
        {
         "line": {
          "color": "rgb(214, 39, 40)",
          "width": 2
         },
         "marker": {
          "size": 4
         },
         "mode": "markers",
         "name": "Residuals",
         "type": "scattergl",
         "x": [
          "2021-07-08T00:00:00",
          "2021-07-09T00:00:00",
          "2021-07-10T00:00:00",
          "2021-07-11T00:00:00",
          "2021-07-12T00:00:00",
          "2021-07-13T00:00:00",
          "2021-07-14T00:00:00",
          "2021-07-15T00:00:00",
          "2021-07-16T00:00:00",
          "2021-07-17T00:00:00",
          "2021-07-18T00:00:00",
          "2021-07-19T00:00:00",
          "2021-07-20T00:00:00",
          "2021-07-21T00:00:00",
          "2021-07-22T00:00:00",
          "2021-07-23T00:00:00",
          "2021-07-24T00:00:00",
          "2021-07-25T00:00:00",
          "2021-07-26T00:00:00",
          "2021-07-27T00:00:00",
          "2021-07-28T00:00:00",
          "2021-07-29T00:00:00",
          "2021-07-30T00:00:00",
          "2021-07-31T00:00:00",
          "2021-08-01T00:00:00",
          "2021-08-02T00:00:00",
          "2021-08-03T00:00:00",
          "2021-08-04T00:00:00",
          "2021-08-05T00:00:00",
          "2021-08-06T00:00:00",
          "2021-08-07T00:00:00",
          "2021-08-08T00:00:00",
          "2021-08-09T00:00:00",
          "2021-08-10T00:00:00",
          "2021-08-11T00:00:00",
          "2021-08-12T00:00:00",
          "2021-08-13T00:00:00",
          "2021-08-14T00:00:00",
          "2021-08-15T00:00:00",
          "2021-08-16T00:00:00",
          "2021-08-17T00:00:00",
          "2021-08-18T00:00:00",
          "2021-08-19T00:00:00",
          "2021-08-20T00:00:00",
          "2021-08-21T00:00:00",
          "2021-08-22T00:00:00",
          "2021-08-23T00:00:00",
          "2021-08-24T00:00:00",
          "2021-08-25T00:00:00",
          "2021-08-26T00:00:00",
          "2021-08-27T00:00:00",
          "2021-08-28T00:00:00",
          "2021-08-29T00:00:00",
          "2021-08-30T00:00:00",
          "2021-08-31T00:00:00",
          "2021-09-01T00:00:00",
          "2021-09-02T00:00:00",
          "2021-09-03T00:00:00",
          "2021-09-04T00:00:00",
          "2021-09-05T00:00:00",
          "2021-09-06T00:00:00",
          "2021-09-07T00:00:00",
          "2021-09-08T00:00:00",
          "2021-09-09T00:00:00",
          "2021-09-10T00:00:00",
          "2021-09-11T00:00:00",
          "2021-09-12T00:00:00",
          "2021-09-13T00:00:00",
          "2021-09-14T00:00:00",
          "2021-09-15T00:00:00",
          "2021-09-16T00:00:00",
          "2021-09-17T00:00:00",
          "2021-09-18T00:00:00",
          "2021-09-19T00:00:00",
          "2021-09-20T00:00:00",
          "2021-09-21T00:00:00",
          "2021-09-22T00:00:00",
          "2021-09-23T00:00:00",
          "2021-09-24T00:00:00",
          "2021-09-25T00:00:00",
          "2021-09-26T00:00:00",
          "2021-09-27T00:00:00",
          "2021-09-28T00:00:00",
          "2021-09-29T00:00:00",
          "2021-09-30T00:00:00",
          "2021-10-01T00:00:00",
          "2021-10-02T00:00:00",
          "2021-10-03T00:00:00",
          "2021-10-04T00:00:00",
          "2021-10-05T00:00:00"
         ],
         "xaxis": "x4",
         "y": [
          null,
          null,
          null,
          1265.1734693877552,
          471.26870748299314,
          -902.433673469387,
          -687.8860544217687,
          -624.6360544217682,
          -246.92176870748278,
          1007.0068027210891,
          872.3163265306125,
          138.98299319727937,
          -847.4336734693875,
          -679.6003401360545,
          -524.4931972789113,
          97.64965986394566,
          881.7210884353744,
          1090.8877551020405,
          78.26870748299314,
          -939.7193877551022,
          -245.600340136054,
          -26.636054421767767,
          -258.0646258503392,
          235.86394557823132,
          236.31632653061297,
          -49.302721088435305,
          285.42346938775563,
          492.82823129251756,
          -595.9217687074824,
          -623.7789115646254,
          132.86394557823223,
          421.7448979591845,
          -144.15986394557797,
          920.9948979591836,
          -35.600340136054456,
          -670.2074829931971,
          -993.3503401360543,
          525.8639455782313,
          349.4591836734703,
          -898.4455782312922,
          5.709183673469397,
          709.5425170068029,
          455.22108843537444,
          -356.77891156462545,
          -1084.1360544217687,
          -343.54081632653015,
          1912.411564625851,
          404.7091836734694,
          -228.02891156462556,
          -35.77891156462556,
          -41.207482993197914,
          -334.1360544217687,
          -795.3979591836733,
          -229.58843537414998,
          232.85204081632628,
          353.2568027210882,
          629.2210884353744,
          594.3639455782314,
          -171.9931972789118,
          -751.8265306122448,
          -147.1598639455775,
          -116.57653061224528,
          -44.88605442176868,
          -449.6360544217687,
          938.6496598639452,
          250.72108843537444,
          -710.683673469387,
          -414.58843537414907,
          83.99489795918407,
          -253.17176870748244,
          360.36394557823223,
          922.7925170068039,
          221.00680272109003,
          -960.6836734693861,
          -672.8741496598637,
          143.28061224489875,
          834.399659863946,
          521.9353741496607,
          225.07823129251767,
          -852.4217687074815,
          -670.1122448979586,
          -41.15986394557751,
          732.8520408163272,
          -211.6003401360549,
          964.2210884353744,
          -254.77891156462545,
          -808.7074829931971,
          null,
          null,
          null
         ],
         "yaxis": "y4"
        }
       ],
       "layout": {
        "annotations": [
         {
          "font": {
           "size": 16
          },
          "showarrow": false,
          "text": "Total (transformed)",
          "x": 0.49,
          "xanchor": "center",
          "xref": "paper",
          "y": 1,
          "yanchor": "bottom",
          "yref": "paper"
         },
         {
          "font": {
           "size": 16
          },
          "showarrow": false,
          "text": "Actual",
          "textangle": 90,
          "x": 0.98,
          "xanchor": "left",
          "xref": "paper",
          "y": 0.903125,
          "yanchor": "middle",
          "yref": "paper"
         },
         {
          "font": {
           "size": 16
          },
          "showarrow": false,
          "text": "Seasonal",
          "textangle": 90,
          "x": 0.98,
          "xanchor": "left",
          "xref": "paper",
          "y": 0.6343749999999999,
          "yanchor": "middle",
          "yref": "paper"
         },
         {
          "font": {
           "size": 16
          },
          "showarrow": false,
          "text": "Trend",
          "textangle": 90,
          "x": 0.98,
          "xanchor": "left",
          "xref": "paper",
          "y": 0.365625,
          "yanchor": "middle",
          "yref": "paper"
         },
         {
          "font": {
           "size": 16
          },
          "showarrow": false,
          "text": "Residual",
          "textangle": 90,
          "x": 0.98,
          "xanchor": "left",
          "xref": "paper",
          "y": 0.096875,
          "yanchor": "middle",
          "yref": "paper"
         }
        ],
        "showlegend": false,
        "template": {
         "data": {
          "bar": [
           {
            "error_x": {
             "color": "rgb(51,51,51)"
            },
            "error_y": {
             "color": "rgb(51,51,51)"
            },
            "marker": {
             "line": {
              "color": "rgb(237,237,237)",
              "width": 0.5
             },
             "pattern": {
              "fillmode": "overlay",
              "size": 10,
              "solidity": 0.2
             }
            },
            "type": "bar"
           }
          ],
          "barpolar": [
           {
            "marker": {
             "line": {
              "color": "rgb(237,237,237)",
              "width": 0.5
             },
             "pattern": {
              "fillmode": "overlay",
              "size": 10,
              "solidity": 0.2
             }
            },
            "type": "barpolar"
           }
          ],
          "carpet": [
           {
            "aaxis": {
             "endlinecolor": "rgb(51,51,51)",
             "gridcolor": "white",
             "linecolor": "white",
             "minorgridcolor": "white",
             "startlinecolor": "rgb(51,51,51)"
            },
            "baxis": {
             "endlinecolor": "rgb(51,51,51)",
             "gridcolor": "white",
             "linecolor": "white",
             "minorgridcolor": "white",
             "startlinecolor": "rgb(51,51,51)"
            },
            "type": "carpet"
           }
          ],
          "choropleth": [
           {
            "colorbar": {
             "outlinewidth": 0,
             "tickcolor": "rgb(237,237,237)",
             "ticklen": 6,
             "ticks": "inside"
            },
            "type": "choropleth"
           }
          ],
          "contour": [
           {
            "colorbar": {
             "outlinewidth": 0,
             "tickcolor": "rgb(237,237,237)",
             "ticklen": 6,
             "ticks": "inside"
            },
            "colorscale": [
             [
              0,
              "rgb(20,44,66)"
             ],
             [
              1,
              "rgb(90,179,244)"
             ]
            ],
            "type": "contour"
           }
          ],
          "contourcarpet": [
           {
            "colorbar": {
             "outlinewidth": 0,
             "tickcolor": "rgb(237,237,237)",
             "ticklen": 6,
             "ticks": "inside"
            },
            "type": "contourcarpet"
           }
          ],
          "heatmap": [
           {
            "colorbar": {
             "outlinewidth": 0,
             "tickcolor": "rgb(237,237,237)",
             "ticklen": 6,
             "ticks": "inside"
            },
            "colorscale": [
             [
              0,
              "rgb(20,44,66)"
             ],
             [
              1,
              "rgb(90,179,244)"
             ]
            ],
            "type": "heatmap"
           }
          ],
          "heatmapgl": [
           {
            "colorbar": {
             "outlinewidth": 0,
             "tickcolor": "rgb(237,237,237)",
             "ticklen": 6,
             "ticks": "inside"
            },
            "colorscale": [
             [
              0,
              "rgb(20,44,66)"
             ],
             [
              1,
              "rgb(90,179,244)"
             ]
            ],
            "type": "heatmapgl"
           }
          ],
          "histogram": [
           {
            "marker": {
             "pattern": {
              "fillmode": "overlay",
              "size": 10,
              "solidity": 0.2
             }
            },
            "type": "histogram"
           }
          ],
          "histogram2d": [
           {
            "colorbar": {
             "outlinewidth": 0,
             "tickcolor": "rgb(237,237,237)",
             "ticklen": 6,
             "ticks": "inside"
            },
            "colorscale": [
             [
              0,
              "rgb(20,44,66)"
             ],
             [
              1,
              "rgb(90,179,244)"
             ]
            ],
            "type": "histogram2d"
           }
          ],
          "histogram2dcontour": [
           {
            "colorbar": {
             "outlinewidth": 0,
             "tickcolor": "rgb(237,237,237)",
             "ticklen": 6,
             "ticks": "inside"
            },
            "colorscale": [
             [
              0,
              "rgb(20,44,66)"
             ],
             [
              1,
              "rgb(90,179,244)"
             ]
            ],
            "type": "histogram2dcontour"
           }
          ],
          "mesh3d": [
           {
            "colorbar": {
             "outlinewidth": 0,
             "tickcolor": "rgb(237,237,237)",
             "ticklen": 6,
             "ticks": "inside"
            },
            "type": "mesh3d"
           }
          ],
          "parcoords": [
           {
            "line": {
             "colorbar": {
              "outlinewidth": 0,
              "tickcolor": "rgb(237,237,237)",
              "ticklen": 6,
              "ticks": "inside"
             }
            },
            "type": "parcoords"
           }
          ],
          "pie": [
           {
            "automargin": true,
            "type": "pie"
           }
          ],
          "scatter": [
           {
            "fillpattern": {
             "fillmode": "overlay",
             "size": 10,
             "solidity": 0.2
            },
            "type": "scatter"
           }
          ],
          "scatter3d": [
           {
            "line": {
             "colorbar": {
              "outlinewidth": 0,
              "tickcolor": "rgb(237,237,237)",
              "ticklen": 6,
              "ticks": "inside"
             }
            },
            "marker": {
             "colorbar": {
              "outlinewidth": 0,
              "tickcolor": "rgb(237,237,237)",
              "ticklen": 6,
              "ticks": "inside"
             }
            },
            "type": "scatter3d"
           }
          ],
          "scattercarpet": [
           {
            "marker": {
             "colorbar": {
              "outlinewidth": 0,
              "tickcolor": "rgb(237,237,237)",
              "ticklen": 6,
              "ticks": "inside"
             }
            },
            "type": "scattercarpet"
           }
          ],
          "scattergeo": [
           {
            "marker": {
             "colorbar": {
              "outlinewidth": 0,
              "tickcolor": "rgb(237,237,237)",
              "ticklen": 6,
              "ticks": "inside"
             }
            },
            "type": "scattergeo"
           }
          ],
          "scattergl": [
           {
            "marker": {
             "colorbar": {
              "outlinewidth": 0,
              "tickcolor": "rgb(237,237,237)",
              "ticklen": 6,
              "ticks": "inside"
             }
            },
            "type": "scattergl"
           }
          ],
          "scattermapbox": [
           {
            "marker": {
             "colorbar": {
              "outlinewidth": 0,
              "tickcolor": "rgb(237,237,237)",
              "ticklen": 6,
              "ticks": "inside"
             }
            },
            "type": "scattermapbox"
           }
          ],
          "scatterpolar": [
           {
            "marker": {
             "colorbar": {
              "outlinewidth": 0,
              "tickcolor": "rgb(237,237,237)",
              "ticklen": 6,
              "ticks": "inside"
             }
            },
            "type": "scatterpolar"
           }
          ],
          "scatterpolargl": [
           {
            "marker": {
             "colorbar": {
              "outlinewidth": 0,
              "tickcolor": "rgb(237,237,237)",
              "ticklen": 6,
              "ticks": "inside"
             }
            },
            "type": "scatterpolargl"
           }
          ],
          "scatterternary": [
           {
            "marker": {
             "colorbar": {
              "outlinewidth": 0,
              "tickcolor": "rgb(237,237,237)",
              "ticklen": 6,
              "ticks": "inside"
             }
            },
            "type": "scatterternary"
           }
          ],
          "surface": [
           {
            "colorbar": {
             "outlinewidth": 0,
             "tickcolor": "rgb(237,237,237)",
             "ticklen": 6,
             "ticks": "inside"
            },
            "colorscale": [
             [
              0,
              "rgb(20,44,66)"
             ],
             [
              1,
              "rgb(90,179,244)"
             ]
            ],
            "type": "surface"
           }
          ],
          "table": [
           {
            "cells": {
             "fill": {
              "color": "rgb(237,237,237)"
             },
             "line": {
              "color": "white"
             }
            },
            "header": {
             "fill": {
              "color": "rgb(217,217,217)"
             },
             "line": {
              "color": "white"
             }
            },
            "type": "table"
           }
          ]
         },
         "layout": {
          "annotationdefaults": {
           "arrowhead": 0,
           "arrowwidth": 1
          },
          "autotypenumbers": "strict",
          "coloraxis": {
           "colorbar": {
            "outlinewidth": 0,
            "tickcolor": "rgb(237,237,237)",
            "ticklen": 6,
            "ticks": "inside"
           }
          },
          "colorscale": {
           "sequential": [
            [
             0,
             "rgb(20,44,66)"
            ],
            [
             1,
             "rgb(90,179,244)"
            ]
           ],
           "sequentialminus": [
            [
             0,
             "rgb(20,44,66)"
            ],
            [
             1,
             "rgb(90,179,244)"
            ]
           ]
          },
          "colorway": [
           "#F8766D",
           "#A3A500",
           "#00BF7D",
           "#00B0F6",
           "#E76BF3"
          ],
          "font": {
           "color": "rgb(51,51,51)"
          },
          "geo": {
           "bgcolor": "white",
           "lakecolor": "white",
           "landcolor": "rgb(237,237,237)",
           "showlakes": true,
           "showland": true,
           "subunitcolor": "white"
          },
          "hoverlabel": {
           "align": "left"
          },
          "hovermode": "closest",
          "paper_bgcolor": "white",
          "plot_bgcolor": "rgb(237,237,237)",
          "polar": {
           "angularaxis": {
            "gridcolor": "white",
            "linecolor": "white",
            "showgrid": true,
            "tickcolor": "rgb(51,51,51)",
            "ticks": "outside"
           },
           "bgcolor": "rgb(237,237,237)",
           "radialaxis": {
            "gridcolor": "white",
            "linecolor": "white",
            "showgrid": true,
            "tickcolor": "rgb(51,51,51)",
            "ticks": "outside"
           }
          },
          "scene": {
           "xaxis": {
            "backgroundcolor": "rgb(237,237,237)",
            "gridcolor": "white",
            "gridwidth": 2,
            "linecolor": "white",
            "showbackground": true,
            "showgrid": true,
            "tickcolor": "rgb(51,51,51)",
            "ticks": "outside",
            "zerolinecolor": "white"
           },
           "yaxis": {
            "backgroundcolor": "rgb(237,237,237)",
            "gridcolor": "white",
            "gridwidth": 2,
            "linecolor": "white",
            "showbackground": true,
            "showgrid": true,
            "tickcolor": "rgb(51,51,51)",
            "ticks": "outside",
            "zerolinecolor": "white"
           },
           "zaxis": {
            "backgroundcolor": "rgb(237,237,237)",
            "gridcolor": "white",
            "gridwidth": 2,
            "linecolor": "white",
            "showbackground": true,
            "showgrid": true,
            "tickcolor": "rgb(51,51,51)",
            "ticks": "outside",
            "zerolinecolor": "white"
           }
          },
          "shapedefaults": {
           "fillcolor": "black",
           "line": {
            "width": 0
           },
           "opacity": 0.3
          },
          "ternary": {
           "aaxis": {
            "gridcolor": "white",
            "linecolor": "white",
            "showgrid": true,
            "tickcolor": "rgb(51,51,51)",
            "ticks": "outside"
           },
           "baxis": {
            "gridcolor": "white",
            "linecolor": "white",
            "showgrid": true,
            "tickcolor": "rgb(51,51,51)",
            "ticks": "outside"
           },
           "bgcolor": "rgb(237,237,237)",
           "caxis": {
            "gridcolor": "white",
            "linecolor": "white",
            "showgrid": true,
            "tickcolor": "rgb(51,51,51)",
            "ticks": "outside"
           }
          },
          "xaxis": {
           "automargin": true,
           "gridcolor": "white",
           "linecolor": "white",
           "showgrid": true,
           "tickcolor": "rgb(51,51,51)",
           "ticks": "outside",
           "title": {
            "standoff": 15
           },
           "zerolinecolor": "white"
          },
          "yaxis": {
           "automargin": true,
           "gridcolor": "white",
           "linecolor": "white",
           "showgrid": true,
           "tickcolor": "rgb(51,51,51)",
           "ticks": "outside",
           "title": {
            "standoff": 15
           },
           "zerolinecolor": "white"
          }
         }
        },
        "title": {
         "text": "Classical Decomposition (additive) | Total<br>Seasonal Period = 7"
        },
        "xaxis": {
         "anchor": "y",
         "domain": [
          0,
          0.98
         ],
         "matches": "x4",
         "showticklabels": false
        },
        "xaxis2": {
         "anchor": "y2",
         "domain": [
          0,
          0.98
         ],
         "matches": "x4",
         "showticklabels": false
        },
        "xaxis3": {
         "anchor": "y3",
         "domain": [
          0,
          0.98
         ],
         "matches": "x4",
         "showticklabels": false
        },
        "xaxis4": {
         "anchor": "y4",
         "domain": [
          0,
          0.98
         ]
        },
        "yaxis": {
         "anchor": "x",
         "domain": [
          0.80625,
          1
         ]
        },
        "yaxis2": {
         "anchor": "x2",
         "domain": [
          0.5375,
          0.73125
         ]
        },
        "yaxis3": {
         "anchor": "x3",
         "domain": [
          0.26875,
          0.4625
         ]
        },
        "yaxis4": {
         "anchor": "x4",
         "domain": [
          0,
          0.19375
         ]
        }
       }
      }
     },
     "metadata": {},
     "output_type": "display_data"
    }
   ],
   "source": [
    "plot_model(plot='decomp')"
   ]
  },
  {
   "cell_type": "code",
   "execution_count": 25,
   "metadata": {},
   "outputs": [
    {
     "data": {
      "application/vnd.plotly.v1+json": {
       "config": {
        "plotlyServerURL": "https://plot.ly"
       },
       "data": [
        {
         "line": {
          "color": "rgb(31, 119, 180)",
          "width": 2
         },
         "marker": {
          "size": 2
         },
         "mode": "lines+markers",
         "name": "Actual",
         "type": "scattergl",
         "x": [
          "2021-07-08T00:00:00",
          "2021-07-09T00:00:00",
          "2021-07-10T00:00:00",
          "2021-07-11T00:00:00",
          "2021-07-12T00:00:00",
          "2021-07-13T00:00:00",
          "2021-07-14T00:00:00",
          "2021-07-15T00:00:00",
          "2021-07-16T00:00:00",
          "2021-07-17T00:00:00",
          "2021-07-18T00:00:00",
          "2021-07-19T00:00:00",
          "2021-07-20T00:00:00",
          "2021-07-21T00:00:00",
          "2021-07-22T00:00:00",
          "2021-07-23T00:00:00",
          "2021-07-24T00:00:00",
          "2021-07-25T00:00:00",
          "2021-07-26T00:00:00",
          "2021-07-27T00:00:00",
          "2021-07-28T00:00:00",
          "2021-07-29T00:00:00",
          "2021-07-30T00:00:00",
          "2021-07-31T00:00:00",
          "2021-08-01T00:00:00",
          "2021-08-02T00:00:00",
          "2021-08-03T00:00:00",
          "2021-08-04T00:00:00",
          "2021-08-05T00:00:00",
          "2021-08-06T00:00:00",
          "2021-08-07T00:00:00",
          "2021-08-08T00:00:00",
          "2021-08-09T00:00:00",
          "2021-08-10T00:00:00",
          "2021-08-11T00:00:00",
          "2021-08-12T00:00:00",
          "2021-08-13T00:00:00",
          "2021-08-14T00:00:00",
          "2021-08-15T00:00:00",
          "2021-08-16T00:00:00",
          "2021-08-17T00:00:00",
          "2021-08-18T00:00:00",
          "2021-08-19T00:00:00",
          "2021-08-20T00:00:00",
          "2021-08-21T00:00:00",
          "2021-08-22T00:00:00",
          "2021-08-23T00:00:00",
          "2021-08-24T00:00:00",
          "2021-08-25T00:00:00",
          "2021-08-26T00:00:00",
          "2021-08-27T00:00:00",
          "2021-08-28T00:00:00",
          "2021-08-29T00:00:00",
          "2021-08-30T00:00:00",
          "2021-08-31T00:00:00",
          "2021-09-01T00:00:00",
          "2021-09-02T00:00:00",
          "2021-09-03T00:00:00",
          "2021-09-04T00:00:00",
          "2021-09-05T00:00:00",
          "2021-09-06T00:00:00",
          "2021-09-07T00:00:00",
          "2021-09-08T00:00:00",
          "2021-09-09T00:00:00",
          "2021-09-10T00:00:00",
          "2021-09-11T00:00:00",
          "2021-09-12T00:00:00",
          "2021-09-13T00:00:00",
          "2021-09-14T00:00:00",
          "2021-09-15T00:00:00",
          "2021-09-16T00:00:00",
          "2021-09-17T00:00:00",
          "2021-09-18T00:00:00",
          "2021-09-19T00:00:00",
          "2021-09-20T00:00:00",
          "2021-09-21T00:00:00",
          "2021-09-22T00:00:00",
          "2021-09-23T00:00:00",
          "2021-09-24T00:00:00",
          "2021-09-25T00:00:00",
          "2021-09-26T00:00:00",
          "2021-09-27T00:00:00",
          "2021-09-28T00:00:00",
          "2021-09-29T00:00:00",
          "2021-09-30T00:00:00",
          "2021-10-01T00:00:00",
          "2021-10-02T00:00:00",
          "2021-10-03T00:00:00",
          "2021-10-04T00:00:00",
          "2021-10-05T00:00:00"
         ],
         "xaxis": "x",
         "y": [
          3773,
          3172,
          2079,
          2725,
          4542,
          3795,
          3941,
          4064,
          3474,
          2093,
          2426,
          4339,
          4064,
          4224,
          4603,
          4369,
          2532,
          3276,
          4917,
          4430,
          4977,
          5193,
          4001,
          1996,
          2538,
          4764,
          5651,
          5777,
          4789,
          3782,
          1920,
          2526,
          4481,
          6034,
          5006,
          4450,
          3112,
          1914,
          2359,
          3948,
          5727,
          6365,
          6323,
          5151,
          1947,
          3128,
          7999,
          7104,
          6457,
          6643,
          5355,
          2341,
          2367,
          5592,
          6770,
          6877,
          7272,
          6279,
          2741,
          2483,
          5456,
          6082,
          6139,
          5865,
          6362,
          3132,
          2681,
          5788,
          7001,
          6721,
          7556,
          7278,
          4026,
          3514,
          6476,
          7863,
          8418,
          8290,
          7189,
          3567,
          4088,
          7418,
          8765,
          7798,
          9212,
          7115,
          3903,
          5038,
          7843,
          8872
         ],
         "yaxis": "y"
        },
        {
         "line": {
          "color": "rgb(255, 127, 14)",
          "width": 2
         },
         "marker": {
          "size": 2
         },
         "mode": "lines+markers",
         "name": "Seasonal",
         "type": "scattergl",
         "x": [
          "2021-07-08T00:00:00",
          "2021-07-09T00:00:00",
          "2021-07-10T00:00:00",
          "2021-07-11T00:00:00",
          "2021-07-12T00:00:00",
          "2021-07-13T00:00:00",
          "2021-07-14T00:00:00",
          "2021-07-15T00:00:00",
          "2021-07-16T00:00:00",
          "2021-07-17T00:00:00",
          "2021-07-18T00:00:00",
          "2021-07-19T00:00:00",
          "2021-07-20T00:00:00",
          "2021-07-21T00:00:00",
          "2021-07-22T00:00:00",
          "2021-07-23T00:00:00",
          "2021-07-24T00:00:00",
          "2021-07-25T00:00:00",
          "2021-07-26T00:00:00",
          "2021-07-27T00:00:00",
          "2021-07-28T00:00:00",
          "2021-07-29T00:00:00",
          "2021-07-30T00:00:00",
          "2021-07-31T00:00:00",
          "2021-08-01T00:00:00",
          "2021-08-02T00:00:00",
          "2021-08-03T00:00:00",
          "2021-08-04T00:00:00",
          "2021-08-05T00:00:00",
          "2021-08-06T00:00:00",
          "2021-08-07T00:00:00",
          "2021-08-08T00:00:00",
          "2021-08-09T00:00:00",
          "2021-08-10T00:00:00",
          "2021-08-11T00:00:00",
          "2021-08-12T00:00:00",
          "2021-08-13T00:00:00",
          "2021-08-14T00:00:00",
          "2021-08-15T00:00:00",
          "2021-08-16T00:00:00",
          "2021-08-17T00:00:00",
          "2021-08-18T00:00:00",
          "2021-08-19T00:00:00",
          "2021-08-20T00:00:00",
          "2021-08-21T00:00:00",
          "2021-08-22T00:00:00",
          "2021-08-23T00:00:00",
          "2021-08-24T00:00:00",
          "2021-08-25T00:00:00",
          "2021-08-26T00:00:00",
          "2021-08-27T00:00:00",
          "2021-08-28T00:00:00",
          "2021-08-29T00:00:00",
          "2021-08-30T00:00:00",
          "2021-08-31T00:00:00",
          "2021-09-01T00:00:00",
          "2021-09-02T00:00:00",
          "2021-09-03T00:00:00",
          "2021-09-04T00:00:00",
          "2021-09-05T00:00:00",
          "2021-09-06T00:00:00",
          "2021-09-07T00:00:00",
          "2021-09-08T00:00:00",
          "2021-09-09T00:00:00",
          "2021-09-10T00:00:00",
          "2021-09-11T00:00:00",
          "2021-09-12T00:00:00",
          "2021-09-13T00:00:00",
          "2021-09-14T00:00:00",
          "2021-09-15T00:00:00",
          "2021-09-16T00:00:00",
          "2021-09-17T00:00:00",
          "2021-09-18T00:00:00",
          "2021-09-19T00:00:00",
          "2021-09-20T00:00:00",
          "2021-09-21T00:00:00",
          "2021-09-22T00:00:00",
          "2021-09-23T00:00:00",
          "2021-09-24T00:00:00",
          "2021-09-25T00:00:00",
          "2021-09-26T00:00:00",
          "2021-09-27T00:00:00",
          "2021-09-28T00:00:00",
          "2021-09-29T00:00:00",
          "2021-09-30T00:00:00",
          "2021-10-01T00:00:00",
          "2021-10-02T00:00:00",
          "2021-10-03T00:00:00",
          "2021-10-04T00:00:00",
          "2021-10-05T00:00:00"
         ],
         "xaxis": "x2",
         "y": [
          1212.2074829931971,
          273.4931972789117,
          -2399.8639455782313,
          -1972.6020408163267,
          596.7312925170069,
          1180.2908163265306,
          1109.7431972789118,
          1212.2074829931971,
          273.4931972789117,
          -2399.8639455782313,
          -1972.6020408163267,
          596.7312925170069,
          1180.2908163265306,
          1109.7431972789118,
          1212.2074829931971,
          273.4931972789117,
          -2399.8639455782313,
          -1972.6020408163267,
          596.7312925170069,
          1180.2908163265306,
          1109.7431972789118,
          1212.2074829931971,
          273.4931972789117,
          -2399.8639455782313,
          -1972.6020408163267,
          596.7312925170069,
          1180.2908163265306,
          1109.7431972789118,
          1212.2074829931971,
          273.4931972789117,
          -2399.8639455782313,
          -1972.6020408163267,
          596.7312925170069,
          1180.2908163265306,
          1109.7431972789118,
          1212.2074829931971,
          273.4931972789117,
          -2399.8639455782313,
          -1972.6020408163267,
          596.7312925170069,
          1180.2908163265306,
          1109.7431972789118,
          1212.2074829931971,
          273.4931972789117,
          -2399.8639455782313,
          -1972.6020408163267,
          596.7312925170069,
          1180.2908163265306,
          1109.7431972789118,
          1212.2074829931971,
          273.4931972789117,
          -2399.8639455782313,
          -1972.6020408163267,
          596.7312925170069,
          1180.2908163265306,
          1109.7431972789118,
          1212.2074829931971,
          273.4931972789117,
          -2399.8639455782313,
          -1972.6020408163267,
          596.7312925170069,
          1180.2908163265306,
          1109.7431972789118,
          1212.2074829931971,
          273.4931972789117,
          -2399.8639455782313,
          -1972.6020408163267,
          596.7312925170069,
          1180.2908163265306,
          1109.7431972789118,
          1212.2074829931971,
          273.4931972789117,
          -2399.8639455782313,
          -1972.6020408163267,
          596.7312925170069,
          1180.2908163265306,
          1109.7431972789118,
          1212.2074829931971,
          273.4931972789117,
          -2399.8639455782313,
          -1972.6020408163267,
          596.7312925170069,
          1180.2908163265306,
          1109.7431972789118,
          1212.2074829931971,
          273.4931972789117,
          -2399.8639455782313,
          -1972.6020408163267,
          596.7312925170069,
          1180.2908163265306
         ],
         "yaxis": "y2"
        },
        {
         "line": {
          "color": "rgb(44, 160, 44)",
          "width": 2
         },
         "marker": {
          "size": 2
         },
         "mode": "lines+markers",
         "name": "Trend",
         "type": "scattergl",
         "x": [
          "2021-07-08T00:00:00",
          "2021-07-09T00:00:00",
          "2021-07-10T00:00:00",
          "2021-07-11T00:00:00",
          "2021-07-12T00:00:00",
          "2021-07-13T00:00:00",
          "2021-07-14T00:00:00",
          "2021-07-15T00:00:00",
          "2021-07-16T00:00:00",
          "2021-07-17T00:00:00",
          "2021-07-18T00:00:00",
          "2021-07-19T00:00:00",
          "2021-07-20T00:00:00",
          "2021-07-21T00:00:00",
          "2021-07-22T00:00:00",
          "2021-07-23T00:00:00",
          "2021-07-24T00:00:00",
          "2021-07-25T00:00:00",
          "2021-07-26T00:00:00",
          "2021-07-27T00:00:00",
          "2021-07-28T00:00:00",
          "2021-07-29T00:00:00",
          "2021-07-30T00:00:00",
          "2021-07-31T00:00:00",
          "2021-08-01T00:00:00",
          "2021-08-02T00:00:00",
          "2021-08-03T00:00:00",
          "2021-08-04T00:00:00",
          "2021-08-05T00:00:00",
          "2021-08-06T00:00:00",
          "2021-08-07T00:00:00",
          "2021-08-08T00:00:00",
          "2021-08-09T00:00:00",
          "2021-08-10T00:00:00",
          "2021-08-11T00:00:00",
          "2021-08-12T00:00:00",
          "2021-08-13T00:00:00",
          "2021-08-14T00:00:00",
          "2021-08-15T00:00:00",
          "2021-08-16T00:00:00",
          "2021-08-17T00:00:00",
          "2021-08-18T00:00:00",
          "2021-08-19T00:00:00",
          "2021-08-20T00:00:00",
          "2021-08-21T00:00:00",
          "2021-08-22T00:00:00",
          "2021-08-23T00:00:00",
          "2021-08-24T00:00:00",
          "2021-08-25T00:00:00",
          "2021-08-26T00:00:00",
          "2021-08-27T00:00:00",
          "2021-08-28T00:00:00",
          "2021-08-29T00:00:00",
          "2021-08-30T00:00:00",
          "2021-08-31T00:00:00",
          "2021-09-01T00:00:00",
          "2021-09-02T00:00:00",
          "2021-09-03T00:00:00",
          "2021-09-04T00:00:00",
          "2021-09-05T00:00:00",
          "2021-09-06T00:00:00",
          "2021-09-07T00:00:00",
          "2021-09-08T00:00:00",
          "2021-09-09T00:00:00",
          "2021-09-10T00:00:00",
          "2021-09-11T00:00:00",
          "2021-09-12T00:00:00",
          "2021-09-13T00:00:00",
          "2021-09-14T00:00:00",
          "2021-09-15T00:00:00",
          "2021-09-16T00:00:00",
          "2021-09-17T00:00:00",
          "2021-09-18T00:00:00",
          "2021-09-19T00:00:00",
          "2021-09-20T00:00:00",
          "2021-09-21T00:00:00",
          "2021-09-22T00:00:00",
          "2021-09-23T00:00:00",
          "2021-09-24T00:00:00",
          "2021-09-25T00:00:00",
          "2021-09-26T00:00:00",
          "2021-09-27T00:00:00",
          "2021-09-28T00:00:00",
          "2021-09-29T00:00:00",
          "2021-09-30T00:00:00",
          "2021-10-01T00:00:00",
          "2021-10-02T00:00:00",
          "2021-10-03T00:00:00",
          "2021-10-04T00:00:00",
          "2021-10-05T00:00:00"
         ],
         "xaxis": "x3",
         "y": [
          null,
          null,
          null,
          3432.4285714285716,
          3474,
          3517.1428571428564,
          3519.142857142857,
          3476.428571428571,
          3447.428571428571,
          3485.857142857142,
          3526.285714285714,
          3603.2857142857138,
          3731.142857142857,
          3793.8571428571427,
          3915.285714285714,
          3997.8571428571427,
          4050.142857142857,
          4157.714285714286,
          4242,
          4189.428571428572,
          4112.857142857142,
          4007.4285714285706,
          3985.5714285714275,
          4160,
          4274.285714285714,
          4216.571428571428,
          4185.285714285714,
          4174.428571428571,
          4172.714285714285,
          4132.285714285714,
          4186.999999999999,
          4076.857142857142,
          4028.428571428571,
          3932.714285714286,
          3931.8571428571427,
          3908,
          3831.8571428571427,
          3788,
          3982.1428571428564,
          4249.714285714285,
          4541,
          4545.714285714285,
          4655.571428571428,
          5234.285714285714,
          5431,
          5444.142857142857,
          5489.857142857142,
          5519,
          5575.285714285714,
          5466.571428571428,
          5122.714285714286,
          5075,
          5135,
          5224.857142857143,
          5356.857142857143,
          5414,
          5430.571428571428,
          5411.142857142857,
          5312.857142857143,
          5207.428571428572,
          5006.428571428571,
          5018.285714285715,
          5074.142857142857,
          5102.428571428572,
          5149.857142857143,
          5281.142857142857,
          5364.285714285714,
          5605.857142857142,
          5736.714285714285,
          5864.428571428571,
          5983.428571428571,
          6081.714285714284,
          6204.857142857141,
          6447.285714285713,
          6552.142857142857,
          6539.428571428571,
          6473.857142857142,
          6555.857142857142,
          6690.428571428571,
          6819.285714285713,
          6730.714285714285,
          6862.428571428571,
          6851.857142857142,
          6899.857142857143,
          7035.571428571428,
          7096.285714285714,
          7111.571428571428,
          null,
          null,
          null
         ],
         "yaxis": "y3"
        },
        {
         "line": {
          "color": "rgb(214, 39, 40)",
          "width": 2
         },
         "marker": {
          "size": 4
         },
         "mode": "markers",
         "name": "Residuals",
         "type": "scattergl",
         "x": [
          "2021-07-08T00:00:00",
          "2021-07-09T00:00:00",
          "2021-07-10T00:00:00",
          "2021-07-11T00:00:00",
          "2021-07-12T00:00:00",
          "2021-07-13T00:00:00",
          "2021-07-14T00:00:00",
          "2021-07-15T00:00:00",
          "2021-07-16T00:00:00",
          "2021-07-17T00:00:00",
          "2021-07-18T00:00:00",
          "2021-07-19T00:00:00",
          "2021-07-20T00:00:00",
          "2021-07-21T00:00:00",
          "2021-07-22T00:00:00",
          "2021-07-23T00:00:00",
          "2021-07-24T00:00:00",
          "2021-07-25T00:00:00",
          "2021-07-26T00:00:00",
          "2021-07-27T00:00:00",
          "2021-07-28T00:00:00",
          "2021-07-29T00:00:00",
          "2021-07-30T00:00:00",
          "2021-07-31T00:00:00",
          "2021-08-01T00:00:00",
          "2021-08-02T00:00:00",
          "2021-08-03T00:00:00",
          "2021-08-04T00:00:00",
          "2021-08-05T00:00:00",
          "2021-08-06T00:00:00",
          "2021-08-07T00:00:00",
          "2021-08-08T00:00:00",
          "2021-08-09T00:00:00",
          "2021-08-10T00:00:00",
          "2021-08-11T00:00:00",
          "2021-08-12T00:00:00",
          "2021-08-13T00:00:00",
          "2021-08-14T00:00:00",
          "2021-08-15T00:00:00",
          "2021-08-16T00:00:00",
          "2021-08-17T00:00:00",
          "2021-08-18T00:00:00",
          "2021-08-19T00:00:00",
          "2021-08-20T00:00:00",
          "2021-08-21T00:00:00",
          "2021-08-22T00:00:00",
          "2021-08-23T00:00:00",
          "2021-08-24T00:00:00",
          "2021-08-25T00:00:00",
          "2021-08-26T00:00:00",
          "2021-08-27T00:00:00",
          "2021-08-28T00:00:00",
          "2021-08-29T00:00:00",
          "2021-08-30T00:00:00",
          "2021-08-31T00:00:00",
          "2021-09-01T00:00:00",
          "2021-09-02T00:00:00",
          "2021-09-03T00:00:00",
          "2021-09-04T00:00:00",
          "2021-09-05T00:00:00",
          "2021-09-06T00:00:00",
          "2021-09-07T00:00:00",
          "2021-09-08T00:00:00",
          "2021-09-09T00:00:00",
          "2021-09-10T00:00:00",
          "2021-09-11T00:00:00",
          "2021-09-12T00:00:00",
          "2021-09-13T00:00:00",
          "2021-09-14T00:00:00",
          "2021-09-15T00:00:00",
          "2021-09-16T00:00:00",
          "2021-09-17T00:00:00",
          "2021-09-18T00:00:00",
          "2021-09-19T00:00:00",
          "2021-09-20T00:00:00",
          "2021-09-21T00:00:00",
          "2021-09-22T00:00:00",
          "2021-09-23T00:00:00",
          "2021-09-24T00:00:00",
          "2021-09-25T00:00:00",
          "2021-09-26T00:00:00",
          "2021-09-27T00:00:00",
          "2021-09-28T00:00:00",
          "2021-09-29T00:00:00",
          "2021-09-30T00:00:00",
          "2021-10-01T00:00:00",
          "2021-10-02T00:00:00",
          "2021-10-03T00:00:00",
          "2021-10-04T00:00:00",
          "2021-10-05T00:00:00"
         ],
         "xaxis": "x4",
         "y": [
          null,
          null,
          null,
          1265.1734693877552,
          471.26870748299314,
          -902.433673469387,
          -687.8860544217687,
          -624.6360544217682,
          -246.92176870748278,
          1007.0068027210891,
          872.3163265306125,
          138.98299319727937,
          -847.4336734693875,
          -679.6003401360545,
          -524.4931972789113,
          97.64965986394566,
          881.7210884353744,
          1090.8877551020405,
          78.26870748299314,
          -939.7193877551022,
          -245.600340136054,
          -26.636054421767767,
          -258.0646258503392,
          235.86394557823132,
          236.31632653061297,
          -49.302721088435305,
          285.42346938775563,
          492.82823129251756,
          -595.9217687074824,
          -623.7789115646254,
          132.86394557823223,
          421.7448979591845,
          -144.15986394557797,
          920.9948979591836,
          -35.600340136054456,
          -670.2074829931971,
          -993.3503401360543,
          525.8639455782313,
          349.4591836734703,
          -898.4455782312922,
          5.709183673469397,
          709.5425170068029,
          455.22108843537444,
          -356.77891156462545,
          -1084.1360544217687,
          -343.54081632653015,
          1912.411564625851,
          404.7091836734694,
          -228.02891156462556,
          -35.77891156462556,
          -41.207482993197914,
          -334.1360544217687,
          -795.3979591836733,
          -229.58843537414998,
          232.85204081632628,
          353.2568027210882,
          629.2210884353744,
          594.3639455782314,
          -171.9931972789118,
          -751.8265306122448,
          -147.1598639455775,
          -116.57653061224528,
          -44.88605442176868,
          -449.6360544217687,
          938.6496598639452,
          250.72108843537444,
          -710.683673469387,
          -414.58843537414907,
          83.99489795918407,
          -253.17176870748244,
          360.36394557823223,
          922.7925170068039,
          221.00680272109003,
          -960.6836734693861,
          -672.8741496598637,
          143.28061224489875,
          834.399659863946,
          521.9353741496607,
          225.07823129251767,
          -852.4217687074815,
          -670.1122448979586,
          -41.15986394557751,
          732.8520408163272,
          -211.6003401360549,
          964.2210884353744,
          -254.77891156462545,
          -808.7074829931971,
          null,
          null,
          null
         ],
         "yaxis": "y4"
        }
       ],
       "layout": {
        "annotations": [
         {
          "font": {
           "size": 16
          },
          "showarrow": false,
          "text": "Total (transformed)",
          "x": 0.49,
          "xanchor": "center",
          "xref": "paper",
          "y": 1,
          "yanchor": "bottom",
          "yref": "paper"
         },
         {
          "font": {
           "size": 16
          },
          "showarrow": false,
          "text": "Actual",
          "textangle": 90,
          "x": 0.98,
          "xanchor": "left",
          "xref": "paper",
          "y": 0.903125,
          "yanchor": "middle",
          "yref": "paper"
         },
         {
          "font": {
           "size": 16
          },
          "showarrow": false,
          "text": "Seasonal",
          "textangle": 90,
          "x": 0.98,
          "xanchor": "left",
          "xref": "paper",
          "y": 0.6343749999999999,
          "yanchor": "middle",
          "yref": "paper"
         },
         {
          "font": {
           "size": 16
          },
          "showarrow": false,
          "text": "Trend",
          "textangle": 90,
          "x": 0.98,
          "xanchor": "left",
          "xref": "paper",
          "y": 0.365625,
          "yanchor": "middle",
          "yref": "paper"
         },
         {
          "font": {
           "size": 16
          },
          "showarrow": false,
          "text": "Residual",
          "textangle": 90,
          "x": 0.98,
          "xanchor": "left",
          "xref": "paper",
          "y": 0.096875,
          "yanchor": "middle",
          "yref": "paper"
         }
        ],
        "showlegend": false,
        "template": {
         "data": {
          "bar": [
           {
            "error_x": {
             "color": "rgb(51,51,51)"
            },
            "error_y": {
             "color": "rgb(51,51,51)"
            },
            "marker": {
             "line": {
              "color": "rgb(237,237,237)",
              "width": 0.5
             },
             "pattern": {
              "fillmode": "overlay",
              "size": 10,
              "solidity": 0.2
             }
            },
            "type": "bar"
           }
          ],
          "barpolar": [
           {
            "marker": {
             "line": {
              "color": "rgb(237,237,237)",
              "width": 0.5
             },
             "pattern": {
              "fillmode": "overlay",
              "size": 10,
              "solidity": 0.2
             }
            },
            "type": "barpolar"
           }
          ],
          "carpet": [
           {
            "aaxis": {
             "endlinecolor": "rgb(51,51,51)",
             "gridcolor": "white",
             "linecolor": "white",
             "minorgridcolor": "white",
             "startlinecolor": "rgb(51,51,51)"
            },
            "baxis": {
             "endlinecolor": "rgb(51,51,51)",
             "gridcolor": "white",
             "linecolor": "white",
             "minorgridcolor": "white",
             "startlinecolor": "rgb(51,51,51)"
            },
            "type": "carpet"
           }
          ],
          "choropleth": [
           {
            "colorbar": {
             "outlinewidth": 0,
             "tickcolor": "rgb(237,237,237)",
             "ticklen": 6,
             "ticks": "inside"
            },
            "type": "choropleth"
           }
          ],
          "contour": [
           {
            "colorbar": {
             "outlinewidth": 0,
             "tickcolor": "rgb(237,237,237)",
             "ticklen": 6,
             "ticks": "inside"
            },
            "colorscale": [
             [
              0,
              "rgb(20,44,66)"
             ],
             [
              1,
              "rgb(90,179,244)"
             ]
            ],
            "type": "contour"
           }
          ],
          "contourcarpet": [
           {
            "colorbar": {
             "outlinewidth": 0,
             "tickcolor": "rgb(237,237,237)",
             "ticklen": 6,
             "ticks": "inside"
            },
            "type": "contourcarpet"
           }
          ],
          "heatmap": [
           {
            "colorbar": {
             "outlinewidth": 0,
             "tickcolor": "rgb(237,237,237)",
             "ticklen": 6,
             "ticks": "inside"
            },
            "colorscale": [
             [
              0,
              "rgb(20,44,66)"
             ],
             [
              1,
              "rgb(90,179,244)"
             ]
            ],
            "type": "heatmap"
           }
          ],
          "heatmapgl": [
           {
            "colorbar": {
             "outlinewidth": 0,
             "tickcolor": "rgb(237,237,237)",
             "ticklen": 6,
             "ticks": "inside"
            },
            "colorscale": [
             [
              0,
              "rgb(20,44,66)"
             ],
             [
              1,
              "rgb(90,179,244)"
             ]
            ],
            "type": "heatmapgl"
           }
          ],
          "histogram": [
           {
            "marker": {
             "pattern": {
              "fillmode": "overlay",
              "size": 10,
              "solidity": 0.2
             }
            },
            "type": "histogram"
           }
          ],
          "histogram2d": [
           {
            "colorbar": {
             "outlinewidth": 0,
             "tickcolor": "rgb(237,237,237)",
             "ticklen": 6,
             "ticks": "inside"
            },
            "colorscale": [
             [
              0,
              "rgb(20,44,66)"
             ],
             [
              1,
              "rgb(90,179,244)"
             ]
            ],
            "type": "histogram2d"
           }
          ],
          "histogram2dcontour": [
           {
            "colorbar": {
             "outlinewidth": 0,
             "tickcolor": "rgb(237,237,237)",
             "ticklen": 6,
             "ticks": "inside"
            },
            "colorscale": [
             [
              0,
              "rgb(20,44,66)"
             ],
             [
              1,
              "rgb(90,179,244)"
             ]
            ],
            "type": "histogram2dcontour"
           }
          ],
          "mesh3d": [
           {
            "colorbar": {
             "outlinewidth": 0,
             "tickcolor": "rgb(237,237,237)",
             "ticklen": 6,
             "ticks": "inside"
            },
            "type": "mesh3d"
           }
          ],
          "parcoords": [
           {
            "line": {
             "colorbar": {
              "outlinewidth": 0,
              "tickcolor": "rgb(237,237,237)",
              "ticklen": 6,
              "ticks": "inside"
             }
            },
            "type": "parcoords"
           }
          ],
          "pie": [
           {
            "automargin": true,
            "type": "pie"
           }
          ],
          "scatter": [
           {
            "fillpattern": {
             "fillmode": "overlay",
             "size": 10,
             "solidity": 0.2
            },
            "type": "scatter"
           }
          ],
          "scatter3d": [
           {
            "line": {
             "colorbar": {
              "outlinewidth": 0,
              "tickcolor": "rgb(237,237,237)",
              "ticklen": 6,
              "ticks": "inside"
             }
            },
            "marker": {
             "colorbar": {
              "outlinewidth": 0,
              "tickcolor": "rgb(237,237,237)",
              "ticklen": 6,
              "ticks": "inside"
             }
            },
            "type": "scatter3d"
           }
          ],
          "scattercarpet": [
           {
            "marker": {
             "colorbar": {
              "outlinewidth": 0,
              "tickcolor": "rgb(237,237,237)",
              "ticklen": 6,
              "ticks": "inside"
             }
            },
            "type": "scattercarpet"
           }
          ],
          "scattergeo": [
           {
            "marker": {
             "colorbar": {
              "outlinewidth": 0,
              "tickcolor": "rgb(237,237,237)",
              "ticklen": 6,
              "ticks": "inside"
             }
            },
            "type": "scattergeo"
           }
          ],
          "scattergl": [
           {
            "marker": {
             "colorbar": {
              "outlinewidth": 0,
              "tickcolor": "rgb(237,237,237)",
              "ticklen": 6,
              "ticks": "inside"
             }
            },
            "type": "scattergl"
           }
          ],
          "scattermapbox": [
           {
            "marker": {
             "colorbar": {
              "outlinewidth": 0,
              "tickcolor": "rgb(237,237,237)",
              "ticklen": 6,
              "ticks": "inside"
             }
            },
            "type": "scattermapbox"
           }
          ],
          "scatterpolar": [
           {
            "marker": {
             "colorbar": {
              "outlinewidth": 0,
              "tickcolor": "rgb(237,237,237)",
              "ticklen": 6,
              "ticks": "inside"
             }
            },
            "type": "scatterpolar"
           }
          ],
          "scatterpolargl": [
           {
            "marker": {
             "colorbar": {
              "outlinewidth": 0,
              "tickcolor": "rgb(237,237,237)",
              "ticklen": 6,
              "ticks": "inside"
             }
            },
            "type": "scatterpolargl"
           }
          ],
          "scatterternary": [
           {
            "marker": {
             "colorbar": {
              "outlinewidth": 0,
              "tickcolor": "rgb(237,237,237)",
              "ticklen": 6,
              "ticks": "inside"
             }
            },
            "type": "scatterternary"
           }
          ],
          "surface": [
           {
            "colorbar": {
             "outlinewidth": 0,
             "tickcolor": "rgb(237,237,237)",
             "ticklen": 6,
             "ticks": "inside"
            },
            "colorscale": [
             [
              0,
              "rgb(20,44,66)"
             ],
             [
              1,
              "rgb(90,179,244)"
             ]
            ],
            "type": "surface"
           }
          ],
          "table": [
           {
            "cells": {
             "fill": {
              "color": "rgb(237,237,237)"
             },
             "line": {
              "color": "white"
             }
            },
            "header": {
             "fill": {
              "color": "rgb(217,217,217)"
             },
             "line": {
              "color": "white"
             }
            },
            "type": "table"
           }
          ]
         },
         "layout": {
          "annotationdefaults": {
           "arrowhead": 0,
           "arrowwidth": 1
          },
          "autotypenumbers": "strict",
          "coloraxis": {
           "colorbar": {
            "outlinewidth": 0,
            "tickcolor": "rgb(237,237,237)",
            "ticklen": 6,
            "ticks": "inside"
           }
          },
          "colorscale": {
           "sequential": [
            [
             0,
             "rgb(20,44,66)"
            ],
            [
             1,
             "rgb(90,179,244)"
            ]
           ],
           "sequentialminus": [
            [
             0,
             "rgb(20,44,66)"
            ],
            [
             1,
             "rgb(90,179,244)"
            ]
           ]
          },
          "colorway": [
           "#F8766D",
           "#A3A500",
           "#00BF7D",
           "#00B0F6",
           "#E76BF3"
          ],
          "font": {
           "color": "rgb(51,51,51)"
          },
          "geo": {
           "bgcolor": "white",
           "lakecolor": "white",
           "landcolor": "rgb(237,237,237)",
           "showlakes": true,
           "showland": true,
           "subunitcolor": "white"
          },
          "hoverlabel": {
           "align": "left"
          },
          "hovermode": "closest",
          "paper_bgcolor": "white",
          "plot_bgcolor": "rgb(237,237,237)",
          "polar": {
           "angularaxis": {
            "gridcolor": "white",
            "linecolor": "white",
            "showgrid": true,
            "tickcolor": "rgb(51,51,51)",
            "ticks": "outside"
           },
           "bgcolor": "rgb(237,237,237)",
           "radialaxis": {
            "gridcolor": "white",
            "linecolor": "white",
            "showgrid": true,
            "tickcolor": "rgb(51,51,51)",
            "ticks": "outside"
           }
          },
          "scene": {
           "xaxis": {
            "backgroundcolor": "rgb(237,237,237)",
            "gridcolor": "white",
            "gridwidth": 2,
            "linecolor": "white",
            "showbackground": true,
            "showgrid": true,
            "tickcolor": "rgb(51,51,51)",
            "ticks": "outside",
            "zerolinecolor": "white"
           },
           "yaxis": {
            "backgroundcolor": "rgb(237,237,237)",
            "gridcolor": "white",
            "gridwidth": 2,
            "linecolor": "white",
            "showbackground": true,
            "showgrid": true,
            "tickcolor": "rgb(51,51,51)",
            "ticks": "outside",
            "zerolinecolor": "white"
           },
           "zaxis": {
            "backgroundcolor": "rgb(237,237,237)",
            "gridcolor": "white",
            "gridwidth": 2,
            "linecolor": "white",
            "showbackground": true,
            "showgrid": true,
            "tickcolor": "rgb(51,51,51)",
            "ticks": "outside",
            "zerolinecolor": "white"
           }
          },
          "shapedefaults": {
           "fillcolor": "black",
           "line": {
            "width": 0
           },
           "opacity": 0.3
          },
          "ternary": {
           "aaxis": {
            "gridcolor": "white",
            "linecolor": "white",
            "showgrid": true,
            "tickcolor": "rgb(51,51,51)",
            "ticks": "outside"
           },
           "baxis": {
            "gridcolor": "white",
            "linecolor": "white",
            "showgrid": true,
            "tickcolor": "rgb(51,51,51)",
            "ticks": "outside"
           },
           "bgcolor": "rgb(237,237,237)",
           "caxis": {
            "gridcolor": "white",
            "linecolor": "white",
            "showgrid": true,
            "tickcolor": "rgb(51,51,51)",
            "ticks": "outside"
           }
          },
          "xaxis": {
           "automargin": true,
           "gridcolor": "white",
           "linecolor": "white",
           "showgrid": true,
           "tickcolor": "rgb(51,51,51)",
           "ticks": "outside",
           "title": {
            "standoff": 15
           },
           "zerolinecolor": "white"
          },
          "yaxis": {
           "automargin": true,
           "gridcolor": "white",
           "linecolor": "white",
           "showgrid": true,
           "tickcolor": "rgb(51,51,51)",
           "ticks": "outside",
           "title": {
            "standoff": 15
           },
           "zerolinecolor": "white"
          }
         }
        },
        "title": {
         "text": "Classical Decomposition (Multiplicative) | Total<br>Seasonal Period = 7"
        },
        "xaxis": {
         "anchor": "y",
         "domain": [
          0,
          0.98
         ],
         "matches": "x4",
         "showticklabels": false
        },
        "xaxis2": {
         "anchor": "y2",
         "domain": [
          0,
          0.98
         ],
         "matches": "x4",
         "showticklabels": false
        },
        "xaxis3": {
         "anchor": "y3",
         "domain": [
          0,
          0.98
         ],
         "matches": "x4",
         "showticklabels": false
        },
        "xaxis4": {
         "anchor": "y4",
         "domain": [
          0,
          0.98
         ]
        },
        "yaxis": {
         "anchor": "x",
         "domain": [
          0.80625,
          1
         ]
        },
        "yaxis2": {
         "anchor": "x2",
         "domain": [
          0.5375,
          0.73125
         ]
        },
        "yaxis3": {
         "anchor": "x3",
         "domain": [
          0.26875,
          0.4625
         ]
        },
        "yaxis4": {
         "anchor": "x4",
         "domain": [
          0,
          0.19375
         ]
        }
       }
      }
     },
     "metadata": {},
     "output_type": "display_data"
    }
   ],
   "source": [
    "plot_model(plot='decomp', data_kwargs={'type':'Multiplicative'})"
   ]
  },
  {
   "cell_type": "code",
   "execution_count": 26,
   "metadata": {},
   "outputs": [
    {
     "data": {
      "application/vnd.plotly.v1+json": {
       "config": {
        "plotlyServerURL": "https://plot.ly"
       },
       "data": [
        {
         "line": {
          "color": "rgb(31, 119, 180)",
          "width": 2
         },
         "marker": {
          "size": 2
         },
         "mode": "lines+markers",
         "name": "Actual",
         "type": "scattergl",
         "x": [
          "2021-07-08T00:00:00",
          "2021-07-09T00:00:00",
          "2021-07-10T00:00:00",
          "2021-07-11T00:00:00",
          "2021-07-12T00:00:00",
          "2021-07-13T00:00:00",
          "2021-07-14T00:00:00",
          "2021-07-15T00:00:00",
          "2021-07-16T00:00:00",
          "2021-07-17T00:00:00",
          "2021-07-18T00:00:00",
          "2021-07-19T00:00:00",
          "2021-07-20T00:00:00",
          "2021-07-21T00:00:00",
          "2021-07-22T00:00:00",
          "2021-07-23T00:00:00",
          "2021-07-24T00:00:00",
          "2021-07-25T00:00:00",
          "2021-07-26T00:00:00",
          "2021-07-27T00:00:00",
          "2021-07-28T00:00:00",
          "2021-07-29T00:00:00",
          "2021-07-30T00:00:00",
          "2021-07-31T00:00:00",
          "2021-08-01T00:00:00",
          "2021-08-02T00:00:00",
          "2021-08-03T00:00:00",
          "2021-08-04T00:00:00",
          "2021-08-05T00:00:00",
          "2021-08-06T00:00:00",
          "2021-08-07T00:00:00",
          "2021-08-08T00:00:00",
          "2021-08-09T00:00:00",
          "2021-08-10T00:00:00",
          "2021-08-11T00:00:00",
          "2021-08-12T00:00:00",
          "2021-08-13T00:00:00",
          "2021-08-14T00:00:00",
          "2021-08-15T00:00:00",
          "2021-08-16T00:00:00",
          "2021-08-17T00:00:00",
          "2021-08-18T00:00:00",
          "2021-08-19T00:00:00",
          "2021-08-20T00:00:00",
          "2021-08-21T00:00:00",
          "2021-08-22T00:00:00",
          "2021-08-23T00:00:00",
          "2021-08-24T00:00:00",
          "2021-08-25T00:00:00",
          "2021-08-26T00:00:00",
          "2021-08-27T00:00:00",
          "2021-08-28T00:00:00",
          "2021-08-29T00:00:00",
          "2021-08-30T00:00:00",
          "2021-08-31T00:00:00",
          "2021-09-01T00:00:00",
          "2021-09-02T00:00:00",
          "2021-09-03T00:00:00",
          "2021-09-04T00:00:00",
          "2021-09-05T00:00:00",
          "2021-09-06T00:00:00",
          "2021-09-07T00:00:00",
          "2021-09-08T00:00:00",
          "2021-09-09T00:00:00",
          "2021-09-10T00:00:00",
          "2021-09-11T00:00:00",
          "2021-09-12T00:00:00",
          "2021-09-13T00:00:00",
          "2021-09-14T00:00:00",
          "2021-09-15T00:00:00",
          "2021-09-16T00:00:00",
          "2021-09-17T00:00:00",
          "2021-09-18T00:00:00",
          "2021-09-19T00:00:00",
          "2021-09-20T00:00:00",
          "2021-09-21T00:00:00",
          "2021-09-22T00:00:00",
          "2021-09-23T00:00:00",
          "2021-09-24T00:00:00",
          "2021-09-25T00:00:00",
          "2021-09-26T00:00:00",
          "2021-09-27T00:00:00",
          "2021-09-28T00:00:00",
          "2021-09-29T00:00:00",
          "2021-09-30T00:00:00",
          "2021-10-01T00:00:00",
          "2021-10-02T00:00:00",
          "2021-10-03T00:00:00",
          "2021-10-04T00:00:00",
          "2021-10-05T00:00:00"
         ],
         "xaxis": "x",
         "y": [
          3773,
          3172,
          2079,
          2725,
          4542,
          3795,
          3941,
          4064,
          3474,
          2093,
          2426,
          4339,
          4064,
          4224,
          4603,
          4369,
          2532,
          3276,
          4917,
          4430,
          4977,
          5193,
          4001,
          1996,
          2538,
          4764,
          5651,
          5777,
          4789,
          3782,
          1920,
          2526,
          4481,
          6034,
          5006,
          4450,
          3112,
          1914,
          2359,
          3948,
          5727,
          6365,
          6323,
          5151,
          1947,
          3128,
          7999,
          7104,
          6457,
          6643,
          5355,
          2341,
          2367,
          5592,
          6770,
          6877,
          7272,
          6279,
          2741,
          2483,
          5456,
          6082,
          6139,
          5865,
          6362,
          3132,
          2681,
          5788,
          7001,
          6721,
          7556,
          7278,
          4026,
          3514,
          6476,
          7863,
          8418,
          8290,
          7189,
          3567,
          4088,
          7418,
          8765,
          7798,
          9212,
          7115,
          3903,
          5038,
          7843,
          8872
         ],
         "yaxis": "y"
        },
        {
         "line": {
          "color": "rgb(255, 127, 14)",
          "width": 2
         },
         "marker": {
          "size": 2
         },
         "mode": "lines+markers",
         "name": "Seasonal",
         "type": "scattergl",
         "x": [
          "2021-07-08T00:00:00",
          "2021-07-09T00:00:00",
          "2021-07-10T00:00:00",
          "2021-07-11T00:00:00",
          "2021-07-12T00:00:00",
          "2021-07-13T00:00:00",
          "2021-07-14T00:00:00",
          "2021-07-15T00:00:00",
          "2021-07-16T00:00:00",
          "2021-07-17T00:00:00",
          "2021-07-18T00:00:00",
          "2021-07-19T00:00:00",
          "2021-07-20T00:00:00",
          "2021-07-21T00:00:00",
          "2021-07-22T00:00:00",
          "2021-07-23T00:00:00",
          "2021-07-24T00:00:00",
          "2021-07-25T00:00:00",
          "2021-07-26T00:00:00",
          "2021-07-27T00:00:00",
          "2021-07-28T00:00:00",
          "2021-07-29T00:00:00",
          "2021-07-30T00:00:00",
          "2021-07-31T00:00:00",
          "2021-08-01T00:00:00",
          "2021-08-02T00:00:00",
          "2021-08-03T00:00:00",
          "2021-08-04T00:00:00",
          "2021-08-05T00:00:00",
          "2021-08-06T00:00:00",
          "2021-08-07T00:00:00",
          "2021-08-08T00:00:00",
          "2021-08-09T00:00:00",
          "2021-08-10T00:00:00",
          "2021-08-11T00:00:00",
          "2021-08-12T00:00:00",
          "2021-08-13T00:00:00",
          "2021-08-14T00:00:00",
          "2021-08-15T00:00:00",
          "2021-08-16T00:00:00",
          "2021-08-17T00:00:00",
          "2021-08-18T00:00:00",
          "2021-08-19T00:00:00",
          "2021-08-20T00:00:00",
          "2021-08-21T00:00:00",
          "2021-08-22T00:00:00",
          "2021-08-23T00:00:00",
          "2021-08-24T00:00:00",
          "2021-08-25T00:00:00",
          "2021-08-26T00:00:00",
          "2021-08-27T00:00:00",
          "2021-08-28T00:00:00",
          "2021-08-29T00:00:00",
          "2021-08-30T00:00:00",
          "2021-08-31T00:00:00",
          "2021-09-01T00:00:00",
          "2021-09-02T00:00:00",
          "2021-09-03T00:00:00",
          "2021-09-04T00:00:00",
          "2021-09-05T00:00:00",
          "2021-09-06T00:00:00",
          "2021-09-07T00:00:00",
          "2021-09-08T00:00:00",
          "2021-09-09T00:00:00",
          "2021-09-10T00:00:00",
          "2021-09-11T00:00:00",
          "2021-09-12T00:00:00",
          "2021-09-13T00:00:00",
          "2021-09-14T00:00:00",
          "2021-09-15T00:00:00",
          "2021-09-16T00:00:00",
          "2021-09-17T00:00:00",
          "2021-09-18T00:00:00",
          "2021-09-19T00:00:00",
          "2021-09-20T00:00:00",
          "2021-09-21T00:00:00",
          "2021-09-22T00:00:00",
          "2021-09-23T00:00:00",
          "2021-09-24T00:00:00",
          "2021-09-25T00:00:00",
          "2021-09-26T00:00:00",
          "2021-09-27T00:00:00",
          "2021-09-28T00:00:00",
          "2021-09-29T00:00:00",
          "2021-09-30T00:00:00",
          "2021-10-01T00:00:00",
          "2021-10-02T00:00:00",
          "2021-10-03T00:00:00",
          "2021-10-04T00:00:00",
          "2021-10-05T00:00:00"
         ],
         "xaxis": "x2",
         "y": [
          1212.2074829931971,
          273.4931972789117,
          -2399.8639455782313,
          -1972.6020408163267,
          596.7312925170069,
          1180.2908163265306,
          1109.7431972789118,
          1212.2074829931971,
          273.4931972789117,
          -2399.8639455782313,
          -1972.6020408163267,
          596.7312925170069,
          1180.2908163265306,
          1109.7431972789118,
          1212.2074829931971,
          273.4931972789117,
          -2399.8639455782313,
          -1972.6020408163267,
          596.7312925170069,
          1180.2908163265306,
          1109.7431972789118,
          1212.2074829931971,
          273.4931972789117,
          -2399.8639455782313,
          -1972.6020408163267,
          596.7312925170069,
          1180.2908163265306,
          1109.7431972789118,
          1212.2074829931971,
          273.4931972789117,
          -2399.8639455782313,
          -1972.6020408163267,
          596.7312925170069,
          1180.2908163265306,
          1109.7431972789118,
          1212.2074829931971,
          273.4931972789117,
          -2399.8639455782313,
          -1972.6020408163267,
          596.7312925170069,
          1180.2908163265306,
          1109.7431972789118,
          1212.2074829931971,
          273.4931972789117,
          -2399.8639455782313,
          -1972.6020408163267,
          596.7312925170069,
          1180.2908163265306,
          1109.7431972789118,
          1212.2074829931971,
          273.4931972789117,
          -2399.8639455782313,
          -1972.6020408163267,
          596.7312925170069,
          1180.2908163265306,
          1109.7431972789118,
          1212.2074829931971,
          273.4931972789117,
          -2399.8639455782313,
          -1972.6020408163267,
          596.7312925170069,
          1180.2908163265306,
          1109.7431972789118,
          1212.2074829931971,
          273.4931972789117,
          -2399.8639455782313,
          -1972.6020408163267,
          596.7312925170069,
          1180.2908163265306,
          1109.7431972789118,
          1212.2074829931971,
          273.4931972789117,
          -2399.8639455782313,
          -1972.6020408163267,
          596.7312925170069,
          1180.2908163265306,
          1109.7431972789118,
          1212.2074829931971,
          273.4931972789117,
          -2399.8639455782313,
          -1972.6020408163267,
          596.7312925170069,
          1180.2908163265306,
          1109.7431972789118,
          1212.2074829931971,
          273.4931972789117,
          -2399.8639455782313,
          -1972.6020408163267,
          596.7312925170069,
          1180.2908163265306
         ],
         "yaxis": "y2"
        },
        {
         "line": {
          "color": "rgb(44, 160, 44)",
          "width": 2
         },
         "marker": {
          "size": 2
         },
         "mode": "lines+markers",
         "name": "Trend",
         "type": "scattergl",
         "x": [
          "2021-07-08T00:00:00",
          "2021-07-09T00:00:00",
          "2021-07-10T00:00:00",
          "2021-07-11T00:00:00",
          "2021-07-12T00:00:00",
          "2021-07-13T00:00:00",
          "2021-07-14T00:00:00",
          "2021-07-15T00:00:00",
          "2021-07-16T00:00:00",
          "2021-07-17T00:00:00",
          "2021-07-18T00:00:00",
          "2021-07-19T00:00:00",
          "2021-07-20T00:00:00",
          "2021-07-21T00:00:00",
          "2021-07-22T00:00:00",
          "2021-07-23T00:00:00",
          "2021-07-24T00:00:00",
          "2021-07-25T00:00:00",
          "2021-07-26T00:00:00",
          "2021-07-27T00:00:00",
          "2021-07-28T00:00:00",
          "2021-07-29T00:00:00",
          "2021-07-30T00:00:00",
          "2021-07-31T00:00:00",
          "2021-08-01T00:00:00",
          "2021-08-02T00:00:00",
          "2021-08-03T00:00:00",
          "2021-08-04T00:00:00",
          "2021-08-05T00:00:00",
          "2021-08-06T00:00:00",
          "2021-08-07T00:00:00",
          "2021-08-08T00:00:00",
          "2021-08-09T00:00:00",
          "2021-08-10T00:00:00",
          "2021-08-11T00:00:00",
          "2021-08-12T00:00:00",
          "2021-08-13T00:00:00",
          "2021-08-14T00:00:00",
          "2021-08-15T00:00:00",
          "2021-08-16T00:00:00",
          "2021-08-17T00:00:00",
          "2021-08-18T00:00:00",
          "2021-08-19T00:00:00",
          "2021-08-20T00:00:00",
          "2021-08-21T00:00:00",
          "2021-08-22T00:00:00",
          "2021-08-23T00:00:00",
          "2021-08-24T00:00:00",
          "2021-08-25T00:00:00",
          "2021-08-26T00:00:00",
          "2021-08-27T00:00:00",
          "2021-08-28T00:00:00",
          "2021-08-29T00:00:00",
          "2021-08-30T00:00:00",
          "2021-08-31T00:00:00",
          "2021-09-01T00:00:00",
          "2021-09-02T00:00:00",
          "2021-09-03T00:00:00",
          "2021-09-04T00:00:00",
          "2021-09-05T00:00:00",
          "2021-09-06T00:00:00",
          "2021-09-07T00:00:00",
          "2021-09-08T00:00:00",
          "2021-09-09T00:00:00",
          "2021-09-10T00:00:00",
          "2021-09-11T00:00:00",
          "2021-09-12T00:00:00",
          "2021-09-13T00:00:00",
          "2021-09-14T00:00:00",
          "2021-09-15T00:00:00",
          "2021-09-16T00:00:00",
          "2021-09-17T00:00:00",
          "2021-09-18T00:00:00",
          "2021-09-19T00:00:00",
          "2021-09-20T00:00:00",
          "2021-09-21T00:00:00",
          "2021-09-22T00:00:00",
          "2021-09-23T00:00:00",
          "2021-09-24T00:00:00",
          "2021-09-25T00:00:00",
          "2021-09-26T00:00:00",
          "2021-09-27T00:00:00",
          "2021-09-28T00:00:00",
          "2021-09-29T00:00:00",
          "2021-09-30T00:00:00",
          "2021-10-01T00:00:00",
          "2021-10-02T00:00:00",
          "2021-10-03T00:00:00",
          "2021-10-04T00:00:00",
          "2021-10-05T00:00:00"
         ],
         "xaxis": "x3",
         "y": [
          null,
          null,
          null,
          3432.4285714285716,
          3474,
          3517.1428571428564,
          3519.142857142857,
          3476.428571428571,
          3447.428571428571,
          3485.857142857142,
          3526.285714285714,
          3603.2857142857138,
          3731.142857142857,
          3793.8571428571427,
          3915.285714285714,
          3997.8571428571427,
          4050.142857142857,
          4157.714285714286,
          4242,
          4189.428571428572,
          4112.857142857142,
          4007.4285714285706,
          3985.5714285714275,
          4160,
          4274.285714285714,
          4216.571428571428,
          4185.285714285714,
          4174.428571428571,
          4172.714285714285,
          4132.285714285714,
          4186.999999999999,
          4076.857142857142,
          4028.428571428571,
          3932.714285714286,
          3931.8571428571427,
          3908,
          3831.8571428571427,
          3788,
          3982.1428571428564,
          4249.714285714285,
          4541,
          4545.714285714285,
          4655.571428571428,
          5234.285714285714,
          5431,
          5444.142857142857,
          5489.857142857142,
          5519,
          5575.285714285714,
          5466.571428571428,
          5122.714285714286,
          5075,
          5135,
          5224.857142857143,
          5356.857142857143,
          5414,
          5430.571428571428,
          5411.142857142857,
          5312.857142857143,
          5207.428571428572,
          5006.428571428571,
          5018.285714285715,
          5074.142857142857,
          5102.428571428572,
          5149.857142857143,
          5281.142857142857,
          5364.285714285714,
          5605.857142857142,
          5736.714285714285,
          5864.428571428571,
          5983.428571428571,
          6081.714285714284,
          6204.857142857141,
          6447.285714285713,
          6552.142857142857,
          6539.428571428571,
          6473.857142857142,
          6555.857142857142,
          6690.428571428571,
          6819.285714285713,
          6730.714285714285,
          6862.428571428571,
          6851.857142857142,
          6899.857142857143,
          7035.571428571428,
          7096.285714285714,
          7111.571428571428,
          null,
          null,
          null
         ],
         "yaxis": "y3"
        },
        {
         "line": {
          "color": "rgb(214, 39, 40)",
          "width": 2
         },
         "marker": {
          "size": 4
         },
         "mode": "markers",
         "name": "Residuals",
         "type": "scattergl",
         "x": [
          "2021-07-08T00:00:00",
          "2021-07-09T00:00:00",
          "2021-07-10T00:00:00",
          "2021-07-11T00:00:00",
          "2021-07-12T00:00:00",
          "2021-07-13T00:00:00",
          "2021-07-14T00:00:00",
          "2021-07-15T00:00:00",
          "2021-07-16T00:00:00",
          "2021-07-17T00:00:00",
          "2021-07-18T00:00:00",
          "2021-07-19T00:00:00",
          "2021-07-20T00:00:00",
          "2021-07-21T00:00:00",
          "2021-07-22T00:00:00",
          "2021-07-23T00:00:00",
          "2021-07-24T00:00:00",
          "2021-07-25T00:00:00",
          "2021-07-26T00:00:00",
          "2021-07-27T00:00:00",
          "2021-07-28T00:00:00",
          "2021-07-29T00:00:00",
          "2021-07-30T00:00:00",
          "2021-07-31T00:00:00",
          "2021-08-01T00:00:00",
          "2021-08-02T00:00:00",
          "2021-08-03T00:00:00",
          "2021-08-04T00:00:00",
          "2021-08-05T00:00:00",
          "2021-08-06T00:00:00",
          "2021-08-07T00:00:00",
          "2021-08-08T00:00:00",
          "2021-08-09T00:00:00",
          "2021-08-10T00:00:00",
          "2021-08-11T00:00:00",
          "2021-08-12T00:00:00",
          "2021-08-13T00:00:00",
          "2021-08-14T00:00:00",
          "2021-08-15T00:00:00",
          "2021-08-16T00:00:00",
          "2021-08-17T00:00:00",
          "2021-08-18T00:00:00",
          "2021-08-19T00:00:00",
          "2021-08-20T00:00:00",
          "2021-08-21T00:00:00",
          "2021-08-22T00:00:00",
          "2021-08-23T00:00:00",
          "2021-08-24T00:00:00",
          "2021-08-25T00:00:00",
          "2021-08-26T00:00:00",
          "2021-08-27T00:00:00",
          "2021-08-28T00:00:00",
          "2021-08-29T00:00:00",
          "2021-08-30T00:00:00",
          "2021-08-31T00:00:00",
          "2021-09-01T00:00:00",
          "2021-09-02T00:00:00",
          "2021-09-03T00:00:00",
          "2021-09-04T00:00:00",
          "2021-09-05T00:00:00",
          "2021-09-06T00:00:00",
          "2021-09-07T00:00:00",
          "2021-09-08T00:00:00",
          "2021-09-09T00:00:00",
          "2021-09-10T00:00:00",
          "2021-09-11T00:00:00",
          "2021-09-12T00:00:00",
          "2021-09-13T00:00:00",
          "2021-09-14T00:00:00",
          "2021-09-15T00:00:00",
          "2021-09-16T00:00:00",
          "2021-09-17T00:00:00",
          "2021-09-18T00:00:00",
          "2021-09-19T00:00:00",
          "2021-09-20T00:00:00",
          "2021-09-21T00:00:00",
          "2021-09-22T00:00:00",
          "2021-09-23T00:00:00",
          "2021-09-24T00:00:00",
          "2021-09-25T00:00:00",
          "2021-09-26T00:00:00",
          "2021-09-27T00:00:00",
          "2021-09-28T00:00:00",
          "2021-09-29T00:00:00",
          "2021-09-30T00:00:00",
          "2021-10-01T00:00:00",
          "2021-10-02T00:00:00",
          "2021-10-03T00:00:00",
          "2021-10-04T00:00:00",
          "2021-10-05T00:00:00"
         ],
         "xaxis": "x4",
         "y": [
          null,
          null,
          null,
          1265.1734693877552,
          471.26870748299314,
          -902.433673469387,
          -687.8860544217687,
          -624.6360544217682,
          -246.92176870748278,
          1007.0068027210891,
          872.3163265306125,
          138.98299319727937,
          -847.4336734693875,
          -679.6003401360545,
          -524.4931972789113,
          97.64965986394566,
          881.7210884353744,
          1090.8877551020405,
          78.26870748299314,
          -939.7193877551022,
          -245.600340136054,
          -26.636054421767767,
          -258.0646258503392,
          235.86394557823132,
          236.31632653061297,
          -49.302721088435305,
          285.42346938775563,
          492.82823129251756,
          -595.9217687074824,
          -623.7789115646254,
          132.86394557823223,
          421.7448979591845,
          -144.15986394557797,
          920.9948979591836,
          -35.600340136054456,
          -670.2074829931971,
          -993.3503401360543,
          525.8639455782313,
          349.4591836734703,
          -898.4455782312922,
          5.709183673469397,
          709.5425170068029,
          455.22108843537444,
          -356.77891156462545,
          -1084.1360544217687,
          -343.54081632653015,
          1912.411564625851,
          404.7091836734694,
          -228.02891156462556,
          -35.77891156462556,
          -41.207482993197914,
          -334.1360544217687,
          -795.3979591836733,
          -229.58843537414998,
          232.85204081632628,
          353.2568027210882,
          629.2210884353744,
          594.3639455782314,
          -171.9931972789118,
          -751.8265306122448,
          -147.1598639455775,
          -116.57653061224528,
          -44.88605442176868,
          -449.6360544217687,
          938.6496598639452,
          250.72108843537444,
          -710.683673469387,
          -414.58843537414907,
          83.99489795918407,
          -253.17176870748244,
          360.36394557823223,
          922.7925170068039,
          221.00680272109003,
          -960.6836734693861,
          -672.8741496598637,
          143.28061224489875,
          834.399659863946,
          521.9353741496607,
          225.07823129251767,
          -852.4217687074815,
          -670.1122448979586,
          -41.15986394557751,
          732.8520408163272,
          -211.6003401360549,
          964.2210884353744,
          -254.77891156462545,
          -808.7074829931971,
          null,
          null,
          null
         ],
         "yaxis": "y4"
        }
       ],
       "layout": {
        "annotations": [
         {
          "font": {
           "size": 16
          },
          "showarrow": false,
          "text": "Total (transformed)",
          "x": 0.49,
          "xanchor": "center",
          "xref": "paper",
          "y": 1,
          "yanchor": "bottom",
          "yref": "paper"
         },
         {
          "font": {
           "size": 16
          },
          "showarrow": false,
          "text": "Actual",
          "textangle": 90,
          "x": 0.98,
          "xanchor": "left",
          "xref": "paper",
          "y": 0.903125,
          "yanchor": "middle",
          "yref": "paper"
         },
         {
          "font": {
           "size": 16
          },
          "showarrow": false,
          "text": "Seasonal",
          "textangle": 90,
          "x": 0.98,
          "xanchor": "left",
          "xref": "paper",
          "y": 0.6343749999999999,
          "yanchor": "middle",
          "yref": "paper"
         },
         {
          "font": {
           "size": 16
          },
          "showarrow": false,
          "text": "Trend",
          "textangle": 90,
          "x": 0.98,
          "xanchor": "left",
          "xref": "paper",
          "y": 0.365625,
          "yanchor": "middle",
          "yref": "paper"
         },
         {
          "font": {
           "size": 16
          },
          "showarrow": false,
          "text": "Residual",
          "textangle": 90,
          "x": 0.98,
          "xanchor": "left",
          "xref": "paper",
          "y": 0.096875,
          "yanchor": "middle",
          "yref": "paper"
         }
        ],
        "showlegend": false,
        "template": {
         "data": {
          "bar": [
           {
            "error_x": {
             "color": "rgb(51,51,51)"
            },
            "error_y": {
             "color": "rgb(51,51,51)"
            },
            "marker": {
             "line": {
              "color": "rgb(237,237,237)",
              "width": 0.5
             },
             "pattern": {
              "fillmode": "overlay",
              "size": 10,
              "solidity": 0.2
             }
            },
            "type": "bar"
           }
          ],
          "barpolar": [
           {
            "marker": {
             "line": {
              "color": "rgb(237,237,237)",
              "width": 0.5
             },
             "pattern": {
              "fillmode": "overlay",
              "size": 10,
              "solidity": 0.2
             }
            },
            "type": "barpolar"
           }
          ],
          "carpet": [
           {
            "aaxis": {
             "endlinecolor": "rgb(51,51,51)",
             "gridcolor": "white",
             "linecolor": "white",
             "minorgridcolor": "white",
             "startlinecolor": "rgb(51,51,51)"
            },
            "baxis": {
             "endlinecolor": "rgb(51,51,51)",
             "gridcolor": "white",
             "linecolor": "white",
             "minorgridcolor": "white",
             "startlinecolor": "rgb(51,51,51)"
            },
            "type": "carpet"
           }
          ],
          "choropleth": [
           {
            "colorbar": {
             "outlinewidth": 0,
             "tickcolor": "rgb(237,237,237)",
             "ticklen": 6,
             "ticks": "inside"
            },
            "type": "choropleth"
           }
          ],
          "contour": [
           {
            "colorbar": {
             "outlinewidth": 0,
             "tickcolor": "rgb(237,237,237)",
             "ticklen": 6,
             "ticks": "inside"
            },
            "colorscale": [
             [
              0,
              "rgb(20,44,66)"
             ],
             [
              1,
              "rgb(90,179,244)"
             ]
            ],
            "type": "contour"
           }
          ],
          "contourcarpet": [
           {
            "colorbar": {
             "outlinewidth": 0,
             "tickcolor": "rgb(237,237,237)",
             "ticklen": 6,
             "ticks": "inside"
            },
            "type": "contourcarpet"
           }
          ],
          "heatmap": [
           {
            "colorbar": {
             "outlinewidth": 0,
             "tickcolor": "rgb(237,237,237)",
             "ticklen": 6,
             "ticks": "inside"
            },
            "colorscale": [
             [
              0,
              "rgb(20,44,66)"
             ],
             [
              1,
              "rgb(90,179,244)"
             ]
            ],
            "type": "heatmap"
           }
          ],
          "heatmapgl": [
           {
            "colorbar": {
             "outlinewidth": 0,
             "tickcolor": "rgb(237,237,237)",
             "ticklen": 6,
             "ticks": "inside"
            },
            "colorscale": [
             [
              0,
              "rgb(20,44,66)"
             ],
             [
              1,
              "rgb(90,179,244)"
             ]
            ],
            "type": "heatmapgl"
           }
          ],
          "histogram": [
           {
            "marker": {
             "pattern": {
              "fillmode": "overlay",
              "size": 10,
              "solidity": 0.2
             }
            },
            "type": "histogram"
           }
          ],
          "histogram2d": [
           {
            "colorbar": {
             "outlinewidth": 0,
             "tickcolor": "rgb(237,237,237)",
             "ticklen": 6,
             "ticks": "inside"
            },
            "colorscale": [
             [
              0,
              "rgb(20,44,66)"
             ],
             [
              1,
              "rgb(90,179,244)"
             ]
            ],
            "type": "histogram2d"
           }
          ],
          "histogram2dcontour": [
           {
            "colorbar": {
             "outlinewidth": 0,
             "tickcolor": "rgb(237,237,237)",
             "ticklen": 6,
             "ticks": "inside"
            },
            "colorscale": [
             [
              0,
              "rgb(20,44,66)"
             ],
             [
              1,
              "rgb(90,179,244)"
             ]
            ],
            "type": "histogram2dcontour"
           }
          ],
          "mesh3d": [
           {
            "colorbar": {
             "outlinewidth": 0,
             "tickcolor": "rgb(237,237,237)",
             "ticklen": 6,
             "ticks": "inside"
            },
            "type": "mesh3d"
           }
          ],
          "parcoords": [
           {
            "line": {
             "colorbar": {
              "outlinewidth": 0,
              "tickcolor": "rgb(237,237,237)",
              "ticklen": 6,
              "ticks": "inside"
             }
            },
            "type": "parcoords"
           }
          ],
          "pie": [
           {
            "automargin": true,
            "type": "pie"
           }
          ],
          "scatter": [
           {
            "fillpattern": {
             "fillmode": "overlay",
             "size": 10,
             "solidity": 0.2
            },
            "type": "scatter"
           }
          ],
          "scatter3d": [
           {
            "line": {
             "colorbar": {
              "outlinewidth": 0,
              "tickcolor": "rgb(237,237,237)",
              "ticklen": 6,
              "ticks": "inside"
             }
            },
            "marker": {
             "colorbar": {
              "outlinewidth": 0,
              "tickcolor": "rgb(237,237,237)",
              "ticklen": 6,
              "ticks": "inside"
             }
            },
            "type": "scatter3d"
           }
          ],
          "scattercarpet": [
           {
            "marker": {
             "colorbar": {
              "outlinewidth": 0,
              "tickcolor": "rgb(237,237,237)",
              "ticklen": 6,
              "ticks": "inside"
             }
            },
            "type": "scattercarpet"
           }
          ],
          "scattergeo": [
           {
            "marker": {
             "colorbar": {
              "outlinewidth": 0,
              "tickcolor": "rgb(237,237,237)",
              "ticklen": 6,
              "ticks": "inside"
             }
            },
            "type": "scattergeo"
           }
          ],
          "scattergl": [
           {
            "marker": {
             "colorbar": {
              "outlinewidth": 0,
              "tickcolor": "rgb(237,237,237)",
              "ticklen": 6,
              "ticks": "inside"
             }
            },
            "type": "scattergl"
           }
          ],
          "scattermapbox": [
           {
            "marker": {
             "colorbar": {
              "outlinewidth": 0,
              "tickcolor": "rgb(237,237,237)",
              "ticklen": 6,
              "ticks": "inside"
             }
            },
            "type": "scattermapbox"
           }
          ],
          "scatterpolar": [
           {
            "marker": {
             "colorbar": {
              "outlinewidth": 0,
              "tickcolor": "rgb(237,237,237)",
              "ticklen": 6,
              "ticks": "inside"
             }
            },
            "type": "scatterpolar"
           }
          ],
          "scatterpolargl": [
           {
            "marker": {
             "colorbar": {
              "outlinewidth": 0,
              "tickcolor": "rgb(237,237,237)",
              "ticklen": 6,
              "ticks": "inside"
             }
            },
            "type": "scatterpolargl"
           }
          ],
          "scatterternary": [
           {
            "marker": {
             "colorbar": {
              "outlinewidth": 0,
              "tickcolor": "rgb(237,237,237)",
              "ticklen": 6,
              "ticks": "inside"
             }
            },
            "type": "scatterternary"
           }
          ],
          "surface": [
           {
            "colorbar": {
             "outlinewidth": 0,
             "tickcolor": "rgb(237,237,237)",
             "ticklen": 6,
             "ticks": "inside"
            },
            "colorscale": [
             [
              0,
              "rgb(20,44,66)"
             ],
             [
              1,
              "rgb(90,179,244)"
             ]
            ],
            "type": "surface"
           }
          ],
          "table": [
           {
            "cells": {
             "fill": {
              "color": "rgb(237,237,237)"
             },
             "line": {
              "color": "white"
             }
            },
            "header": {
             "fill": {
              "color": "rgb(217,217,217)"
             },
             "line": {
              "color": "white"
             }
            },
            "type": "table"
           }
          ]
         },
         "layout": {
          "annotationdefaults": {
           "arrowhead": 0,
           "arrowwidth": 1
          },
          "autotypenumbers": "strict",
          "coloraxis": {
           "colorbar": {
            "outlinewidth": 0,
            "tickcolor": "rgb(237,237,237)",
            "ticklen": 6,
            "ticks": "inside"
           }
          },
          "colorscale": {
           "sequential": [
            [
             0,
             "rgb(20,44,66)"
            ],
            [
             1,
             "rgb(90,179,244)"
            ]
           ],
           "sequentialminus": [
            [
             0,
             "rgb(20,44,66)"
            ],
            [
             1,
             "rgb(90,179,244)"
            ]
           ]
          },
          "colorway": [
           "#F8766D",
           "#A3A500",
           "#00BF7D",
           "#00B0F6",
           "#E76BF3"
          ],
          "font": {
           "color": "rgb(51,51,51)"
          },
          "geo": {
           "bgcolor": "white",
           "lakecolor": "white",
           "landcolor": "rgb(237,237,237)",
           "showlakes": true,
           "showland": true,
           "subunitcolor": "white"
          },
          "hoverlabel": {
           "align": "left"
          },
          "hovermode": "closest",
          "paper_bgcolor": "white",
          "plot_bgcolor": "rgb(237,237,237)",
          "polar": {
           "angularaxis": {
            "gridcolor": "white",
            "linecolor": "white",
            "showgrid": true,
            "tickcolor": "rgb(51,51,51)",
            "ticks": "outside"
           },
           "bgcolor": "rgb(237,237,237)",
           "radialaxis": {
            "gridcolor": "white",
            "linecolor": "white",
            "showgrid": true,
            "tickcolor": "rgb(51,51,51)",
            "ticks": "outside"
           }
          },
          "scene": {
           "xaxis": {
            "backgroundcolor": "rgb(237,237,237)",
            "gridcolor": "white",
            "gridwidth": 2,
            "linecolor": "white",
            "showbackground": true,
            "showgrid": true,
            "tickcolor": "rgb(51,51,51)",
            "ticks": "outside",
            "zerolinecolor": "white"
           },
           "yaxis": {
            "backgroundcolor": "rgb(237,237,237)",
            "gridcolor": "white",
            "gridwidth": 2,
            "linecolor": "white",
            "showbackground": true,
            "showgrid": true,
            "tickcolor": "rgb(51,51,51)",
            "ticks": "outside",
            "zerolinecolor": "white"
           },
           "zaxis": {
            "backgroundcolor": "rgb(237,237,237)",
            "gridcolor": "white",
            "gridwidth": 2,
            "linecolor": "white",
            "showbackground": true,
            "showgrid": true,
            "tickcolor": "rgb(51,51,51)",
            "ticks": "outside",
            "zerolinecolor": "white"
           }
          },
          "shapedefaults": {
           "fillcolor": "black",
           "line": {
            "width": 0
           },
           "opacity": 0.3
          },
          "ternary": {
           "aaxis": {
            "gridcolor": "white",
            "linecolor": "white",
            "showgrid": true,
            "tickcolor": "rgb(51,51,51)",
            "ticks": "outside"
           },
           "baxis": {
            "gridcolor": "white",
            "linecolor": "white",
            "showgrid": true,
            "tickcolor": "rgb(51,51,51)",
            "ticks": "outside"
           },
           "bgcolor": "rgb(237,237,237)",
           "caxis": {
            "gridcolor": "white",
            "linecolor": "white",
            "showgrid": true,
            "tickcolor": "rgb(51,51,51)",
            "ticks": "outside"
           }
          },
          "xaxis": {
           "automargin": true,
           "gridcolor": "white",
           "linecolor": "white",
           "showgrid": true,
           "tickcolor": "rgb(51,51,51)",
           "ticks": "outside",
           "title": {
            "standoff": 15
           },
           "zerolinecolor": "white"
          },
          "yaxis": {
           "automargin": true,
           "gridcolor": "white",
           "linecolor": "white",
           "showgrid": true,
           "tickcolor": "rgb(51,51,51)",
           "ticks": "outside",
           "title": {
            "standoff": 15
           },
           "zerolinecolor": "white"
          }
         }
        },
        "title": {
         "text": "Classical Decomposition (additive) | Total<br>Seasonal Period = 7"
        },
        "xaxis": {
         "anchor": "y",
         "domain": [
          0,
          0.98
         ],
         "matches": "x4",
         "showticklabels": false
        },
        "xaxis2": {
         "anchor": "y2",
         "domain": [
          0,
          0.98
         ],
         "matches": "x4",
         "showticklabels": false
        },
        "xaxis3": {
         "anchor": "y3",
         "domain": [
          0,
          0.98
         ],
         "matches": "x4",
         "showticklabels": false
        },
        "xaxis4": {
         "anchor": "y4",
         "domain": [
          0,
          0.98
         ]
        },
        "yaxis": {
         "anchor": "x",
         "domain": [
          0.80625,
          1
         ]
        },
        "yaxis2": {
         "anchor": "x2",
         "domain": [
          0.5375,
          0.73125
         ]
        },
        "yaxis3": {
         "anchor": "x3",
         "domain": [
          0.26875,
          0.4625
         ]
        },
        "yaxis4": {
         "anchor": "x4",
         "domain": [
          0,
          0.19375
         ]
        }
       }
      }
     },
     "metadata": {},
     "output_type": "display_data"
    }
   ],
   "source": [
    "plot_model(plot='decomp', data_kwargs={'sesonal_period':24})"
   ]
  },
  {
   "cell_type": "code",
   "execution_count": 27,
   "metadata": {},
   "outputs": [
    {
     "data": {
      "application/vnd.plotly.v1+json": {
       "config": {
        "plotlyServerURL": "https://plot.ly"
       },
       "data": [
        {
         "line": {
          "color": "#3f3f3f"
         },
         "marker": {
          "size": 10
         },
         "mode": "lines",
         "name": "ACF",
         "showlegend": false,
         "type": "scattergl",
         "x": [
          0,
          0
         ],
         "xaxis": "x",
         "y": [
          0,
          1
         ],
         "yaxis": "y"
        },
        {
         "line": {
          "color": "#3f3f3f"
         },
         "marker": {
          "size": 10
         },
         "mode": "lines",
         "name": "ACF",
         "showlegend": false,
         "type": "scattergl",
         "x": [
          1,
          1
         ],
         "xaxis": "x",
         "y": [
          0,
          0.62011392313681
         ],
         "yaxis": "y"
        },
        {
         "line": {
          "color": "#3f3f3f"
         },
         "marker": {
          "size": 10
         },
         "mode": "lines",
         "name": "ACF",
         "showlegend": false,
         "type": "scattergl",
         "x": [
          2,
          2
         ],
         "xaxis": "x",
         "y": [
          0,
          0.10458159213030854
         ],
         "yaxis": "y"
        },
        {
         "line": {
          "color": "#3f3f3f"
         },
         "marker": {
          "size": 10
         },
         "mode": "lines",
         "name": "ACF",
         "showlegend": false,
         "type": "scattergl",
         "x": [
          3,
          3
         ],
         "xaxis": "x",
         "y": [
          0,
          -0.057881925531727725
         ],
         "yaxis": "y"
        },
        {
         "line": {
          "color": "#3f3f3f"
         },
         "marker": {
          "size": 10
         },
         "mode": "lines",
         "name": "ACF",
         "showlegend": false,
         "type": "scattergl",
         "x": [
          4,
          4
         ],
         "xaxis": "x",
         "y": [
          0,
          -0.034259225222097914
         ],
         "yaxis": "y"
        },
        {
         "line": {
          "color": "#3f3f3f"
         },
         "marker": {
          "size": 10
         },
         "mode": "lines",
         "name": "ACF",
         "showlegend": false,
         "type": "scattergl",
         "x": [
          5,
          5
         ],
         "xaxis": "x",
         "y": [
          0,
          0.11473433944415998
         ],
         "yaxis": "y"
        },
        {
         "line": {
          "color": "#3f3f3f"
         },
         "marker": {
          "size": 10
         },
         "mode": "lines",
         "name": "ACF",
         "showlegend": false,
         "type": "scattergl",
         "x": [
          6,
          6
         ],
         "xaxis": "x",
         "y": [
          0,
          0.519508244404448
         ],
         "yaxis": "y"
        },
        {
         "line": {
          "color": "#3f3f3f"
         },
         "marker": {
          "size": 10
         },
         "mode": "lines",
         "name": "ACF",
         "showlegend": false,
         "type": "scattergl",
         "x": [
          7,
          7
         ],
         "xaxis": "x",
         "y": [
          0,
          0.7896109517181269
         ],
         "yaxis": "y"
        },
        {
         "line": {
          "color": "#3f3f3f"
         },
         "marker": {
          "size": 10
         },
         "mode": "lines",
         "name": "ACF",
         "showlegend": false,
         "type": "scattergl",
         "x": [
          8,
          8
         ],
         "xaxis": "x",
         "y": [
          0,
          0.4812612899071898
         ],
         "yaxis": "y"
        },
        {
         "line": {
          "color": "#3f3f3f"
         },
         "marker": {
          "size": 10
         },
         "mode": "lines",
         "name": "ACF",
         "showlegend": false,
         "type": "scattergl",
         "x": [
          9,
          9
         ],
         "xaxis": "x",
         "y": [
          0,
          0.027911015623095777
         ],
         "yaxis": "y"
        },
        {
         "line": {
          "color": "#3f3f3f"
         },
         "marker": {
          "size": 10
         },
         "mode": "lines",
         "name": "ACF",
         "showlegend": false,
         "type": "scattergl",
         "x": [
          10,
          10
         ],
         "xaxis": "x",
         "y": [
          0,
          -0.13087498599283712
         ],
         "yaxis": "y"
        },
        {
         "line": {
          "color": "#3f3f3f"
         },
         "marker": {
          "size": 10
         },
         "mode": "lines",
         "name": "ACF",
         "showlegend": false,
         "type": "scattergl",
         "x": [
          11,
          11
         ],
         "xaxis": "x",
         "y": [
          0,
          -0.11547859686129833
         ],
         "yaxis": "y"
        },
        {
         "line": {
          "color": "#3f3f3f"
         },
         "marker": {
          "size": 10
         },
         "mode": "lines",
         "name": "ACF",
         "showlegend": false,
         "type": "scattergl",
         "x": [
          12,
          12
         ],
         "xaxis": "x",
         "y": [
          0,
          0.014495499679403024
         ],
         "yaxis": "y"
        },
        {
         "line": {
          "color": "#3f3f3f"
         },
         "marker": {
          "size": 10
         },
         "mode": "lines",
         "name": "ACF",
         "showlegend": false,
         "type": "scattergl",
         "x": [
          13,
          13
         ],
         "xaxis": "x",
         "y": [
          0,
          0.3913760178925194
         ],
         "yaxis": "y"
        },
        {
         "line": {
          "color": "#3f3f3f"
         },
         "marker": {
          "size": 10
         },
         "mode": "lines",
         "name": "ACF",
         "showlegend": false,
         "type": "scattergl",
         "x": [
          14,
          14
         ],
         "xaxis": "x",
         "y": [
          0,
          0.6287519853308668
         ],
         "yaxis": "y"
        },
        {
         "line": {
          "color": "#3f3f3f"
         },
         "marker": {
          "size": 10
         },
         "mode": "lines",
         "name": "ACF",
         "showlegend": false,
         "type": "scattergl",
         "x": [
          15,
          15
         ],
         "xaxis": "x",
         "y": [
          0,
          0.3630283175591384
         ],
         "yaxis": "y"
        },
        {
         "line": {
          "color": "#3f3f3f"
         },
         "marker": {
          "size": 10
         },
         "mode": "lines",
         "name": "ACF",
         "showlegend": false,
         "type": "scattergl",
         "x": [
          16,
          16
         ],
         "xaxis": "x",
         "y": [
          0,
          -0.026999130376679947
         ],
         "yaxis": "y"
        },
        {
         "line": {
          "color": "#3f3f3f"
         },
         "marker": {
          "size": 10
         },
         "mode": "lines",
         "name": "ACF",
         "showlegend": false,
         "type": "scattergl",
         "x": [
          17,
          17
         ],
         "xaxis": "x",
         "y": [
          0,
          -0.17420366947409902
         ],
         "yaxis": "y"
        },
        {
         "line": {
          "color": "#3f3f3f"
         },
         "marker": {
          "size": 10
         },
         "mode": "lines",
         "name": "ACF",
         "showlegend": false,
         "type": "scattergl",
         "x": [
          18,
          18
         ],
         "xaxis": "x",
         "y": [
          0,
          -0.17434599733760042
         ],
         "yaxis": "y"
        },
        {
         "line": {
          "color": "#3f3f3f"
         },
         "marker": {
          "size": 10
         },
         "mode": "lines",
         "name": "ACF",
         "showlegend": false,
         "type": "scattergl",
         "x": [
          19,
          19
         ],
         "xaxis": "x",
         "y": [
          0,
          -0.06729245022005864
         ],
         "yaxis": "y"
        },
        {
         "line": {
          "color": "#3f3f3f"
         },
         "marker": {
          "size": 10
         },
         "mode": "lines",
         "name": "ACF",
         "showlegend": false,
         "type": "scattergl",
         "x": [
          20,
          20
         ],
         "xaxis": "x",
         "y": [
          0,
          0.27422401215042647
         ],
         "yaxis": "y"
        },
        {
         "line": {
          "color": "#3f3f3f"
         },
         "marker": {
          "size": 10
         },
         "mode": "lines",
         "name": "ACF",
         "showlegend": false,
         "type": "scattergl",
         "x": [
          21,
          21
         ],
         "xaxis": "x",
         "y": [
          0,
          0.5195606573936571
         ],
         "yaxis": "y"
        },
        {
         "line": {
          "color": "#3f3f3f"
         },
         "marker": {
          "size": 10
         },
         "mode": "lines",
         "name": "ACF",
         "showlegend": false,
         "type": "scattergl",
         "x": [
          22,
          22
         ],
         "xaxis": "x",
         "y": [
          0,
          0.3144170580931283
         ],
         "yaxis": "y"
        },
        {
         "line": {
          "color": "#3f3f3f"
         },
         "marker": {
          "size": 10
         },
         "mode": "lines",
         "name": "ACF",
         "showlegend": false,
         "type": "scattergl",
         "x": [
          23,
          23
         ],
         "xaxis": "x",
         "y": [
          0,
          -0.04234724009946873
         ],
         "yaxis": "y"
        },
        {
         "line": {
          "color": "#3f3f3f"
         },
         "marker": {
          "size": 10
         },
         "mode": "lines",
         "name": "ACF",
         "showlegend": false,
         "type": "scattergl",
         "x": [
          24,
          24
         ],
         "xaxis": "x",
         "y": [
          0,
          -0.1768576818565523
         ],
         "yaxis": "y"
        },
        {
         "line": {
          "color": "#3f3f3f"
         },
         "marker": {
          "size": 10
         },
         "mode": "lines",
         "name": "ACF",
         "showlegend": false,
         "type": "scattergl",
         "x": [
          25,
          25
         ],
         "xaxis": "x",
         "y": [
          0,
          -0.180517507935001
         ],
         "yaxis": "y"
        },
        {
         "line": {
          "color": "#3f3f3f"
         },
         "marker": {
          "size": 10
         },
         "mode": "lines",
         "name": "ACF",
         "showlegend": false,
         "type": "scattergl",
         "x": [
          26,
          26
         ],
         "xaxis": "x",
         "y": [
          0,
          -0.09658903929821415
         ],
         "yaxis": "y"
        },
        {
         "line": {
          "color": "#3f3f3f"
         },
         "marker": {
          "size": 10
         },
         "mode": "lines",
         "name": "ACF",
         "showlegend": false,
         "type": "scattergl",
         "x": [
          27,
          27
         ],
         "xaxis": "x",
         "y": [
          0,
          0.2175184318208475
         ],
         "yaxis": "y"
        },
        {
         "line": {
          "color": "#3f3f3f"
         },
         "marker": {
          "size": 10
         },
         "mode": "lines",
         "name": "ACF",
         "showlegend": false,
         "type": "scattergl",
         "x": [
          28,
          28
         ],
         "xaxis": "x",
         "y": [
          0,
          0.46028889643681564
         ],
         "yaxis": "y"
        },
        {
         "line": {
          "color": "#3f3f3f"
         },
         "marker": {
          "size": 10
         },
         "mode": "lines",
         "name": "ACF",
         "showlegend": false,
         "type": "scattergl",
         "x": [
          29,
          29
         ],
         "xaxis": "x",
         "y": [
          0,
          0.29547744445369445
         ],
         "yaxis": "y"
        },
        {
         "line": {
          "color": "#3f3f3f"
         },
         "marker": {
          "size": 10
         },
         "mode": "lines",
         "name": "ACF",
         "showlegend": false,
         "type": "scattergl",
         "x": [
          30,
          30
         ],
         "xaxis": "x",
         "y": [
          0,
          -0.033123686865387934
         ],
         "yaxis": "y"
        },
        {
         "line": {
          "color": "#3f3f3f"
         },
         "marker": {
          "size": 10
         },
         "mode": "lines",
         "name": "ACF",
         "showlegend": false,
         "type": "scattergl",
         "x": [
          31,
          31
         ],
         "xaxis": "x",
         "y": [
          0,
          -0.17082119077117786
         ],
         "yaxis": "y"
        },
        {
         "line": {
          "color": "#3f3f3f"
         },
         "marker": {
          "size": 10
         },
         "mode": "lines",
         "name": "ACF",
         "showlegend": false,
         "type": "scattergl",
         "x": [
          32,
          32
         ],
         "xaxis": "x",
         "y": [
          0,
          -0.19571004821977434
         ],
         "yaxis": "y"
        },
        {
         "line": {
          "color": "#3f3f3f"
         },
         "marker": {
          "size": 10
         },
         "mode": "lines",
         "name": "ACF",
         "showlegend": false,
         "type": "scattergl",
         "x": [
          33,
          33
         ],
         "xaxis": "x",
         "y": [
          0,
          -0.13799505693458433
         ],
         "yaxis": "y"
        },
        {
         "line": {
          "color": "#3f3f3f"
         },
         "marker": {
          "size": 10
         },
         "mode": "lines",
         "name": "ACF",
         "showlegend": false,
         "type": "scattergl",
         "x": [
          34,
          34
         ],
         "xaxis": "x",
         "y": [
          0,
          0.12395282250290912
         ],
         "yaxis": "y"
        },
        {
         "line": {
          "color": "#3f3f3f"
         },
         "marker": {
          "size": 10
         },
         "mode": "lines",
         "name": "ACF",
         "showlegend": false,
         "type": "scattergl",
         "x": [
          35,
          35
         ],
         "xaxis": "x",
         "y": [
          0,
          0.33987440858303974
         ],
         "yaxis": "y"
        },
        {
         "line": {
          "color": "#3f3f3f"
         },
         "marker": {
          "size": 10
         },
         "mode": "lines",
         "name": "ACF",
         "showlegend": false,
         "type": "scattergl",
         "x": [
          36,
          36
         ],
         "xaxis": "x",
         "y": [
          0,
          0.1902491729807324
         ],
         "yaxis": "y"
        },
        {
         "line": {
          "color": "#3f3f3f"
         },
         "marker": {
          "size": 10
         },
         "mode": "lines",
         "name": "ACF",
         "showlegend": false,
         "type": "scattergl",
         "x": [
          37,
          37
         ],
         "xaxis": "x",
         "y": [
          0,
          -0.09781434128086065
         ],
         "yaxis": "y"
        },
        {
         "line": {
          "color": "#3f3f3f"
         },
         "marker": {
          "size": 10
         },
         "mode": "lines",
         "name": "ACF",
         "showlegend": false,
         "type": "scattergl",
         "x": [
          38,
          38
         ],
         "xaxis": "x",
         "y": [
          0,
          -0.20947948612173453
         ],
         "yaxis": "y"
        },
        {
         "line": {
          "color": "#3f3f3f"
         },
         "marker": {
          "size": 10
         },
         "mode": "lines",
         "name": "ACF",
         "showlegend": false,
         "type": "scattergl",
         "x": [
          39,
          39
         ],
         "xaxis": "x",
         "y": [
          0,
          -0.23604518576123013
         ],
         "yaxis": "y"
        },
        {
         "line": {
          "color": "#3f3f3f"
         },
         "marker": {
          "size": 10
         },
         "mode": "lines",
         "name": "ACF",
         "showlegend": false,
         "type": "scattergl",
         "x": [
          40,
          40
         ],
         "xaxis": "x",
         "y": [
          0,
          -0.2075228222273166
         ],
         "yaxis": "y"
        },
        {
         "marker": {
          "color": "#1f77b4",
          "size": 10
         },
         "mode": "markers",
         "name": "ACF",
         "showlegend": false,
         "type": "scattergl",
         "x": [
          0,
          1,
          2,
          3,
          4,
          5,
          6,
          7,
          8,
          9,
          10,
          11,
          12,
          13,
          14,
          15,
          16,
          17,
          18,
          19,
          20,
          21,
          22,
          23,
          24,
          25,
          26,
          27,
          28,
          29,
          30,
          31,
          32,
          33,
          34,
          35,
          36,
          37,
          38,
          39,
          40
         ],
         "xaxis": "x",
         "y": [
          1,
          0.62011392313681,
          0.10458159213030854,
          -0.057881925531727725,
          -0.034259225222097914,
          0.11473433944415998,
          0.519508244404448,
          0.7896109517181269,
          0.4812612899071898,
          0.027911015623095777,
          -0.13087498599283712,
          -0.11547859686129833,
          0.014495499679403024,
          0.3913760178925194,
          0.6287519853308668,
          0.3630283175591384,
          -0.026999130376679947,
          -0.17420366947409902,
          -0.17434599733760042,
          -0.06729245022005864,
          0.27422401215042647,
          0.5195606573936571,
          0.3144170580931283,
          -0.04234724009946873,
          -0.1768576818565523,
          -0.180517507935001,
          -0.09658903929821415,
          0.2175184318208475,
          0.46028889643681564,
          0.29547744445369445,
          -0.033123686865387934,
          -0.17082119077117786,
          -0.19571004821977434,
          -0.13799505693458433,
          0.12395282250290912,
          0.33987440858303974,
          0.1902491729807324,
          -0.09781434128086065,
          -0.20947948612173453,
          -0.23604518576123013,
          -0.2075228222273166
         ],
         "yaxis": "y"
        },
        {
         "line": {
          "color": "rgba(255,255,255,0)"
         },
         "marker": {
          "size": 10
         },
         "mode": "lines",
         "name": "UC",
         "showlegend": false,
         "type": "scatter",
         "x": [
          0,
          1,
          2,
          3,
          4,
          5,
          6,
          7,
          8,
          9,
          10,
          11,
          12,
          13,
          14,
          15,
          16,
          17,
          18,
          19,
          20,
          21,
          22,
          23,
          24,
          25,
          26,
          27,
          28,
          29,
          30,
          31,
          32,
          33,
          34,
          35,
          36,
          37,
          38,
          39,
          40
         ],
         "xaxis": "x",
         "y": [
          0,
          0.20659834410152056,
          0.2747899760975552,
          0.2764836389406401,
          0.2770003699572481,
          0.27718116507196844,
          0.2792009139453532,
          0.31779303322558916,
          0.39270436263507363,
          0.41711927013902245,
          0.41719897837634656,
          0.41894767514985687,
          0.42030409581756445,
          0.42032543340962936,
          0.4356023243324493,
          0.47275463742635565,
          0.48450723626302067,
          0.4845714494431588,
          0.4872371877407294,
          0.4898927428242526,
          0.49028711891396737,
          0.49679056131011334,
          0.5194658530691054,
          0.5275261769343016,
          0.5276712544684796,
          0.5301953200214189,
          0.5328122131380538,
          0.5335590589062218,
          0.5373307058081302,
          0.5539046637048162,
          0.5605920061261438,
          0.5606755379103183,
          0.5628925484771408,
          0.5657894805095544,
          0.5672242282968618,
          0.5683791959354131,
          0.5769886499580453,
          0.5796599813951033,
          0.5803640609719992,
          0.5835824138338969,
          0.5876434169318699
         ],
         "yaxis": "y"
        },
        {
         "fill": "tonexty",
         "fillcolor": "rgba(32, 146, 230,0.3)",
         "line": {
          "color": "rgba(255,255,255,0)"
         },
         "marker": {
          "size": 10
         },
         "mode": "lines",
         "name": "LC",
         "showlegend": false,
         "type": "scatter",
         "x": [
          0,
          1,
          2,
          3,
          4,
          5,
          6,
          7,
          8,
          9,
          10,
          11,
          12,
          13,
          14,
          15,
          16,
          17,
          18,
          19,
          20,
          21,
          22,
          23,
          24,
          25,
          26,
          27,
          28,
          29,
          30,
          31,
          32,
          33,
          34,
          35,
          36,
          37,
          38,
          39,
          40
         ],
         "xaxis": "x",
         "y": [
          0,
          -0.20659834410152056,
          -0.2747899760975552,
          -0.2764836389406401,
          -0.2770003699572481,
          -0.27718116507196844,
          -0.2792009139453531,
          -0.3177930332255891,
          -0.3927043626350737,
          -0.41711927013902245,
          -0.41719897837634656,
          -0.41894767514985676,
          -0.42030409581756445,
          -0.4203254334096294,
          -0.4356023243324492,
          -0.4727546374263556,
          -0.48450723626302067,
          -0.48457144944315866,
          -0.4872371877407294,
          -0.4898927428242526,
          -0.49028711891396737,
          -0.4967905613101133,
          -0.5194658530691053,
          -0.5275261769343016,
          -0.5276712544684796,
          -0.5301953200214189,
          -0.5328122131380538,
          -0.5335590589062218,
          -0.5373307058081304,
          -0.5539046637048162,
          -0.5605920061261438,
          -0.5606755379103183,
          -0.5628925484771408,
          -0.5657894805095544,
          -0.5672242282968619,
          -0.5683791959354131,
          -0.5769886499580453,
          -0.5796599813951033,
          -0.5803640609719992,
          -0.5835824138338969,
          -0.5876434169318698
         ],
         "yaxis": "y"
        }
       ],
       "layout": {
        "annotations": [
         {
          "font": {
           "size": 16
          },
          "showarrow": false,
          "text": "Total (transformed)",
          "x": 0.5,
          "xanchor": "center",
          "xref": "paper",
          "y": 1,
          "yanchor": "bottom",
          "yref": "paper"
         }
        ],
        "showlegend": false,
        "template": {
         "data": {
          "bar": [
           {
            "error_x": {
             "color": "rgb(51,51,51)"
            },
            "error_y": {
             "color": "rgb(51,51,51)"
            },
            "marker": {
             "line": {
              "color": "rgb(237,237,237)",
              "width": 0.5
             },
             "pattern": {
              "fillmode": "overlay",
              "size": 10,
              "solidity": 0.2
             }
            },
            "type": "bar"
           }
          ],
          "barpolar": [
           {
            "marker": {
             "line": {
              "color": "rgb(237,237,237)",
              "width": 0.5
             },
             "pattern": {
              "fillmode": "overlay",
              "size": 10,
              "solidity": 0.2
             }
            },
            "type": "barpolar"
           }
          ],
          "carpet": [
           {
            "aaxis": {
             "endlinecolor": "rgb(51,51,51)",
             "gridcolor": "white",
             "linecolor": "white",
             "minorgridcolor": "white",
             "startlinecolor": "rgb(51,51,51)"
            },
            "baxis": {
             "endlinecolor": "rgb(51,51,51)",
             "gridcolor": "white",
             "linecolor": "white",
             "minorgridcolor": "white",
             "startlinecolor": "rgb(51,51,51)"
            },
            "type": "carpet"
           }
          ],
          "choropleth": [
           {
            "colorbar": {
             "outlinewidth": 0,
             "tickcolor": "rgb(237,237,237)",
             "ticklen": 6,
             "ticks": "inside"
            },
            "type": "choropleth"
           }
          ],
          "contour": [
           {
            "colorbar": {
             "outlinewidth": 0,
             "tickcolor": "rgb(237,237,237)",
             "ticklen": 6,
             "ticks": "inside"
            },
            "colorscale": [
             [
              0,
              "rgb(20,44,66)"
             ],
             [
              1,
              "rgb(90,179,244)"
             ]
            ],
            "type": "contour"
           }
          ],
          "contourcarpet": [
           {
            "colorbar": {
             "outlinewidth": 0,
             "tickcolor": "rgb(237,237,237)",
             "ticklen": 6,
             "ticks": "inside"
            },
            "type": "contourcarpet"
           }
          ],
          "heatmap": [
           {
            "colorbar": {
             "outlinewidth": 0,
             "tickcolor": "rgb(237,237,237)",
             "ticklen": 6,
             "ticks": "inside"
            },
            "colorscale": [
             [
              0,
              "rgb(20,44,66)"
             ],
             [
              1,
              "rgb(90,179,244)"
             ]
            ],
            "type": "heatmap"
           }
          ],
          "heatmapgl": [
           {
            "colorbar": {
             "outlinewidth": 0,
             "tickcolor": "rgb(237,237,237)",
             "ticklen": 6,
             "ticks": "inside"
            },
            "colorscale": [
             [
              0,
              "rgb(20,44,66)"
             ],
             [
              1,
              "rgb(90,179,244)"
             ]
            ],
            "type": "heatmapgl"
           }
          ],
          "histogram": [
           {
            "marker": {
             "pattern": {
              "fillmode": "overlay",
              "size": 10,
              "solidity": 0.2
             }
            },
            "type": "histogram"
           }
          ],
          "histogram2d": [
           {
            "colorbar": {
             "outlinewidth": 0,
             "tickcolor": "rgb(237,237,237)",
             "ticklen": 6,
             "ticks": "inside"
            },
            "colorscale": [
             [
              0,
              "rgb(20,44,66)"
             ],
             [
              1,
              "rgb(90,179,244)"
             ]
            ],
            "type": "histogram2d"
           }
          ],
          "histogram2dcontour": [
           {
            "colorbar": {
             "outlinewidth": 0,
             "tickcolor": "rgb(237,237,237)",
             "ticklen": 6,
             "ticks": "inside"
            },
            "colorscale": [
             [
              0,
              "rgb(20,44,66)"
             ],
             [
              1,
              "rgb(90,179,244)"
             ]
            ],
            "type": "histogram2dcontour"
           }
          ],
          "mesh3d": [
           {
            "colorbar": {
             "outlinewidth": 0,
             "tickcolor": "rgb(237,237,237)",
             "ticklen": 6,
             "ticks": "inside"
            },
            "type": "mesh3d"
           }
          ],
          "parcoords": [
           {
            "line": {
             "colorbar": {
              "outlinewidth": 0,
              "tickcolor": "rgb(237,237,237)",
              "ticklen": 6,
              "ticks": "inside"
             }
            },
            "type": "parcoords"
           }
          ],
          "pie": [
           {
            "automargin": true,
            "type": "pie"
           }
          ],
          "scatter": [
           {
            "fillpattern": {
             "fillmode": "overlay",
             "size": 10,
             "solidity": 0.2
            },
            "type": "scatter"
           }
          ],
          "scatter3d": [
           {
            "line": {
             "colorbar": {
              "outlinewidth": 0,
              "tickcolor": "rgb(237,237,237)",
              "ticklen": 6,
              "ticks": "inside"
             }
            },
            "marker": {
             "colorbar": {
              "outlinewidth": 0,
              "tickcolor": "rgb(237,237,237)",
              "ticklen": 6,
              "ticks": "inside"
             }
            },
            "type": "scatter3d"
           }
          ],
          "scattercarpet": [
           {
            "marker": {
             "colorbar": {
              "outlinewidth": 0,
              "tickcolor": "rgb(237,237,237)",
              "ticklen": 6,
              "ticks": "inside"
             }
            },
            "type": "scattercarpet"
           }
          ],
          "scattergeo": [
           {
            "marker": {
             "colorbar": {
              "outlinewidth": 0,
              "tickcolor": "rgb(237,237,237)",
              "ticklen": 6,
              "ticks": "inside"
             }
            },
            "type": "scattergeo"
           }
          ],
          "scattergl": [
           {
            "marker": {
             "colorbar": {
              "outlinewidth": 0,
              "tickcolor": "rgb(237,237,237)",
              "ticklen": 6,
              "ticks": "inside"
             }
            },
            "type": "scattergl"
           }
          ],
          "scattermapbox": [
           {
            "marker": {
             "colorbar": {
              "outlinewidth": 0,
              "tickcolor": "rgb(237,237,237)",
              "ticklen": 6,
              "ticks": "inside"
             }
            },
            "type": "scattermapbox"
           }
          ],
          "scatterpolar": [
           {
            "marker": {
             "colorbar": {
              "outlinewidth": 0,
              "tickcolor": "rgb(237,237,237)",
              "ticklen": 6,
              "ticks": "inside"
             }
            },
            "type": "scatterpolar"
           }
          ],
          "scatterpolargl": [
           {
            "marker": {
             "colorbar": {
              "outlinewidth": 0,
              "tickcolor": "rgb(237,237,237)",
              "ticklen": 6,
              "ticks": "inside"
             }
            },
            "type": "scatterpolargl"
           }
          ],
          "scatterternary": [
           {
            "marker": {
             "colorbar": {
              "outlinewidth": 0,
              "tickcolor": "rgb(237,237,237)",
              "ticklen": 6,
              "ticks": "inside"
             }
            },
            "type": "scatterternary"
           }
          ],
          "surface": [
           {
            "colorbar": {
             "outlinewidth": 0,
             "tickcolor": "rgb(237,237,237)",
             "ticklen": 6,
             "ticks": "inside"
            },
            "colorscale": [
             [
              0,
              "rgb(20,44,66)"
             ],
             [
              1,
              "rgb(90,179,244)"
             ]
            ],
            "type": "surface"
           }
          ],
          "table": [
           {
            "cells": {
             "fill": {
              "color": "rgb(237,237,237)"
             },
             "line": {
              "color": "white"
             }
            },
            "header": {
             "fill": {
              "color": "rgb(217,217,217)"
             },
             "line": {
              "color": "white"
             }
            },
            "type": "table"
           }
          ]
         },
         "layout": {
          "annotationdefaults": {
           "arrowhead": 0,
           "arrowwidth": 1
          },
          "autotypenumbers": "strict",
          "coloraxis": {
           "colorbar": {
            "outlinewidth": 0,
            "tickcolor": "rgb(237,237,237)",
            "ticklen": 6,
            "ticks": "inside"
           }
          },
          "colorscale": {
           "sequential": [
            [
             0,
             "rgb(20,44,66)"
            ],
            [
             1,
             "rgb(90,179,244)"
            ]
           ],
           "sequentialminus": [
            [
             0,
             "rgb(20,44,66)"
            ],
            [
             1,
             "rgb(90,179,244)"
            ]
           ]
          },
          "colorway": [
           "#F8766D",
           "#A3A500",
           "#00BF7D",
           "#00B0F6",
           "#E76BF3"
          ],
          "font": {
           "color": "rgb(51,51,51)"
          },
          "geo": {
           "bgcolor": "white",
           "lakecolor": "white",
           "landcolor": "rgb(237,237,237)",
           "showlakes": true,
           "showland": true,
           "subunitcolor": "white"
          },
          "hoverlabel": {
           "align": "left"
          },
          "hovermode": "closest",
          "paper_bgcolor": "white",
          "plot_bgcolor": "rgb(237,237,237)",
          "polar": {
           "angularaxis": {
            "gridcolor": "white",
            "linecolor": "white",
            "showgrid": true,
            "tickcolor": "rgb(51,51,51)",
            "ticks": "outside"
           },
           "bgcolor": "rgb(237,237,237)",
           "radialaxis": {
            "gridcolor": "white",
            "linecolor": "white",
            "showgrid": true,
            "tickcolor": "rgb(51,51,51)",
            "ticks": "outside"
           }
          },
          "scene": {
           "xaxis": {
            "backgroundcolor": "rgb(237,237,237)",
            "gridcolor": "white",
            "gridwidth": 2,
            "linecolor": "white",
            "showbackground": true,
            "showgrid": true,
            "tickcolor": "rgb(51,51,51)",
            "ticks": "outside",
            "zerolinecolor": "white"
           },
           "yaxis": {
            "backgroundcolor": "rgb(237,237,237)",
            "gridcolor": "white",
            "gridwidth": 2,
            "linecolor": "white",
            "showbackground": true,
            "showgrid": true,
            "tickcolor": "rgb(51,51,51)",
            "ticks": "outside",
            "zerolinecolor": "white"
           },
           "zaxis": {
            "backgroundcolor": "rgb(237,237,237)",
            "gridcolor": "white",
            "gridwidth": 2,
            "linecolor": "white",
            "showbackground": true,
            "showgrid": true,
            "tickcolor": "rgb(51,51,51)",
            "ticks": "outside",
            "zerolinecolor": "white"
           }
          },
          "shapedefaults": {
           "fillcolor": "black",
           "line": {
            "width": 0
           },
           "opacity": 0.3
          },
          "ternary": {
           "aaxis": {
            "gridcolor": "white",
            "linecolor": "white",
            "showgrid": true,
            "tickcolor": "rgb(51,51,51)",
            "ticks": "outside"
           },
           "baxis": {
            "gridcolor": "white",
            "linecolor": "white",
            "showgrid": true,
            "tickcolor": "rgb(51,51,51)",
            "ticks": "outside"
           },
           "bgcolor": "rgb(237,237,237)",
           "caxis": {
            "gridcolor": "white",
            "linecolor": "white",
            "showgrid": true,
            "tickcolor": "rgb(51,51,51)",
            "ticks": "outside"
           }
          },
          "xaxis": {
           "automargin": true,
           "gridcolor": "white",
           "linecolor": "white",
           "showgrid": true,
           "tickcolor": "rgb(51,51,51)",
           "ticks": "outside",
           "title": {
            "standoff": 15
           },
           "zerolinecolor": "white"
          },
          "yaxis": {
           "automargin": true,
           "gridcolor": "white",
           "linecolor": "white",
           "showgrid": true,
           "tickcolor": "rgb(51,51,51)",
           "ticks": "outside",
           "title": {
            "standoff": 15
           },
           "zerolinecolor": "white"
          }
         }
        },
        "title": {
         "text": "Autocorrelation (ACF) | Total"
        },
        "xaxis": {
         "anchor": "y",
         "domain": [
          0,
          1
         ],
         "range": [
          -1,
          42
         ],
         "title": {
          "text": "Lags"
         }
        },
        "yaxis": {
         "anchor": "x",
         "domain": [
          0,
          1
         ],
         "range": [
          -1.1,
          1.1
         ],
         "title": {
          "text": "ACF"
         },
         "zerolinecolor": "#000000"
        }
       }
      }
     },
     "metadata": {},
     "output_type": "display_data"
    }
   ],
   "source": [
    "plot_model(plot='acf')"
   ]
  },
  {
   "cell_type": "code",
   "execution_count": 28,
   "metadata": {},
   "outputs": [
    {
     "data": {
      "application/vnd.plotly.v1+json": {
       "config": {
        "plotlyServerURL": "https://plot.ly"
       },
       "data": [
        {
         "line": {
          "color": "#3f3f3f"
         },
         "marker": {
          "size": 10
         },
         "mode": "lines",
         "name": "PACF",
         "showlegend": false,
         "type": "scattergl",
         "x": [
          0,
          0
         ],
         "xaxis": "x",
         "y": [
          0,
          1
         ],
         "yaxis": "y"
        },
        {
         "line": {
          "color": "#3f3f3f"
         },
         "marker": {
          "size": 10
         },
         "mode": "lines",
         "name": "PACF",
         "showlegend": false,
         "type": "scattergl",
         "x": [
          1,
          1
         ],
         "xaxis": "x",
         "y": [
          0,
          0.6270814953068864
         ],
         "yaxis": "y"
        },
        {
         "line": {
          "color": "#3f3f3f"
         },
         "marker": {
          "size": 10
         },
         "mode": "lines",
         "name": "PACF",
         "showlegend": false,
         "type": "scattergl",
         "x": [
          2,
          2
         ],
         "xaxis": "x",
         "y": [
          0,
          -0.471798741280112
         ],
         "yaxis": "y"
        },
        {
         "line": {
          "color": "#3f3f3f"
         },
         "marker": {
          "size": 10
         },
         "mode": "lines",
         "name": "PACF",
         "showlegend": false,
         "type": "scattergl",
         "x": [
          3,
          3
         ],
         "xaxis": "x",
         "y": [
          0,
          0.29099166193574505
         ],
         "yaxis": "y"
        },
        {
         "line": {
          "color": "#3f3f3f"
         },
         "marker": {
          "size": 10
         },
         "mode": "lines",
         "name": "PACF",
         "showlegend": false,
         "type": "scattergl",
         "x": [
          4,
          4
         ],
         "xaxis": "x",
         "y": [
          0,
          -0.1752247454550022
         ],
         "yaxis": "y"
        },
        {
         "line": {
          "color": "#3f3f3f"
         },
         "marker": {
          "size": 10
         },
         "mode": "lines",
         "name": "PACF",
         "showlegend": false,
         "type": "scattergl",
         "x": [
          5,
          5
         ],
         "xaxis": "x",
         "y": [
          0,
          0.4016892283436478
         ],
         "yaxis": "y"
        },
        {
         "line": {
          "color": "#3f3f3f"
         },
         "marker": {
          "size": 10
         },
         "mode": "lines",
         "name": "PACF",
         "showlegend": false,
         "type": "scattergl",
         "x": [
          6,
          6
         ],
         "xaxis": "x",
         "y": [
          0,
          0.6811730731042802
         ],
         "yaxis": "y"
        },
        {
         "line": {
          "color": "#3f3f3f"
         },
         "marker": {
          "size": 10
         },
         "mode": "lines",
         "name": "PACF",
         "showlegend": false,
         "type": "scattergl",
         "x": [
          7,
          7
         ],
         "xaxis": "x",
         "y": [
          0,
          0.3180683626991206
         ],
         "yaxis": "y"
        },
        {
         "line": {
          "color": "#3f3f3f"
         },
         "marker": {
          "size": 10
         },
         "mode": "lines",
         "name": "PACF",
         "showlegend": false,
         "type": "scattergl",
         "x": [
          8,
          8
         ],
         "xaxis": "x",
         "y": [
          0,
          -0.3589776053122448
         ],
         "yaxis": "y"
        },
        {
         "line": {
          "color": "#3f3f3f"
         },
         "marker": {
          "size": 10
         },
         "mode": "lines",
         "name": "PACF",
         "showlegend": false,
         "type": "scattergl",
         "x": [
          9,
          9
         ],
         "xaxis": "x",
         "y": [
          0,
          0.01937550092039765
         ],
         "yaxis": "y"
        },
        {
         "line": {
          "color": "#3f3f3f"
         },
         "marker": {
          "size": 10
         },
         "mode": "lines",
         "name": "PACF",
         "showlegend": false,
         "type": "scattergl",
         "x": [
          10,
          10
         ],
         "xaxis": "x",
         "y": [
          0,
          -0.23990791019404634
         ],
         "yaxis": "y"
        },
        {
         "line": {
          "color": "#3f3f3f"
         },
         "marker": {
          "size": 10
         },
         "mode": "lines",
         "name": "PACF",
         "showlegend": false,
         "type": "scattergl",
         "x": [
          11,
          11
         ],
         "xaxis": "x",
         "y": [
          0,
          -0.28370884147563147
         ],
         "yaxis": "y"
        },
        {
         "line": {
          "color": "#3f3f3f"
         },
         "marker": {
          "size": 10
         },
         "mode": "lines",
         "name": "PACF",
         "showlegend": false,
         "type": "scattergl",
         "x": [
          12,
          12
         ],
         "xaxis": "x",
         "y": [
          0,
          -0.0815143436073601
         ],
         "yaxis": "y"
        },
        {
         "line": {
          "color": "#3f3f3f"
         },
         "marker": {
          "size": 10
         },
         "mode": "lines",
         "name": "PACF",
         "showlegend": false,
         "type": "scattergl",
         "x": [
          13,
          13
         ],
         "xaxis": "x",
         "y": [
          0,
          0.3206208713280948
         ],
         "yaxis": "y"
        },
        {
         "line": {
          "color": "#3f3f3f"
         },
         "marker": {
          "size": 10
         },
         "mode": "lines",
         "name": "PACF",
         "showlegend": false,
         "type": "scattergl",
         "x": [
          14,
          14
         ],
         "xaxis": "x",
         "y": [
          0,
          -0.043328747449398235
         ],
         "yaxis": "y"
        },
        {
         "line": {
          "color": "#3f3f3f"
         },
         "marker": {
          "size": 10
         },
         "mode": "lines",
         "name": "PACF",
         "showlegend": false,
         "type": "scattergl",
         "x": [
          15,
          15
         ],
         "xaxis": "x",
         "y": [
          0,
          0.1080353653391324
         ],
         "yaxis": "y"
        },
        {
         "line": {
          "color": "#3f3f3f"
         },
         "marker": {
          "size": 10
         },
         "mode": "lines",
         "name": "PACF",
         "showlegend": false,
         "type": "scattergl",
         "x": [
          16,
          16
         ],
         "xaxis": "x",
         "y": [
          0,
          0.22466399097688483
         ],
         "yaxis": "y"
        },
        {
         "line": {
          "color": "#3f3f3f"
         },
         "marker": {
          "size": 10
         },
         "mode": "lines",
         "name": "PACF",
         "showlegend": false,
         "type": "scattergl",
         "x": [
          17,
          17
         ],
         "xaxis": "x",
         "y": [
          0,
          -0.23000612636236856
         ],
         "yaxis": "y"
        },
        {
         "line": {
          "color": "#3f3f3f"
         },
         "marker": {
          "size": 10
         },
         "mode": "lines",
         "name": "PACF",
         "showlegend": false,
         "type": "scattergl",
         "x": [
          18,
          18
         ],
         "xaxis": "x",
         "y": [
          0,
          -0.20960390467246853
         ],
         "yaxis": "y"
        },
        {
         "line": {
          "color": "#3f3f3f"
         },
         "marker": {
          "size": 10
         },
         "mode": "lines",
         "name": "PACF",
         "showlegend": false,
         "type": "scattergl",
         "x": [
          19,
          19
         ],
         "xaxis": "x",
         "y": [
          0,
          -0.1331418240670487
         ],
         "yaxis": "y"
        },
        {
         "marker": {
          "color": "#1f77b4",
          "size": 10
         },
         "mode": "markers",
         "name": "PACF",
         "showlegend": false,
         "type": "scattergl",
         "x": [
          0,
          1,
          2,
          3,
          4,
          5,
          6,
          7,
          8,
          9,
          10,
          11,
          12,
          13,
          14,
          15,
          16,
          17,
          18,
          19
         ],
         "xaxis": "x",
         "y": [
          1,
          0.6270814953068864,
          -0.471798741280112,
          0.29099166193574505,
          -0.1752247454550022,
          0.4016892283436478,
          0.6811730731042802,
          0.3180683626991206,
          -0.3589776053122448,
          0.01937550092039765,
          -0.23990791019404634,
          -0.28370884147563147,
          -0.0815143436073601,
          0.3206208713280948,
          -0.043328747449398235,
          0.1080353653391324,
          0.22466399097688483,
          -0.23000612636236856,
          -0.20960390467246853,
          -0.1331418240670487
         ],
         "yaxis": "y"
        },
        {
         "line": {
          "color": "rgba(255,255,255,0)"
         },
         "marker": {
          "size": 10
         },
         "mode": "lines",
         "name": "UC",
         "showlegend": false,
         "type": "scatter",
         "x": [
          0,
          1,
          2,
          3,
          4,
          5,
          6,
          7,
          8,
          9,
          10,
          11,
          12,
          13,
          14,
          15,
          16,
          17,
          18,
          19
         ],
         "xaxis": "x",
         "y": [
          0,
          0.20659834410152056,
          0.20659834410152056,
          0.2065983441015205,
          0.20659834410152053,
          0.2065983441015205,
          0.20659834410152056,
          0.2065983441015205,
          0.20659834410152053,
          0.20659834410152056,
          0.20659834410152053,
          0.20659834410152053,
          0.20659834410152053,
          0.20659834410152056,
          0.20659834410152053,
          0.20659834410152056,
          0.20659834410152056,
          0.20659834410152053,
          0.20659834410152053,
          0.20659834410152053
         ],
         "yaxis": "y"
        },
        {
         "fill": "tonexty",
         "fillcolor": "rgba(32, 146, 230,0.3)",
         "line": {
          "color": "rgba(255,255,255,0)"
         },
         "marker": {
          "size": 10
         },
         "mode": "lines",
         "name": "LC",
         "showlegend": false,
         "type": "scatter",
         "x": [
          0,
          1,
          2,
          3,
          4,
          5,
          6,
          7,
          8,
          9,
          10,
          11,
          12,
          13,
          14,
          15,
          16,
          17,
          18,
          19
         ],
         "xaxis": "x",
         "y": [
          0,
          -0.20659834410152056,
          -0.20659834410152056,
          -0.20659834410152053,
          -0.20659834410152053,
          -0.20659834410152053,
          -0.20659834410152056,
          -0.20659834410152053,
          -0.2065983441015205,
          -0.2065983441015205,
          -0.20659834410152056,
          -0.20659834410152056,
          -0.20659834410152056,
          -0.20659834410152053,
          -0.20659834410152053,
          -0.20659834410152053,
          -0.20659834410152053,
          -0.2065983441015205,
          -0.2065983441015205,
          -0.20659834410152053
         ],
         "yaxis": "y"
        }
       ],
       "layout": {
        "annotations": [
         {
          "font": {
           "size": 16
          },
          "showarrow": false,
          "text": "Total (transformed)",
          "x": 0.5,
          "xanchor": "center",
          "xref": "paper",
          "y": 1,
          "yanchor": "bottom",
          "yref": "paper"
         }
        ],
        "showlegend": false,
        "template": {
         "data": {
          "bar": [
           {
            "error_x": {
             "color": "rgb(51,51,51)"
            },
            "error_y": {
             "color": "rgb(51,51,51)"
            },
            "marker": {
             "line": {
              "color": "rgb(237,237,237)",
              "width": 0.5
             },
             "pattern": {
              "fillmode": "overlay",
              "size": 10,
              "solidity": 0.2
             }
            },
            "type": "bar"
           }
          ],
          "barpolar": [
           {
            "marker": {
             "line": {
              "color": "rgb(237,237,237)",
              "width": 0.5
             },
             "pattern": {
              "fillmode": "overlay",
              "size": 10,
              "solidity": 0.2
             }
            },
            "type": "barpolar"
           }
          ],
          "carpet": [
           {
            "aaxis": {
             "endlinecolor": "rgb(51,51,51)",
             "gridcolor": "white",
             "linecolor": "white",
             "minorgridcolor": "white",
             "startlinecolor": "rgb(51,51,51)"
            },
            "baxis": {
             "endlinecolor": "rgb(51,51,51)",
             "gridcolor": "white",
             "linecolor": "white",
             "minorgridcolor": "white",
             "startlinecolor": "rgb(51,51,51)"
            },
            "type": "carpet"
           }
          ],
          "choropleth": [
           {
            "colorbar": {
             "outlinewidth": 0,
             "tickcolor": "rgb(237,237,237)",
             "ticklen": 6,
             "ticks": "inside"
            },
            "type": "choropleth"
           }
          ],
          "contour": [
           {
            "colorbar": {
             "outlinewidth": 0,
             "tickcolor": "rgb(237,237,237)",
             "ticklen": 6,
             "ticks": "inside"
            },
            "colorscale": [
             [
              0,
              "rgb(20,44,66)"
             ],
             [
              1,
              "rgb(90,179,244)"
             ]
            ],
            "type": "contour"
           }
          ],
          "contourcarpet": [
           {
            "colorbar": {
             "outlinewidth": 0,
             "tickcolor": "rgb(237,237,237)",
             "ticklen": 6,
             "ticks": "inside"
            },
            "type": "contourcarpet"
           }
          ],
          "heatmap": [
           {
            "colorbar": {
             "outlinewidth": 0,
             "tickcolor": "rgb(237,237,237)",
             "ticklen": 6,
             "ticks": "inside"
            },
            "colorscale": [
             [
              0,
              "rgb(20,44,66)"
             ],
             [
              1,
              "rgb(90,179,244)"
             ]
            ],
            "type": "heatmap"
           }
          ],
          "heatmapgl": [
           {
            "colorbar": {
             "outlinewidth": 0,
             "tickcolor": "rgb(237,237,237)",
             "ticklen": 6,
             "ticks": "inside"
            },
            "colorscale": [
             [
              0,
              "rgb(20,44,66)"
             ],
             [
              1,
              "rgb(90,179,244)"
             ]
            ],
            "type": "heatmapgl"
           }
          ],
          "histogram": [
           {
            "marker": {
             "pattern": {
              "fillmode": "overlay",
              "size": 10,
              "solidity": 0.2
             }
            },
            "type": "histogram"
           }
          ],
          "histogram2d": [
           {
            "colorbar": {
             "outlinewidth": 0,
             "tickcolor": "rgb(237,237,237)",
             "ticklen": 6,
             "ticks": "inside"
            },
            "colorscale": [
             [
              0,
              "rgb(20,44,66)"
             ],
             [
              1,
              "rgb(90,179,244)"
             ]
            ],
            "type": "histogram2d"
           }
          ],
          "histogram2dcontour": [
           {
            "colorbar": {
             "outlinewidth": 0,
             "tickcolor": "rgb(237,237,237)",
             "ticklen": 6,
             "ticks": "inside"
            },
            "colorscale": [
             [
              0,
              "rgb(20,44,66)"
             ],
             [
              1,
              "rgb(90,179,244)"
             ]
            ],
            "type": "histogram2dcontour"
           }
          ],
          "mesh3d": [
           {
            "colorbar": {
             "outlinewidth": 0,
             "tickcolor": "rgb(237,237,237)",
             "ticklen": 6,
             "ticks": "inside"
            },
            "type": "mesh3d"
           }
          ],
          "parcoords": [
           {
            "line": {
             "colorbar": {
              "outlinewidth": 0,
              "tickcolor": "rgb(237,237,237)",
              "ticklen": 6,
              "ticks": "inside"
             }
            },
            "type": "parcoords"
           }
          ],
          "pie": [
           {
            "automargin": true,
            "type": "pie"
           }
          ],
          "scatter": [
           {
            "fillpattern": {
             "fillmode": "overlay",
             "size": 10,
             "solidity": 0.2
            },
            "type": "scatter"
           }
          ],
          "scatter3d": [
           {
            "line": {
             "colorbar": {
              "outlinewidth": 0,
              "tickcolor": "rgb(237,237,237)",
              "ticklen": 6,
              "ticks": "inside"
             }
            },
            "marker": {
             "colorbar": {
              "outlinewidth": 0,
              "tickcolor": "rgb(237,237,237)",
              "ticklen": 6,
              "ticks": "inside"
             }
            },
            "type": "scatter3d"
           }
          ],
          "scattercarpet": [
           {
            "marker": {
             "colorbar": {
              "outlinewidth": 0,
              "tickcolor": "rgb(237,237,237)",
              "ticklen": 6,
              "ticks": "inside"
             }
            },
            "type": "scattercarpet"
           }
          ],
          "scattergeo": [
           {
            "marker": {
             "colorbar": {
              "outlinewidth": 0,
              "tickcolor": "rgb(237,237,237)",
              "ticklen": 6,
              "ticks": "inside"
             }
            },
            "type": "scattergeo"
           }
          ],
          "scattergl": [
           {
            "marker": {
             "colorbar": {
              "outlinewidth": 0,
              "tickcolor": "rgb(237,237,237)",
              "ticklen": 6,
              "ticks": "inside"
             }
            },
            "type": "scattergl"
           }
          ],
          "scattermapbox": [
           {
            "marker": {
             "colorbar": {
              "outlinewidth": 0,
              "tickcolor": "rgb(237,237,237)",
              "ticklen": 6,
              "ticks": "inside"
             }
            },
            "type": "scattermapbox"
           }
          ],
          "scatterpolar": [
           {
            "marker": {
             "colorbar": {
              "outlinewidth": 0,
              "tickcolor": "rgb(237,237,237)",
              "ticklen": 6,
              "ticks": "inside"
             }
            },
            "type": "scatterpolar"
           }
          ],
          "scatterpolargl": [
           {
            "marker": {
             "colorbar": {
              "outlinewidth": 0,
              "tickcolor": "rgb(237,237,237)",
              "ticklen": 6,
              "ticks": "inside"
             }
            },
            "type": "scatterpolargl"
           }
          ],
          "scatterternary": [
           {
            "marker": {
             "colorbar": {
              "outlinewidth": 0,
              "tickcolor": "rgb(237,237,237)",
              "ticklen": 6,
              "ticks": "inside"
             }
            },
            "type": "scatterternary"
           }
          ],
          "surface": [
           {
            "colorbar": {
             "outlinewidth": 0,
             "tickcolor": "rgb(237,237,237)",
             "ticklen": 6,
             "ticks": "inside"
            },
            "colorscale": [
             [
              0,
              "rgb(20,44,66)"
             ],
             [
              1,
              "rgb(90,179,244)"
             ]
            ],
            "type": "surface"
           }
          ],
          "table": [
           {
            "cells": {
             "fill": {
              "color": "rgb(237,237,237)"
             },
             "line": {
              "color": "white"
             }
            },
            "header": {
             "fill": {
              "color": "rgb(217,217,217)"
             },
             "line": {
              "color": "white"
             }
            },
            "type": "table"
           }
          ]
         },
         "layout": {
          "annotationdefaults": {
           "arrowhead": 0,
           "arrowwidth": 1
          },
          "autotypenumbers": "strict",
          "coloraxis": {
           "colorbar": {
            "outlinewidth": 0,
            "tickcolor": "rgb(237,237,237)",
            "ticklen": 6,
            "ticks": "inside"
           }
          },
          "colorscale": {
           "sequential": [
            [
             0,
             "rgb(20,44,66)"
            ],
            [
             1,
             "rgb(90,179,244)"
            ]
           ],
           "sequentialminus": [
            [
             0,
             "rgb(20,44,66)"
            ],
            [
             1,
             "rgb(90,179,244)"
            ]
           ]
          },
          "colorway": [
           "#F8766D",
           "#A3A500",
           "#00BF7D",
           "#00B0F6",
           "#E76BF3"
          ],
          "font": {
           "color": "rgb(51,51,51)"
          },
          "geo": {
           "bgcolor": "white",
           "lakecolor": "white",
           "landcolor": "rgb(237,237,237)",
           "showlakes": true,
           "showland": true,
           "subunitcolor": "white"
          },
          "hoverlabel": {
           "align": "left"
          },
          "hovermode": "closest",
          "paper_bgcolor": "white",
          "plot_bgcolor": "rgb(237,237,237)",
          "polar": {
           "angularaxis": {
            "gridcolor": "white",
            "linecolor": "white",
            "showgrid": true,
            "tickcolor": "rgb(51,51,51)",
            "ticks": "outside"
           },
           "bgcolor": "rgb(237,237,237)",
           "radialaxis": {
            "gridcolor": "white",
            "linecolor": "white",
            "showgrid": true,
            "tickcolor": "rgb(51,51,51)",
            "ticks": "outside"
           }
          },
          "scene": {
           "xaxis": {
            "backgroundcolor": "rgb(237,237,237)",
            "gridcolor": "white",
            "gridwidth": 2,
            "linecolor": "white",
            "showbackground": true,
            "showgrid": true,
            "tickcolor": "rgb(51,51,51)",
            "ticks": "outside",
            "zerolinecolor": "white"
           },
           "yaxis": {
            "backgroundcolor": "rgb(237,237,237)",
            "gridcolor": "white",
            "gridwidth": 2,
            "linecolor": "white",
            "showbackground": true,
            "showgrid": true,
            "tickcolor": "rgb(51,51,51)",
            "ticks": "outside",
            "zerolinecolor": "white"
           },
           "zaxis": {
            "backgroundcolor": "rgb(237,237,237)",
            "gridcolor": "white",
            "gridwidth": 2,
            "linecolor": "white",
            "showbackground": true,
            "showgrid": true,
            "tickcolor": "rgb(51,51,51)",
            "ticks": "outside",
            "zerolinecolor": "white"
           }
          },
          "shapedefaults": {
           "fillcolor": "black",
           "line": {
            "width": 0
           },
           "opacity": 0.3
          },
          "ternary": {
           "aaxis": {
            "gridcolor": "white",
            "linecolor": "white",
            "showgrid": true,
            "tickcolor": "rgb(51,51,51)",
            "ticks": "outside"
           },
           "baxis": {
            "gridcolor": "white",
            "linecolor": "white",
            "showgrid": true,
            "tickcolor": "rgb(51,51,51)",
            "ticks": "outside"
           },
           "bgcolor": "rgb(237,237,237)",
           "caxis": {
            "gridcolor": "white",
            "linecolor": "white",
            "showgrid": true,
            "tickcolor": "rgb(51,51,51)",
            "ticks": "outside"
           }
          },
          "xaxis": {
           "automargin": true,
           "gridcolor": "white",
           "linecolor": "white",
           "showgrid": true,
           "tickcolor": "rgb(51,51,51)",
           "ticks": "outside",
           "title": {
            "standoff": 15
           },
           "zerolinecolor": "white"
          },
          "yaxis": {
           "automargin": true,
           "gridcolor": "white",
           "linecolor": "white",
           "showgrid": true,
           "tickcolor": "rgb(51,51,51)",
           "ticks": "outside",
           "title": {
            "standoff": 15
           },
           "zerolinecolor": "white"
          }
         }
        },
        "title": {
         "text": "Partial Autocorrelation (PACF) | Total"
        },
        "xaxis": {
         "anchor": "y",
         "domain": [
          0,
          1
         ],
         "range": [
          -1,
          21
         ],
         "title": {
          "text": "Lags"
         }
        },
        "yaxis": {
         "anchor": "x",
         "domain": [
          0,
          1
         ],
         "range": [
          -1.1,
          1.1
         ],
         "title": {
          "text": "PACF"
         },
         "zerolinecolor": "#000000"
        }
       }
      }
     },
     "metadata": {},
     "output_type": "display_data"
    }
   ],
   "source": [
    "plot_model(plot='pacf')\n"
   ]
  },
  {
   "cell_type": "code",
   "execution_count": 29,
   "metadata": {},
   "outputs": [
    {
     "data": {
      "application/vnd.plotly.v1+json": {
       "config": {
        "plotlyServerURL": "https://plot.ly"
       },
       "data": [
        {
         "line": {
          "color": "rgb(31, 119, 180)",
          "width": 2
         },
         "marker": {
          "color": "rgb(31, 119, 180)",
          "size": 5
         },
         "mode": "lines+markers",
         "name": "Theta Forecaster",
         "showlegend": false,
         "type": "scattergl",
         "x": [
          "2021-07-08T00:00:00",
          "2021-07-09T00:00:00",
          "2021-07-10T00:00:00",
          "2021-07-11T00:00:00",
          "2021-07-12T00:00:00",
          "2021-07-13T00:00:00",
          "2021-07-14T00:00:00",
          "2021-07-15T00:00:00",
          "2021-07-16T00:00:00",
          "2021-07-17T00:00:00",
          "2021-07-18T00:00:00",
          "2021-07-19T00:00:00",
          "2021-07-20T00:00:00",
          "2021-07-21T00:00:00",
          "2021-07-22T00:00:00",
          "2021-07-23T00:00:00",
          "2021-07-24T00:00:00",
          "2021-07-25T00:00:00",
          "2021-07-26T00:00:00",
          "2021-07-27T00:00:00",
          "2021-07-28T00:00:00",
          "2021-07-29T00:00:00",
          "2021-07-30T00:00:00",
          "2021-07-31T00:00:00",
          "2021-08-01T00:00:00",
          "2021-08-02T00:00:00",
          "2021-08-03T00:00:00",
          "2021-08-04T00:00:00",
          "2021-08-05T00:00:00",
          "2021-08-06T00:00:00",
          "2021-08-07T00:00:00",
          "2021-08-08T00:00:00",
          "2021-08-09T00:00:00",
          "2021-08-10T00:00:00",
          "2021-08-11T00:00:00",
          "2021-08-12T00:00:00",
          "2021-08-13T00:00:00",
          "2021-08-14T00:00:00",
          "2021-08-15T00:00:00",
          "2021-08-16T00:00:00",
          "2021-08-17T00:00:00",
          "2021-08-18T00:00:00",
          "2021-08-19T00:00:00",
          "2021-08-20T00:00:00",
          "2021-08-21T00:00:00",
          "2021-08-22T00:00:00",
          "2021-08-23T00:00:00",
          "2021-08-24T00:00:00",
          "2021-08-25T00:00:00",
          "2021-08-26T00:00:00",
          "2021-08-27T00:00:00",
          "2021-08-28T00:00:00",
          "2021-08-29T00:00:00",
          "2021-08-30T00:00:00",
          "2021-08-31T00:00:00",
          "2021-09-01T00:00:00",
          "2021-09-02T00:00:00",
          "2021-09-03T00:00:00",
          "2021-09-04T00:00:00",
          "2021-09-05T00:00:00",
          "2021-09-06T00:00:00",
          "2021-09-07T00:00:00",
          "2021-09-08T00:00:00",
          "2021-09-09T00:00:00",
          "2021-09-10T00:00:00",
          "2021-09-11T00:00:00",
          "2021-09-12T00:00:00",
          "2021-09-13T00:00:00",
          "2021-09-14T00:00:00",
          "2021-09-15T00:00:00",
          "2021-09-16T00:00:00",
          "2021-09-17T00:00:00",
          "2021-09-18T00:00:00",
          "2021-09-19T00:00:00",
          "2021-09-20T00:00:00",
          "2021-09-21T00:00:00",
          "2021-09-22T00:00:00",
          "2021-09-23T00:00:00"
         ],
         "xaxis": "x",
         "y": [
          1678.4861,
          1365.8665,
          1186.6817,
          1131.1325,
          889.3476,
          427.7806999999998,
          1713.3962000000001,
          1657.9957,
          1288.0706,
          982.9958999999999,
          739.4058,
          1103.6933,
          763.3193000000001,
          1575.6217000000001,
          1760.2359000000001,
          1592.0369999999998,
          907.3489999999999,
          1008.7782000000002,
          -58.5016999999998,
          340.1104,
          1808.7431000000001,
          1446.0520999999999,
          588.239,
          488.3116,
          809.2521999999999,
          1033.1194999999998,
          1576.558,
          1244.4876000000004,
          88.20139999999992,
          578.4412000000002,
          456.2422999999999,
          808.6483000000001,
          630.0437000000002,
          2110.8509,
          -59.94920000000002,
          359.49130000000014,
          67.06710000000021,
          719.6511,
          573.7924,
          267.0608000000002,
          2227.5379,
          1450.2619000000004,
          728.4283999999998,
          377.59889999999996,
          -336.1725999999999,
          1224.7892,
          2732.7954,
          -952.7548999999999,
          7.453000000000429,
          797.5765000000001,
          177.32750000000033,
          -110.88700000000017,
          -63.90819999999985,
          1606.4908999999998,
          1174.7269999999999,
          612.5380999999998,
          855.7920999999997,
          433.3694999999998,
          -240.17380000000003,
          -483.9328999999998,
          1106.8022,
          477.5726000000004,
          401.7557999999999,
          30.004399999999805,
          1582.9758000000002,
          45.22420000000011,
          -809.9398999999999,
          921.4474,
          878.9867000000004,
          -83.12129999999979,
          984.8400000000001,
          927.5556999999999,
          412.3449999999998,
          -1078.6738999999998,
          -102.31919999999991,
          832.5217000000002,
          602.1148999999996,
          -125.19640000000072
         ],
         "yaxis": "y"
        },
        {
         "hoverinfo": "text",
         "hovertext": [
          "Freq: 0.0128<br>Ampl: 57.3751<br>Time period: 78.0",
          "Freq: 0.0256<br>Ampl: 48.4825<br>Time period: 39.0",
          "Freq: 0.0385<br>Ampl: 53.0374<br>Time period: 26.0",
          "Freq: 0.0513<br>Ampl: 56.7813<br>Time period: 19.5",
          "Freq: 0.0641<br>Ampl: 59.6989<br>Time period: 15.6",
          "Freq: 0.0769<br>Ampl: 59.4758<br>Time period: 13.0",
          "Freq: 0.0897<br>Ampl: 57.7419<br>Time period: 11.1429",
          "Freq: 0.1026<br>Ampl: 55.6179<br>Time period: 9.75",
          "Freq: 0.1154<br>Ampl: 53.2834<br>Time period: 8.6667",
          "Freq: 0.1282<br>Ampl: 62.6261<br>Time period: 7.8",
          "Freq: 0.141<br>Ampl: 65.6565<br>Time period: 7.0909",
          "Freq: 0.1538<br>Ampl: 65.3162<br>Time period: 6.5",
          "Freq: 0.1667<br>Ampl: 60.7893<br>Time period: 6.0",
          "Freq: 0.1795<br>Ampl: 47.1988<br>Time period: 5.5714",
          "Freq: 0.1923<br>Ampl: 59.548<br>Time period: 5.2",
          "Freq: 0.2051<br>Ampl: 63.4346<br>Time period: 4.875",
          "Freq: 0.2179<br>Ampl: 62.922<br>Time period: 4.5882",
          "Freq: 0.2308<br>Ampl: 64.1678<br>Time period: 4.3333",
          "Freq: 0.2436<br>Ampl: 65.7711<br>Time period: 4.1053",
          "Freq: 0.2564<br>Ampl: 64.8562<br>Time period: 3.9",
          "Freq: 0.2692<br>Ampl: 60.4533<br>Time period: 3.7143",
          "Freq: 0.2821<br>Ampl: 55.4214<br>Time period: 3.5455",
          "Freq: 0.2949<br>Ampl: 61.2818<br>Time period: 3.3913",
          "Freq: 0.3077<br>Ampl: 63.6088<br>Time period: 3.25",
          "Freq: 0.3205<br>Ampl: 62.2795<br>Time period: 3.12",
          "Freq: 0.3333<br>Ampl: 57.7775<br>Time period: 3.0",
          "Freq: 0.3462<br>Ampl: 59.2654<br>Time period: 2.8889",
          "Freq: 0.359<br>Ampl: 61.7333<br>Time period: 2.7857",
          "Freq: 0.3718<br>Ampl: 63.1625<br>Time period: 2.6897",
          "Freq: 0.3846<br>Ampl: 63.442<br>Time period: 2.6",
          "Freq: 0.3974<br>Ampl: 62.0107<br>Time period: 2.5161",
          "Freq: 0.4103<br>Ampl: 59.0248<br>Time period: 2.4375",
          "Freq: 0.4231<br>Ampl: 50.1655<br>Time period: 2.3636",
          "Freq: 0.4359<br>Ampl: 55.8709<br>Time period: 2.2941",
          "Freq: 0.4487<br>Ampl: 61.6637<br>Time period: 2.2286",
          "Freq: 0.4615<br>Ampl: 61.1221<br>Time period: 2.1667",
          "Freq: 0.4744<br>Ampl: 59.2267<br>Time period: 2.1081",
          "Freq: 0.4872<br>Ampl: 56.7933<br>Time period: 2.0526",
          "Freq: 0.5<br>Ampl: 41.7006<br>Time period: 2.0"
         ],
         "line": {
          "color": "#1f77b4",
          "width": 2
         },
         "marker": {
          "size": 5
         },
         "mode": "lines+markers",
         "name": "Theta Forecaster",
         "showlegend": false,
         "type": "scattergl",
         "x": [
          0.01282051282051282,
          0.02564102564102564,
          0.038461538461538464,
          0.05128205128205128,
          0.0641025641025641,
          0.07692307692307693,
          0.08974358974358974,
          0.10256410256410256,
          0.11538461538461538,
          0.1282051282051282,
          0.14102564102564102,
          0.15384615384615385,
          0.16666666666666666,
          0.1794871794871795,
          0.1923076923076923,
          0.20512820512820512,
          0.21794871794871795,
          0.23076923076923075,
          0.24358974358974358,
          0.2564102564102564,
          0.2692307692307692,
          0.28205128205128205,
          0.2948717948717949,
          0.3076923076923077,
          0.3205128205128205,
          0.3333333333333333,
          0.34615384615384615,
          0.358974358974359,
          0.3717948717948718,
          0.3846153846153846,
          0.3974358974358974,
          0.41025641025641024,
          0.4230769230769231,
          0.4358974358974359,
          0.4487179487179487,
          0.4615384615384615,
          0.47435897435897434,
          0.48717948717948717,
          0.5
         ],
         "xaxis": "x2",
         "y": [
          57.37506566772029,
          48.4824893754703,
          53.03742214922678,
          56.781273711068195,
          59.69894010762569,
          59.475830435996464,
          57.74192268391367,
          55.617918841859435,
          53.28344945253831,
          62.626054104329526,
          65.6564724503577,
          65.31616583698715,
          60.789263109150305,
          47.19875947628982,
          59.54795918313853,
          63.43458249514644,
          62.92195538284258,
          64.16784852318864,
          65.77109801804723,
          64.856155566403,
          60.45332542203145,
          55.4214222145501,
          61.28182699286313,
          63.60880360391051,
          62.27946372353472,
          57.777489292541475,
          59.26535191152395,
          61.733309128716044,
          63.1625251297826,
          63.44198437720246,
          62.01065068978899,
          59.02483460460819,
          50.16549423374224,
          55.87085468406705,
          61.66366677860749,
          61.12209877481045,
          59.22673795013141,
          56.793263391921386,
          41.700643752418394
         ],
         "yaxis": "y2"
        },
        {
         "alignmentgroup": "True",
         "bingroup": "x",
         "hovertemplate": "variable=Theta Forecaster<br>value=%{x}<br>count=%{y}<extra></extra>",
         "legendgroup": "Theta Forecaster",
         "marker": {
          "color": "#1f77b4",
          "pattern": {
           "shape": ""
          }
         },
         "name": "Theta Forecaster",
         "offsetgroup": "Theta Forecaster",
         "orientation": "v",
         "showlegend": false,
         "type": "histogram",
         "x": [
          1678.4861,
          1365.8665,
          1186.6817,
          1131.1325,
          889.3476,
          427.7806999999998,
          1713.3962000000001,
          1657.9957,
          1288.0706,
          982.9958999999999,
          739.4058,
          1103.6933,
          763.3193000000001,
          1575.6217000000001,
          1760.2359000000001,
          1592.0369999999998,
          907.3489999999999,
          1008.7782000000002,
          -58.5016999999998,
          340.1104,
          1808.7431000000001,
          1446.0520999999999,
          588.239,
          488.3116,
          809.2521999999999,
          1033.1194999999998,
          1576.558,
          1244.4876000000004,
          88.20139999999992,
          578.4412000000002,
          456.2422999999999,
          808.6483000000001,
          630.0437000000002,
          2110.8509,
          -59.94920000000002,
          359.49130000000014,
          67.06710000000021,
          719.6511,
          573.7924,
          267.0608000000002,
          2227.5379,
          1450.2619000000004,
          728.4283999999998,
          377.59889999999996,
          -336.1725999999999,
          1224.7892,
          2732.7954,
          -952.7548999999999,
          7.453000000000429,
          797.5765000000001,
          177.32750000000033,
          -110.88700000000017,
          -63.90819999999985,
          1606.4908999999998,
          1174.7269999999999,
          612.5380999999998,
          855.7920999999997,
          433.3694999999998,
          -240.17380000000003,
          -483.9328999999998,
          1106.8022,
          477.5726000000004,
          401.7557999999999,
          30.004399999999805,
          1582.9758000000002,
          45.22420000000011,
          -809.9398999999999,
          921.4474,
          878.9867000000004,
          -83.12129999999979,
          984.8400000000001,
          927.5556999999999,
          412.3449999999998,
          -1078.6738999999998,
          -102.31919999999991,
          832.5217000000002,
          602.1148999999996,
          -125.19640000000072
         ],
         "xaxis": "x3",
         "yaxis": "y3"
        },
        {
         "marker": {
          "color": "#1f77b4"
         },
         "mode": "markers",
         "name": "Theta Forecaster",
         "showlegend": false,
         "type": "scattergl",
         "x": [
          -2.23653945714085,
          -1.9545779044793146,
          -1.7746883070113357,
          -1.6387476645753805,
          -1.5277191697587056,
          -1.4328569081865645,
          -1.3493792261509343,
          -1.2743719014183899,
          -1.20592061451562,
          -1.1426966601588422,
          -1.0837379306738362,
          -1.0283239508024649,
          -0.9759001979035629,
          -0.926030019477074,
          -0.878362855144886,
          -0.8326125280043497,
          -0.7885419910667693,
          -0.7459523457113463,
          -0.7046747662449618,
          -0.6645644494105798,
          -0.6254960049724372,
          -0.5873598912228547,
          -0.5500596208882707,
          -0.5135095435609325,
          -0.477633065372608,
          -0.4423612042717188,
          -0.40763140566587447,
          -0.3733865619914056,
          -0.33957419334523603,
          -0.3061457562387048,
          -0.27305605487126,
          -0.2402627348027283,
          -0.20772584303184521,
          -0.17540744162137925,
          -0.14327126439911458,
          -0.11128240809028023,
          -0.07940705063153854,
          -0.04761219047413135,
          -0.015865401472839498,
          0.015865401472839637,
          0.04761219047413135,
          0.0794070506315384,
          0.11128240809028023,
          0.14327126439911445,
          0.1754074416213794,
          0.20772584303184521,
          0.24026273480272817,
          0.27305605487126,
          0.3061457562387048,
          0.3395741933452362,
          0.3733865619914056,
          0.4076314056658743,
          0.4423612042717188,
          0.477633065372608,
          0.5135095435609326,
          0.5500596208882707,
          0.5873598912228546,
          0.6254960049724372,
          0.6645644494105798,
          0.704674766244962,
          0.7459523457113463,
          0.7885419910667693,
          0.8326125280043497,
          0.878362855144886,
          0.9260300194770743,
          0.9759001979035629,
          1.0283239508024649,
          1.0837379306738362,
          1.1426966601588422,
          1.20592061451562,
          1.2743719014183899,
          1.3493792261509343,
          1.4328569081865645,
          1.5277191697587056,
          1.63874766457538,
          1.7746883070113357,
          1.9545779044793137,
          2.236539457140851
         ],
         "xaxis": "x4",
         "y": [
          -1078.6738999999998,
          -952.7548999999999,
          -809.9398999999999,
          -483.9328999999998,
          -336.1725999999999,
          -240.17380000000003,
          -125.19640000000072,
          -110.88700000000017,
          -102.31919999999991,
          -83.12129999999979,
          -63.90819999999985,
          -59.94920000000002,
          -58.5016999999998,
          7.453000000000429,
          30.004399999999805,
          45.22420000000011,
          67.06710000000021,
          88.20139999999992,
          177.32750000000033,
          267.0608000000002,
          340.1104,
          359.49130000000014,
          377.59889999999996,
          401.7557999999999,
          412.3449999999998,
          427.7806999999998,
          433.3694999999998,
          456.2422999999999,
          477.5726000000004,
          488.3116,
          573.7924,
          578.4412000000002,
          588.239,
          602.1148999999996,
          612.5380999999998,
          630.0437000000002,
          719.6511,
          728.4283999999998,
          739.4058,
          763.3193000000001,
          797.5765000000001,
          808.6483000000001,
          809.2521999999999,
          832.5217000000002,
          855.7920999999997,
          878.9867000000004,
          889.3476,
          907.3489999999999,
          921.4474,
          927.5556999999999,
          982.9958999999999,
          984.8400000000001,
          1008.7782000000002,
          1033.1194999999998,
          1103.6933,
          1106.8022,
          1131.1325,
          1174.7269999999999,
          1186.6817,
          1224.7892,
          1244.4876000000004,
          1288.0706,
          1365.8665,
          1446.0520999999999,
          1450.2619000000004,
          1575.6217000000001,
          1576.558,
          1582.9758000000002,
          1592.0369999999998,
          1606.4908999999998,
          1657.9957,
          1678.4861,
          1713.3962000000001,
          1760.2359000000001,
          1808.7431000000001,
          2110.8509,
          2227.5379,
          2732.7954
         ],
         "yaxis": "y4"
        },
        {
         "line": {
          "color": "#3f3f3f"
         },
         "mode": "lines",
         "name": "Theta Forecaster",
         "showlegend": false,
         "type": "scattergl",
         "x": [
          -2.23653945714085,
          -1.9545779044793146,
          -1.7746883070113357,
          -1.6387476645753805,
          -1.5277191697587056,
          -1.4328569081865645,
          -1.3493792261509343,
          -1.2743719014183899,
          -1.20592061451562,
          -1.1426966601588422,
          -1.0837379306738362,
          -1.0283239508024649,
          -0.9759001979035629,
          -0.926030019477074,
          -0.878362855144886,
          -0.8326125280043497,
          -0.7885419910667693,
          -0.7459523457113463,
          -0.7046747662449618,
          -0.6645644494105798,
          -0.6254960049724372,
          -0.5873598912228547,
          -0.5500596208882707,
          -0.5135095435609325,
          -0.477633065372608,
          -0.4423612042717188,
          -0.40763140566587447,
          -0.3733865619914056,
          -0.33957419334523603,
          -0.3061457562387048,
          -0.27305605487126,
          -0.2402627348027283,
          -0.20772584303184521,
          -0.17540744162137925,
          -0.14327126439911458,
          -0.11128240809028023,
          -0.07940705063153854,
          -0.04761219047413135,
          -0.015865401472839498,
          0.015865401472839637,
          0.04761219047413135,
          0.0794070506315384,
          0.11128240809028023,
          0.14327126439911445,
          0.1754074416213794,
          0.20772584303184521,
          0.24026273480272817,
          0.27305605487126,
          0.3061457562387048,
          0.3395741933452362,
          0.3733865619914056,
          0.4076314056658743,
          0.4423612042717188,
          0.477633065372608,
          0.5135095435609326,
          0.5500596208882707,
          0.5873598912228546,
          0.6254960049724372,
          0.6645644494105798,
          0.704674766244962,
          0.7459523457113463,
          0.7885419910667693,
          0.8326125280043497,
          0.878362855144886,
          0.9260300194770743,
          0.9759001979035629,
          1.0283239508024649,
          1.0837379306738362,
          1.1426966601588422,
          1.20592061451562,
          1.2743719014183899,
          1.3493792261509343,
          1.4328569081865645,
          1.5277191697587056,
          1.63874766457538,
          1.7746883070113357,
          1.9545779044793137,
          2.236539457140851
         ],
         "xaxis": "x4",
         "y": [
          -893.187395227916,
          -688.6615524715177,
          -558.1754235012585,
          -459.5684531657147,
          -379.03195356850335,
          -310.22191968026675,
          -249.66989367343513,
          -195.26199245776252,
          -145.60963024952002,
          -99.74900696541488,
          -56.98224063879309,
          -16.78672168701928,
          21.23978278102686,
          57.414006446667145,
          91.99023453458415,
          125.17605056685477,
          157.14340080593308,
          188.0365599150058,
          217.9779886226304,
          247.07272255476215,
          275.41171575602453,
          303.07442625843856,
          330.13084282733126,
          356.64309351407235,
          382.66673704751065,
          408.2518107894815,
          433.4436898296245,
          458.2837981581148,
          482.8102030089533,
          507.0581162677146,
          531.0603215146764,
          554.8475412986725,
          578.4487562419799,
          601.8914853042278,
          625.2020348004652,
          648.4057224437635,
          671.527081671191,
          694.5900507449269,
          717.6181505479271,
          740.6346545802784,
          763.6627543832785,
          786.7257234570143,
          809.847082684442,
          833.0507703277401,
          856.3613198239777,
          879.8040488862255,
          903.4052638295328,
          927.192483613529,
          951.1946888604908,
          975.4426021192522,
          999.9690069700906,
          1024.8091152985808,
          1050.000994338724,
          1075.5860680806948,
          1101.6097116141332,
          1128.1219623008742,
          1155.1783788697667,
          1182.841089372181,
          1211.1800825734433,
          1240.274816505575,
          1270.2162452131997,
          1301.1094043222724,
          1333.0767545613508,
          1366.2625705936211,
          1400.8387986815385,
          1437.0130223471785,
          1475.0395268152247,
          1515.2350457669986,
          1558.0018120936202,
          1603.8624353777254,
          1653.514797585968,
          1707.9226988016405,
          1768.4747248084723,
          1837.2847586967086,
          1917.8212582939195,
          2016.4282286294638,
          2146.9143575997223,
          2351.440200356122
         ],
         "yaxis": "y4"
        },
        {
         "line": {
          "color": "#3f3f3f"
         },
         "mode": "lines",
         "name": "ACF",
         "showlegend": false,
         "type": "scattergl",
         "x": [
          0,
          0
         ],
         "xaxis": "x5",
         "y": [
          0,
          1
         ],
         "yaxis": "y5"
        },
        {
         "line": {
          "color": "#3f3f3f"
         },
         "mode": "lines",
         "name": "ACF",
         "showlegend": false,
         "type": "scattergl",
         "x": [
          1,
          1
         ],
         "xaxis": "x5",
         "y": [
          0,
          0.16816759272987278
         ],
         "yaxis": "y5"
        },
        {
         "line": {
          "color": "#3f3f3f"
         },
         "mode": "lines",
         "name": "ACF",
         "showlegend": false,
         "type": "scattergl",
         "x": [
          2,
          2
         ],
         "xaxis": "x5",
         "y": [
          0,
          -0.15814419407398483
         ],
         "yaxis": "y5"
        },
        {
         "line": {
          "color": "#3f3f3f"
         },
         "mode": "lines",
         "name": "ACF",
         "showlegend": false,
         "type": "scattergl",
         "x": [
          3,
          3
         ],
         "xaxis": "x5",
         "y": [
          0,
          0.06403746211104026
         ],
         "yaxis": "y5"
        },
        {
         "line": {
          "color": "#3f3f3f"
         },
         "mode": "lines",
         "name": "ACF",
         "showlegend": false,
         "type": "scattergl",
         "x": [
          4,
          4
         ],
         "xaxis": "x5",
         "y": [
          0,
          0.154183815089963
         ],
         "yaxis": "y5"
        },
        {
         "line": {
          "color": "#3f3f3f"
         },
         "mode": "lines",
         "name": "ACF",
         "showlegend": false,
         "type": "scattergl",
         "x": [
          5,
          5
         ],
         "xaxis": "x5",
         "y": [
          0,
          0.030627557628598426
         ],
         "yaxis": "y5"
        },
        {
         "line": {
          "color": "#3f3f3f"
         },
         "mode": "lines",
         "name": "ACF",
         "showlegend": false,
         "type": "scattergl",
         "x": [
          6,
          6
         ],
         "xaxis": "x5",
         "y": [
          0,
          0.09111255538782495
         ],
         "yaxis": "y5"
        },
        {
         "line": {
          "color": "#3f3f3f"
         },
         "mode": "lines",
         "name": "ACF",
         "showlegend": false,
         "type": "scattergl",
         "x": [
          7,
          7
         ],
         "xaxis": "x5",
         "y": [
          0,
          0.30638768975197456
         ],
         "yaxis": "y5"
        },
        {
         "line": {
          "color": "#3f3f3f"
         },
         "mode": "lines",
         "name": "ACF",
         "showlegend": false,
         "type": "scattergl",
         "x": [
          8,
          8
         ],
         "xaxis": "x5",
         "y": [
          0,
          0.2519330976817672
         ],
         "yaxis": "y5"
        },
        {
         "line": {
          "color": "#3f3f3f"
         },
         "mode": "lines",
         "name": "ACF",
         "showlegend": false,
         "type": "scattergl",
         "x": [
          9,
          9
         ],
         "xaxis": "x5",
         "y": [
          0,
          -0.029121260701407622
         ],
         "yaxis": "y5"
        },
        {
         "line": {
          "color": "#3f3f3f"
         },
         "mode": "lines",
         "name": "ACF",
         "showlegend": false,
         "type": "scattergl",
         "x": [
          10,
          10
         ],
         "xaxis": "x5",
         "y": [
          0,
          -0.009783308368144093
         ],
         "yaxis": "y5"
        },
        {
         "line": {
          "color": "#3f3f3f"
         },
         "mode": "lines",
         "name": "ACF",
         "showlegend": false,
         "type": "scattergl",
         "x": [
          11,
          11
         ],
         "xaxis": "x5",
         "y": [
          0,
          0.1322109677663117
         ],
         "yaxis": "y5"
        },
        {
         "line": {
          "color": "#3f3f3f"
         },
         "mode": "lines",
         "name": "ACF",
         "showlegend": false,
         "type": "scattergl",
         "x": [
          12,
          12
         ],
         "xaxis": "x5",
         "y": [
          0,
          0.03452845255406802
         ],
         "yaxis": "y5"
        },
        {
         "line": {
          "color": "#3f3f3f"
         },
         "mode": "lines",
         "name": "ACF",
         "showlegend": false,
         "type": "scattergl",
         "x": [
          13,
          13
         ],
         "xaxis": "x5",
         "y": [
          0,
          0.14383678848750112
         ],
         "yaxis": "y5"
        },
        {
         "line": {
          "color": "#3f3f3f"
         },
         "mode": "lines",
         "name": "ACF",
         "showlegend": false,
         "type": "scattergl",
         "x": [
          14,
          14
         ],
         "xaxis": "x5",
         "y": [
          0,
          0.20668401221833585
         ],
         "yaxis": "y5"
        },
        {
         "line": {
          "color": "#3f3f3f"
         },
         "mode": "lines",
         "name": "ACF",
         "showlegend": false,
         "type": "scattergl",
         "x": [
          15,
          15
         ],
         "xaxis": "x5",
         "y": [
          0,
          0.15609796592819478
         ],
         "yaxis": "y5"
        },
        {
         "line": {
          "color": "#3f3f3f"
         },
         "mode": "lines",
         "name": "ACF",
         "showlegend": false,
         "type": "scattergl",
         "x": [
          16,
          16
         ],
         "xaxis": "x5",
         "y": [
          0,
          0.05977394805630024
         ],
         "yaxis": "y5"
        },
        {
         "line": {
          "color": "#3f3f3f"
         },
         "mode": "lines",
         "name": "ACF",
         "showlegend": false,
         "type": "scattergl",
         "x": [
          17,
          17
         ],
         "xaxis": "x5",
         "y": [
          0,
          -0.10893993677479553
         ],
         "yaxis": "y5"
        },
        {
         "line": {
          "color": "#3f3f3f"
         },
         "mode": "lines",
         "name": "ACF",
         "showlegend": false,
         "type": "scattergl",
         "x": [
          18,
          18
         ],
         "xaxis": "x5",
         "y": [
          0,
          0.05197584401294287
         ],
         "yaxis": "y5"
        },
        {
         "line": {
          "color": "#3f3f3f"
         },
         "mode": "lines",
         "name": "ACF",
         "showlegend": false,
         "type": "scattergl",
         "x": [
          19,
          19
         ],
         "xaxis": "x5",
         "y": [
          0,
          0.10499755260128753
         ],
         "yaxis": "y5"
        },
        {
         "line": {
          "color": "#3f3f3f"
         },
         "mode": "lines",
         "name": "ACF",
         "showlegend": false,
         "type": "scattergl",
         "x": [
          20,
          20
         ],
         "xaxis": "x5",
         "y": [
          0,
          0.041091613666105344
         ],
         "yaxis": "y5"
        },
        {
         "line": {
          "color": "#3f3f3f"
         },
         "mode": "lines",
         "name": "ACF",
         "showlegend": false,
         "type": "scattergl",
         "x": [
          21,
          21
         ],
         "xaxis": "x5",
         "y": [
          0,
          -0.006612099601095033
         ],
         "yaxis": "y5"
        },
        {
         "line": {
          "color": "#3f3f3f"
         },
         "mode": "lines",
         "name": "ACF",
         "showlegend": false,
         "type": "scattergl",
         "x": [
          22,
          22
         ],
         "xaxis": "x5",
         "y": [
          0,
          0.046575055495534055
         ],
         "yaxis": "y5"
        },
        {
         "line": {
          "color": "#3f3f3f"
         },
         "mode": "lines",
         "name": "ACF",
         "showlegend": false,
         "type": "scattergl",
         "x": [
          23,
          23
         ],
         "xaxis": "x5",
         "y": [
          0,
          -0.05383748194514388
         ],
         "yaxis": "y5"
        },
        {
         "line": {
          "color": "#3f3f3f"
         },
         "mode": "lines",
         "name": "ACF",
         "showlegend": false,
         "type": "scattergl",
         "x": [
          24,
          24
         ],
         "xaxis": "x5",
         "y": [
          0,
          0.012081125778125533
         ],
         "yaxis": "y5"
        },
        {
         "line": {
          "color": "#3f3f3f"
         },
         "mode": "lines",
         "name": "ACF",
         "showlegend": false,
         "type": "scattergl",
         "x": [
          25,
          25
         ],
         "xaxis": "x5",
         "y": [
          0,
          0.10449018641976472
         ],
         "yaxis": "y5"
        },
        {
         "line": {
          "color": "#3f3f3f"
         },
         "mode": "lines",
         "name": "ACF",
         "showlegend": false,
         "type": "scattergl",
         "x": [
          26,
          26
         ],
         "xaxis": "x5",
         "y": [
          0,
          0.10315873588511187
         ],
         "yaxis": "y5"
        },
        {
         "line": {
          "color": "#3f3f3f"
         },
         "mode": "lines",
         "name": "ACF",
         "showlegend": false,
         "type": "scattergl",
         "x": [
          27,
          27
         ],
         "xaxis": "x5",
         "y": [
          0,
          -0.01328187319993931
         ],
         "yaxis": "y5"
        },
        {
         "line": {
          "color": "#3f3f3f"
         },
         "mode": "lines",
         "name": "ACF",
         "showlegend": false,
         "type": "scattergl",
         "x": [
          28,
          28
         ],
         "xaxis": "x5",
         "y": [
          0,
          -0.1555868258743903
         ],
         "yaxis": "y5"
        },
        {
         "line": {
          "color": "#3f3f3f"
         },
         "mode": "lines",
         "name": "ACF",
         "showlegend": false,
         "type": "scattergl",
         "x": [
          29,
          29
         ],
         "xaxis": "x5",
         "y": [
          0,
          0.08117306324564558
         ],
         "yaxis": "y5"
        },
        {
         "line": {
          "color": "#3f3f3f"
         },
         "mode": "lines",
         "name": "ACF",
         "showlegend": false,
         "type": "scattergl",
         "x": [
          30,
          30
         ],
         "xaxis": "x5",
         "y": [
          0,
          0.043919013341734404
         ],
         "yaxis": "y5"
        },
        {
         "line": {
          "color": "#3f3f3f"
         },
         "mode": "lines",
         "name": "ACF",
         "showlegend": false,
         "type": "scattergl",
         "x": [
          31,
          31
         ],
         "xaxis": "x5",
         "y": [
          0,
          0.011672549349834064
         ],
         "yaxis": "y5"
        },
        {
         "line": {
          "color": "#3f3f3f"
         },
         "mode": "lines",
         "name": "ACF",
         "showlegend": false,
         "type": "scattergl",
         "x": [
          32,
          32
         ],
         "xaxis": "x5",
         "y": [
          0,
          -0.04972088485013839
         ],
         "yaxis": "y5"
        },
        {
         "line": {
          "color": "#3f3f3f"
         },
         "mode": "lines",
         "name": "ACF",
         "showlegend": false,
         "type": "scattergl",
         "x": [
          33,
          33
         ],
         "xaxis": "x5",
         "y": [
          0,
          -0.04527089073308188
         ],
         "yaxis": "y5"
        },
        {
         "line": {
          "color": "#3f3f3f"
         },
         "mode": "lines",
         "name": "ACF",
         "showlegend": false,
         "type": "scattergl",
         "x": [
          34,
          34
         ],
         "xaxis": "x5",
         "y": [
          0,
          -0.009063778668349756
         ],
         "yaxis": "y5"
        },
        {
         "line": {
          "color": "#3f3f3f"
         },
         "mode": "lines",
         "name": "ACF",
         "showlegend": false,
         "type": "scattergl",
         "x": [
          35,
          35
         ],
         "xaxis": "x5",
         "y": [
          0,
          -0.02637574641856418
         ],
         "yaxis": "y5"
        },
        {
         "line": {
          "color": "#3f3f3f"
         },
         "mode": "lines",
         "name": "ACF",
         "showlegend": false,
         "type": "scattergl",
         "x": [
          36,
          36
         ],
         "xaxis": "x5",
         "y": [
          0,
          -0.14587751882140296
         ],
         "yaxis": "y5"
        },
        {
         "line": {
          "color": "#3f3f3f"
         },
         "mode": "lines",
         "name": "ACF",
         "showlegend": false,
         "type": "scattergl",
         "x": [
          37,
          37
         ],
         "xaxis": "x5",
         "y": [
          0,
          -0.05714858426976627
         ],
         "yaxis": "y5"
        },
        {
         "line": {
          "color": "#3f3f3f"
         },
         "mode": "lines",
         "name": "ACF",
         "showlegend": false,
         "type": "scattergl",
         "x": [
          38,
          38
         ],
         "xaxis": "x5",
         "y": [
          0,
          0.030233144936989774
         ],
         "yaxis": "y5"
        },
        {
         "line": {
          "color": "#3f3f3f"
         },
         "mode": "lines",
         "name": "ACF",
         "showlegend": false,
         "type": "scattergl",
         "x": [
          39,
          39
         ],
         "xaxis": "x5",
         "y": [
          0,
          0.06548754340421267
         ],
         "yaxis": "y5"
        },
        {
         "line": {
          "color": "#3f3f3f"
         },
         "mode": "lines",
         "name": "ACF",
         "showlegend": false,
         "type": "scattergl",
         "x": [
          40,
          40
         ],
         "xaxis": "x5",
         "y": [
          0,
          0.01672496678853934
         ],
         "yaxis": "y5"
        },
        {
         "marker": {
          "color": "#1f77b4",
          "size": 6
         },
         "mode": "markers",
         "name": "ACF",
         "showlegend": false,
         "type": "scattergl",
         "x": [
          0,
          1,
          2,
          3,
          4,
          5,
          6,
          7,
          8,
          9,
          10,
          11,
          12,
          13,
          14,
          15,
          16,
          17,
          18,
          19,
          20,
          21,
          22,
          23,
          24,
          25,
          26,
          27,
          28,
          29,
          30,
          31,
          32,
          33,
          34,
          35,
          36,
          37,
          38,
          39,
          40
         ],
         "xaxis": "x5",
         "y": [
          1,
          0.16816759272987278,
          -0.15814419407398483,
          0.06403746211104026,
          0.154183815089963,
          0.030627557628598426,
          0.09111255538782495,
          0.30638768975197456,
          0.2519330976817672,
          -0.029121260701407622,
          -0.009783308368144093,
          0.1322109677663117,
          0.03452845255406802,
          0.14383678848750112,
          0.20668401221833585,
          0.15609796592819478,
          0.05977394805630024,
          -0.10893993677479553,
          0.05197584401294287,
          0.10499755260128753,
          0.041091613666105344,
          -0.006612099601095033,
          0.046575055495534055,
          -0.05383748194514388,
          0.012081125778125533,
          0.10449018641976472,
          0.10315873588511187,
          -0.01328187319993931,
          -0.1555868258743903,
          0.08117306324564558,
          0.043919013341734404,
          0.011672549349834064,
          -0.04972088485013839,
          -0.04527089073308188,
          -0.009063778668349756,
          -0.02637574641856418,
          -0.14587751882140296,
          -0.05714858426976627,
          0.030233144936989774,
          0.06548754340421267,
          0.01672496678853934
         ],
         "yaxis": "y5"
        },
        {
         "line": {
          "color": "rgba(255,255,255,0)"
         },
         "mode": "lines",
         "name": "UC",
         "showlegend": false,
         "type": "scatter",
         "x": [
          0,
          1,
          2,
          3,
          4,
          5,
          6,
          7,
          8,
          9,
          10,
          11,
          12,
          13,
          14,
          15,
          16,
          17,
          18,
          19,
          20,
          21,
          22,
          23,
          24,
          25,
          26,
          27,
          28,
          29,
          30,
          31,
          32,
          33,
          34,
          35,
          36,
          37,
          38,
          39,
          40
         ],
         "xaxis": "x5",
         "y": [
          0,
          0.22192222074452364,
          0.22811193659064824,
          0.23344908104504342,
          0.2343126065139465,
          0.23925713861997877,
          0.23945015148847695,
          0.24115153702760866,
          0.259616055378432,
          0.2713894845705459,
          0.2715433375186672,
          0.27156069633195073,
          0.27471248192531467,
          0.2749261347148648,
          0.27860765664962517,
          0.2860593153661306,
          0.29022407517952514,
          0.2908297494077186,
          0.2928325796887788,
          0.29328657227749605,
          0.2951320275976503,
          0.2954136611961666,
          0.2954209498012664,
          0.2957823608952705,
          0.2962645805540479,
          0.2962888421226204,
          0.2980981533744812,
          0.2998511425701968,
          0.29988011557574656,
          0.30382967811877437,
          0.3048958664345425,
          0.3052072770854216,
          0.30522926188400634,
          0.3056278915436021,
          0.3059579662304392,
          0.3059711898093889,
          0.3060831467734441,
          0.3094882468581855,
          0.31000752994446695,
          0.31015270577225185,
          0.3108329539739705
         ],
         "yaxis": "y5"
        },
        {
         "fill": "tonexty",
         "fillcolor": "rgba(32, 146, 230,0.3)",
         "line": {
          "color": "rgba(255,255,255,0)"
         },
         "mode": "lines",
         "name": "LC",
         "showlegend": false,
         "type": "scatter",
         "x": [
          0,
          1,
          2,
          3,
          4,
          5,
          6,
          7,
          8,
          9,
          10,
          11,
          12,
          13,
          14,
          15,
          16,
          17,
          18,
          19,
          20,
          21,
          22,
          23,
          24,
          25,
          26,
          27,
          28,
          29,
          30,
          31,
          32,
          33,
          34,
          35,
          36,
          37,
          38,
          39,
          40
         ],
         "xaxis": "x5",
         "y": [
          0,
          -0.22192222074452367,
          -0.2281119365906482,
          -0.23344908104504342,
          -0.23431260651394653,
          -0.23925713861997877,
          -0.23945015148847695,
          -0.2411515370276087,
          -0.25961605537843196,
          -0.2713894845705459,
          -0.2715433375186672,
          -0.27156069633195073,
          -0.27471248192531467,
          -0.2749261347148648,
          -0.2786076566496252,
          -0.28605931536613066,
          -0.29022407517952514,
          -0.2908297494077186,
          -0.2928325796887788,
          -0.29328657227749605,
          -0.2951320275976503,
          -0.2954136611961666,
          -0.2954209498012664,
          -0.2957823608952705,
          -0.2962645805540479,
          -0.2962888421226204,
          -0.2980981533744812,
          -0.2998511425701968,
          -0.29988011557574656,
          -0.30382967811877437,
          -0.3048958664345425,
          -0.3052072770854216,
          -0.30522926188400634,
          -0.3056278915436021,
          -0.3059579662304392,
          -0.3059711898093889,
          -0.30608314677344406,
          -0.3094882468581855,
          -0.31000752994446695,
          -0.3101527057722519,
          -0.3108329539739705
         ],
         "yaxis": "y5"
        },
        {
         "line": {
          "color": "#3f3f3f"
         },
         "mode": "lines",
         "name": "PACF",
         "showlegend": false,
         "type": "scattergl",
         "x": [
          0,
          0
         ],
         "xaxis": "x6",
         "y": [
          0,
          1
         ],
         "yaxis": "y6"
        },
        {
         "line": {
          "color": "#3f3f3f"
         },
         "mode": "lines",
         "name": "PACF",
         "showlegend": false,
         "type": "scattergl",
         "x": [
          1,
          1
         ],
         "xaxis": "x6",
         "y": [
          0,
          0.1703515874406504
         ],
         "yaxis": "y6"
        },
        {
         "line": {
          "color": "#3f3f3f"
         },
         "mode": "lines",
         "name": "PACF",
         "showlegend": false,
         "type": "scattergl",
         "x": [
          2,
          2
         ],
         "xaxis": "x6",
         "y": [
          0,
          -0.19704368823172697
         ],
         "yaxis": "y6"
        },
        {
         "line": {
          "color": "#3f3f3f"
         },
         "mode": "lines",
         "name": "PACF",
         "showlegend": false,
         "type": "scattergl",
         "x": [
          3,
          3
         ],
         "xaxis": "x6",
         "y": [
          0,
          0.14278960611246566
         ],
         "yaxis": "y6"
        },
        {
         "line": {
          "color": "#3f3f3f"
         },
         "mode": "lines",
         "name": "PACF",
         "showlegend": false,
         "type": "scattergl",
         "x": [
          4,
          4
         ],
         "xaxis": "x6",
         "y": [
          0,
          0.09410072154102814
         ],
         "yaxis": "y6"
        },
        {
         "line": {
          "color": "#3f3f3f"
         },
         "mode": "lines",
         "name": "PACF",
         "showlegend": false,
         "type": "scattergl",
         "x": [
          5,
          5
         ],
         "xaxis": "x6",
         "y": [
          0,
          0.015937624670983894
         ],
         "yaxis": "y6"
        },
        {
         "line": {
          "color": "#3f3f3f"
         },
         "mode": "lines",
         "name": "PACF",
         "showlegend": false,
         "type": "scattergl",
         "x": [
          6,
          6
         ],
         "xaxis": "x6",
         "y": [
          0,
          0.1423179990699304
         ],
         "yaxis": "y6"
        },
        {
         "line": {
          "color": "#3f3f3f"
         },
         "mode": "lines",
         "name": "PACF",
         "showlegend": false,
         "type": "scattergl",
         "x": [
          7,
          7
         ],
         "xaxis": "x6",
         "y": [
          0,
          0.304869929581534
         ],
         "yaxis": "y6"
        },
        {
         "line": {
          "color": "#3f3f3f"
         },
         "mode": "lines",
         "name": "PACF",
         "showlegend": false,
         "type": "scattergl",
         "x": [
          8,
          8
         ],
         "xaxis": "x6",
         "y": [
          0,
          0.22953752216963366
         ],
         "yaxis": "y6"
        },
        {
         "line": {
          "color": "#3f3f3f"
         },
         "mode": "lines",
         "name": "PACF",
         "showlegend": false,
         "type": "scattergl",
         "x": [
          9,
          9
         ],
         "xaxis": "x6",
         "y": [
          0,
          -0.0016363329489585297
         ],
         "yaxis": "y6"
        },
        {
         "line": {
          "color": "#3f3f3f"
         },
         "mode": "lines",
         "name": "PACF",
         "showlegend": false,
         "type": "scattergl",
         "x": [
          10,
          10
         ],
         "xaxis": "x6",
         "y": [
          0,
          0.03841159909979978
         ],
         "yaxis": "y6"
        },
        {
         "line": {
          "color": "#3f3f3f"
         },
         "mode": "lines",
         "name": "PACF",
         "showlegend": false,
         "type": "scattergl",
         "x": [
          11,
          11
         ],
         "xaxis": "x6",
         "y": [
          0,
          0.05122599121077926
         ],
         "yaxis": "y6"
        },
        {
         "line": {
          "color": "#3f3f3f"
         },
         "mode": "lines",
         "name": "PACF",
         "showlegend": false,
         "type": "scattergl",
         "x": [
          12,
          12
         ],
         "xaxis": "x6",
         "y": [
          0,
          -0.0818487937660491
         ],
         "yaxis": "y6"
        },
        {
         "line": {
          "color": "#3f3f3f"
         },
         "mode": "lines",
         "name": "PACF",
         "showlegend": false,
         "type": "scattergl",
         "x": [
          13,
          13
         ],
         "xaxis": "x6",
         "y": [
          0,
          0.18123869448194807
         ],
         "yaxis": "y6"
        },
        {
         "line": {
          "color": "#3f3f3f"
         },
         "mode": "lines",
         "name": "PACF",
         "showlegend": false,
         "type": "scattergl",
         "x": [
          14,
          14
         ],
         "xaxis": "x6",
         "y": [
          0,
          0.07606153630844233
         ],
         "yaxis": "y6"
        },
        {
         "line": {
          "color": "#3f3f3f"
         },
         "mode": "lines",
         "name": "PACF",
         "showlegend": false,
         "type": "scattergl",
         "x": [
          15,
          15
         ],
         "xaxis": "x6",
         "y": [
          0,
          0.09158262236333498
         ],
         "yaxis": "y6"
        },
        {
         "line": {
          "color": "#3f3f3f"
         },
         "mode": "lines",
         "name": "PACF",
         "showlegend": false,
         "type": "scattergl",
         "x": [
          16,
          16
         ],
         "xaxis": "x6",
         "y": [
          0,
          0.08008375033183754
         ],
         "yaxis": "y6"
        },
        {
         "line": {
          "color": "#3f3f3f"
         },
         "mode": "lines",
         "name": "PACF",
         "showlegend": false,
         "type": "scattergl",
         "x": [
          17,
          17
         ],
         "xaxis": "x6",
         "y": [
          0,
          -0.20655532075324745
         ],
         "yaxis": "y6"
        },
        {
         "line": {
          "color": "#3f3f3f"
         },
         "mode": "lines",
         "name": "PACF",
         "showlegend": false,
         "type": "scattergl",
         "x": [
          18,
          18
         ],
         "xaxis": "x6",
         "y": [
          0,
          0.04343900791803906
         ],
         "yaxis": "y6"
        },
        {
         "marker": {
          "color": "#1f77b4",
          "size": 6
         },
         "mode": "markers",
         "name": "PACF",
         "showlegend": false,
         "type": "scattergl",
         "x": [
          0,
          1,
          2,
          3,
          4,
          5,
          6,
          7,
          8,
          9,
          10,
          11,
          12,
          13,
          14,
          15,
          16,
          17,
          18
         ],
         "xaxis": "x6",
         "y": [
          1,
          0.1703515874406504,
          -0.19704368823172697,
          0.14278960611246566,
          0.09410072154102814,
          0.015937624670983894,
          0.1423179990699304,
          0.304869929581534,
          0.22953752216963366,
          -0.0016363329489585297,
          0.03841159909979978,
          0.05122599121077926,
          -0.0818487937660491,
          0.18123869448194807,
          0.07606153630844233,
          0.09158262236333498,
          0.08008375033183754,
          -0.20655532075324745,
          0.04343900791803906
         ],
         "yaxis": "y6"
        },
        {
         "line": {
          "color": "rgba(255,255,255,0)"
         },
         "mode": "lines",
         "name": "UC",
         "showlegend": false,
         "type": "scatter",
         "x": [
          0,
          1,
          2,
          3,
          4,
          5,
          6,
          7,
          8,
          9,
          10,
          11,
          12,
          13,
          14,
          15,
          16,
          17,
          18
         ],
         "xaxis": "x6",
         "y": [
          0,
          0.2219222207445237,
          0.22192222074452367,
          0.22192222074452367,
          0.2219222207445237,
          0.22192222074452367,
          0.2219222207445237,
          0.22192222074452372,
          0.2219222207445237,
          0.22192222074452367,
          0.2219222207445237,
          0.22192222074452367,
          0.22192222074452367,
          0.22192222074452367,
          0.22192222074452367,
          0.22192222074452367,
          0.22192222074452364,
          0.22192222074452367,
          0.22192222074452367
         ],
         "yaxis": "y6"
        },
        {
         "fill": "tonexty",
         "fillcolor": "rgba(32, 146, 230,0.3)",
         "line": {
          "color": "rgba(255,255,255,0)"
         },
         "mode": "lines",
         "name": "LC",
         "showlegend": false,
         "type": "scatter",
         "x": [
          0,
          1,
          2,
          3,
          4,
          5,
          6,
          7,
          8,
          9,
          10,
          11,
          12,
          13,
          14,
          15,
          16,
          17,
          18
         ],
         "xaxis": "x6",
         "y": [
          0,
          -0.22192222074452367,
          -0.22192222074452367,
          -0.22192222074452367,
          -0.22192222074452367,
          -0.22192222074452367,
          -0.22192222074452367,
          -0.22192222074452367,
          -0.22192222074452367,
          -0.22192222074452367,
          -0.22192222074452367,
          -0.22192222074452367,
          -0.22192222074452367,
          -0.22192222074452367,
          -0.22192222074452367,
          -0.22192222074452367,
          -0.22192222074452367,
          -0.22192222074452367,
          -0.22192222074452367
         ],
         "yaxis": "y6"
        }
       ],
       "layout": {
        "annotations": [
         {
          "font": {
           "size": 16
          },
          "showarrow": false,
          "text": "Theta Forecaster Residuals",
          "x": 0.225,
          "xanchor": "center",
          "xref": "paper",
          "y": 1,
          "yanchor": "bottom",
          "yref": "paper"
         },
         {
          "font": {
           "size": 16
          },
          "showarrow": false,
          "text": "Periodogram",
          "x": 0.775,
          "xanchor": "center",
          "xref": "paper",
          "y": 1,
          "yanchor": "bottom",
          "yref": "paper"
         },
         {
          "font": {
           "size": 16
          },
          "showarrow": false,
          "text": "Histogram",
          "x": 0.225,
          "xanchor": "center",
          "xref": "paper",
          "y": 0.6111111111111112,
          "yanchor": "bottom",
          "yref": "paper"
         },
         {
          "font": {
           "size": 16
          },
          "showarrow": false,
          "text": "Q-Q Plot",
          "x": 0.775,
          "xanchor": "center",
          "xref": "paper",
          "y": 0.6111111111111112,
          "yanchor": "bottom",
          "yref": "paper"
         },
         {
          "font": {
           "size": 16
          },
          "showarrow": false,
          "text": "ACF",
          "x": 0.225,
          "xanchor": "center",
          "xref": "paper",
          "y": 0.22222222222222227,
          "yanchor": "bottom",
          "yref": "paper"
         },
         {
          "font": {
           "size": 16
          },
          "showarrow": false,
          "text": "PACF",
          "x": 0.775,
          "xanchor": "center",
          "xref": "paper",
          "y": 0.22222222222222227,
          "yanchor": "bottom",
          "yref": "paper"
         }
        ],
        "showlegend": false,
        "template": {
         "data": {
          "bar": [
           {
            "error_x": {
             "color": "rgb(51,51,51)"
            },
            "error_y": {
             "color": "rgb(51,51,51)"
            },
            "marker": {
             "line": {
              "color": "rgb(237,237,237)",
              "width": 0.5
             },
             "pattern": {
              "fillmode": "overlay",
              "size": 10,
              "solidity": 0.2
             }
            },
            "type": "bar"
           }
          ],
          "barpolar": [
           {
            "marker": {
             "line": {
              "color": "rgb(237,237,237)",
              "width": 0.5
             },
             "pattern": {
              "fillmode": "overlay",
              "size": 10,
              "solidity": 0.2
             }
            },
            "type": "barpolar"
           }
          ],
          "carpet": [
           {
            "aaxis": {
             "endlinecolor": "rgb(51,51,51)",
             "gridcolor": "white",
             "linecolor": "white",
             "minorgridcolor": "white",
             "startlinecolor": "rgb(51,51,51)"
            },
            "baxis": {
             "endlinecolor": "rgb(51,51,51)",
             "gridcolor": "white",
             "linecolor": "white",
             "minorgridcolor": "white",
             "startlinecolor": "rgb(51,51,51)"
            },
            "type": "carpet"
           }
          ],
          "choropleth": [
           {
            "colorbar": {
             "outlinewidth": 0,
             "tickcolor": "rgb(237,237,237)",
             "ticklen": 6,
             "ticks": "inside"
            },
            "type": "choropleth"
           }
          ],
          "contour": [
           {
            "colorbar": {
             "outlinewidth": 0,
             "tickcolor": "rgb(237,237,237)",
             "ticklen": 6,
             "ticks": "inside"
            },
            "colorscale": [
             [
              0,
              "rgb(20,44,66)"
             ],
             [
              1,
              "rgb(90,179,244)"
             ]
            ],
            "type": "contour"
           }
          ],
          "contourcarpet": [
           {
            "colorbar": {
             "outlinewidth": 0,
             "tickcolor": "rgb(237,237,237)",
             "ticklen": 6,
             "ticks": "inside"
            },
            "type": "contourcarpet"
           }
          ],
          "heatmap": [
           {
            "colorbar": {
             "outlinewidth": 0,
             "tickcolor": "rgb(237,237,237)",
             "ticklen": 6,
             "ticks": "inside"
            },
            "colorscale": [
             [
              0,
              "rgb(20,44,66)"
             ],
             [
              1,
              "rgb(90,179,244)"
             ]
            ],
            "type": "heatmap"
           }
          ],
          "heatmapgl": [
           {
            "colorbar": {
             "outlinewidth": 0,
             "tickcolor": "rgb(237,237,237)",
             "ticklen": 6,
             "ticks": "inside"
            },
            "colorscale": [
             [
              0,
              "rgb(20,44,66)"
             ],
             [
              1,
              "rgb(90,179,244)"
             ]
            ],
            "type": "heatmapgl"
           }
          ],
          "histogram": [
           {
            "marker": {
             "pattern": {
              "fillmode": "overlay",
              "size": 10,
              "solidity": 0.2
             }
            },
            "type": "histogram"
           }
          ],
          "histogram2d": [
           {
            "colorbar": {
             "outlinewidth": 0,
             "tickcolor": "rgb(237,237,237)",
             "ticklen": 6,
             "ticks": "inside"
            },
            "colorscale": [
             [
              0,
              "rgb(20,44,66)"
             ],
             [
              1,
              "rgb(90,179,244)"
             ]
            ],
            "type": "histogram2d"
           }
          ],
          "histogram2dcontour": [
           {
            "colorbar": {
             "outlinewidth": 0,
             "tickcolor": "rgb(237,237,237)",
             "ticklen": 6,
             "ticks": "inside"
            },
            "colorscale": [
             [
              0,
              "rgb(20,44,66)"
             ],
             [
              1,
              "rgb(90,179,244)"
             ]
            ],
            "type": "histogram2dcontour"
           }
          ],
          "mesh3d": [
           {
            "colorbar": {
             "outlinewidth": 0,
             "tickcolor": "rgb(237,237,237)",
             "ticklen": 6,
             "ticks": "inside"
            },
            "type": "mesh3d"
           }
          ],
          "parcoords": [
           {
            "line": {
             "colorbar": {
              "outlinewidth": 0,
              "tickcolor": "rgb(237,237,237)",
              "ticklen": 6,
              "ticks": "inside"
             }
            },
            "type": "parcoords"
           }
          ],
          "pie": [
           {
            "automargin": true,
            "type": "pie"
           }
          ],
          "scatter": [
           {
            "fillpattern": {
             "fillmode": "overlay",
             "size": 10,
             "solidity": 0.2
            },
            "type": "scatter"
           }
          ],
          "scatter3d": [
           {
            "line": {
             "colorbar": {
              "outlinewidth": 0,
              "tickcolor": "rgb(237,237,237)",
              "ticklen": 6,
              "ticks": "inside"
             }
            },
            "marker": {
             "colorbar": {
              "outlinewidth": 0,
              "tickcolor": "rgb(237,237,237)",
              "ticklen": 6,
              "ticks": "inside"
             }
            },
            "type": "scatter3d"
           }
          ],
          "scattercarpet": [
           {
            "marker": {
             "colorbar": {
              "outlinewidth": 0,
              "tickcolor": "rgb(237,237,237)",
              "ticklen": 6,
              "ticks": "inside"
             }
            },
            "type": "scattercarpet"
           }
          ],
          "scattergeo": [
           {
            "marker": {
             "colorbar": {
              "outlinewidth": 0,
              "tickcolor": "rgb(237,237,237)",
              "ticklen": 6,
              "ticks": "inside"
             }
            },
            "type": "scattergeo"
           }
          ],
          "scattergl": [
           {
            "marker": {
             "colorbar": {
              "outlinewidth": 0,
              "tickcolor": "rgb(237,237,237)",
              "ticklen": 6,
              "ticks": "inside"
             }
            },
            "type": "scattergl"
           }
          ],
          "scattermapbox": [
           {
            "marker": {
             "colorbar": {
              "outlinewidth": 0,
              "tickcolor": "rgb(237,237,237)",
              "ticklen": 6,
              "ticks": "inside"
             }
            },
            "type": "scattermapbox"
           }
          ],
          "scatterpolar": [
           {
            "marker": {
             "colorbar": {
              "outlinewidth": 0,
              "tickcolor": "rgb(237,237,237)",
              "ticklen": 6,
              "ticks": "inside"
             }
            },
            "type": "scatterpolar"
           }
          ],
          "scatterpolargl": [
           {
            "marker": {
             "colorbar": {
              "outlinewidth": 0,
              "tickcolor": "rgb(237,237,237)",
              "ticklen": 6,
              "ticks": "inside"
             }
            },
            "type": "scatterpolargl"
           }
          ],
          "scatterternary": [
           {
            "marker": {
             "colorbar": {
              "outlinewidth": 0,
              "tickcolor": "rgb(237,237,237)",
              "ticklen": 6,
              "ticks": "inside"
             }
            },
            "type": "scatterternary"
           }
          ],
          "surface": [
           {
            "colorbar": {
             "outlinewidth": 0,
             "tickcolor": "rgb(237,237,237)",
             "ticklen": 6,
             "ticks": "inside"
            },
            "colorscale": [
             [
              0,
              "rgb(20,44,66)"
             ],
             [
              1,
              "rgb(90,179,244)"
             ]
            ],
            "type": "surface"
           }
          ],
          "table": [
           {
            "cells": {
             "fill": {
              "color": "rgb(237,237,237)"
             },
             "line": {
              "color": "white"
             }
            },
            "header": {
             "fill": {
              "color": "rgb(217,217,217)"
             },
             "line": {
              "color": "white"
             }
            },
            "type": "table"
           }
          ]
         },
         "layout": {
          "annotationdefaults": {
           "arrowhead": 0,
           "arrowwidth": 1
          },
          "autotypenumbers": "strict",
          "coloraxis": {
           "colorbar": {
            "outlinewidth": 0,
            "tickcolor": "rgb(237,237,237)",
            "ticklen": 6,
            "ticks": "inside"
           }
          },
          "colorscale": {
           "sequential": [
            [
             0,
             "rgb(20,44,66)"
            ],
            [
             1,
             "rgb(90,179,244)"
            ]
           ],
           "sequentialminus": [
            [
             0,
             "rgb(20,44,66)"
            ],
            [
             1,
             "rgb(90,179,244)"
            ]
           ]
          },
          "colorway": [
           "#F8766D",
           "#A3A500",
           "#00BF7D",
           "#00B0F6",
           "#E76BF3"
          ],
          "font": {
           "color": "rgb(51,51,51)"
          },
          "geo": {
           "bgcolor": "white",
           "lakecolor": "white",
           "landcolor": "rgb(237,237,237)",
           "showlakes": true,
           "showland": true,
           "subunitcolor": "white"
          },
          "hoverlabel": {
           "align": "left"
          },
          "hovermode": "closest",
          "paper_bgcolor": "white",
          "plot_bgcolor": "rgb(237,237,237)",
          "polar": {
           "angularaxis": {
            "gridcolor": "white",
            "linecolor": "white",
            "showgrid": true,
            "tickcolor": "rgb(51,51,51)",
            "ticks": "outside"
           },
           "bgcolor": "rgb(237,237,237)",
           "radialaxis": {
            "gridcolor": "white",
            "linecolor": "white",
            "showgrid": true,
            "tickcolor": "rgb(51,51,51)",
            "ticks": "outside"
           }
          },
          "scene": {
           "xaxis": {
            "backgroundcolor": "rgb(237,237,237)",
            "gridcolor": "white",
            "gridwidth": 2,
            "linecolor": "white",
            "showbackground": true,
            "showgrid": true,
            "tickcolor": "rgb(51,51,51)",
            "ticks": "outside",
            "zerolinecolor": "white"
           },
           "yaxis": {
            "backgroundcolor": "rgb(237,237,237)",
            "gridcolor": "white",
            "gridwidth": 2,
            "linecolor": "white",
            "showbackground": true,
            "showgrid": true,
            "tickcolor": "rgb(51,51,51)",
            "ticks": "outside",
            "zerolinecolor": "white"
           },
           "zaxis": {
            "backgroundcolor": "rgb(237,237,237)",
            "gridcolor": "white",
            "gridwidth": 2,
            "linecolor": "white",
            "showbackground": true,
            "showgrid": true,
            "tickcolor": "rgb(51,51,51)",
            "ticks": "outside",
            "zerolinecolor": "white"
           }
          },
          "shapedefaults": {
           "fillcolor": "black",
           "line": {
            "width": 0
           },
           "opacity": 0.3
          },
          "ternary": {
           "aaxis": {
            "gridcolor": "white",
            "linecolor": "white",
            "showgrid": true,
            "tickcolor": "rgb(51,51,51)",
            "ticks": "outside"
           },
           "baxis": {
            "gridcolor": "white",
            "linecolor": "white",
            "showgrid": true,
            "tickcolor": "rgb(51,51,51)",
            "ticks": "outside"
           },
           "bgcolor": "rgb(237,237,237)",
           "caxis": {
            "gridcolor": "white",
            "linecolor": "white",
            "showgrid": true,
            "tickcolor": "rgb(51,51,51)",
            "ticks": "outside"
           }
          },
          "xaxis": {
           "automargin": true,
           "gridcolor": "white",
           "linecolor": "white",
           "showgrid": true,
           "tickcolor": "rgb(51,51,51)",
           "ticks": "outside",
           "title": {
            "standoff": 15
           },
           "zerolinecolor": "white"
          },
          "yaxis": {
           "automargin": true,
           "gridcolor": "white",
           "linecolor": "white",
           "showgrid": true,
           "tickcolor": "rgb(51,51,51)",
           "ticks": "outside",
           "title": {
            "standoff": 15
           },
           "zerolinecolor": "white"
          }
         }
        },
        "title": {
         "text": "Diagnostics | Model Residuals"
        },
        "xaxis": {
         "anchor": "y",
         "domain": [
          0,
          0.45
         ]
        },
        "xaxis2": {
         "anchor": "y2",
         "domain": [
          0.55,
          1
         ],
         "range": [
          0,
          0.5
         ]
        },
        "xaxis3": {
         "anchor": "y3",
         "domain": [
          0,
          0.45
         ],
         "title": {
          "text": "Range of Values"
         }
        },
        "xaxis4": {
         "anchor": "y4",
         "domain": [
          0.55,
          1
         ],
         "title": {
          "text": "Theoretical Quantities"
         }
        },
        "xaxis5": {
         "anchor": "y5",
         "domain": [
          0,
          0.45
         ],
         "range": [
          -1,
          42
         ]
        },
        "xaxis6": {
         "anchor": "y6",
         "domain": [
          0.55,
          1
         ],
         "range": [
          -1,
          20
         ]
        },
        "yaxis": {
         "anchor": "x",
         "domain": [
          0.7777777777777779,
          1
         ]
        },
        "yaxis2": {
         "anchor": "x2",
         "domain": [
          0.7777777777777779,
          1
         ]
        },
        "yaxis3": {
         "anchor": "x3",
         "domain": [
          0.38888888888888895,
          0.6111111111111112
         ],
         "title": {
          "text": "PDF"
         }
        },
        "yaxis4": {
         "anchor": "x4",
         "domain": [
          0.38888888888888895,
          0.6111111111111112
         ],
         "title": {
          "text": "Sample Quantities"
         }
        },
        "yaxis5": {
         "anchor": "x5",
         "domain": [
          0,
          0.22222222222222227
         ],
         "range": [
          -1.1,
          1.1
         ],
         "zerolinecolor": "#000000"
        },
        "yaxis6": {
         "anchor": "x6",
         "domain": [
          0,
          0.22222222222222227
         ],
         "range": [
          -1.1,
          1.1
         ],
         "zerolinecolor": "#000000"
        }
       }
      }
     },
     "metadata": {},
     "output_type": "display_data"
    }
   ],
   "source": [
    "plot_model(best, plot = 'diagnostics')\n"
   ]
  },
  {
   "cell_type": "code",
   "execution_count": 30,
   "metadata": {},
   "outputs": [
    {
     "data": {
      "application/vnd.plotly.v1+json": {
       "config": {
        "plotlyServerURL": "https://plot.ly"
       },
       "data": [
        {
         "line": {
          "color": "#1f77b4"
         },
         "marker": {
          "size": 5
         },
         "mode": "lines+markers",
         "name": "Forecast | Theta Forecaster",
         "showlegend": true,
         "type": "scatter",
         "x": [
          "2021-09-24T00:00:00",
          "2021-09-25T00:00:00",
          "2021-09-26T00:00:00",
          "2021-09-27T00:00:00",
          "2021-09-28T00:00:00",
          "2021-09-29T00:00:00",
          "2021-09-30T00:00:00",
          "2021-10-01T00:00:00",
          "2021-10-02T00:00:00",
          "2021-10-03T00:00:00",
          "2021-10-04T00:00:00",
          "2021-10-05T00:00:00"
         ],
         "y": [
          7111.4964,
          3578.8096,
          4123.7043,
          7779.4459,
          8493.7955,
          8468.0194,
          8467.1125,
          7243.3989,
          3645.0132,
          4199.7866,
          7922.5994,
          8649.6843
         ]
        },
        {
         "line": {
          "width": 0
         },
         "marker": {
          "color": "#68BBE3"
         },
         "mode": "lines",
         "name": "Lower Interval",
         "showlegend": false,
         "type": "scatter",
         "x": [
          "2021-09-24T00:00:00",
          "2021-09-25T00:00:00",
          "2021-09-26T00:00:00",
          "2021-09-27T00:00:00",
          "2021-09-28T00:00:00",
          "2021-09-29T00:00:00",
          "2021-09-30T00:00:00",
          "2021-10-01T00:00:00",
          "2021-10-02T00:00:00",
          "2021-10-03T00:00:00",
          "2021-10-04T00:00:00",
          "2021-10-05T00:00:00"
         ],
         "y": [
          5512.1217,
          1621.1332,
          1863.8383,
          5253.2844,
          5726.8497,
          5479.6275,
          5272.5885,
          3855.2606,
          73.7419,
          454.326,
          4010.6979,
          4578.1403
         ]
        },
        {
         "fill": "tonexty",
         "fillcolor": "rgba(104,187,227,0.5)",
         "line": {
          "width": 0
         },
         "marker": {
          "color": "#68BBE3"
         },
         "mode": "lines",
         "name": "Prediction Interval | Theta Forecaster",
         "showlegend": true,
         "type": "scatter",
         "x": [
          "2021-09-24T00:00:00",
          "2021-09-25T00:00:00",
          "2021-09-26T00:00:00",
          "2021-09-27T00:00:00",
          "2021-09-28T00:00:00",
          "2021-09-29T00:00:00",
          "2021-09-30T00:00:00",
          "2021-10-01T00:00:00",
          "2021-10-02T00:00:00",
          "2021-10-03T00:00:00",
          "2021-10-04T00:00:00",
          "2021-10-05T00:00:00"
         ],
         "y": [
          8710.8712,
          5536.486,
          6383.5703,
          10305.6073,
          11260.7413,
          11456.4113,
          11661.6366,
          10631.5372,
          7216.2844,
          7945.2473,
          11834.5009,
          12721.2283
         ]
        },
        {
         "marker": {
          "color": "#3f3f3f",
          "size": 5
         },
         "mode": "lines+markers",
         "name": "Original",
         "showlegend": true,
         "type": "scatter",
         "x": [
          "2021-07-08T00:00:00",
          "2021-07-09T00:00:00",
          "2021-07-10T00:00:00",
          "2021-07-11T00:00:00",
          "2021-07-12T00:00:00",
          "2021-07-13T00:00:00",
          "2021-07-14T00:00:00",
          "2021-07-15T00:00:00",
          "2021-07-16T00:00:00",
          "2021-07-17T00:00:00",
          "2021-07-18T00:00:00",
          "2021-07-19T00:00:00",
          "2021-07-20T00:00:00",
          "2021-07-21T00:00:00",
          "2021-07-22T00:00:00",
          "2021-07-23T00:00:00",
          "2021-07-24T00:00:00",
          "2021-07-25T00:00:00",
          "2021-07-26T00:00:00",
          "2021-07-27T00:00:00",
          "2021-07-28T00:00:00",
          "2021-07-29T00:00:00",
          "2021-07-30T00:00:00",
          "2021-07-31T00:00:00",
          "2021-08-01T00:00:00",
          "2021-08-02T00:00:00",
          "2021-08-03T00:00:00",
          "2021-08-04T00:00:00",
          "2021-08-05T00:00:00",
          "2021-08-06T00:00:00",
          "2021-08-07T00:00:00",
          "2021-08-08T00:00:00",
          "2021-08-09T00:00:00",
          "2021-08-10T00:00:00",
          "2021-08-11T00:00:00",
          "2021-08-12T00:00:00",
          "2021-08-13T00:00:00",
          "2021-08-14T00:00:00",
          "2021-08-15T00:00:00",
          "2021-08-16T00:00:00",
          "2021-08-17T00:00:00",
          "2021-08-18T00:00:00",
          "2021-08-19T00:00:00",
          "2021-08-20T00:00:00",
          "2021-08-21T00:00:00",
          "2021-08-22T00:00:00",
          "2021-08-23T00:00:00",
          "2021-08-24T00:00:00",
          "2021-08-25T00:00:00",
          "2021-08-26T00:00:00",
          "2021-08-27T00:00:00",
          "2021-08-28T00:00:00",
          "2021-08-29T00:00:00",
          "2021-08-30T00:00:00",
          "2021-08-31T00:00:00",
          "2021-09-01T00:00:00",
          "2021-09-02T00:00:00",
          "2021-09-03T00:00:00",
          "2021-09-04T00:00:00",
          "2021-09-05T00:00:00",
          "2021-09-06T00:00:00",
          "2021-09-07T00:00:00",
          "2021-09-08T00:00:00",
          "2021-09-09T00:00:00",
          "2021-09-10T00:00:00",
          "2021-09-11T00:00:00",
          "2021-09-12T00:00:00",
          "2021-09-13T00:00:00",
          "2021-09-14T00:00:00",
          "2021-09-15T00:00:00",
          "2021-09-16T00:00:00",
          "2021-09-17T00:00:00",
          "2021-09-18T00:00:00",
          "2021-09-19T00:00:00",
          "2021-09-20T00:00:00",
          "2021-09-21T00:00:00",
          "2021-09-22T00:00:00",
          "2021-09-23T00:00:00",
          "2021-09-24T00:00:00",
          "2021-09-25T00:00:00",
          "2021-09-26T00:00:00",
          "2021-09-27T00:00:00",
          "2021-09-28T00:00:00",
          "2021-09-29T00:00:00",
          "2021-09-30T00:00:00",
          "2021-10-01T00:00:00",
          "2021-10-02T00:00:00",
          "2021-10-03T00:00:00",
          "2021-10-04T00:00:00",
          "2021-10-05T00:00:00"
         ],
         "y": [
          3773,
          3172,
          2079,
          2725,
          4542,
          3795,
          3941,
          4064,
          3474,
          2093,
          2426,
          4339,
          4064,
          4224,
          4603,
          4369,
          2532,
          3276,
          4917,
          4430,
          4977,
          5193,
          4001,
          1996,
          2538,
          4764,
          5651,
          5777,
          4789,
          3782,
          1920,
          2526,
          4481,
          6034,
          5006,
          4450,
          3112,
          1914,
          2359,
          3948,
          5727,
          6365,
          6323,
          5151,
          1947,
          3128,
          7999,
          7104,
          6457,
          6643,
          5355,
          2341,
          2367,
          5592,
          6770,
          6877,
          7272,
          6279,
          2741,
          2483,
          5456,
          6082,
          6139,
          5865,
          6362,
          3132,
          2681,
          5788,
          7001,
          6721,
          7556,
          7278,
          4026,
          3514,
          6476,
          7863,
          8418,
          8290,
          7189,
          3567,
          4088,
          7418,
          8765,
          7798,
          9212,
          7115,
          3903,
          5038,
          7843,
          8872
         ]
        }
       ],
       "layout": {
        "showlegend": true,
        "template": {
         "data": {
          "bar": [
           {
            "error_x": {
             "color": "rgb(51,51,51)"
            },
            "error_y": {
             "color": "rgb(51,51,51)"
            },
            "marker": {
             "line": {
              "color": "rgb(237,237,237)",
              "width": 0.5
             },
             "pattern": {
              "fillmode": "overlay",
              "size": 10,
              "solidity": 0.2
             }
            },
            "type": "bar"
           }
          ],
          "barpolar": [
           {
            "marker": {
             "line": {
              "color": "rgb(237,237,237)",
              "width": 0.5
             },
             "pattern": {
              "fillmode": "overlay",
              "size": 10,
              "solidity": 0.2
             }
            },
            "type": "barpolar"
           }
          ],
          "carpet": [
           {
            "aaxis": {
             "endlinecolor": "rgb(51,51,51)",
             "gridcolor": "white",
             "linecolor": "white",
             "minorgridcolor": "white",
             "startlinecolor": "rgb(51,51,51)"
            },
            "baxis": {
             "endlinecolor": "rgb(51,51,51)",
             "gridcolor": "white",
             "linecolor": "white",
             "minorgridcolor": "white",
             "startlinecolor": "rgb(51,51,51)"
            },
            "type": "carpet"
           }
          ],
          "choropleth": [
           {
            "colorbar": {
             "outlinewidth": 0,
             "tickcolor": "rgb(237,237,237)",
             "ticklen": 6,
             "ticks": "inside"
            },
            "type": "choropleth"
           }
          ],
          "contour": [
           {
            "colorbar": {
             "outlinewidth": 0,
             "tickcolor": "rgb(237,237,237)",
             "ticklen": 6,
             "ticks": "inside"
            },
            "colorscale": [
             [
              0,
              "rgb(20,44,66)"
             ],
             [
              1,
              "rgb(90,179,244)"
             ]
            ],
            "type": "contour"
           }
          ],
          "contourcarpet": [
           {
            "colorbar": {
             "outlinewidth": 0,
             "tickcolor": "rgb(237,237,237)",
             "ticklen": 6,
             "ticks": "inside"
            },
            "type": "contourcarpet"
           }
          ],
          "heatmap": [
           {
            "colorbar": {
             "outlinewidth": 0,
             "tickcolor": "rgb(237,237,237)",
             "ticklen": 6,
             "ticks": "inside"
            },
            "colorscale": [
             [
              0,
              "rgb(20,44,66)"
             ],
             [
              1,
              "rgb(90,179,244)"
             ]
            ],
            "type": "heatmap"
           }
          ],
          "heatmapgl": [
           {
            "colorbar": {
             "outlinewidth": 0,
             "tickcolor": "rgb(237,237,237)",
             "ticklen": 6,
             "ticks": "inside"
            },
            "colorscale": [
             [
              0,
              "rgb(20,44,66)"
             ],
             [
              1,
              "rgb(90,179,244)"
             ]
            ],
            "type": "heatmapgl"
           }
          ],
          "histogram": [
           {
            "marker": {
             "pattern": {
              "fillmode": "overlay",
              "size": 10,
              "solidity": 0.2
             }
            },
            "type": "histogram"
           }
          ],
          "histogram2d": [
           {
            "colorbar": {
             "outlinewidth": 0,
             "tickcolor": "rgb(237,237,237)",
             "ticklen": 6,
             "ticks": "inside"
            },
            "colorscale": [
             [
              0,
              "rgb(20,44,66)"
             ],
             [
              1,
              "rgb(90,179,244)"
             ]
            ],
            "type": "histogram2d"
           }
          ],
          "histogram2dcontour": [
           {
            "colorbar": {
             "outlinewidth": 0,
             "tickcolor": "rgb(237,237,237)",
             "ticklen": 6,
             "ticks": "inside"
            },
            "colorscale": [
             [
              0,
              "rgb(20,44,66)"
             ],
             [
              1,
              "rgb(90,179,244)"
             ]
            ],
            "type": "histogram2dcontour"
           }
          ],
          "mesh3d": [
           {
            "colorbar": {
             "outlinewidth": 0,
             "tickcolor": "rgb(237,237,237)",
             "ticklen": 6,
             "ticks": "inside"
            },
            "type": "mesh3d"
           }
          ],
          "parcoords": [
           {
            "line": {
             "colorbar": {
              "outlinewidth": 0,
              "tickcolor": "rgb(237,237,237)",
              "ticklen": 6,
              "ticks": "inside"
             }
            },
            "type": "parcoords"
           }
          ],
          "pie": [
           {
            "automargin": true,
            "type": "pie"
           }
          ],
          "scatter": [
           {
            "fillpattern": {
             "fillmode": "overlay",
             "size": 10,
             "solidity": 0.2
            },
            "type": "scatter"
           }
          ],
          "scatter3d": [
           {
            "line": {
             "colorbar": {
              "outlinewidth": 0,
              "tickcolor": "rgb(237,237,237)",
              "ticklen": 6,
              "ticks": "inside"
             }
            },
            "marker": {
             "colorbar": {
              "outlinewidth": 0,
              "tickcolor": "rgb(237,237,237)",
              "ticklen": 6,
              "ticks": "inside"
             }
            },
            "type": "scatter3d"
           }
          ],
          "scattercarpet": [
           {
            "marker": {
             "colorbar": {
              "outlinewidth": 0,
              "tickcolor": "rgb(237,237,237)",
              "ticklen": 6,
              "ticks": "inside"
             }
            },
            "type": "scattercarpet"
           }
          ],
          "scattergeo": [
           {
            "marker": {
             "colorbar": {
              "outlinewidth": 0,
              "tickcolor": "rgb(237,237,237)",
              "ticklen": 6,
              "ticks": "inside"
             }
            },
            "type": "scattergeo"
           }
          ],
          "scattergl": [
           {
            "marker": {
             "colorbar": {
              "outlinewidth": 0,
              "tickcolor": "rgb(237,237,237)",
              "ticklen": 6,
              "ticks": "inside"
             }
            },
            "type": "scattergl"
           }
          ],
          "scattermapbox": [
           {
            "marker": {
             "colorbar": {
              "outlinewidth": 0,
              "tickcolor": "rgb(237,237,237)",
              "ticklen": 6,
              "ticks": "inside"
             }
            },
            "type": "scattermapbox"
           }
          ],
          "scatterpolar": [
           {
            "marker": {
             "colorbar": {
              "outlinewidth": 0,
              "tickcolor": "rgb(237,237,237)",
              "ticklen": 6,
              "ticks": "inside"
             }
            },
            "type": "scatterpolar"
           }
          ],
          "scatterpolargl": [
           {
            "marker": {
             "colorbar": {
              "outlinewidth": 0,
              "tickcolor": "rgb(237,237,237)",
              "ticklen": 6,
              "ticks": "inside"
             }
            },
            "type": "scatterpolargl"
           }
          ],
          "scatterternary": [
           {
            "marker": {
             "colorbar": {
              "outlinewidth": 0,
              "tickcolor": "rgb(237,237,237)",
              "ticklen": 6,
              "ticks": "inside"
             }
            },
            "type": "scatterternary"
           }
          ],
          "surface": [
           {
            "colorbar": {
             "outlinewidth": 0,
             "tickcolor": "rgb(237,237,237)",
             "ticklen": 6,
             "ticks": "inside"
            },
            "colorscale": [
             [
              0,
              "rgb(20,44,66)"
             ],
             [
              1,
              "rgb(90,179,244)"
             ]
            ],
            "type": "surface"
           }
          ],
          "table": [
           {
            "cells": {
             "fill": {
              "color": "rgb(237,237,237)"
             },
             "line": {
              "color": "white"
             }
            },
            "header": {
             "fill": {
              "color": "rgb(217,217,217)"
             },
             "line": {
              "color": "white"
             }
            },
            "type": "table"
           }
          ]
         },
         "layout": {
          "annotationdefaults": {
           "arrowhead": 0,
           "arrowwidth": 1
          },
          "autotypenumbers": "strict",
          "coloraxis": {
           "colorbar": {
            "outlinewidth": 0,
            "tickcolor": "rgb(237,237,237)",
            "ticklen": 6,
            "ticks": "inside"
           }
          },
          "colorscale": {
           "sequential": [
            [
             0,
             "rgb(20,44,66)"
            ],
            [
             1,
             "rgb(90,179,244)"
            ]
           ],
           "sequentialminus": [
            [
             0,
             "rgb(20,44,66)"
            ],
            [
             1,
             "rgb(90,179,244)"
            ]
           ]
          },
          "colorway": [
           "#F8766D",
           "#A3A500",
           "#00BF7D",
           "#00B0F6",
           "#E76BF3"
          ],
          "font": {
           "color": "rgb(51,51,51)"
          },
          "geo": {
           "bgcolor": "white",
           "lakecolor": "white",
           "landcolor": "rgb(237,237,237)",
           "showlakes": true,
           "showland": true,
           "subunitcolor": "white"
          },
          "hoverlabel": {
           "align": "left"
          },
          "hovermode": "closest",
          "paper_bgcolor": "white",
          "plot_bgcolor": "rgb(237,237,237)",
          "polar": {
           "angularaxis": {
            "gridcolor": "white",
            "linecolor": "white",
            "showgrid": true,
            "tickcolor": "rgb(51,51,51)",
            "ticks": "outside"
           },
           "bgcolor": "rgb(237,237,237)",
           "radialaxis": {
            "gridcolor": "white",
            "linecolor": "white",
            "showgrid": true,
            "tickcolor": "rgb(51,51,51)",
            "ticks": "outside"
           }
          },
          "scene": {
           "xaxis": {
            "backgroundcolor": "rgb(237,237,237)",
            "gridcolor": "white",
            "gridwidth": 2,
            "linecolor": "white",
            "showbackground": true,
            "showgrid": true,
            "tickcolor": "rgb(51,51,51)",
            "ticks": "outside",
            "zerolinecolor": "white"
           },
           "yaxis": {
            "backgroundcolor": "rgb(237,237,237)",
            "gridcolor": "white",
            "gridwidth": 2,
            "linecolor": "white",
            "showbackground": true,
            "showgrid": true,
            "tickcolor": "rgb(51,51,51)",
            "ticks": "outside",
            "zerolinecolor": "white"
           },
           "zaxis": {
            "backgroundcolor": "rgb(237,237,237)",
            "gridcolor": "white",
            "gridwidth": 2,
            "linecolor": "white",
            "showbackground": true,
            "showgrid": true,
            "tickcolor": "rgb(51,51,51)",
            "ticks": "outside",
            "zerolinecolor": "white"
           }
          },
          "shapedefaults": {
           "fillcolor": "black",
           "line": {
            "width": 0
           },
           "opacity": 0.3
          },
          "ternary": {
           "aaxis": {
            "gridcolor": "white",
            "linecolor": "white",
            "showgrid": true,
            "tickcolor": "rgb(51,51,51)",
            "ticks": "outside"
           },
           "baxis": {
            "gridcolor": "white",
            "linecolor": "white",
            "showgrid": true,
            "tickcolor": "rgb(51,51,51)",
            "ticks": "outside"
           },
           "bgcolor": "rgb(237,237,237)",
           "caxis": {
            "gridcolor": "white",
            "linecolor": "white",
            "showgrid": true,
            "tickcolor": "rgb(51,51,51)",
            "ticks": "outside"
           }
          },
          "xaxis": {
           "automargin": true,
           "gridcolor": "white",
           "linecolor": "white",
           "showgrid": true,
           "tickcolor": "rgb(51,51,51)",
           "ticks": "outside",
           "title": {
            "standoff": 15
           },
           "zerolinecolor": "white"
          },
          "yaxis": {
           "automargin": true,
           "gridcolor": "white",
           "linecolor": "white",
           "showgrid": true,
           "tickcolor": "rgb(51,51,51)",
           "ticks": "outside",
           "title": {
            "standoff": 15
           },
           "zerolinecolor": "white"
          }
         }
        },
        "title": {
         "text": "Actual vs. 'Out-of-Sample' Forecast | Total"
        },
        "xaxis": {
         "title": {
          "text": "Time"
         }
        },
        "yaxis": {
         "title": {
          "text": "Values"
         }
        }
       }
      }
     },
     "metadata": {},
     "output_type": "display_data"
    }
   ],
   "source": [
    "# plot forecast\n",
    "plot_model(best, plot = 'forecast')"
   ]
  },
  {
   "cell_type": "code",
   "execution_count": 31,
   "metadata": {},
   "outputs": [
    {
     "data": {
      "application/vnd.plotly.v1+json": {
       "config": {
        "plotlyServerURL": "https://plot.ly"
       },
       "data": [
        {
         "line": {
          "color": "#1f77b4"
         },
         "marker": {
          "size": 5
         },
         "mode": "lines+markers",
         "name": "Forecast | Theta Forecaster",
         "showlegend": true,
         "type": "scatter",
         "x": [
          "2021-09-24T00:00:00",
          "2021-09-25T00:00:00",
          "2021-09-26T00:00:00",
          "2021-09-27T00:00:00",
          "2021-09-28T00:00:00",
          "2021-09-29T00:00:00",
          "2021-09-30T00:00:00",
          "2021-10-01T00:00:00",
          "2021-10-02T00:00:00",
          "2021-10-03T00:00:00",
          "2021-10-04T00:00:00",
          "2021-10-05T00:00:00",
          "2021-10-06T00:00:00",
          "2021-10-07T00:00:00",
          "2021-10-08T00:00:00",
          "2021-10-09T00:00:00",
          "2021-10-10T00:00:00",
          "2021-10-11T00:00:00",
          "2021-10-12T00:00:00",
          "2021-10-13T00:00:00",
          "2021-10-14T00:00:00",
          "2021-10-15T00:00:00",
          "2021-10-16T00:00:00",
          "2021-10-17T00:00:00",
          "2021-10-18T00:00:00",
          "2021-10-19T00:00:00",
          "2021-10-20T00:00:00",
          "2021-10-21T00:00:00",
          "2021-10-22T00:00:00",
          "2021-10-23T00:00:00",
          "2021-10-24T00:00:00",
          "2021-10-25T00:00:00",
          "2021-10-26T00:00:00",
          "2021-10-27T00:00:00",
          "2021-10-28T00:00:00",
          "2021-10-29T00:00:00"
         ],
         "y": [
          7111.4964,
          3578.8096,
          4123.7043,
          7779.4459,
          8493.7955,
          8468.0194,
          8467.1125,
          7243.3989,
          3645.0132,
          4199.7866,
          7922.5994,
          8649.6843,
          8623.0288,
          8621.7011,
          7375.3014,
          3711.2167,
          4275.869,
          8065.7529,
          8805.5732,
          8778.0381,
          8776.2896,
          7507.2039,
          3777.4203,
          4351.9514,
          8208.9065,
          8961.462,
          8933.0475,
          8930.8781,
          7639.1064,
          3843.6239,
          4428.0338,
          8352.06,
          9117.3509,
          9088.0569,
          9085.4666,
          7771.0089
         ]
        },
        {
         "line": {
          "width": 0
         },
         "marker": {
          "color": "#68BBE3"
         },
         "mode": "lines",
         "name": "Lower Interval",
         "showlegend": false,
         "type": "scatter",
         "x": [
          "2021-09-24T00:00:00",
          "2021-09-25T00:00:00",
          "2021-09-26T00:00:00",
          "2021-09-27T00:00:00",
          "2021-09-28T00:00:00",
          "2021-09-29T00:00:00",
          "2021-09-30T00:00:00",
          "2021-10-01T00:00:00",
          "2021-10-02T00:00:00",
          "2021-10-03T00:00:00",
          "2021-10-04T00:00:00",
          "2021-10-05T00:00:00",
          "2021-10-06T00:00:00",
          "2021-10-07T00:00:00",
          "2021-10-08T00:00:00",
          "2021-10-09T00:00:00",
          "2021-10-10T00:00:00",
          "2021-10-11T00:00:00",
          "2021-10-12T00:00:00",
          "2021-10-13T00:00:00",
          "2021-10-14T00:00:00",
          "2021-10-15T00:00:00",
          "2021-10-16T00:00:00",
          "2021-10-17T00:00:00",
          "2021-10-18T00:00:00",
          "2021-10-19T00:00:00",
          "2021-10-20T00:00:00",
          "2021-10-21T00:00:00",
          "2021-10-22T00:00:00",
          "2021-10-23T00:00:00",
          "2021-10-24T00:00:00",
          "2021-10-25T00:00:00",
          "2021-10-26T00:00:00",
          "2021-10-27T00:00:00",
          "2021-10-28T00:00:00",
          "2021-10-29T00:00:00"
         ],
         "y": [
          5512.1217,
          1621.1332,
          1863.8383,
          5253.2844,
          5726.8497,
          5479.6275,
          5272.5885,
          3855.2606,
          73.7419,
          454.326,
          4010.6979,
          4578.1403,
          4397.8699,
          4248.3196,
          2858.559,
          -944.4744,
          -514.7423,
          3143.9185,
          3755.9245,
          3603.7315,
          3480.2584,
          2092.1837,
          -1754.0299,
          -1293.5281,
          2451.6558,
          3094.5691,
          2958.524,
          2850.6291,
          1454.9391,
          -2442.7441,
          -1958.8997,
          1866.1201,
          2533.8933,
          2408.5051,
          2311.1836,
          903.3014
         ]
        },
        {
         "fill": "tonexty",
         "fillcolor": "rgba(104,187,227,0.5)",
         "line": {
          "width": 0
         },
         "marker": {
          "color": "#68BBE3"
         },
         "mode": "lines",
         "name": "Prediction Interval | Theta Forecaster",
         "showlegend": true,
         "type": "scatter",
         "x": [
          "2021-09-24T00:00:00",
          "2021-09-25T00:00:00",
          "2021-09-26T00:00:00",
          "2021-09-27T00:00:00",
          "2021-09-28T00:00:00",
          "2021-09-29T00:00:00",
          "2021-09-30T00:00:00",
          "2021-10-01T00:00:00",
          "2021-10-02T00:00:00",
          "2021-10-03T00:00:00",
          "2021-10-04T00:00:00",
          "2021-10-05T00:00:00",
          "2021-10-06T00:00:00",
          "2021-10-07T00:00:00",
          "2021-10-08T00:00:00",
          "2021-10-09T00:00:00",
          "2021-10-10T00:00:00",
          "2021-10-11T00:00:00",
          "2021-10-12T00:00:00",
          "2021-10-13T00:00:00",
          "2021-10-14T00:00:00",
          "2021-10-15T00:00:00",
          "2021-10-16T00:00:00",
          "2021-10-17T00:00:00",
          "2021-10-18T00:00:00",
          "2021-10-19T00:00:00",
          "2021-10-20T00:00:00",
          "2021-10-21T00:00:00",
          "2021-10-22T00:00:00",
          "2021-10-23T00:00:00",
          "2021-10-24T00:00:00",
          "2021-10-25T00:00:00",
          "2021-10-26T00:00:00",
          "2021-10-27T00:00:00",
          "2021-10-28T00:00:00",
          "2021-10-29T00:00:00"
         ],
         "y": [
          8710.8712,
          5536.486,
          6383.5703,
          10305.6073,
          11260.7413,
          11456.4113,
          11661.6366,
          10631.5372,
          7216.2844,
          7945.2473,
          11834.5009,
          12721.2283,
          12848.1877,
          12995.0825,
          11892.0439,
          8366.9079,
          9066.4804,
          12987.5874,
          13855.2219,
          13952.3448,
          14072.3208,
          12922.2241,
          9308.8705,
          9997.4309,
          13966.1572,
          14828.355,
          14907.571,
          15011.1271,
          13823.2737,
          10129.9919,
          10814.9673,
          14838,
          15700.8086,
          15767.6087,
          15859.7495,
          14638.7165
         ]
        },
        {
         "marker": {
          "color": "#3f3f3f",
          "size": 5
         },
         "mode": "lines+markers",
         "name": "Original",
         "showlegend": true,
         "type": "scatter",
         "x": [
          "2021-07-08T00:00:00",
          "2021-07-09T00:00:00",
          "2021-07-10T00:00:00",
          "2021-07-11T00:00:00",
          "2021-07-12T00:00:00",
          "2021-07-13T00:00:00",
          "2021-07-14T00:00:00",
          "2021-07-15T00:00:00",
          "2021-07-16T00:00:00",
          "2021-07-17T00:00:00",
          "2021-07-18T00:00:00",
          "2021-07-19T00:00:00",
          "2021-07-20T00:00:00",
          "2021-07-21T00:00:00",
          "2021-07-22T00:00:00",
          "2021-07-23T00:00:00",
          "2021-07-24T00:00:00",
          "2021-07-25T00:00:00",
          "2021-07-26T00:00:00",
          "2021-07-27T00:00:00",
          "2021-07-28T00:00:00",
          "2021-07-29T00:00:00",
          "2021-07-30T00:00:00",
          "2021-07-31T00:00:00",
          "2021-08-01T00:00:00",
          "2021-08-02T00:00:00",
          "2021-08-03T00:00:00",
          "2021-08-04T00:00:00",
          "2021-08-05T00:00:00",
          "2021-08-06T00:00:00",
          "2021-08-07T00:00:00",
          "2021-08-08T00:00:00",
          "2021-08-09T00:00:00",
          "2021-08-10T00:00:00",
          "2021-08-11T00:00:00",
          "2021-08-12T00:00:00",
          "2021-08-13T00:00:00",
          "2021-08-14T00:00:00",
          "2021-08-15T00:00:00",
          "2021-08-16T00:00:00",
          "2021-08-17T00:00:00",
          "2021-08-18T00:00:00",
          "2021-08-19T00:00:00",
          "2021-08-20T00:00:00",
          "2021-08-21T00:00:00",
          "2021-08-22T00:00:00",
          "2021-08-23T00:00:00",
          "2021-08-24T00:00:00",
          "2021-08-25T00:00:00",
          "2021-08-26T00:00:00",
          "2021-08-27T00:00:00",
          "2021-08-28T00:00:00",
          "2021-08-29T00:00:00",
          "2021-08-30T00:00:00",
          "2021-08-31T00:00:00",
          "2021-09-01T00:00:00",
          "2021-09-02T00:00:00",
          "2021-09-03T00:00:00",
          "2021-09-04T00:00:00",
          "2021-09-05T00:00:00",
          "2021-09-06T00:00:00",
          "2021-09-07T00:00:00",
          "2021-09-08T00:00:00",
          "2021-09-09T00:00:00",
          "2021-09-10T00:00:00",
          "2021-09-11T00:00:00",
          "2021-09-12T00:00:00",
          "2021-09-13T00:00:00",
          "2021-09-14T00:00:00",
          "2021-09-15T00:00:00",
          "2021-09-16T00:00:00",
          "2021-09-17T00:00:00",
          "2021-09-18T00:00:00",
          "2021-09-19T00:00:00",
          "2021-09-20T00:00:00",
          "2021-09-21T00:00:00",
          "2021-09-22T00:00:00",
          "2021-09-23T00:00:00",
          "2021-09-24T00:00:00",
          "2021-09-25T00:00:00",
          "2021-09-26T00:00:00",
          "2021-09-27T00:00:00",
          "2021-09-28T00:00:00",
          "2021-09-29T00:00:00",
          "2021-09-30T00:00:00",
          "2021-10-01T00:00:00",
          "2021-10-02T00:00:00",
          "2021-10-03T00:00:00",
          "2021-10-04T00:00:00",
          "2021-10-05T00:00:00"
         ],
         "y": [
          3773,
          3172,
          2079,
          2725,
          4542,
          3795,
          3941,
          4064,
          3474,
          2093,
          2426,
          4339,
          4064,
          4224,
          4603,
          4369,
          2532,
          3276,
          4917,
          4430,
          4977,
          5193,
          4001,
          1996,
          2538,
          4764,
          5651,
          5777,
          4789,
          3782,
          1920,
          2526,
          4481,
          6034,
          5006,
          4450,
          3112,
          1914,
          2359,
          3948,
          5727,
          6365,
          6323,
          5151,
          1947,
          3128,
          7999,
          7104,
          6457,
          6643,
          5355,
          2341,
          2367,
          5592,
          6770,
          6877,
          7272,
          6279,
          2741,
          2483,
          5456,
          6082,
          6139,
          5865,
          6362,
          3132,
          2681,
          5788,
          7001,
          6721,
          7556,
          7278,
          4026,
          3514,
          6476,
          7863,
          8418,
          8290,
          7189,
          3567,
          4088,
          7418,
          8765,
          7798,
          9212,
          7115,
          3903,
          5038,
          7843,
          8872
         ]
        }
       ],
       "layout": {
        "showlegend": true,
        "template": {
         "data": {
          "bar": [
           {
            "error_x": {
             "color": "rgb(51,51,51)"
            },
            "error_y": {
             "color": "rgb(51,51,51)"
            },
            "marker": {
             "line": {
              "color": "rgb(237,237,237)",
              "width": 0.5
             },
             "pattern": {
              "fillmode": "overlay",
              "size": 10,
              "solidity": 0.2
             }
            },
            "type": "bar"
           }
          ],
          "barpolar": [
           {
            "marker": {
             "line": {
              "color": "rgb(237,237,237)",
              "width": 0.5
             },
             "pattern": {
              "fillmode": "overlay",
              "size": 10,
              "solidity": 0.2
             }
            },
            "type": "barpolar"
           }
          ],
          "carpet": [
           {
            "aaxis": {
             "endlinecolor": "rgb(51,51,51)",
             "gridcolor": "white",
             "linecolor": "white",
             "minorgridcolor": "white",
             "startlinecolor": "rgb(51,51,51)"
            },
            "baxis": {
             "endlinecolor": "rgb(51,51,51)",
             "gridcolor": "white",
             "linecolor": "white",
             "minorgridcolor": "white",
             "startlinecolor": "rgb(51,51,51)"
            },
            "type": "carpet"
           }
          ],
          "choropleth": [
           {
            "colorbar": {
             "outlinewidth": 0,
             "tickcolor": "rgb(237,237,237)",
             "ticklen": 6,
             "ticks": "inside"
            },
            "type": "choropleth"
           }
          ],
          "contour": [
           {
            "colorbar": {
             "outlinewidth": 0,
             "tickcolor": "rgb(237,237,237)",
             "ticklen": 6,
             "ticks": "inside"
            },
            "colorscale": [
             [
              0,
              "rgb(20,44,66)"
             ],
             [
              1,
              "rgb(90,179,244)"
             ]
            ],
            "type": "contour"
           }
          ],
          "contourcarpet": [
           {
            "colorbar": {
             "outlinewidth": 0,
             "tickcolor": "rgb(237,237,237)",
             "ticklen": 6,
             "ticks": "inside"
            },
            "type": "contourcarpet"
           }
          ],
          "heatmap": [
           {
            "colorbar": {
             "outlinewidth": 0,
             "tickcolor": "rgb(237,237,237)",
             "ticklen": 6,
             "ticks": "inside"
            },
            "colorscale": [
             [
              0,
              "rgb(20,44,66)"
             ],
             [
              1,
              "rgb(90,179,244)"
             ]
            ],
            "type": "heatmap"
           }
          ],
          "heatmapgl": [
           {
            "colorbar": {
             "outlinewidth": 0,
             "tickcolor": "rgb(237,237,237)",
             "ticklen": 6,
             "ticks": "inside"
            },
            "colorscale": [
             [
              0,
              "rgb(20,44,66)"
             ],
             [
              1,
              "rgb(90,179,244)"
             ]
            ],
            "type": "heatmapgl"
           }
          ],
          "histogram": [
           {
            "marker": {
             "pattern": {
              "fillmode": "overlay",
              "size": 10,
              "solidity": 0.2
             }
            },
            "type": "histogram"
           }
          ],
          "histogram2d": [
           {
            "colorbar": {
             "outlinewidth": 0,
             "tickcolor": "rgb(237,237,237)",
             "ticklen": 6,
             "ticks": "inside"
            },
            "colorscale": [
             [
              0,
              "rgb(20,44,66)"
             ],
             [
              1,
              "rgb(90,179,244)"
             ]
            ],
            "type": "histogram2d"
           }
          ],
          "histogram2dcontour": [
           {
            "colorbar": {
             "outlinewidth": 0,
             "tickcolor": "rgb(237,237,237)",
             "ticklen": 6,
             "ticks": "inside"
            },
            "colorscale": [
             [
              0,
              "rgb(20,44,66)"
             ],
             [
              1,
              "rgb(90,179,244)"
             ]
            ],
            "type": "histogram2dcontour"
           }
          ],
          "mesh3d": [
           {
            "colorbar": {
             "outlinewidth": 0,
             "tickcolor": "rgb(237,237,237)",
             "ticklen": 6,
             "ticks": "inside"
            },
            "type": "mesh3d"
           }
          ],
          "parcoords": [
           {
            "line": {
             "colorbar": {
              "outlinewidth": 0,
              "tickcolor": "rgb(237,237,237)",
              "ticklen": 6,
              "ticks": "inside"
             }
            },
            "type": "parcoords"
           }
          ],
          "pie": [
           {
            "automargin": true,
            "type": "pie"
           }
          ],
          "scatter": [
           {
            "fillpattern": {
             "fillmode": "overlay",
             "size": 10,
             "solidity": 0.2
            },
            "type": "scatter"
           }
          ],
          "scatter3d": [
           {
            "line": {
             "colorbar": {
              "outlinewidth": 0,
              "tickcolor": "rgb(237,237,237)",
              "ticklen": 6,
              "ticks": "inside"
             }
            },
            "marker": {
             "colorbar": {
              "outlinewidth": 0,
              "tickcolor": "rgb(237,237,237)",
              "ticklen": 6,
              "ticks": "inside"
             }
            },
            "type": "scatter3d"
           }
          ],
          "scattercarpet": [
           {
            "marker": {
             "colorbar": {
              "outlinewidth": 0,
              "tickcolor": "rgb(237,237,237)",
              "ticklen": 6,
              "ticks": "inside"
             }
            },
            "type": "scattercarpet"
           }
          ],
          "scattergeo": [
           {
            "marker": {
             "colorbar": {
              "outlinewidth": 0,
              "tickcolor": "rgb(237,237,237)",
              "ticklen": 6,
              "ticks": "inside"
             }
            },
            "type": "scattergeo"
           }
          ],
          "scattergl": [
           {
            "marker": {
             "colorbar": {
              "outlinewidth": 0,
              "tickcolor": "rgb(237,237,237)",
              "ticklen": 6,
              "ticks": "inside"
             }
            },
            "type": "scattergl"
           }
          ],
          "scattermapbox": [
           {
            "marker": {
             "colorbar": {
              "outlinewidth": 0,
              "tickcolor": "rgb(237,237,237)",
              "ticklen": 6,
              "ticks": "inside"
             }
            },
            "type": "scattermapbox"
           }
          ],
          "scatterpolar": [
           {
            "marker": {
             "colorbar": {
              "outlinewidth": 0,
              "tickcolor": "rgb(237,237,237)",
              "ticklen": 6,
              "ticks": "inside"
             }
            },
            "type": "scatterpolar"
           }
          ],
          "scatterpolargl": [
           {
            "marker": {
             "colorbar": {
              "outlinewidth": 0,
              "tickcolor": "rgb(237,237,237)",
              "ticklen": 6,
              "ticks": "inside"
             }
            },
            "type": "scatterpolargl"
           }
          ],
          "scatterternary": [
           {
            "marker": {
             "colorbar": {
              "outlinewidth": 0,
              "tickcolor": "rgb(237,237,237)",
              "ticklen": 6,
              "ticks": "inside"
             }
            },
            "type": "scatterternary"
           }
          ],
          "surface": [
           {
            "colorbar": {
             "outlinewidth": 0,
             "tickcolor": "rgb(237,237,237)",
             "ticklen": 6,
             "ticks": "inside"
            },
            "colorscale": [
             [
              0,
              "rgb(20,44,66)"
             ],
             [
              1,
              "rgb(90,179,244)"
             ]
            ],
            "type": "surface"
           }
          ],
          "table": [
           {
            "cells": {
             "fill": {
              "color": "rgb(237,237,237)"
             },
             "line": {
              "color": "white"
             }
            },
            "header": {
             "fill": {
              "color": "rgb(217,217,217)"
             },
             "line": {
              "color": "white"
             }
            },
            "type": "table"
           }
          ]
         },
         "layout": {
          "annotationdefaults": {
           "arrowhead": 0,
           "arrowwidth": 1
          },
          "autotypenumbers": "strict",
          "coloraxis": {
           "colorbar": {
            "outlinewidth": 0,
            "tickcolor": "rgb(237,237,237)",
            "ticklen": 6,
            "ticks": "inside"
           }
          },
          "colorscale": {
           "sequential": [
            [
             0,
             "rgb(20,44,66)"
            ],
            [
             1,
             "rgb(90,179,244)"
            ]
           ],
           "sequentialminus": [
            [
             0,
             "rgb(20,44,66)"
            ],
            [
             1,
             "rgb(90,179,244)"
            ]
           ]
          },
          "colorway": [
           "#F8766D",
           "#A3A500",
           "#00BF7D",
           "#00B0F6",
           "#E76BF3"
          ],
          "font": {
           "color": "rgb(51,51,51)"
          },
          "geo": {
           "bgcolor": "white",
           "lakecolor": "white",
           "landcolor": "rgb(237,237,237)",
           "showlakes": true,
           "showland": true,
           "subunitcolor": "white"
          },
          "hoverlabel": {
           "align": "left"
          },
          "hovermode": "closest",
          "paper_bgcolor": "white",
          "plot_bgcolor": "rgb(237,237,237)",
          "polar": {
           "angularaxis": {
            "gridcolor": "white",
            "linecolor": "white",
            "showgrid": true,
            "tickcolor": "rgb(51,51,51)",
            "ticks": "outside"
           },
           "bgcolor": "rgb(237,237,237)",
           "radialaxis": {
            "gridcolor": "white",
            "linecolor": "white",
            "showgrid": true,
            "tickcolor": "rgb(51,51,51)",
            "ticks": "outside"
           }
          },
          "scene": {
           "xaxis": {
            "backgroundcolor": "rgb(237,237,237)",
            "gridcolor": "white",
            "gridwidth": 2,
            "linecolor": "white",
            "showbackground": true,
            "showgrid": true,
            "tickcolor": "rgb(51,51,51)",
            "ticks": "outside",
            "zerolinecolor": "white"
           },
           "yaxis": {
            "backgroundcolor": "rgb(237,237,237)",
            "gridcolor": "white",
            "gridwidth": 2,
            "linecolor": "white",
            "showbackground": true,
            "showgrid": true,
            "tickcolor": "rgb(51,51,51)",
            "ticks": "outside",
            "zerolinecolor": "white"
           },
           "zaxis": {
            "backgroundcolor": "rgb(237,237,237)",
            "gridcolor": "white",
            "gridwidth": 2,
            "linecolor": "white",
            "showbackground": true,
            "showgrid": true,
            "tickcolor": "rgb(51,51,51)",
            "ticks": "outside",
            "zerolinecolor": "white"
           }
          },
          "shapedefaults": {
           "fillcolor": "black",
           "line": {
            "width": 0
           },
           "opacity": 0.3
          },
          "ternary": {
           "aaxis": {
            "gridcolor": "white",
            "linecolor": "white",
            "showgrid": true,
            "tickcolor": "rgb(51,51,51)",
            "ticks": "outside"
           },
           "baxis": {
            "gridcolor": "white",
            "linecolor": "white",
            "showgrid": true,
            "tickcolor": "rgb(51,51,51)",
            "ticks": "outside"
           },
           "bgcolor": "rgb(237,237,237)",
           "caxis": {
            "gridcolor": "white",
            "linecolor": "white",
            "showgrid": true,
            "tickcolor": "rgb(51,51,51)",
            "ticks": "outside"
           }
          },
          "xaxis": {
           "automargin": true,
           "gridcolor": "white",
           "linecolor": "white",
           "showgrid": true,
           "tickcolor": "rgb(51,51,51)",
           "ticks": "outside",
           "title": {
            "standoff": 15
           },
           "zerolinecolor": "white"
          },
          "yaxis": {
           "automargin": true,
           "gridcolor": "white",
           "linecolor": "white",
           "showgrid": true,
           "tickcolor": "rgb(51,51,51)",
           "ticks": "outside",
           "title": {
            "standoff": 15
           },
           "zerolinecolor": "white"
          }
         }
        },
        "title": {
         "text": "Actual vs. 'Out-of-Sample' Forecast | Total"
        },
        "xaxis": {
         "title": {
          "text": "Time"
         }
        },
        "yaxis": {
         "title": {
          "text": "Values"
         }
        }
       }
      }
     },
     "metadata": {},
     "output_type": "display_data"
    }
   ],
   "source": [
    "# plot forecast for 36 months in future\n",
    "plot_model(best, plot = 'forecast', data_kwargs = {'fh' : 36})"
   ]
  },
  {
   "cell_type": "code",
   "execution_count": 32,
   "metadata": {},
   "outputs": [
    {
     "data": {
      "application/vnd.plotly.v1+json": {
       "config": {
        "plotlyServerURL": "https://plot.ly"
       },
       "data": [
        {
         "line": {
          "color": "#1f77b4"
         },
         "marker": {
          "size": 5
         },
         "mode": "lines+markers",
         "name": "Forecast | Theta Forecaster",
         "showlegend": true,
         "type": "scatter",
         "x": [
          "2021-09-24T00:00:00",
          "2021-09-25T00:00:00",
          "2021-09-26T00:00:00",
          "2021-09-27T00:00:00",
          "2021-09-28T00:00:00",
          "2021-09-29T00:00:00",
          "2021-09-30T00:00:00",
          "2021-10-01T00:00:00",
          "2021-10-02T00:00:00",
          "2021-10-03T00:00:00",
          "2021-10-04T00:00:00",
          "2021-10-05T00:00:00",
          "2021-10-06T00:00:00",
          "2021-10-07T00:00:00",
          "2021-10-08T00:00:00",
          "2021-10-09T00:00:00",
          "2021-10-10T00:00:00",
          "2021-10-11T00:00:00",
          "2021-10-12T00:00:00",
          "2021-10-13T00:00:00",
          "2021-10-14T00:00:00",
          "2021-10-15T00:00:00",
          "2021-10-16T00:00:00",
          "2021-10-17T00:00:00",
          "2021-10-18T00:00:00",
          "2021-10-19T00:00:00",
          "2021-10-20T00:00:00",
          "2021-10-21T00:00:00",
          "2021-10-22T00:00:00",
          "2021-10-23T00:00:00",
          "2021-10-24T00:00:00",
          "2021-10-25T00:00:00",
          "2021-10-26T00:00:00",
          "2021-10-27T00:00:00",
          "2021-10-28T00:00:00",
          "2021-10-29T00:00:00"
         ],
         "y": [
          7111.4964,
          3578.8096,
          4123.7043,
          7779.4459,
          8493.7955,
          8468.0194,
          8467.1125,
          7243.3989,
          3645.0132,
          4199.7866,
          7922.5994,
          8649.6843,
          8623.0288,
          8621.7011,
          7375.3014,
          3711.2167,
          4275.869,
          8065.7529,
          8805.5732,
          8778.0381,
          8776.2896,
          7507.2039,
          3777.4203,
          4351.9514,
          8208.9065,
          8961.462,
          8933.0475,
          8930.8781,
          7639.1064,
          3843.6239,
          4428.0338,
          8352.06,
          9117.3509,
          9088.0569,
          9085.4666,
          7771.0089
         ]
        },
        {
         "line": {
          "width": 0
         },
         "marker": {
          "color": "#68BBE3"
         },
         "mode": "lines",
         "name": "Lower Interval",
         "showlegend": false,
         "type": "scatter",
         "x": [
          "2021-09-24T00:00:00",
          "2021-09-25T00:00:00",
          "2021-09-26T00:00:00",
          "2021-09-27T00:00:00",
          "2021-09-28T00:00:00",
          "2021-09-29T00:00:00",
          "2021-09-30T00:00:00",
          "2021-10-01T00:00:00",
          "2021-10-02T00:00:00",
          "2021-10-03T00:00:00",
          "2021-10-04T00:00:00",
          "2021-10-05T00:00:00",
          "2021-10-06T00:00:00",
          "2021-10-07T00:00:00",
          "2021-10-08T00:00:00",
          "2021-10-09T00:00:00",
          "2021-10-10T00:00:00",
          "2021-10-11T00:00:00",
          "2021-10-12T00:00:00",
          "2021-10-13T00:00:00",
          "2021-10-14T00:00:00",
          "2021-10-15T00:00:00",
          "2021-10-16T00:00:00",
          "2021-10-17T00:00:00",
          "2021-10-18T00:00:00",
          "2021-10-19T00:00:00",
          "2021-10-20T00:00:00",
          "2021-10-21T00:00:00",
          "2021-10-22T00:00:00",
          "2021-10-23T00:00:00",
          "2021-10-24T00:00:00",
          "2021-10-25T00:00:00",
          "2021-10-26T00:00:00",
          "2021-10-27T00:00:00",
          "2021-10-28T00:00:00",
          "2021-10-29T00:00:00"
         ],
         "y": [
          5512.1217,
          1621.1332,
          1863.8383,
          5253.2844,
          5726.8497,
          5479.6275,
          5272.5885,
          3855.2606,
          73.7419,
          454.326,
          4010.6979,
          4578.1403,
          4397.8699,
          4248.3196,
          2858.559,
          -944.4744,
          -514.7423,
          3143.9185,
          3755.9245,
          3603.7315,
          3480.2584,
          2092.1837,
          -1754.0299,
          -1293.5281,
          2451.6558,
          3094.5691,
          2958.524,
          2850.6291,
          1454.9391,
          -2442.7441,
          -1958.8997,
          1866.1201,
          2533.8933,
          2408.5051,
          2311.1836,
          903.3014
         ]
        },
        {
         "fill": "tonexty",
         "fillcolor": "rgba(104,187,227,0.5)",
         "line": {
          "width": 0
         },
         "marker": {
          "color": "#68BBE3"
         },
         "mode": "lines",
         "name": "Prediction Interval | Theta Forecaster",
         "showlegend": true,
         "type": "scatter",
         "x": [
          "2021-09-24T00:00:00",
          "2021-09-25T00:00:00",
          "2021-09-26T00:00:00",
          "2021-09-27T00:00:00",
          "2021-09-28T00:00:00",
          "2021-09-29T00:00:00",
          "2021-09-30T00:00:00",
          "2021-10-01T00:00:00",
          "2021-10-02T00:00:00",
          "2021-10-03T00:00:00",
          "2021-10-04T00:00:00",
          "2021-10-05T00:00:00",
          "2021-10-06T00:00:00",
          "2021-10-07T00:00:00",
          "2021-10-08T00:00:00",
          "2021-10-09T00:00:00",
          "2021-10-10T00:00:00",
          "2021-10-11T00:00:00",
          "2021-10-12T00:00:00",
          "2021-10-13T00:00:00",
          "2021-10-14T00:00:00",
          "2021-10-15T00:00:00",
          "2021-10-16T00:00:00",
          "2021-10-17T00:00:00",
          "2021-10-18T00:00:00",
          "2021-10-19T00:00:00",
          "2021-10-20T00:00:00",
          "2021-10-21T00:00:00",
          "2021-10-22T00:00:00",
          "2021-10-23T00:00:00",
          "2021-10-24T00:00:00",
          "2021-10-25T00:00:00",
          "2021-10-26T00:00:00",
          "2021-10-27T00:00:00",
          "2021-10-28T00:00:00",
          "2021-10-29T00:00:00"
         ],
         "y": [
          8710.8712,
          5536.486,
          6383.5703,
          10305.6073,
          11260.7413,
          11456.4113,
          11661.6366,
          10631.5372,
          7216.2844,
          7945.2473,
          11834.5009,
          12721.2283,
          12848.1877,
          12995.0825,
          11892.0439,
          8366.9079,
          9066.4804,
          12987.5874,
          13855.2219,
          13952.3448,
          14072.3208,
          12922.2241,
          9308.8705,
          9997.4309,
          13966.1572,
          14828.355,
          14907.571,
          15011.1271,
          13823.2737,
          10129.9919,
          10814.9673,
          14838,
          15700.8086,
          15767.6087,
          15859.7495,
          14638.7165
         ]
        },
        {
         "marker": {
          "color": "#3f3f3f",
          "size": 5
         },
         "mode": "lines+markers",
         "name": "Original",
         "showlegend": true,
         "type": "scatter",
         "x": [
          "2021-07-08T00:00:00",
          "2021-07-09T00:00:00",
          "2021-07-10T00:00:00",
          "2021-07-11T00:00:00",
          "2021-07-12T00:00:00",
          "2021-07-13T00:00:00",
          "2021-07-14T00:00:00",
          "2021-07-15T00:00:00",
          "2021-07-16T00:00:00",
          "2021-07-17T00:00:00",
          "2021-07-18T00:00:00",
          "2021-07-19T00:00:00",
          "2021-07-20T00:00:00",
          "2021-07-21T00:00:00",
          "2021-07-22T00:00:00",
          "2021-07-23T00:00:00",
          "2021-07-24T00:00:00",
          "2021-07-25T00:00:00",
          "2021-07-26T00:00:00",
          "2021-07-27T00:00:00",
          "2021-07-28T00:00:00",
          "2021-07-29T00:00:00",
          "2021-07-30T00:00:00",
          "2021-07-31T00:00:00",
          "2021-08-01T00:00:00",
          "2021-08-02T00:00:00",
          "2021-08-03T00:00:00",
          "2021-08-04T00:00:00",
          "2021-08-05T00:00:00",
          "2021-08-06T00:00:00",
          "2021-08-07T00:00:00",
          "2021-08-08T00:00:00",
          "2021-08-09T00:00:00",
          "2021-08-10T00:00:00",
          "2021-08-11T00:00:00",
          "2021-08-12T00:00:00",
          "2021-08-13T00:00:00",
          "2021-08-14T00:00:00",
          "2021-08-15T00:00:00",
          "2021-08-16T00:00:00",
          "2021-08-17T00:00:00",
          "2021-08-18T00:00:00",
          "2021-08-19T00:00:00",
          "2021-08-20T00:00:00",
          "2021-08-21T00:00:00",
          "2021-08-22T00:00:00",
          "2021-08-23T00:00:00",
          "2021-08-24T00:00:00",
          "2021-08-25T00:00:00",
          "2021-08-26T00:00:00",
          "2021-08-27T00:00:00",
          "2021-08-28T00:00:00",
          "2021-08-29T00:00:00",
          "2021-08-30T00:00:00",
          "2021-08-31T00:00:00",
          "2021-09-01T00:00:00",
          "2021-09-02T00:00:00",
          "2021-09-03T00:00:00",
          "2021-09-04T00:00:00",
          "2021-09-05T00:00:00",
          "2021-09-06T00:00:00",
          "2021-09-07T00:00:00",
          "2021-09-08T00:00:00",
          "2021-09-09T00:00:00",
          "2021-09-10T00:00:00",
          "2021-09-11T00:00:00",
          "2021-09-12T00:00:00",
          "2021-09-13T00:00:00",
          "2021-09-14T00:00:00",
          "2021-09-15T00:00:00",
          "2021-09-16T00:00:00",
          "2021-09-17T00:00:00",
          "2021-09-18T00:00:00",
          "2021-09-19T00:00:00",
          "2021-09-20T00:00:00",
          "2021-09-21T00:00:00",
          "2021-09-22T00:00:00",
          "2021-09-23T00:00:00",
          "2021-09-24T00:00:00",
          "2021-09-25T00:00:00",
          "2021-09-26T00:00:00",
          "2021-09-27T00:00:00",
          "2021-09-28T00:00:00",
          "2021-09-29T00:00:00",
          "2021-09-30T00:00:00",
          "2021-10-01T00:00:00",
          "2021-10-02T00:00:00",
          "2021-10-03T00:00:00",
          "2021-10-04T00:00:00",
          "2021-10-05T00:00:00"
         ],
         "y": [
          3773,
          3172,
          2079,
          2725,
          4542,
          3795,
          3941,
          4064,
          3474,
          2093,
          2426,
          4339,
          4064,
          4224,
          4603,
          4369,
          2532,
          3276,
          4917,
          4430,
          4977,
          5193,
          4001,
          1996,
          2538,
          4764,
          5651,
          5777,
          4789,
          3782,
          1920,
          2526,
          4481,
          6034,
          5006,
          4450,
          3112,
          1914,
          2359,
          3948,
          5727,
          6365,
          6323,
          5151,
          1947,
          3128,
          7999,
          7104,
          6457,
          6643,
          5355,
          2341,
          2367,
          5592,
          6770,
          6877,
          7272,
          6279,
          2741,
          2483,
          5456,
          6082,
          6139,
          5865,
          6362,
          3132,
          2681,
          5788,
          7001,
          6721,
          7556,
          7278,
          4026,
          3514,
          6476,
          7863,
          8418,
          8290,
          7189,
          3567,
          4088,
          7418,
          8765,
          7798,
          9212,
          7115,
          3903,
          5038,
          7843,
          8872
         ]
        }
       ],
       "layout": {
        "showlegend": true,
        "template": {
         "data": {
          "bar": [
           {
            "error_x": {
             "color": "rgb(51,51,51)"
            },
            "error_y": {
             "color": "rgb(51,51,51)"
            },
            "marker": {
             "line": {
              "color": "rgb(237,237,237)",
              "width": 0.5
             },
             "pattern": {
              "fillmode": "overlay",
              "size": 10,
              "solidity": 0.2
             }
            },
            "type": "bar"
           }
          ],
          "barpolar": [
           {
            "marker": {
             "line": {
              "color": "rgb(237,237,237)",
              "width": 0.5
             },
             "pattern": {
              "fillmode": "overlay",
              "size": 10,
              "solidity": 0.2
             }
            },
            "type": "barpolar"
           }
          ],
          "carpet": [
           {
            "aaxis": {
             "endlinecolor": "rgb(51,51,51)",
             "gridcolor": "white",
             "linecolor": "white",
             "minorgridcolor": "white",
             "startlinecolor": "rgb(51,51,51)"
            },
            "baxis": {
             "endlinecolor": "rgb(51,51,51)",
             "gridcolor": "white",
             "linecolor": "white",
             "minorgridcolor": "white",
             "startlinecolor": "rgb(51,51,51)"
            },
            "type": "carpet"
           }
          ],
          "choropleth": [
           {
            "colorbar": {
             "outlinewidth": 0,
             "tickcolor": "rgb(237,237,237)",
             "ticklen": 6,
             "ticks": "inside"
            },
            "type": "choropleth"
           }
          ],
          "contour": [
           {
            "colorbar": {
             "outlinewidth": 0,
             "tickcolor": "rgb(237,237,237)",
             "ticklen": 6,
             "ticks": "inside"
            },
            "colorscale": [
             [
              0,
              "rgb(20,44,66)"
             ],
             [
              1,
              "rgb(90,179,244)"
             ]
            ],
            "type": "contour"
           }
          ],
          "contourcarpet": [
           {
            "colorbar": {
             "outlinewidth": 0,
             "tickcolor": "rgb(237,237,237)",
             "ticklen": 6,
             "ticks": "inside"
            },
            "type": "contourcarpet"
           }
          ],
          "heatmap": [
           {
            "colorbar": {
             "outlinewidth": 0,
             "tickcolor": "rgb(237,237,237)",
             "ticklen": 6,
             "ticks": "inside"
            },
            "colorscale": [
             [
              0,
              "rgb(20,44,66)"
             ],
             [
              1,
              "rgb(90,179,244)"
             ]
            ],
            "type": "heatmap"
           }
          ],
          "heatmapgl": [
           {
            "colorbar": {
             "outlinewidth": 0,
             "tickcolor": "rgb(237,237,237)",
             "ticklen": 6,
             "ticks": "inside"
            },
            "colorscale": [
             [
              0,
              "rgb(20,44,66)"
             ],
             [
              1,
              "rgb(90,179,244)"
             ]
            ],
            "type": "heatmapgl"
           }
          ],
          "histogram": [
           {
            "marker": {
             "pattern": {
              "fillmode": "overlay",
              "size": 10,
              "solidity": 0.2
             }
            },
            "type": "histogram"
           }
          ],
          "histogram2d": [
           {
            "colorbar": {
             "outlinewidth": 0,
             "tickcolor": "rgb(237,237,237)",
             "ticklen": 6,
             "ticks": "inside"
            },
            "colorscale": [
             [
              0,
              "rgb(20,44,66)"
             ],
             [
              1,
              "rgb(90,179,244)"
             ]
            ],
            "type": "histogram2d"
           }
          ],
          "histogram2dcontour": [
           {
            "colorbar": {
             "outlinewidth": 0,
             "tickcolor": "rgb(237,237,237)",
             "ticklen": 6,
             "ticks": "inside"
            },
            "colorscale": [
             [
              0,
              "rgb(20,44,66)"
             ],
             [
              1,
              "rgb(90,179,244)"
             ]
            ],
            "type": "histogram2dcontour"
           }
          ],
          "mesh3d": [
           {
            "colorbar": {
             "outlinewidth": 0,
             "tickcolor": "rgb(237,237,237)",
             "ticklen": 6,
             "ticks": "inside"
            },
            "type": "mesh3d"
           }
          ],
          "parcoords": [
           {
            "line": {
             "colorbar": {
              "outlinewidth": 0,
              "tickcolor": "rgb(237,237,237)",
              "ticklen": 6,
              "ticks": "inside"
             }
            },
            "type": "parcoords"
           }
          ],
          "pie": [
           {
            "automargin": true,
            "type": "pie"
           }
          ],
          "scatter": [
           {
            "fillpattern": {
             "fillmode": "overlay",
             "size": 10,
             "solidity": 0.2
            },
            "type": "scatter"
           }
          ],
          "scatter3d": [
           {
            "line": {
             "colorbar": {
              "outlinewidth": 0,
              "tickcolor": "rgb(237,237,237)",
              "ticklen": 6,
              "ticks": "inside"
             }
            },
            "marker": {
             "colorbar": {
              "outlinewidth": 0,
              "tickcolor": "rgb(237,237,237)",
              "ticklen": 6,
              "ticks": "inside"
             }
            },
            "type": "scatter3d"
           }
          ],
          "scattercarpet": [
           {
            "marker": {
             "colorbar": {
              "outlinewidth": 0,
              "tickcolor": "rgb(237,237,237)",
              "ticklen": 6,
              "ticks": "inside"
             }
            },
            "type": "scattercarpet"
           }
          ],
          "scattergeo": [
           {
            "marker": {
             "colorbar": {
              "outlinewidth": 0,
              "tickcolor": "rgb(237,237,237)",
              "ticklen": 6,
              "ticks": "inside"
             }
            },
            "type": "scattergeo"
           }
          ],
          "scattergl": [
           {
            "marker": {
             "colorbar": {
              "outlinewidth": 0,
              "tickcolor": "rgb(237,237,237)",
              "ticklen": 6,
              "ticks": "inside"
             }
            },
            "type": "scattergl"
           }
          ],
          "scattermapbox": [
           {
            "marker": {
             "colorbar": {
              "outlinewidth": 0,
              "tickcolor": "rgb(237,237,237)",
              "ticklen": 6,
              "ticks": "inside"
             }
            },
            "type": "scattermapbox"
           }
          ],
          "scatterpolar": [
           {
            "marker": {
             "colorbar": {
              "outlinewidth": 0,
              "tickcolor": "rgb(237,237,237)",
              "ticklen": 6,
              "ticks": "inside"
             }
            },
            "type": "scatterpolar"
           }
          ],
          "scatterpolargl": [
           {
            "marker": {
             "colorbar": {
              "outlinewidth": 0,
              "tickcolor": "rgb(237,237,237)",
              "ticklen": 6,
              "ticks": "inside"
             }
            },
            "type": "scatterpolargl"
           }
          ],
          "scatterternary": [
           {
            "marker": {
             "colorbar": {
              "outlinewidth": 0,
              "tickcolor": "rgb(237,237,237)",
              "ticklen": 6,
              "ticks": "inside"
             }
            },
            "type": "scatterternary"
           }
          ],
          "surface": [
           {
            "colorbar": {
             "outlinewidth": 0,
             "tickcolor": "rgb(237,237,237)",
             "ticklen": 6,
             "ticks": "inside"
            },
            "colorscale": [
             [
              0,
              "rgb(20,44,66)"
             ],
             [
              1,
              "rgb(90,179,244)"
             ]
            ],
            "type": "surface"
           }
          ],
          "table": [
           {
            "cells": {
             "fill": {
              "color": "rgb(237,237,237)"
             },
             "line": {
              "color": "white"
             }
            },
            "header": {
             "fill": {
              "color": "rgb(217,217,217)"
             },
             "line": {
              "color": "white"
             }
            },
            "type": "table"
           }
          ]
         },
         "layout": {
          "annotationdefaults": {
           "arrowhead": 0,
           "arrowwidth": 1
          },
          "autotypenumbers": "strict",
          "coloraxis": {
           "colorbar": {
            "outlinewidth": 0,
            "tickcolor": "rgb(237,237,237)",
            "ticklen": 6,
            "ticks": "inside"
           }
          },
          "colorscale": {
           "sequential": [
            [
             0,
             "rgb(20,44,66)"
            ],
            [
             1,
             "rgb(90,179,244)"
            ]
           ],
           "sequentialminus": [
            [
             0,
             "rgb(20,44,66)"
            ],
            [
             1,
             "rgb(90,179,244)"
            ]
           ]
          },
          "colorway": [
           "#F8766D",
           "#A3A500",
           "#00BF7D",
           "#00B0F6",
           "#E76BF3"
          ],
          "font": {
           "color": "rgb(51,51,51)"
          },
          "geo": {
           "bgcolor": "white",
           "lakecolor": "white",
           "landcolor": "rgb(237,237,237)",
           "showlakes": true,
           "showland": true,
           "subunitcolor": "white"
          },
          "hoverlabel": {
           "align": "left"
          },
          "hovermode": "closest",
          "paper_bgcolor": "white",
          "plot_bgcolor": "rgb(237,237,237)",
          "polar": {
           "angularaxis": {
            "gridcolor": "white",
            "linecolor": "white",
            "showgrid": true,
            "tickcolor": "rgb(51,51,51)",
            "ticks": "outside"
           },
           "bgcolor": "rgb(237,237,237)",
           "radialaxis": {
            "gridcolor": "white",
            "linecolor": "white",
            "showgrid": true,
            "tickcolor": "rgb(51,51,51)",
            "ticks": "outside"
           }
          },
          "scene": {
           "xaxis": {
            "backgroundcolor": "rgb(237,237,237)",
            "gridcolor": "white",
            "gridwidth": 2,
            "linecolor": "white",
            "showbackground": true,
            "showgrid": true,
            "tickcolor": "rgb(51,51,51)",
            "ticks": "outside",
            "zerolinecolor": "white"
           },
           "yaxis": {
            "backgroundcolor": "rgb(237,237,237)",
            "gridcolor": "white",
            "gridwidth": 2,
            "linecolor": "white",
            "showbackground": true,
            "showgrid": true,
            "tickcolor": "rgb(51,51,51)",
            "ticks": "outside",
            "zerolinecolor": "white"
           },
           "zaxis": {
            "backgroundcolor": "rgb(237,237,237)",
            "gridcolor": "white",
            "gridwidth": 2,
            "linecolor": "white",
            "showbackground": true,
            "showgrid": true,
            "tickcolor": "rgb(51,51,51)",
            "ticks": "outside",
            "zerolinecolor": "white"
           }
          },
          "shapedefaults": {
           "fillcolor": "black",
           "line": {
            "width": 0
           },
           "opacity": 0.3
          },
          "ternary": {
           "aaxis": {
            "gridcolor": "white",
            "linecolor": "white",
            "showgrid": true,
            "tickcolor": "rgb(51,51,51)",
            "ticks": "outside"
           },
           "baxis": {
            "gridcolor": "white",
            "linecolor": "white",
            "showgrid": true,
            "tickcolor": "rgb(51,51,51)",
            "ticks": "outside"
           },
           "bgcolor": "rgb(237,237,237)",
           "caxis": {
            "gridcolor": "white",
            "linecolor": "white",
            "showgrid": true,
            "tickcolor": "rgb(51,51,51)",
            "ticks": "outside"
           }
          },
          "xaxis": {
           "automargin": true,
           "gridcolor": "white",
           "linecolor": "white",
           "showgrid": true,
           "tickcolor": "rgb(51,51,51)",
           "ticks": "outside",
           "title": {
            "standoff": 15
           },
           "zerolinecolor": "white"
          },
          "yaxis": {
           "automargin": true,
           "gridcolor": "white",
           "linecolor": "white",
           "showgrid": true,
           "tickcolor": "rgb(51,51,51)",
           "ticks": "outside",
           "title": {
            "standoff": 15
           },
           "zerolinecolor": "white"
          }
         }
        },
        "title": {
         "text": "Actual vs. 'Out-of-Sample' Forecast | Total"
        },
        "xaxis": {
         "title": {
          "text": "Time"
         }
        },
        "yaxis": {
         "title": {
          "text": "Values"
         }
        }
       }
      }
     },
     "metadata": {},
     "output_type": "display_data"
    }
   ],
   "source": [
    "plot_model(estimator=tuned_theta, data_kwargs={\"fh\":36})\n",
    "# plot_model(estimator=naive, data_kwargs={\"fh\":36})\n",
    "# plot_model([theta, tuned_theta], data_kwargs={\"labels\": [\"Baseline\", \"Tuned\"]})"
   ]
  },
  {
   "cell_type": "code",
   "execution_count": 33,
   "metadata": {},
   "outputs": [],
   "source": [
    "# residuals plot\n",
    "# plot_model(best, plot = 'insample')"
   ]
  },
  {
   "cell_type": "code",
   "execution_count": 34,
   "metadata": {},
   "outputs": [
    {
     "data": {
      "application/vnd.plotly.v1+json": {
       "config": {
        "plotlyServerURL": "https://plot.ly"
       },
       "data": [
        {
         "line": {
          "color": "rgb(31, 119, 180)",
          "width": 2
         },
         "marker": {
          "color": "rgb(31, 119, 180)",
          "size": 5
         },
         "mode": "lines+markers",
         "name": "Total",
         "type": "scattergl",
         "x": [
          "2021-07-08T00:00:00",
          "2021-07-09T00:00:00",
          "2021-07-10T00:00:00",
          "2021-07-11T00:00:00",
          "2021-07-12T00:00:00",
          "2021-07-13T00:00:00",
          "2021-07-14T00:00:00",
          "2021-07-15T00:00:00",
          "2021-07-16T00:00:00",
          "2021-07-17T00:00:00",
          "2021-07-18T00:00:00",
          "2021-07-19T00:00:00",
          "2021-07-20T00:00:00",
          "2021-07-21T00:00:00",
          "2021-07-22T00:00:00",
          "2021-07-23T00:00:00",
          "2021-07-24T00:00:00",
          "2021-07-25T00:00:00",
          "2021-07-26T00:00:00",
          "2021-07-27T00:00:00",
          "2021-07-28T00:00:00",
          "2021-07-29T00:00:00",
          "2021-07-30T00:00:00",
          "2021-07-31T00:00:00",
          "2021-08-01T00:00:00",
          "2021-08-02T00:00:00",
          "2021-08-03T00:00:00",
          "2021-08-04T00:00:00",
          "2021-08-05T00:00:00",
          "2021-08-06T00:00:00",
          "2021-08-07T00:00:00",
          "2021-08-08T00:00:00",
          "2021-08-09T00:00:00",
          "2021-08-10T00:00:00",
          "2021-08-11T00:00:00",
          "2021-08-12T00:00:00",
          "2021-08-13T00:00:00",
          "2021-08-14T00:00:00",
          "2021-08-15T00:00:00",
          "2021-08-16T00:00:00",
          "2021-08-17T00:00:00",
          "2021-08-18T00:00:00",
          "2021-08-19T00:00:00",
          "2021-08-20T00:00:00",
          "2021-08-21T00:00:00",
          "2021-08-22T00:00:00",
          "2021-08-23T00:00:00",
          "2021-08-24T00:00:00",
          "2021-08-25T00:00:00",
          "2021-08-26T00:00:00",
          "2021-08-27T00:00:00",
          "2021-08-28T00:00:00",
          "2021-08-29T00:00:00",
          "2021-08-30T00:00:00",
          "2021-08-31T00:00:00",
          "2021-09-01T00:00:00",
          "2021-09-02T00:00:00",
          "2021-09-03T00:00:00",
          "2021-09-04T00:00:00",
          "2021-09-05T00:00:00",
          "2021-09-06T00:00:00",
          "2021-09-07T00:00:00",
          "2021-09-08T00:00:00",
          "2021-09-09T00:00:00",
          "2021-09-10T00:00:00",
          "2021-09-11T00:00:00",
          "2021-09-12T00:00:00",
          "2021-09-13T00:00:00",
          "2021-09-14T00:00:00",
          "2021-09-15T00:00:00",
          "2021-09-16T00:00:00",
          "2021-09-17T00:00:00",
          "2021-09-18T00:00:00",
          "2021-09-19T00:00:00",
          "2021-09-20T00:00:00",
          "2021-09-21T00:00:00",
          "2021-09-22T00:00:00",
          "2021-09-23T00:00:00",
          "2021-09-24T00:00:00",
          "2021-09-25T00:00:00",
          "2021-09-26T00:00:00",
          "2021-09-27T00:00:00",
          "2021-09-28T00:00:00",
          "2021-09-29T00:00:00",
          "2021-09-30T00:00:00",
          "2021-10-01T00:00:00",
          "2021-10-02T00:00:00",
          "2021-10-03T00:00:00",
          "2021-10-04T00:00:00",
          "2021-10-05T00:00:00"
         ],
         "xaxis": "x",
         "y": [
          3773,
          3172,
          2079,
          2725,
          4542,
          3795,
          3941,
          4064,
          3474,
          2093,
          2426,
          4339,
          4064,
          4224,
          4603,
          4369,
          2532,
          3276,
          4917,
          4430,
          4977,
          5193,
          4001,
          1996,
          2538,
          4764,
          5651,
          5777,
          4789,
          3782,
          1920,
          2526,
          4481,
          6034,
          5006,
          4450,
          3112,
          1914,
          2359,
          3948,
          5727,
          6365,
          6323,
          5151,
          1947,
          3128,
          7999,
          7104,
          6457,
          6643,
          5355,
          2341,
          2367,
          5592,
          6770,
          6877,
          7272,
          6279,
          2741,
          2483,
          5456,
          6082,
          6139,
          5865,
          6362,
          3132,
          2681,
          5788,
          7001,
          6721,
          7556,
          7278,
          4026,
          3514,
          6476,
          7863,
          8418,
          8290,
          7189,
          3567,
          4088,
          7418,
          8765,
          7798,
          9212,
          7115,
          3903,
          5038,
          7843,
          8872
         ],
         "yaxis": "y"
        },
        {
         "line": {
          "color": "rgb(255, 127, 14)",
          "width": 2
         },
         "marker": {
          "color": "rgb(255, 127, 14)",
          "size": 5
         },
         "mode": "lines+markers",
         "name": "Theta Forecaster",
         "type": "scattergl",
         "x": [
          "2021-07-08T00:00:00",
          "2021-07-09T00:00:00",
          "2021-07-10T00:00:00",
          "2021-07-11T00:00:00",
          "2021-07-12T00:00:00",
          "2021-07-13T00:00:00",
          "2021-07-14T00:00:00",
          "2021-07-15T00:00:00",
          "2021-07-16T00:00:00",
          "2021-07-17T00:00:00",
          "2021-07-18T00:00:00",
          "2021-07-19T00:00:00",
          "2021-07-20T00:00:00",
          "2021-07-21T00:00:00",
          "2021-07-22T00:00:00",
          "2021-07-23T00:00:00",
          "2021-07-24T00:00:00",
          "2021-07-25T00:00:00",
          "2021-07-26T00:00:00",
          "2021-07-27T00:00:00",
          "2021-07-28T00:00:00",
          "2021-07-29T00:00:00",
          "2021-07-30T00:00:00",
          "2021-07-31T00:00:00",
          "2021-08-01T00:00:00",
          "2021-08-02T00:00:00",
          "2021-08-03T00:00:00",
          "2021-08-04T00:00:00",
          "2021-08-05T00:00:00",
          "2021-08-06T00:00:00",
          "2021-08-07T00:00:00",
          "2021-08-08T00:00:00",
          "2021-08-09T00:00:00",
          "2021-08-10T00:00:00",
          "2021-08-11T00:00:00",
          "2021-08-12T00:00:00",
          "2021-08-13T00:00:00",
          "2021-08-14T00:00:00",
          "2021-08-15T00:00:00",
          "2021-08-16T00:00:00",
          "2021-08-17T00:00:00",
          "2021-08-18T00:00:00",
          "2021-08-19T00:00:00",
          "2021-08-20T00:00:00",
          "2021-08-21T00:00:00",
          "2021-08-22T00:00:00",
          "2021-08-23T00:00:00",
          "2021-08-24T00:00:00",
          "2021-08-25T00:00:00",
          "2021-08-26T00:00:00",
          "2021-08-27T00:00:00",
          "2021-08-28T00:00:00",
          "2021-08-29T00:00:00",
          "2021-08-30T00:00:00",
          "2021-08-31T00:00:00",
          "2021-09-01T00:00:00",
          "2021-09-02T00:00:00",
          "2021-09-03T00:00:00",
          "2021-09-04T00:00:00",
          "2021-09-05T00:00:00",
          "2021-09-06T00:00:00",
          "2021-09-07T00:00:00",
          "2021-09-08T00:00:00",
          "2021-09-09T00:00:00",
          "2021-09-10T00:00:00",
          "2021-09-11T00:00:00",
          "2021-09-12T00:00:00",
          "2021-09-13T00:00:00",
          "2021-09-14T00:00:00",
          "2021-09-15T00:00:00",
          "2021-09-16T00:00:00",
          "2021-09-17T00:00:00",
          "2021-09-18T00:00:00",
          "2021-09-19T00:00:00",
          "2021-09-20T00:00:00",
          "2021-09-21T00:00:00",
          "2021-09-22T00:00:00",
          "2021-09-23T00:00:00",
          "2021-09-24T00:00:00",
          "2021-09-25T00:00:00",
          "2021-09-26T00:00:00",
          "2021-09-27T00:00:00",
          "2021-09-28T00:00:00",
          "2021-09-29T00:00:00",
          "2021-09-30T00:00:00",
          "2021-10-01T00:00:00",
          "2021-10-02T00:00:00",
          "2021-10-03T00:00:00",
          "2021-10-04T00:00:00",
          "2021-10-05T00:00:00"
         ],
         "xaxis": "x",
         "y": [
          1678.4861,
          1365.8665,
          1186.6817,
          1131.1325,
          889.3476,
          427.7806999999998,
          1713.3962000000001,
          1657.9957,
          1288.0706,
          982.9958999999999,
          739.4058,
          1103.6933,
          763.3193000000001,
          1575.6217000000001,
          1760.2359000000001,
          1592.0369999999998,
          907.3489999999999,
          1008.7782000000002,
          -58.5016999999998,
          340.1104,
          1808.7431000000001,
          1446.0520999999999,
          588.239,
          488.3116,
          809.2521999999999,
          1033.1194999999998,
          1576.558,
          1244.4876000000004,
          88.20139999999992,
          578.4412000000002,
          456.2422999999999,
          808.6483000000001,
          630.0437000000002,
          2110.8509,
          -59.94920000000002,
          359.49130000000014,
          67.06710000000021,
          719.6511,
          573.7924,
          267.0608000000002,
          2227.5379,
          1450.2619000000004,
          728.4283999999998,
          377.59889999999996,
          -336.1725999999999,
          1224.7892,
          2732.7954,
          -952.7548999999999,
          7.453000000000429,
          797.5765000000001,
          177.32750000000033,
          -110.88700000000017,
          -63.90819999999985,
          1606.4908999999998,
          1174.7269999999999,
          612.5380999999998,
          855.7920999999997,
          433.3694999999998,
          -240.17380000000003,
          -483.9328999999998,
          1106.8022,
          477.5726000000004,
          401.7557999999999,
          30.004399999999805,
          1582.9758000000002,
          45.22420000000011,
          -809.9398999999999,
          921.4474,
          878.9867000000004,
          -83.12129999999979,
          984.8400000000001,
          927.5556999999999,
          412.3449999999998,
          -1078.6738999999998,
          -102.31919999999991,
          832.5217000000002,
          602.1148999999996,
          -125.19640000000072,
          null,
          null,
          null,
          null,
          null,
          null,
          null,
          null,
          null,
          null,
          null,
          null
         ],
         "yaxis": "y"
        }
       ],
       "layout": {
        "showlegend": true,
        "template": {
         "data": {
          "bar": [
           {
            "error_x": {
             "color": "rgb(51,51,51)"
            },
            "error_y": {
             "color": "rgb(51,51,51)"
            },
            "marker": {
             "line": {
              "color": "rgb(237,237,237)",
              "width": 0.5
             },
             "pattern": {
              "fillmode": "overlay",
              "size": 10,
              "solidity": 0.2
             }
            },
            "type": "bar"
           }
          ],
          "barpolar": [
           {
            "marker": {
             "line": {
              "color": "rgb(237,237,237)",
              "width": 0.5
             },
             "pattern": {
              "fillmode": "overlay",
              "size": 10,
              "solidity": 0.2
             }
            },
            "type": "barpolar"
           }
          ],
          "carpet": [
           {
            "aaxis": {
             "endlinecolor": "rgb(51,51,51)",
             "gridcolor": "white",
             "linecolor": "white",
             "minorgridcolor": "white",
             "startlinecolor": "rgb(51,51,51)"
            },
            "baxis": {
             "endlinecolor": "rgb(51,51,51)",
             "gridcolor": "white",
             "linecolor": "white",
             "minorgridcolor": "white",
             "startlinecolor": "rgb(51,51,51)"
            },
            "type": "carpet"
           }
          ],
          "choropleth": [
           {
            "colorbar": {
             "outlinewidth": 0,
             "tickcolor": "rgb(237,237,237)",
             "ticklen": 6,
             "ticks": "inside"
            },
            "type": "choropleth"
           }
          ],
          "contour": [
           {
            "colorbar": {
             "outlinewidth": 0,
             "tickcolor": "rgb(237,237,237)",
             "ticklen": 6,
             "ticks": "inside"
            },
            "colorscale": [
             [
              0,
              "rgb(20,44,66)"
             ],
             [
              1,
              "rgb(90,179,244)"
             ]
            ],
            "type": "contour"
           }
          ],
          "contourcarpet": [
           {
            "colorbar": {
             "outlinewidth": 0,
             "tickcolor": "rgb(237,237,237)",
             "ticklen": 6,
             "ticks": "inside"
            },
            "type": "contourcarpet"
           }
          ],
          "heatmap": [
           {
            "colorbar": {
             "outlinewidth": 0,
             "tickcolor": "rgb(237,237,237)",
             "ticklen": 6,
             "ticks": "inside"
            },
            "colorscale": [
             [
              0,
              "rgb(20,44,66)"
             ],
             [
              1,
              "rgb(90,179,244)"
             ]
            ],
            "type": "heatmap"
           }
          ],
          "heatmapgl": [
           {
            "colorbar": {
             "outlinewidth": 0,
             "tickcolor": "rgb(237,237,237)",
             "ticklen": 6,
             "ticks": "inside"
            },
            "colorscale": [
             [
              0,
              "rgb(20,44,66)"
             ],
             [
              1,
              "rgb(90,179,244)"
             ]
            ],
            "type": "heatmapgl"
           }
          ],
          "histogram": [
           {
            "marker": {
             "pattern": {
              "fillmode": "overlay",
              "size": 10,
              "solidity": 0.2
             }
            },
            "type": "histogram"
           }
          ],
          "histogram2d": [
           {
            "colorbar": {
             "outlinewidth": 0,
             "tickcolor": "rgb(237,237,237)",
             "ticklen": 6,
             "ticks": "inside"
            },
            "colorscale": [
             [
              0,
              "rgb(20,44,66)"
             ],
             [
              1,
              "rgb(90,179,244)"
             ]
            ],
            "type": "histogram2d"
           }
          ],
          "histogram2dcontour": [
           {
            "colorbar": {
             "outlinewidth": 0,
             "tickcolor": "rgb(237,237,237)",
             "ticklen": 6,
             "ticks": "inside"
            },
            "colorscale": [
             [
              0,
              "rgb(20,44,66)"
             ],
             [
              1,
              "rgb(90,179,244)"
             ]
            ],
            "type": "histogram2dcontour"
           }
          ],
          "mesh3d": [
           {
            "colorbar": {
             "outlinewidth": 0,
             "tickcolor": "rgb(237,237,237)",
             "ticklen": 6,
             "ticks": "inside"
            },
            "type": "mesh3d"
           }
          ],
          "parcoords": [
           {
            "line": {
             "colorbar": {
              "outlinewidth": 0,
              "tickcolor": "rgb(237,237,237)",
              "ticklen": 6,
              "ticks": "inside"
             }
            },
            "type": "parcoords"
           }
          ],
          "pie": [
           {
            "automargin": true,
            "type": "pie"
           }
          ],
          "scatter": [
           {
            "fillpattern": {
             "fillmode": "overlay",
             "size": 10,
             "solidity": 0.2
            },
            "type": "scatter"
           }
          ],
          "scatter3d": [
           {
            "line": {
             "colorbar": {
              "outlinewidth": 0,
              "tickcolor": "rgb(237,237,237)",
              "ticklen": 6,
              "ticks": "inside"
             }
            },
            "marker": {
             "colorbar": {
              "outlinewidth": 0,
              "tickcolor": "rgb(237,237,237)",
              "ticklen": 6,
              "ticks": "inside"
             }
            },
            "type": "scatter3d"
           }
          ],
          "scattercarpet": [
           {
            "marker": {
             "colorbar": {
              "outlinewidth": 0,
              "tickcolor": "rgb(237,237,237)",
              "ticklen": 6,
              "ticks": "inside"
             }
            },
            "type": "scattercarpet"
           }
          ],
          "scattergeo": [
           {
            "marker": {
             "colorbar": {
              "outlinewidth": 0,
              "tickcolor": "rgb(237,237,237)",
              "ticklen": 6,
              "ticks": "inside"
             }
            },
            "type": "scattergeo"
           }
          ],
          "scattergl": [
           {
            "marker": {
             "colorbar": {
              "outlinewidth": 0,
              "tickcolor": "rgb(237,237,237)",
              "ticklen": 6,
              "ticks": "inside"
             }
            },
            "type": "scattergl"
           }
          ],
          "scattermapbox": [
           {
            "marker": {
             "colorbar": {
              "outlinewidth": 0,
              "tickcolor": "rgb(237,237,237)",
              "ticklen": 6,
              "ticks": "inside"
             }
            },
            "type": "scattermapbox"
           }
          ],
          "scatterpolar": [
           {
            "marker": {
             "colorbar": {
              "outlinewidth": 0,
              "tickcolor": "rgb(237,237,237)",
              "ticklen": 6,
              "ticks": "inside"
             }
            },
            "type": "scatterpolar"
           }
          ],
          "scatterpolargl": [
           {
            "marker": {
             "colorbar": {
              "outlinewidth": 0,
              "tickcolor": "rgb(237,237,237)",
              "ticklen": 6,
              "ticks": "inside"
             }
            },
            "type": "scatterpolargl"
           }
          ],
          "scatterternary": [
           {
            "marker": {
             "colorbar": {
              "outlinewidth": 0,
              "tickcolor": "rgb(237,237,237)",
              "ticklen": 6,
              "ticks": "inside"
             }
            },
            "type": "scatterternary"
           }
          ],
          "surface": [
           {
            "colorbar": {
             "outlinewidth": 0,
             "tickcolor": "rgb(237,237,237)",
             "ticklen": 6,
             "ticks": "inside"
            },
            "colorscale": [
             [
              0,
              "rgb(20,44,66)"
             ],
             [
              1,
              "rgb(90,179,244)"
             ]
            ],
            "type": "surface"
           }
          ],
          "table": [
           {
            "cells": {
             "fill": {
              "color": "rgb(237,237,237)"
             },
             "line": {
              "color": "white"
             }
            },
            "header": {
             "fill": {
              "color": "rgb(217,217,217)"
             },
             "line": {
              "color": "white"
             }
            },
            "type": "table"
           }
          ]
         },
         "layout": {
          "annotationdefaults": {
           "arrowhead": 0,
           "arrowwidth": 1
          },
          "autotypenumbers": "strict",
          "coloraxis": {
           "colorbar": {
            "outlinewidth": 0,
            "tickcolor": "rgb(237,237,237)",
            "ticklen": 6,
            "ticks": "inside"
           }
          },
          "colorscale": {
           "sequential": [
            [
             0,
             "rgb(20,44,66)"
            ],
            [
             1,
             "rgb(90,179,244)"
            ]
           ],
           "sequentialminus": [
            [
             0,
             "rgb(20,44,66)"
            ],
            [
             1,
             "rgb(90,179,244)"
            ]
           ]
          },
          "colorway": [
           "#F8766D",
           "#A3A500",
           "#00BF7D",
           "#00B0F6",
           "#E76BF3"
          ],
          "font": {
           "color": "rgb(51,51,51)"
          },
          "geo": {
           "bgcolor": "white",
           "lakecolor": "white",
           "landcolor": "rgb(237,237,237)",
           "showlakes": true,
           "showland": true,
           "subunitcolor": "white"
          },
          "hoverlabel": {
           "align": "left"
          },
          "hovermode": "closest",
          "paper_bgcolor": "white",
          "plot_bgcolor": "rgb(237,237,237)",
          "polar": {
           "angularaxis": {
            "gridcolor": "white",
            "linecolor": "white",
            "showgrid": true,
            "tickcolor": "rgb(51,51,51)",
            "ticks": "outside"
           },
           "bgcolor": "rgb(237,237,237)",
           "radialaxis": {
            "gridcolor": "white",
            "linecolor": "white",
            "showgrid": true,
            "tickcolor": "rgb(51,51,51)",
            "ticks": "outside"
           }
          },
          "scene": {
           "xaxis": {
            "backgroundcolor": "rgb(237,237,237)",
            "gridcolor": "white",
            "gridwidth": 2,
            "linecolor": "white",
            "showbackground": true,
            "showgrid": true,
            "tickcolor": "rgb(51,51,51)",
            "ticks": "outside",
            "zerolinecolor": "white"
           },
           "yaxis": {
            "backgroundcolor": "rgb(237,237,237)",
            "gridcolor": "white",
            "gridwidth": 2,
            "linecolor": "white",
            "showbackground": true,
            "showgrid": true,
            "tickcolor": "rgb(51,51,51)",
            "ticks": "outside",
            "zerolinecolor": "white"
           },
           "zaxis": {
            "backgroundcolor": "rgb(237,237,237)",
            "gridcolor": "white",
            "gridwidth": 2,
            "linecolor": "white",
            "showbackground": true,
            "showgrid": true,
            "tickcolor": "rgb(51,51,51)",
            "ticks": "outside",
            "zerolinecolor": "white"
           }
          },
          "shapedefaults": {
           "fillcolor": "black",
           "line": {
            "width": 0
           },
           "opacity": 0.3
          },
          "ternary": {
           "aaxis": {
            "gridcolor": "white",
            "linecolor": "white",
            "showgrid": true,
            "tickcolor": "rgb(51,51,51)",
            "ticks": "outside"
           },
           "baxis": {
            "gridcolor": "white",
            "linecolor": "white",
            "showgrid": true,
            "tickcolor": "rgb(51,51,51)",
            "ticks": "outside"
           },
           "bgcolor": "rgb(237,237,237)",
           "caxis": {
            "gridcolor": "white",
            "linecolor": "white",
            "showgrid": true,
            "tickcolor": "rgb(51,51,51)",
            "ticks": "outside"
           }
          },
          "xaxis": {
           "automargin": true,
           "gridcolor": "white",
           "linecolor": "white",
           "showgrid": true,
           "tickcolor": "rgb(51,51,51)",
           "ticks": "outside",
           "title": {
            "standoff": 15
           },
           "zerolinecolor": "white"
          },
          "yaxis": {
           "automargin": true,
           "gridcolor": "white",
           "linecolor": "white",
           "showgrid": true,
           "tickcolor": "rgb(51,51,51)",
           "ticks": "outside",
           "title": {
            "standoff": 15
           },
           "zerolinecolor": "white"
          }
         }
        },
        "title": {
         "text": "Actual vs. Residuals"
        },
        "xaxis": {
         "anchor": "y",
         "domain": [
          0,
          1
         ]
        },
        "yaxis": {
         "anchor": "x",
         "domain": [
          0,
          1
         ]
        }
       }
      }
     },
     "metadata": {},
     "output_type": "display_data"
    }
   ],
   "source": [
    "# residuals plot\n",
    "plot_model(best, plot = 'residuals')"
   ]
  },
  {
   "cell_type": "code",
   "execution_count": 35,
   "metadata": {},
   "outputs": [
    {
     "data": {
      "text/html": [
       "<style type=\"text/css\">\n",
       "</style>\n",
       "<table id=\"T_74054\">\n",
       "  <thead>\n",
       "    <tr>\n",
       "      <th class=\"blank level0\" >&nbsp;</th>\n",
       "      <th id=\"T_74054_level0_col0\" class=\"col_heading level0 col0\" >Model</th>\n",
       "      <th id=\"T_74054_level0_col1\" class=\"col_heading level0 col1\" >MASE</th>\n",
       "      <th id=\"T_74054_level0_col2\" class=\"col_heading level0 col2\" >RMSSE</th>\n",
       "      <th id=\"T_74054_level0_col3\" class=\"col_heading level0 col3\" >MAE</th>\n",
       "      <th id=\"T_74054_level0_col4\" class=\"col_heading level0 col4\" >RMSE</th>\n",
       "      <th id=\"T_74054_level0_col5\" class=\"col_heading level0 col5\" >MAPE</th>\n",
       "      <th id=\"T_74054_level0_col6\" class=\"col_heading level0 col6\" >SMAPE</th>\n",
       "      <th id=\"T_74054_level0_col7\" class=\"col_heading level0 col7\" >R2</th>\n",
       "    </tr>\n",
       "  </thead>\n",
       "  <tbody>\n",
       "    <tr>\n",
       "      <th id=\"T_74054_level0_row0\" class=\"row_heading level0 row0\" >0</th>\n",
       "      <td id=\"T_74054_row0_col0\" class=\"data row0 col0\" >Theta Forecaster</td>\n",
       "      <td id=\"T_74054_row0_col1\" class=\"data row0 col1\" >0.4662</td>\n",
       "      <td id=\"T_74054_row0_col2\" class=\"data row0 col2\" >0.4499</td>\n",
       "      <td id=\"T_74054_row0_col3\" class=\"data row0 col3\" >308.2574</td>\n",
       "      <td id=\"T_74054_row0_col4\" class=\"data row0 col4\" >414.0053</td>\n",
       "      <td id=\"T_74054_row0_col5\" class=\"data row0 col5\" >0.0463</td>\n",
       "      <td id=\"T_74054_row0_col6\" class=\"data row0 col6\" >0.0476</td>\n",
       "      <td id=\"T_74054_row0_col7\" class=\"data row0 col7\" >0.9552</td>\n",
       "    </tr>\n",
       "  </tbody>\n",
       "</table>\n"
      ],
      "text/plain": [
       "<pandas.io.formats.style.Styler at 0x12dd15ee940>"
      ]
     },
     "metadata": {},
     "output_type": "display_data"
    }
   ],
   "source": [
    "# predict on test set\n",
    "holdout_pred = predict_model(best)"
   ]
  },
  {
   "cell_type": "markdown",
   "metadata": {},
   "source": [
    "## Predicting"
   ]
  },
  {
   "cell_type": "code",
   "execution_count": 36,
   "metadata": {},
   "outputs": [
    {
     "data": {
      "text/html": [
       "<div>\n",
       "<style scoped>\n",
       "    .dataframe tbody tr th:only-of-type {\n",
       "        vertical-align: middle;\n",
       "    }\n",
       "\n",
       "    .dataframe tbody tr th {\n",
       "        vertical-align: top;\n",
       "    }\n",
       "\n",
       "    .dataframe thead th {\n",
       "        text-align: right;\n",
       "    }\n",
       "</style>\n",
       "<table border=\"1\" class=\"dataframe\">\n",
       "  <thead>\n",
       "    <tr style=\"text-align: right;\">\n",
       "      <th></th>\n",
       "      <th>y_pred</th>\n",
       "    </tr>\n",
       "  </thead>\n",
       "  <tbody>\n",
       "    <tr>\n",
       "      <th>2021-09-24</th>\n",
       "      <td>7111.4964</td>\n",
       "    </tr>\n",
       "    <tr>\n",
       "      <th>2021-09-25</th>\n",
       "      <td>3578.8096</td>\n",
       "    </tr>\n",
       "    <tr>\n",
       "      <th>2021-09-26</th>\n",
       "      <td>4123.7043</td>\n",
       "    </tr>\n",
       "    <tr>\n",
       "      <th>2021-09-27</th>\n",
       "      <td>7779.4459</td>\n",
       "    </tr>\n",
       "    <tr>\n",
       "      <th>2021-09-28</th>\n",
       "      <td>8493.7955</td>\n",
       "    </tr>\n",
       "    <tr>\n",
       "      <th>2021-09-29</th>\n",
       "      <td>8468.0194</td>\n",
       "    </tr>\n",
       "    <tr>\n",
       "      <th>2021-09-30</th>\n",
       "      <td>8467.1125</td>\n",
       "    </tr>\n",
       "    <tr>\n",
       "      <th>2021-10-01</th>\n",
       "      <td>7243.3989</td>\n",
       "    </tr>\n",
       "    <tr>\n",
       "      <th>2021-10-02</th>\n",
       "      <td>3645.0132</td>\n",
       "    </tr>\n",
       "    <tr>\n",
       "      <th>2021-10-03</th>\n",
       "      <td>4199.7866</td>\n",
       "    </tr>\n",
       "    <tr>\n",
       "      <th>2021-10-04</th>\n",
       "      <td>7922.5994</td>\n",
       "    </tr>\n",
       "    <tr>\n",
       "      <th>2021-10-05</th>\n",
       "      <td>8649.6843</td>\n",
       "    </tr>\n",
       "    <tr>\n",
       "      <th>2021-10-06</th>\n",
       "      <td>8623.0288</td>\n",
       "    </tr>\n",
       "    <tr>\n",
       "      <th>2021-10-07</th>\n",
       "      <td>8621.7011</td>\n",
       "    </tr>\n",
       "    <tr>\n",
       "      <th>2021-10-08</th>\n",
       "      <td>7375.3014</td>\n",
       "    </tr>\n",
       "    <tr>\n",
       "      <th>2021-10-09</th>\n",
       "      <td>3711.2167</td>\n",
       "    </tr>\n",
       "    <tr>\n",
       "      <th>2021-10-10</th>\n",
       "      <td>4275.8690</td>\n",
       "    </tr>\n",
       "    <tr>\n",
       "      <th>2021-10-11</th>\n",
       "      <td>8065.7529</td>\n",
       "    </tr>\n",
       "    <tr>\n",
       "      <th>2021-10-12</th>\n",
       "      <td>8805.5732</td>\n",
       "    </tr>\n",
       "    <tr>\n",
       "      <th>2021-10-13</th>\n",
       "      <td>8778.0381</td>\n",
       "    </tr>\n",
       "    <tr>\n",
       "      <th>2021-10-14</th>\n",
       "      <td>8776.2896</td>\n",
       "    </tr>\n",
       "    <tr>\n",
       "      <th>2021-10-15</th>\n",
       "      <td>7507.2039</td>\n",
       "    </tr>\n",
       "    <tr>\n",
       "      <th>2021-10-16</th>\n",
       "      <td>3777.4203</td>\n",
       "    </tr>\n",
       "    <tr>\n",
       "      <th>2021-10-17</th>\n",
       "      <td>4351.9514</td>\n",
       "    </tr>\n",
       "    <tr>\n",
       "      <th>2021-10-18</th>\n",
       "      <td>8208.9065</td>\n",
       "    </tr>\n",
       "    <tr>\n",
       "      <th>2021-10-19</th>\n",
       "      <td>8961.4620</td>\n",
       "    </tr>\n",
       "    <tr>\n",
       "      <th>2021-10-20</th>\n",
       "      <td>8933.0475</td>\n",
       "    </tr>\n",
       "    <tr>\n",
       "      <th>2021-10-21</th>\n",
       "      <td>8930.8781</td>\n",
       "    </tr>\n",
       "    <tr>\n",
       "      <th>2021-10-22</th>\n",
       "      <td>7639.1064</td>\n",
       "    </tr>\n",
       "    <tr>\n",
       "      <th>2021-10-23</th>\n",
       "      <td>3843.6239</td>\n",
       "    </tr>\n",
       "    <tr>\n",
       "      <th>2021-10-24</th>\n",
       "      <td>4428.0338</td>\n",
       "    </tr>\n",
       "    <tr>\n",
       "      <th>2021-10-25</th>\n",
       "      <td>8352.0600</td>\n",
       "    </tr>\n",
       "    <tr>\n",
       "      <th>2021-10-26</th>\n",
       "      <td>9117.3509</td>\n",
       "    </tr>\n",
       "    <tr>\n",
       "      <th>2021-10-27</th>\n",
       "      <td>9088.0569</td>\n",
       "    </tr>\n",
       "    <tr>\n",
       "      <th>2021-10-28</th>\n",
       "      <td>9085.4666</td>\n",
       "    </tr>\n",
       "    <tr>\n",
       "      <th>2021-10-29</th>\n",
       "      <td>7771.0089</td>\n",
       "    </tr>\n",
       "  </tbody>\n",
       "</table>\n",
       "</div>"
      ],
      "text/plain": [
       "               y_pred\n",
       "2021-09-24  7111.4964\n",
       "2021-09-25  3578.8096\n",
       "2021-09-26  4123.7043\n",
       "2021-09-27  7779.4459\n",
       "2021-09-28  8493.7955\n",
       "2021-09-29  8468.0194\n",
       "2021-09-30  8467.1125\n",
       "2021-10-01  7243.3989\n",
       "2021-10-02  3645.0132\n",
       "2021-10-03  4199.7866\n",
       "2021-10-04  7922.5994\n",
       "2021-10-05  8649.6843\n",
       "2021-10-06  8623.0288\n",
       "2021-10-07  8621.7011\n",
       "2021-10-08  7375.3014\n",
       "2021-10-09  3711.2167\n",
       "2021-10-10  4275.8690\n",
       "2021-10-11  8065.7529\n",
       "2021-10-12  8805.5732\n",
       "2021-10-13  8778.0381\n",
       "2021-10-14  8776.2896\n",
       "2021-10-15  7507.2039\n",
       "2021-10-16  3777.4203\n",
       "2021-10-17  4351.9514\n",
       "2021-10-18  8208.9065\n",
       "2021-10-19  8961.4620\n",
       "2021-10-20  8933.0475\n",
       "2021-10-21  8930.8781\n",
       "2021-10-22  7639.1064\n",
       "2021-10-23  3843.6239\n",
       "2021-10-24  4428.0338\n",
       "2021-10-25  8352.0600\n",
       "2021-10-26  9117.3509\n",
       "2021-10-27  9088.0569\n",
       "2021-10-28  9085.4666\n",
       "2021-10-29  7771.0089"
      ]
     },
     "execution_count": 36,
     "metadata": {},
     "output_type": "execute_result"
    }
   ],
   "source": [
    "# generate forecast for 36 period in future\n",
    "predict_model(best, fh = 36)"
   ]
  },
  {
   "cell_type": "code",
   "execution_count": 37,
   "metadata": {},
   "outputs": [
    {
     "data": {
      "text/html": [
       "<div>\n",
       "<style scoped>\n",
       "    .dataframe tbody tr th:only-of-type {\n",
       "        vertical-align: middle;\n",
       "    }\n",
       "\n",
       "    .dataframe tbody tr th {\n",
       "        vertical-align: top;\n",
       "    }\n",
       "\n",
       "    .dataframe thead th {\n",
       "        text-align: right;\n",
       "    }\n",
       "</style>\n",
       "<table border=\"1\" class=\"dataframe\">\n",
       "  <thead>\n",
       "    <tr style=\"text-align: right;\">\n",
       "      <th></th>\n",
       "      <th>y_pred</th>\n",
       "    </tr>\n",
       "  </thead>\n",
       "  <tbody>\n",
       "    <tr>\n",
       "      <th>2021-09-24</th>\n",
       "      <td>7111.4964</td>\n",
       "    </tr>\n",
       "    <tr>\n",
       "      <th>2021-09-25</th>\n",
       "      <td>3578.8096</td>\n",
       "    </tr>\n",
       "    <tr>\n",
       "      <th>2021-09-26</th>\n",
       "      <td>4123.7043</td>\n",
       "    </tr>\n",
       "    <tr>\n",
       "      <th>2021-09-27</th>\n",
       "      <td>7779.4459</td>\n",
       "    </tr>\n",
       "    <tr>\n",
       "      <th>2021-09-28</th>\n",
       "      <td>8493.7955</td>\n",
       "    </tr>\n",
       "    <tr>\n",
       "      <th>2021-09-29</th>\n",
       "      <td>8468.0194</td>\n",
       "    </tr>\n",
       "    <tr>\n",
       "      <th>2021-09-30</th>\n",
       "      <td>8467.1125</td>\n",
       "    </tr>\n",
       "    <tr>\n",
       "      <th>2021-10-01</th>\n",
       "      <td>7243.3989</td>\n",
       "    </tr>\n",
       "    <tr>\n",
       "      <th>2021-10-02</th>\n",
       "      <td>3645.0132</td>\n",
       "    </tr>\n",
       "    <tr>\n",
       "      <th>2021-10-03</th>\n",
       "      <td>4199.7866</td>\n",
       "    </tr>\n",
       "    <tr>\n",
       "      <th>2021-10-04</th>\n",
       "      <td>7922.5994</td>\n",
       "    </tr>\n",
       "    <tr>\n",
       "      <th>2021-10-05</th>\n",
       "      <td>8649.6843</td>\n",
       "    </tr>\n",
       "    <tr>\n",
       "      <th>2021-10-06</th>\n",
       "      <td>8623.0288</td>\n",
       "    </tr>\n",
       "    <tr>\n",
       "      <th>2021-10-07</th>\n",
       "      <td>8621.7011</td>\n",
       "    </tr>\n",
       "    <tr>\n",
       "      <th>2021-10-08</th>\n",
       "      <td>7375.3014</td>\n",
       "    </tr>\n",
       "    <tr>\n",
       "      <th>2021-10-09</th>\n",
       "      <td>3711.2167</td>\n",
       "    </tr>\n",
       "    <tr>\n",
       "      <th>2021-10-10</th>\n",
       "      <td>4275.8690</td>\n",
       "    </tr>\n",
       "    <tr>\n",
       "      <th>2021-10-11</th>\n",
       "      <td>8065.7529</td>\n",
       "    </tr>\n",
       "    <tr>\n",
       "      <th>2021-10-12</th>\n",
       "      <td>8805.5732</td>\n",
       "    </tr>\n",
       "    <tr>\n",
       "      <th>2021-10-13</th>\n",
       "      <td>8778.0381</td>\n",
       "    </tr>\n",
       "    <tr>\n",
       "      <th>2021-10-14</th>\n",
       "      <td>8776.2896</td>\n",
       "    </tr>\n",
       "    <tr>\n",
       "      <th>2021-10-15</th>\n",
       "      <td>7507.2039</td>\n",
       "    </tr>\n",
       "    <tr>\n",
       "      <th>2021-10-16</th>\n",
       "      <td>3777.4203</td>\n",
       "    </tr>\n",
       "    <tr>\n",
       "      <th>2021-10-17</th>\n",
       "      <td>4351.9514</td>\n",
       "    </tr>\n",
       "    <tr>\n",
       "      <th>2021-10-18</th>\n",
       "      <td>8208.9065</td>\n",
       "    </tr>\n",
       "    <tr>\n",
       "      <th>2021-10-19</th>\n",
       "      <td>8961.4620</td>\n",
       "    </tr>\n",
       "    <tr>\n",
       "      <th>2021-10-20</th>\n",
       "      <td>8933.0475</td>\n",
       "    </tr>\n",
       "    <tr>\n",
       "      <th>2021-10-21</th>\n",
       "      <td>8930.8781</td>\n",
       "    </tr>\n",
       "    <tr>\n",
       "      <th>2021-10-22</th>\n",
       "      <td>7639.1064</td>\n",
       "    </tr>\n",
       "    <tr>\n",
       "      <th>2021-10-23</th>\n",
       "      <td>3843.6239</td>\n",
       "    </tr>\n",
       "    <tr>\n",
       "      <th>2021-10-24</th>\n",
       "      <td>4428.0338</td>\n",
       "    </tr>\n",
       "    <tr>\n",
       "      <th>2021-10-25</th>\n",
       "      <td>8352.0600</td>\n",
       "    </tr>\n",
       "    <tr>\n",
       "      <th>2021-10-26</th>\n",
       "      <td>9117.3509</td>\n",
       "    </tr>\n",
       "    <tr>\n",
       "      <th>2021-10-27</th>\n",
       "      <td>9088.0569</td>\n",
       "    </tr>\n",
       "    <tr>\n",
       "      <th>2021-10-28</th>\n",
       "      <td>9085.4666</td>\n",
       "    </tr>\n",
       "    <tr>\n",
       "      <th>2021-10-29</th>\n",
       "      <td>7771.0089</td>\n",
       "    </tr>\n",
       "  </tbody>\n",
       "</table>\n",
       "</div>"
      ],
      "text/plain": [
       "               y_pred\n",
       "2021-09-24  7111.4964\n",
       "2021-09-25  3578.8096\n",
       "2021-09-26  4123.7043\n",
       "2021-09-27  7779.4459\n",
       "2021-09-28  8493.7955\n",
       "2021-09-29  8468.0194\n",
       "2021-09-30  8467.1125\n",
       "2021-10-01  7243.3989\n",
       "2021-10-02  3645.0132\n",
       "2021-10-03  4199.7866\n",
       "2021-10-04  7922.5994\n",
       "2021-10-05  8649.6843\n",
       "2021-10-06  8623.0288\n",
       "2021-10-07  8621.7011\n",
       "2021-10-08  7375.3014\n",
       "2021-10-09  3711.2167\n",
       "2021-10-10  4275.8690\n",
       "2021-10-11  8065.7529\n",
       "2021-10-12  8805.5732\n",
       "2021-10-13  8778.0381\n",
       "2021-10-14  8776.2896\n",
       "2021-10-15  7507.2039\n",
       "2021-10-16  3777.4203\n",
       "2021-10-17  4351.9514\n",
       "2021-10-18  8208.9065\n",
       "2021-10-19  8961.4620\n",
       "2021-10-20  8933.0475\n",
       "2021-10-21  8930.8781\n",
       "2021-10-22  7639.1064\n",
       "2021-10-23  3843.6239\n",
       "2021-10-24  4428.0338\n",
       "2021-10-25  8352.0600\n",
       "2021-10-26  9117.3509\n",
       "2021-10-27  9088.0569\n",
       "2021-10-28  9085.4666\n",
       "2021-10-29  7771.0089"
      ]
     },
     "execution_count": 37,
     "metadata": {},
     "output_type": "execute_result"
    }
   ],
   "source": [
    "predict_model(tuned_theta, fh = 36)\n"
   ]
  },
  {
   "cell_type": "markdown",
   "metadata": {},
   "source": [
    "## MLflow tracking"
   ]
  },
  {
   "cell_type": "markdown",
   "metadata": {},
   "source": []
  },
  {
   "cell_type": "code",
   "execution_count": 39,
   "metadata": {},
   "outputs": [
    {
     "data": {
      "text/html": [
       "<div>\n",
       "<style scoped>\n",
       "    .dataframe tbody tr th:only-of-type {\n",
       "        vertical-align: middle;\n",
       "    }\n",
       "\n",
       "    .dataframe tbody tr th {\n",
       "        vertical-align: top;\n",
       "    }\n",
       "\n",
       "    .dataframe thead th {\n",
       "        text-align: right;\n",
       "    }\n",
       "</style>\n",
       "<table border=\"1\" class=\"dataframe\">\n",
       "  <thead>\n",
       "    <tr style=\"text-align: right;\">\n",
       "      <th></th>\n",
       "      <th>Run ID</th>\n",
       "      <th>Model Name</th>\n",
       "      <th>aic</th>\n",
       "      <th>bic</th>\n",
       "      <th>centered_tss</th>\n",
       "      <th>condition_number</th>\n",
       "      <th>df_model</th>\n",
       "      <th>df_resid</th>\n",
       "      <th>ess</th>\n",
       "      <th>fvalue</th>\n",
       "      <th>...</th>\n",
       "      <th>rsquared</th>\n",
       "      <th>rsquared_adj</th>\n",
       "      <th>scale</th>\n",
       "      <th>ssr</th>\n",
       "      <th>uncentered_tss</th>\n",
       "      <th>training_mean_absolute_error</th>\n",
       "      <th>training_mean_squared_error</th>\n",
       "      <th>training_r2_score</th>\n",
       "      <th>training_root_mean_squared_error</th>\n",
       "      <th>training_score</th>\n",
       "    </tr>\n",
       "  </thead>\n",
       "  <tbody>\n",
       "    <tr>\n",
       "      <th>0</th>\n",
       "      <td>23ddb3d9a5664e95aefbad471848ff04</td>\n",
       "      <td>NA</td>\n",
       "      <td>1022.437956</td>\n",
       "      <td>1027.151374</td>\n",
       "      <td>NA</td>\n",
       "      <td>NA</td>\n",
       "      <td>NA</td>\n",
       "      <td>NA</td>\n",
       "      <td>NA</td>\n",
       "      <td>NA</td>\n",
       "      <td>...</td>\n",
       "      <td>NA</td>\n",
       "      <td>NA</td>\n",
       "      <td>NA</td>\n",
       "      <td>NA</td>\n",
       "      <td>NA</td>\n",
       "      <td>NA</td>\n",
       "      <td>NA</td>\n",
       "      <td>NA</td>\n",
       "      <td>NA</td>\n",
       "      <td>NA</td>\n",
       "    </tr>\n",
       "    <tr>\n",
       "      <th>1</th>\n",
       "      <td>ab1ae28319f34c27aaf965bd9e690af9</td>\n",
       "      <td>NA</td>\n",
       "      <td>1022.437956</td>\n",
       "      <td>1027.151374</td>\n",
       "      <td>NA</td>\n",
       "      <td>NA</td>\n",
       "      <td>NA</td>\n",
       "      <td>NA</td>\n",
       "      <td>NA</td>\n",
       "      <td>NA</td>\n",
       "      <td>...</td>\n",
       "      <td>NA</td>\n",
       "      <td>NA</td>\n",
       "      <td>NA</td>\n",
       "      <td>NA</td>\n",
       "      <td>NA</td>\n",
       "      <td>NA</td>\n",
       "      <td>NA</td>\n",
       "      <td>NA</td>\n",
       "      <td>NA</td>\n",
       "      <td>NA</td>\n",
       "    </tr>\n",
       "    <tr>\n",
       "      <th>2</th>\n",
       "      <td>2277b92f1c294c61b0b9b8f9d49f8744</td>\n",
       "      <td>NA</td>\n",
       "      <td>1022.437956</td>\n",
       "      <td>1027.151374</td>\n",
       "      <td>NA</td>\n",
       "      <td>NA</td>\n",
       "      <td>NA</td>\n",
       "      <td>NA</td>\n",
       "      <td>NA</td>\n",
       "      <td>NA</td>\n",
       "      <td>...</td>\n",
       "      <td>NA</td>\n",
       "      <td>NA</td>\n",
       "      <td>NA</td>\n",
       "      <td>NA</td>\n",
       "      <td>NA</td>\n",
       "      <td>NA</td>\n",
       "      <td>NA</td>\n",
       "      <td>NA</td>\n",
       "      <td>NA</td>\n",
       "      <td>NA</td>\n",
       "    </tr>\n",
       "    <tr>\n",
       "      <th>3</th>\n",
       "      <td>ecb9342004dd4fb28b0cb06c510a887b</td>\n",
       "      <td>NA</td>\n",
       "      <td>1022.437956</td>\n",
       "      <td>1027.151374</td>\n",
       "      <td>NA</td>\n",
       "      <td>NA</td>\n",
       "      <td>NA</td>\n",
       "      <td>NA</td>\n",
       "      <td>NA</td>\n",
       "      <td>NA</td>\n",
       "      <td>...</td>\n",
       "      <td>NA</td>\n",
       "      <td>NA</td>\n",
       "      <td>NA</td>\n",
       "      <td>NA</td>\n",
       "      <td>NA</td>\n",
       "      <td>NA</td>\n",
       "      <td>NA</td>\n",
       "      <td>NA</td>\n",
       "      <td>NA</td>\n",
       "      <td>NA</td>\n",
       "    </tr>\n",
       "    <tr>\n",
       "      <th>4</th>\n",
       "      <td>918ab134e35e49858d5d736645293278</td>\n",
       "      <td>NA</td>\n",
       "      <td>1584.835013</td>\n",
       "      <td>1589.834633</td>\n",
       "      <td>334615208.9</td>\n",
       "      <td>105.697069</td>\n",
       "      <td>1.0</td>\n",
       "      <td>88.0</td>\n",
       "      <td>110702669.591015</td>\n",
       "      <td>43.507322</td>\n",
       "      <td>...</td>\n",
       "      <td>0.330836</td>\n",
       "      <td>0.323232</td>\n",
       "      <td>2544460.673966</td>\n",
       "      <td>223912539.308985</td>\n",
       "      <td>2549086581.0</td>\n",
       "      <td>NA</td>\n",
       "      <td>NA</td>\n",
       "      <td>NA</td>\n",
       "      <td>NA</td>\n",
       "      <td>NA</td>\n",
       "    </tr>\n",
       "    <tr>\n",
       "      <th>5</th>\n",
       "      <td>2081bde40e5b4dfdab69633c5e201c88</td>\n",
       "      <td>NA</td>\n",
       "      <td>1319.729608</td>\n",
       "      <td>1341.390081</td>\n",
       "      <td>231369581.02439</td>\n",
       "      <td>26158.572416</td>\n",
       "      <td>8.0</td>\n",
       "      <td>73.0</td>\n",
       "      <td>193728992.824041</td>\n",
       "      <td>46.96465</td>\n",
       "      <td>...</td>\n",
       "      <td>0.837314</td>\n",
       "      <td>0.819485</td>\n",
       "      <td>515624.495895</td>\n",
       "      <td>37640588.200349</td>\n",
       "      <td>231651494.0</td>\n",
       "      <td>NA</td>\n",
       "      <td>NA</td>\n",
       "      <td>NA</td>\n",
       "      <td>NA</td>\n",
       "      <td>NA</td>\n",
       "    </tr>\n",
       "    <tr>\n",
       "      <th>6</th>\n",
       "      <td>3fb19747eb62434dbf3f992885369726</td>\n",
       "      <td>NA</td>\n",
       "      <td>1244.265180</td>\n",
       "      <td>1277.078456</td>\n",
       "      <td>225249930.987013</td>\n",
       "      <td>29319.840747</td>\n",
       "      <td>13.0</td>\n",
       "      <td>63.0</td>\n",
       "      <td>192592595.951007</td>\n",
       "      <td>28.579593</td>\n",
       "      <td>...</td>\n",
       "      <td>0.855017</td>\n",
       "      <td>0.8251</td>\n",
       "      <td>518370.397397</td>\n",
       "      <td>32657335.036006</td>\n",
       "      <td>225550150.0</td>\n",
       "      <td>NA</td>\n",
       "      <td>NA</td>\n",
       "      <td>NA</td>\n",
       "      <td>NA</td>\n",
       "      <td>NA</td>\n",
       "    </tr>\n",
       "    <tr>\n",
       "      <th>7</th>\n",
       "      <td>73e59fc1ec46405aad1c457f4db10e53</td>\n",
       "      <td>NA</td>\n",
       "      <td>1251.090002</td>\n",
       "      <td>1281.559472</td>\n",
       "      <td>225249930.987013</td>\n",
       "      <td>29065.390263</td>\n",
       "      <td>12.0</td>\n",
       "      <td>64.0</td>\n",
       "      <td>188626890.679261</td>\n",
       "      <td>27.469322</td>\n",
       "      <td>...</td>\n",
       "      <td>0.837412</td>\n",
       "      <td>0.806926</td>\n",
       "      <td>572235.004809</td>\n",
       "      <td>36623040.307752</td>\n",
       "      <td>225550150.0</td>\n",
       "      <td>NA</td>\n",
       "      <td>NA</td>\n",
       "      <td>NA</td>\n",
       "      <td>NA</td>\n",
       "      <td>NA</td>\n",
       "    </tr>\n",
       "    <tr>\n",
       "      <th>8</th>\n",
       "      <td>dcc185933bc946299fcde56560e1d484</td>\n",
       "      <td>NA</td>\n",
       "      <td>1249.181658</td>\n",
       "      <td>1277.307323</td>\n",
       "      <td>225249930.987013</td>\n",
       "      <td>28777.381253</td>\n",
       "      <td>11.0</td>\n",
       "      <td>65.0</td>\n",
       "      <td>188583270.897905</td>\n",
       "      <td>30.391524</td>\n",
       "      <td>...</td>\n",
       "      <td>0.837218</td>\n",
       "      <td>0.80967</td>\n",
       "      <td>564102.462909</td>\n",
       "      <td>36666660.089108</td>\n",
       "      <td>225550150.0</td>\n",
       "      <td>NA</td>\n",
       "      <td>NA</td>\n",
       "      <td>NA</td>\n",
       "      <td>NA</td>\n",
       "      <td>NA</td>\n",
       "    </tr>\n",
       "    <tr>\n",
       "      <th>9</th>\n",
       "      <td>6c61e821af644b01b29c06f50070908e</td>\n",
       "      <td>NA</td>\n",
       "      <td>1247.498392</td>\n",
       "      <td>1273.280251</td>\n",
       "      <td>225249930.987013</td>\n",
       "      <td>28579.796848</td>\n",
       "      <td>10.0</td>\n",
       "      <td>66.0</td>\n",
       "      <td>188432134.547205</td>\n",
       "      <td>33.778558</td>\n",
       "      <td>...</td>\n",
       "      <td>0.836547</td>\n",
       "      <td>0.811781</td>\n",
       "      <td>557845.400603</td>\n",
       "      <td>36817796.439808</td>\n",
       "      <td>225550150.0</td>\n",
       "      <td>NA</td>\n",
       "      <td>NA</td>\n",
       "      <td>NA</td>\n",
       "      <td>NA</td>\n",
       "      <td>NA</td>\n",
       "    </tr>\n",
       "    <tr>\n",
       "      <th>10</th>\n",
       "      <td>f8d8b7b6afb84628a722a025046ac631</td>\n",
       "      <td>NA</td>\n",
       "      <td>1245.864834</td>\n",
       "      <td>1269.302888</td>\n",
       "      <td>225249930.987013</td>\n",
       "      <td>28345.569089</td>\n",
       "      <td>9.0</td>\n",
       "      <td>67.0</td>\n",
       "      <td>188256501.470654</td>\n",
       "      <td>37.884162</td>\n",
       "      <td>...</td>\n",
       "      <td>0.835767</td>\n",
       "      <td>0.813706</td>\n",
       "      <td>552140.73905</td>\n",
       "      <td>36993429.516359</td>\n",
       "      <td>225550150.0</td>\n",
       "      <td>NA</td>\n",
       "      <td>NA</td>\n",
       "      <td>NA</td>\n",
       "      <td>NA</td>\n",
       "      <td>NA</td>\n",
       "    </tr>\n",
       "    <tr>\n",
       "      <th>11</th>\n",
       "      <td>41ed2303f801403788800ef38441faea</td>\n",
       "      <td>NA</td>\n",
       "      <td>1243.956892</td>\n",
       "      <td>1265.051140</td>\n",
       "      <td>225249930.987013</td>\n",
       "      <td>28071.989754</td>\n",
       "      <td>8.0</td>\n",
       "      <td>68.0</td>\n",
       "      <td>188212247.347597</td>\n",
       "      <td>43.193957</td>\n",
       "      <td>...</td>\n",
       "      <td>0.835571</td>\n",
       "      <td>0.816226</td>\n",
       "      <td>544671.818227</td>\n",
       "      <td>37037683.639416</td>\n",
       "      <td>225550150.0</td>\n",
       "      <td>NA</td>\n",
       "      <td>NA</td>\n",
       "      <td>NA</td>\n",
       "      <td>NA</td>\n",
       "      <td>NA</td>\n",
       "    </tr>\n",
       "    <tr>\n",
       "      <th>12</th>\n",
       "      <td>30ef60bf74a04a9e88bca821b78e13af</td>\n",
       "      <td>NA</td>\n",
       "      <td>1244.537761</td>\n",
       "      <td>1263.288204</td>\n",
       "      <td>225249930.987013</td>\n",
       "      <td>27902.062119</td>\n",
       "      <td>7.0</td>\n",
       "      <td>69.0</td>\n",
       "      <td>186949787.052944</td>\n",
       "      <td>48.11446</td>\n",
       "      <td>...</td>\n",
       "      <td>0.829966</td>\n",
       "      <td>0.812716</td>\n",
       "      <td>555074.549769</td>\n",
       "      <td>38300143.934069</td>\n",
       "      <td>225550150.0</td>\n",
       "      <td>NA</td>\n",
       "      <td>NA</td>\n",
       "      <td>NA</td>\n",
       "      <td>NA</td>\n",
       "      <td>NA</td>\n",
       "    </tr>\n",
       "    <tr>\n",
       "      <th>13</th>\n",
       "      <td>0d64634e52fe4bdb9d7c1a8395e0d978</td>\n",
       "      <td>NA</td>\n",
       "      <td>1255.825941</td>\n",
       "      <td>1272.232578</td>\n",
       "      <td>225249930.987013</td>\n",
       "      <td>27685.62574</td>\n",
       "      <td>6.0</td>\n",
       "      <td>70.0</td>\n",
       "      <td>179735592.185613</td>\n",
       "      <td>46.07153</td>\n",
       "      <td>...</td>\n",
       "      <td>0.797939</td>\n",
       "      <td>0.780619</td>\n",
       "      <td>650204.84002</td>\n",
       "      <td>45514338.8014</td>\n",
       "      <td>225550150.0</td>\n",
       "      <td>NA</td>\n",
       "      <td>NA</td>\n",
       "      <td>NA</td>\n",
       "      <td>NA</td>\n",
       "      <td>NA</td>\n",
       "    </tr>\n",
       "    <tr>\n",
       "      <th>14</th>\n",
       "      <td>33f0f4451f82411a8b42e5984431cb0c</td>\n",
       "      <td>NA</td>\n",
       "      <td>1310.723559</td>\n",
       "      <td>1324.786392</td>\n",
       "      <td>225249930.987013</td>\n",
       "      <td>26535.965153</td>\n",
       "      <td>5.0</td>\n",
       "      <td>71.0</td>\n",
       "      <td>129956819.084956</td>\n",
       "      <td>19.365375</td>\n",
       "      <td>...</td>\n",
       "      <td>0.576945</td>\n",
       "      <td>0.547152</td>\n",
       "      <td>1342156.505663</td>\n",
       "      <td>95293111.902057</td>\n",
       "      <td>225550150.0</td>\n",
       "      <td>NA</td>\n",
       "      <td>NA</td>\n",
       "      <td>NA</td>\n",
       "      <td>NA</td>\n",
       "      <td>NA</td>\n",
       "    </tr>\n",
       "    <tr>\n",
       "      <th>15</th>\n",
       "      <td>9093e0bedc8d455082a69ff84cdf0c56</td>\n",
       "      <td>NA</td>\n",
       "      <td>1327.224168</td>\n",
       "      <td>1338.943195</td>\n",
       "      <td>225249930.987013</td>\n",
       "      <td>23535.883045</td>\n",
       "      <td>4.0</td>\n",
       "      <td>72.0</td>\n",
       "      <td>104076215.821626</td>\n",
       "      <td>15.460217</td>\n",
       "      <td>...</td>\n",
       "      <td>0.462048</td>\n",
       "      <td>0.432161</td>\n",
       "      <td>1682968.266186</td>\n",
       "      <td>121173715.165387</td>\n",
       "      <td>225550150.0</td>\n",
       "      <td>NA</td>\n",
       "      <td>NA</td>\n",
       "      <td>NA</td>\n",
       "      <td>NA</td>\n",
       "      <td>NA</td>\n",
       "    </tr>\n",
       "    <tr>\n",
       "      <th>16</th>\n",
       "      <td>f2e874a0a259498b91a8dda3ce2c958d</td>\n",
       "      <td>NA</td>\n",
       "      <td>1328.588679</td>\n",
       "      <td>1337.963901</td>\n",
       "      <td>225249930.987013</td>\n",
       "      <td>21666.632182</td>\n",
       "      <td>3.0</td>\n",
       "      <td>73.0</td>\n",
       "      <td>98664158.621241</td>\n",
       "      <td>18.966017</td>\n",
       "      <td>...</td>\n",
       "      <td>0.438021</td>\n",
       "      <td>0.414926</td>\n",
       "      <td>1734051.676243</td>\n",
       "      <td>126585772.365772</td>\n",
       "      <td>225550150.0</td>\n",
       "      <td>NA</td>\n",
       "      <td>NA</td>\n",
       "      <td>NA</td>\n",
       "      <td>NA</td>\n",
       "      <td>NA</td>\n",
       "    </tr>\n",
       "    <tr>\n",
       "      <th>17</th>\n",
       "      <td>4184aa1011174ff4bb3ea78309b8505d</td>\n",
       "      <td>NA</td>\n",
       "      <td>1331.945377</td>\n",
       "      <td>1338.976793</td>\n",
       "      <td>225249930.987013</td>\n",
       "      <td>17670.608191</td>\n",
       "      <td>2.0</td>\n",
       "      <td>74.0</td>\n",
       "      <td>89544359.179576</td>\n",
       "      <td>24.414188</td>\n",
       "      <td>...</td>\n",
       "      <td>0.397533</td>\n",
       "      <td>0.38125</td>\n",
       "      <td>1833859.078479</td>\n",
       "      <td>135705571.807437</td>\n",
       "      <td>225550150.0</td>\n",
       "      <td>NA</td>\n",
       "      <td>NA</td>\n",
       "      <td>NA</td>\n",
       "      <td>NA</td>\n",
       "      <td>NA</td>\n",
       "    </tr>\n",
       "    <tr>\n",
       "      <th>18</th>\n",
       "      <td>445ae369eec14a408fe168d97826ec12</td>\n",
       "      <td>NA</td>\n",
       "      <td>1353.571630</td>\n",
       "      <td>1358.259241</td>\n",
       "      <td>225249930.987013</td>\n",
       "      <td>15904.455533</td>\n",
       "      <td>1.0</td>\n",
       "      <td>75.0</td>\n",
       "      <td>40810322.663623</td>\n",
       "      <td>16.594994</td>\n",
       "      <td>...</td>\n",
       "      <td>0.181178</td>\n",
       "      <td>0.17026</td>\n",
       "      <td>2459194.777645</td>\n",
       "      <td>184439608.32339</td>\n",
       "      <td>225550150.0</td>\n",
       "      <td>NA</td>\n",
       "      <td>NA</td>\n",
       "      <td>NA</td>\n",
       "      <td>NA</td>\n",
       "      <td>NA</td>\n",
       "    </tr>\n",
       "    <tr>\n",
       "      <th>19</th>\n",
       "      <td>31224a34430b4bfc9fbf4be33a9e5acf</td>\n",
       "      <td>NA</td>\n",
       "      <td>1200.569066</td>\n",
       "      <td>1207.481261</td>\n",
       "      <td>166258383.621622</td>\n",
       "      <td>2.614898</td>\n",
       "      <td>3.0</td>\n",
       "      <td>71.0</td>\n",
       "      <td>121872729.588211</td>\n",
       "      <td>64.945094</td>\n",
       "      <td>...</td>\n",
       "      <td>0.732917</td>\n",
       "      <td>0.721632</td>\n",
       "      <td>625516.738194</td>\n",
       "      <td>44411688.411789</td>\n",
       "      <td>166284418.0</td>\n",
       "      <td>1241.675546</td>\n",
       "      <td>2665488.431511</td>\n",
       "      <td>0.0</td>\n",
       "      <td>1632.632363</td>\n",
       "      <td>0.0</td>\n",
       "    </tr>\n",
       "    <tr>\n",
       "      <th>20</th>\n",
       "      <td>ccdab79e69f64644a636509753b47bcc</td>\n",
       "      <td>NA</td>\n",
       "      <td>1584.835013</td>\n",
       "      <td>1589.834633</td>\n",
       "      <td>334615208.9</td>\n",
       "      <td>105.697069</td>\n",
       "      <td>1.0</td>\n",
       "      <td>88.0</td>\n",
       "      <td>110702669.591015</td>\n",
       "      <td>43.507322</td>\n",
       "      <td>...</td>\n",
       "      <td>0.330836</td>\n",
       "      <td>0.323232</td>\n",
       "      <td>2544460.673966</td>\n",
       "      <td>223912539.308985</td>\n",
       "      <td>2549086581.0</td>\n",
       "      <td>NA</td>\n",
       "      <td>NA</td>\n",
       "      <td>NA</td>\n",
       "      <td>NA</td>\n",
       "      <td>NA</td>\n",
       "    </tr>\n",
       "    <tr>\n",
       "      <th>21</th>\n",
       "      <td>fd126a2edf744210803fab7529e53c6f</td>\n",
       "      <td>NA</td>\n",
       "      <td>1319.729608</td>\n",
       "      <td>1341.390081</td>\n",
       "      <td>231369581.02439</td>\n",
       "      <td>26158.572416</td>\n",
       "      <td>8.0</td>\n",
       "      <td>73.0</td>\n",
       "      <td>193728992.824041</td>\n",
       "      <td>46.96465</td>\n",
       "      <td>...</td>\n",
       "      <td>0.837314</td>\n",
       "      <td>0.819485</td>\n",
       "      <td>515624.495895</td>\n",
       "      <td>37640588.200349</td>\n",
       "      <td>231651494.0</td>\n",
       "      <td>NA</td>\n",
       "      <td>NA</td>\n",
       "      <td>NA</td>\n",
       "      <td>NA</td>\n",
       "      <td>NA</td>\n",
       "    </tr>\n",
       "    <tr>\n",
       "      <th>22</th>\n",
       "      <td>bf8f85432f754329a6e22241ff2e7002</td>\n",
       "      <td>NA</td>\n",
       "      <td>1244.265180</td>\n",
       "      <td>1277.078456</td>\n",
       "      <td>225249930.987013</td>\n",
       "      <td>29319.840747</td>\n",
       "      <td>13.0</td>\n",
       "      <td>63.0</td>\n",
       "      <td>192592595.951007</td>\n",
       "      <td>28.579593</td>\n",
       "      <td>...</td>\n",
       "      <td>0.855017</td>\n",
       "      <td>0.8251</td>\n",
       "      <td>518370.397397</td>\n",
       "      <td>32657335.036006</td>\n",
       "      <td>225550150.0</td>\n",
       "      <td>NA</td>\n",
       "      <td>NA</td>\n",
       "      <td>NA</td>\n",
       "      <td>NA</td>\n",
       "      <td>NA</td>\n",
       "    </tr>\n",
       "    <tr>\n",
       "      <th>23</th>\n",
       "      <td>e6b548b070ac441a8cef4a78b25f6bc9</td>\n",
       "      <td>NA</td>\n",
       "      <td>1251.090002</td>\n",
       "      <td>1281.559472</td>\n",
       "      <td>225249930.987013</td>\n",
       "      <td>29065.390263</td>\n",
       "      <td>12.0</td>\n",
       "      <td>64.0</td>\n",
       "      <td>188626890.679261</td>\n",
       "      <td>27.469322</td>\n",
       "      <td>...</td>\n",
       "      <td>0.837412</td>\n",
       "      <td>0.806926</td>\n",
       "      <td>572235.004809</td>\n",
       "      <td>36623040.307752</td>\n",
       "      <td>225550150.0</td>\n",
       "      <td>NA</td>\n",
       "      <td>NA</td>\n",
       "      <td>NA</td>\n",
       "      <td>NA</td>\n",
       "      <td>NA</td>\n",
       "    </tr>\n",
       "    <tr>\n",
       "      <th>24</th>\n",
       "      <td>c53607def6ea426bae2f8bae7acbbb9e</td>\n",
       "      <td>NA</td>\n",
       "      <td>1249.181658</td>\n",
       "      <td>1277.307323</td>\n",
       "      <td>225249930.987013</td>\n",
       "      <td>28777.381253</td>\n",
       "      <td>11.0</td>\n",
       "      <td>65.0</td>\n",
       "      <td>188583270.897905</td>\n",
       "      <td>30.391524</td>\n",
       "      <td>...</td>\n",
       "      <td>0.837218</td>\n",
       "      <td>0.80967</td>\n",
       "      <td>564102.462909</td>\n",
       "      <td>36666660.089108</td>\n",
       "      <td>225550150.0</td>\n",
       "      <td>NA</td>\n",
       "      <td>NA</td>\n",
       "      <td>NA</td>\n",
       "      <td>NA</td>\n",
       "      <td>NA</td>\n",
       "    </tr>\n",
       "    <tr>\n",
       "      <th>25</th>\n",
       "      <td>0062b2b6cc2d41b7a812567acd3d6ca2</td>\n",
       "      <td>NA</td>\n",
       "      <td>1247.498392</td>\n",
       "      <td>1273.280251</td>\n",
       "      <td>225249930.987013</td>\n",
       "      <td>28579.796848</td>\n",
       "      <td>10.0</td>\n",
       "      <td>66.0</td>\n",
       "      <td>188432134.547205</td>\n",
       "      <td>33.778558</td>\n",
       "      <td>...</td>\n",
       "      <td>0.836547</td>\n",
       "      <td>0.811781</td>\n",
       "      <td>557845.400603</td>\n",
       "      <td>36817796.439808</td>\n",
       "      <td>225550150.0</td>\n",
       "      <td>NA</td>\n",
       "      <td>NA</td>\n",
       "      <td>NA</td>\n",
       "      <td>NA</td>\n",
       "      <td>NA</td>\n",
       "    </tr>\n",
       "    <tr>\n",
       "      <th>26</th>\n",
       "      <td>fd679976952440f09c33f7b2eab86ae9</td>\n",
       "      <td>NA</td>\n",
       "      <td>1245.864834</td>\n",
       "      <td>1269.302888</td>\n",
       "      <td>225249930.987013</td>\n",
       "      <td>28345.569089</td>\n",
       "      <td>9.0</td>\n",
       "      <td>67.0</td>\n",
       "      <td>188256501.470654</td>\n",
       "      <td>37.884162</td>\n",
       "      <td>...</td>\n",
       "      <td>0.835767</td>\n",
       "      <td>0.813706</td>\n",
       "      <td>552140.73905</td>\n",
       "      <td>36993429.516359</td>\n",
       "      <td>225550150.0</td>\n",
       "      <td>NA</td>\n",
       "      <td>NA</td>\n",
       "      <td>NA</td>\n",
       "      <td>NA</td>\n",
       "      <td>NA</td>\n",
       "    </tr>\n",
       "    <tr>\n",
       "      <th>27</th>\n",
       "      <td>9b4cd3283e514b8fb195f34a2071218a</td>\n",
       "      <td>NA</td>\n",
       "      <td>1243.956892</td>\n",
       "      <td>1265.051140</td>\n",
       "      <td>225249930.987013</td>\n",
       "      <td>28071.989754</td>\n",
       "      <td>8.0</td>\n",
       "      <td>68.0</td>\n",
       "      <td>188212247.347597</td>\n",
       "      <td>43.193957</td>\n",
       "      <td>...</td>\n",
       "      <td>0.835571</td>\n",
       "      <td>0.816226</td>\n",
       "      <td>544671.818227</td>\n",
       "      <td>37037683.639416</td>\n",
       "      <td>225550150.0</td>\n",
       "      <td>NA</td>\n",
       "      <td>NA</td>\n",
       "      <td>NA</td>\n",
       "      <td>NA</td>\n",
       "      <td>NA</td>\n",
       "    </tr>\n",
       "    <tr>\n",
       "      <th>28</th>\n",
       "      <td>ec1b368ddfe742aa88ca2b2c797a5cac</td>\n",
       "      <td>NA</td>\n",
       "      <td>1244.537761</td>\n",
       "      <td>1263.288204</td>\n",
       "      <td>225249930.987013</td>\n",
       "      <td>27902.062119</td>\n",
       "      <td>7.0</td>\n",
       "      <td>69.0</td>\n",
       "      <td>186949787.052944</td>\n",
       "      <td>48.11446</td>\n",
       "      <td>...</td>\n",
       "      <td>0.829966</td>\n",
       "      <td>0.812716</td>\n",
       "      <td>555074.549769</td>\n",
       "      <td>38300143.934069</td>\n",
       "      <td>225550150.0</td>\n",
       "      <td>NA</td>\n",
       "      <td>NA</td>\n",
       "      <td>NA</td>\n",
       "      <td>NA</td>\n",
       "      <td>NA</td>\n",
       "    </tr>\n",
       "    <tr>\n",
       "      <th>29</th>\n",
       "      <td>be1902853495482e9c2acfb98fdc0c43</td>\n",
       "      <td>NA</td>\n",
       "      <td>1255.825941</td>\n",
       "      <td>1272.232578</td>\n",
       "      <td>225249930.987013</td>\n",
       "      <td>27685.62574</td>\n",
       "      <td>6.0</td>\n",
       "      <td>70.0</td>\n",
       "      <td>179735592.185613</td>\n",
       "      <td>46.07153</td>\n",
       "      <td>...</td>\n",
       "      <td>0.797939</td>\n",
       "      <td>0.780619</td>\n",
       "      <td>650204.84002</td>\n",
       "      <td>45514338.8014</td>\n",
       "      <td>225550150.0</td>\n",
       "      <td>NA</td>\n",
       "      <td>NA</td>\n",
       "      <td>NA</td>\n",
       "      <td>NA</td>\n",
       "      <td>NA</td>\n",
       "    </tr>\n",
       "    <tr>\n",
       "      <th>30</th>\n",
       "      <td>c0c9bde9a2cf4f06a3c7b8ad37290f26</td>\n",
       "      <td>NA</td>\n",
       "      <td>1310.723559</td>\n",
       "      <td>1324.786392</td>\n",
       "      <td>225249930.987013</td>\n",
       "      <td>26535.965153</td>\n",
       "      <td>5.0</td>\n",
       "      <td>71.0</td>\n",
       "      <td>129956819.084956</td>\n",
       "      <td>19.365375</td>\n",
       "      <td>...</td>\n",
       "      <td>0.576945</td>\n",
       "      <td>0.547152</td>\n",
       "      <td>1342156.505663</td>\n",
       "      <td>95293111.902057</td>\n",
       "      <td>225550150.0</td>\n",
       "      <td>NA</td>\n",
       "      <td>NA</td>\n",
       "      <td>NA</td>\n",
       "      <td>NA</td>\n",
       "      <td>NA</td>\n",
       "    </tr>\n",
       "    <tr>\n",
       "      <th>31</th>\n",
       "      <td>ce0ebf51924c480585635d630208edc9</td>\n",
       "      <td>NA</td>\n",
       "      <td>1327.224168</td>\n",
       "      <td>1338.943195</td>\n",
       "      <td>225249930.987013</td>\n",
       "      <td>23535.883045</td>\n",
       "      <td>4.0</td>\n",
       "      <td>72.0</td>\n",
       "      <td>104076215.821626</td>\n",
       "      <td>15.460217</td>\n",
       "      <td>...</td>\n",
       "      <td>0.462048</td>\n",
       "      <td>0.432161</td>\n",
       "      <td>1682968.266186</td>\n",
       "      <td>121173715.165387</td>\n",
       "      <td>225550150.0</td>\n",
       "      <td>NA</td>\n",
       "      <td>NA</td>\n",
       "      <td>NA</td>\n",
       "      <td>NA</td>\n",
       "      <td>NA</td>\n",
       "    </tr>\n",
       "    <tr>\n",
       "      <th>32</th>\n",
       "      <td>c476a9a5a9034b8bae87b36fa8319205</td>\n",
       "      <td>NA</td>\n",
       "      <td>1328.588679</td>\n",
       "      <td>1337.963901</td>\n",
       "      <td>225249930.987013</td>\n",
       "      <td>21666.632182</td>\n",
       "      <td>3.0</td>\n",
       "      <td>73.0</td>\n",
       "      <td>98664158.621241</td>\n",
       "      <td>18.966017</td>\n",
       "      <td>...</td>\n",
       "      <td>0.438021</td>\n",
       "      <td>0.414926</td>\n",
       "      <td>1734051.676243</td>\n",
       "      <td>126585772.365772</td>\n",
       "      <td>225550150.0</td>\n",
       "      <td>NA</td>\n",
       "      <td>NA</td>\n",
       "      <td>NA</td>\n",
       "      <td>NA</td>\n",
       "      <td>NA</td>\n",
       "    </tr>\n",
       "    <tr>\n",
       "      <th>33</th>\n",
       "      <td>5f8015a3db4b4baa91bd1389af02b06c</td>\n",
       "      <td>NA</td>\n",
       "      <td>1331.945377</td>\n",
       "      <td>1338.976793</td>\n",
       "      <td>225249930.987013</td>\n",
       "      <td>17670.608191</td>\n",
       "      <td>2.0</td>\n",
       "      <td>74.0</td>\n",
       "      <td>89544359.179576</td>\n",
       "      <td>24.414188</td>\n",
       "      <td>...</td>\n",
       "      <td>0.397533</td>\n",
       "      <td>0.38125</td>\n",
       "      <td>1833859.078479</td>\n",
       "      <td>135705571.807437</td>\n",
       "      <td>225550150.0</td>\n",
       "      <td>NA</td>\n",
       "      <td>NA</td>\n",
       "      <td>NA</td>\n",
       "      <td>NA</td>\n",
       "      <td>NA</td>\n",
       "    </tr>\n",
       "    <tr>\n",
       "      <th>34</th>\n",
       "      <td>9852b869e31f4eff9fa4a02862ce7289</td>\n",
       "      <td>NA</td>\n",
       "      <td>1353.571630</td>\n",
       "      <td>1358.259241</td>\n",
       "      <td>225249930.987013</td>\n",
       "      <td>15904.455533</td>\n",
       "      <td>1.0</td>\n",
       "      <td>75.0</td>\n",
       "      <td>40810322.663623</td>\n",
       "      <td>16.594994</td>\n",
       "      <td>...</td>\n",
       "      <td>0.181178</td>\n",
       "      <td>0.17026</td>\n",
       "      <td>2459194.777645</td>\n",
       "      <td>184439608.32339</td>\n",
       "      <td>225550150.0</td>\n",
       "      <td>NA</td>\n",
       "      <td>NA</td>\n",
       "      <td>NA</td>\n",
       "      <td>NA</td>\n",
       "      <td>NA</td>\n",
       "    </tr>\n",
       "  </tbody>\n",
       "</table>\n",
       "<p>35 rows × 25 columns</p>\n",
       "</div>"
      ],
      "text/plain": [
       "                              Run ID Model Name          aic          bic  \\\n",
       "0   23ddb3d9a5664e95aefbad471848ff04         NA  1022.437956  1027.151374   \n",
       "1   ab1ae28319f34c27aaf965bd9e690af9         NA  1022.437956  1027.151374   \n",
       "2   2277b92f1c294c61b0b9b8f9d49f8744         NA  1022.437956  1027.151374   \n",
       "3   ecb9342004dd4fb28b0cb06c510a887b         NA  1022.437956  1027.151374   \n",
       "4   918ab134e35e49858d5d736645293278         NA  1584.835013  1589.834633   \n",
       "5   2081bde40e5b4dfdab69633c5e201c88         NA  1319.729608  1341.390081   \n",
       "6   3fb19747eb62434dbf3f992885369726         NA  1244.265180  1277.078456   \n",
       "7   73e59fc1ec46405aad1c457f4db10e53         NA  1251.090002  1281.559472   \n",
       "8   dcc185933bc946299fcde56560e1d484         NA  1249.181658  1277.307323   \n",
       "9   6c61e821af644b01b29c06f50070908e         NA  1247.498392  1273.280251   \n",
       "10  f8d8b7b6afb84628a722a025046ac631         NA  1245.864834  1269.302888   \n",
       "11  41ed2303f801403788800ef38441faea         NA  1243.956892  1265.051140   \n",
       "12  30ef60bf74a04a9e88bca821b78e13af         NA  1244.537761  1263.288204   \n",
       "13  0d64634e52fe4bdb9d7c1a8395e0d978         NA  1255.825941  1272.232578   \n",
       "14  33f0f4451f82411a8b42e5984431cb0c         NA  1310.723559  1324.786392   \n",
       "15  9093e0bedc8d455082a69ff84cdf0c56         NA  1327.224168  1338.943195   \n",
       "16  f2e874a0a259498b91a8dda3ce2c958d         NA  1328.588679  1337.963901   \n",
       "17  4184aa1011174ff4bb3ea78309b8505d         NA  1331.945377  1338.976793   \n",
       "18  445ae369eec14a408fe168d97826ec12         NA  1353.571630  1358.259241   \n",
       "19  31224a34430b4bfc9fbf4be33a9e5acf         NA  1200.569066  1207.481261   \n",
       "20  ccdab79e69f64644a636509753b47bcc         NA  1584.835013  1589.834633   \n",
       "21  fd126a2edf744210803fab7529e53c6f         NA  1319.729608  1341.390081   \n",
       "22  bf8f85432f754329a6e22241ff2e7002         NA  1244.265180  1277.078456   \n",
       "23  e6b548b070ac441a8cef4a78b25f6bc9         NA  1251.090002  1281.559472   \n",
       "24  c53607def6ea426bae2f8bae7acbbb9e         NA  1249.181658  1277.307323   \n",
       "25  0062b2b6cc2d41b7a812567acd3d6ca2         NA  1247.498392  1273.280251   \n",
       "26  fd679976952440f09c33f7b2eab86ae9         NA  1245.864834  1269.302888   \n",
       "27  9b4cd3283e514b8fb195f34a2071218a         NA  1243.956892  1265.051140   \n",
       "28  ec1b368ddfe742aa88ca2b2c797a5cac         NA  1244.537761  1263.288204   \n",
       "29  be1902853495482e9c2acfb98fdc0c43         NA  1255.825941  1272.232578   \n",
       "30  c0c9bde9a2cf4f06a3c7b8ad37290f26         NA  1310.723559  1324.786392   \n",
       "31  ce0ebf51924c480585635d630208edc9         NA  1327.224168  1338.943195   \n",
       "32  c476a9a5a9034b8bae87b36fa8319205         NA  1328.588679  1337.963901   \n",
       "33  5f8015a3db4b4baa91bd1389af02b06c         NA  1331.945377  1338.976793   \n",
       "34  9852b869e31f4eff9fa4a02862ce7289         NA  1353.571630  1358.259241   \n",
       "\n",
       "        centered_tss condition_number df_model df_resid               ess  \\\n",
       "0                 NA               NA       NA       NA                NA   \n",
       "1                 NA               NA       NA       NA                NA   \n",
       "2                 NA               NA       NA       NA                NA   \n",
       "3                 NA               NA       NA       NA                NA   \n",
       "4        334615208.9       105.697069      1.0     88.0  110702669.591015   \n",
       "5    231369581.02439     26158.572416      8.0     73.0  193728992.824041   \n",
       "6   225249930.987013     29319.840747     13.0     63.0  192592595.951007   \n",
       "7   225249930.987013     29065.390263     12.0     64.0  188626890.679261   \n",
       "8   225249930.987013     28777.381253     11.0     65.0  188583270.897905   \n",
       "9   225249930.987013     28579.796848     10.0     66.0  188432134.547205   \n",
       "10  225249930.987013     28345.569089      9.0     67.0  188256501.470654   \n",
       "11  225249930.987013     28071.989754      8.0     68.0  188212247.347597   \n",
       "12  225249930.987013     27902.062119      7.0     69.0  186949787.052944   \n",
       "13  225249930.987013      27685.62574      6.0     70.0  179735592.185613   \n",
       "14  225249930.987013     26535.965153      5.0     71.0  129956819.084956   \n",
       "15  225249930.987013     23535.883045      4.0     72.0  104076215.821626   \n",
       "16  225249930.987013     21666.632182      3.0     73.0   98664158.621241   \n",
       "17  225249930.987013     17670.608191      2.0     74.0   89544359.179576   \n",
       "18  225249930.987013     15904.455533      1.0     75.0   40810322.663623   \n",
       "19  166258383.621622         2.614898      3.0     71.0  121872729.588211   \n",
       "20       334615208.9       105.697069      1.0     88.0  110702669.591015   \n",
       "21   231369581.02439     26158.572416      8.0     73.0  193728992.824041   \n",
       "22  225249930.987013     29319.840747     13.0     63.0  192592595.951007   \n",
       "23  225249930.987013     29065.390263     12.0     64.0  188626890.679261   \n",
       "24  225249930.987013     28777.381253     11.0     65.0  188583270.897905   \n",
       "25  225249930.987013     28579.796848     10.0     66.0  188432134.547205   \n",
       "26  225249930.987013     28345.569089      9.0     67.0  188256501.470654   \n",
       "27  225249930.987013     28071.989754      8.0     68.0  188212247.347597   \n",
       "28  225249930.987013     27902.062119      7.0     69.0  186949787.052944   \n",
       "29  225249930.987013      27685.62574      6.0     70.0  179735592.185613   \n",
       "30  225249930.987013     26535.965153      5.0     71.0  129956819.084956   \n",
       "31  225249930.987013     23535.883045      4.0     72.0  104076215.821626   \n",
       "32  225249930.987013     21666.632182      3.0     73.0   98664158.621241   \n",
       "33  225249930.987013     17670.608191      2.0     74.0   89544359.179576   \n",
       "34  225249930.987013     15904.455533      1.0     75.0   40810322.663623   \n",
       "\n",
       "       fvalue  ...  rsquared rsquared_adj           scale               ssr  \\\n",
       "0          NA  ...        NA           NA              NA                NA   \n",
       "1          NA  ...        NA           NA              NA                NA   \n",
       "2          NA  ...        NA           NA              NA                NA   \n",
       "3          NA  ...        NA           NA              NA                NA   \n",
       "4   43.507322  ...  0.330836     0.323232  2544460.673966  223912539.308985   \n",
       "5    46.96465  ...  0.837314     0.819485   515624.495895   37640588.200349   \n",
       "6   28.579593  ...  0.855017       0.8251   518370.397397   32657335.036006   \n",
       "7   27.469322  ...  0.837412     0.806926   572235.004809   36623040.307752   \n",
       "8   30.391524  ...  0.837218      0.80967   564102.462909   36666660.089108   \n",
       "9   33.778558  ...  0.836547     0.811781   557845.400603   36817796.439808   \n",
       "10  37.884162  ...  0.835767     0.813706    552140.73905   36993429.516359   \n",
       "11  43.193957  ...  0.835571     0.816226   544671.818227   37037683.639416   \n",
       "12   48.11446  ...  0.829966     0.812716   555074.549769   38300143.934069   \n",
       "13   46.07153  ...  0.797939     0.780619    650204.84002     45514338.8014   \n",
       "14  19.365375  ...  0.576945     0.547152  1342156.505663   95293111.902057   \n",
       "15  15.460217  ...  0.462048     0.432161  1682968.266186  121173715.165387   \n",
       "16  18.966017  ...  0.438021     0.414926  1734051.676243  126585772.365772   \n",
       "17  24.414188  ...  0.397533      0.38125  1833859.078479  135705571.807437   \n",
       "18  16.594994  ...  0.181178      0.17026  2459194.777645   184439608.32339   \n",
       "19  64.945094  ...  0.732917     0.721632   625516.738194   44411688.411789   \n",
       "20  43.507322  ...  0.330836     0.323232  2544460.673966  223912539.308985   \n",
       "21   46.96465  ...  0.837314     0.819485   515624.495895   37640588.200349   \n",
       "22  28.579593  ...  0.855017       0.8251   518370.397397   32657335.036006   \n",
       "23  27.469322  ...  0.837412     0.806926   572235.004809   36623040.307752   \n",
       "24  30.391524  ...  0.837218      0.80967   564102.462909   36666660.089108   \n",
       "25  33.778558  ...  0.836547     0.811781   557845.400603   36817796.439808   \n",
       "26  37.884162  ...  0.835767     0.813706    552140.73905   36993429.516359   \n",
       "27  43.193957  ...  0.835571     0.816226   544671.818227   37037683.639416   \n",
       "28   48.11446  ...  0.829966     0.812716   555074.549769   38300143.934069   \n",
       "29   46.07153  ...  0.797939     0.780619    650204.84002     45514338.8014   \n",
       "30  19.365375  ...  0.576945     0.547152  1342156.505663   95293111.902057   \n",
       "31  15.460217  ...  0.462048     0.432161  1682968.266186  121173715.165387   \n",
       "32  18.966017  ...  0.438021     0.414926  1734051.676243  126585772.365772   \n",
       "33  24.414188  ...  0.397533      0.38125  1833859.078479  135705571.807437   \n",
       "34  16.594994  ...  0.181178      0.17026  2459194.777645   184439608.32339   \n",
       "\n",
       "   uncentered_tss training_mean_absolute_error training_mean_squared_error  \\\n",
       "0              NA                           NA                          NA   \n",
       "1              NA                           NA                          NA   \n",
       "2              NA                           NA                          NA   \n",
       "3              NA                           NA                          NA   \n",
       "4    2549086581.0                           NA                          NA   \n",
       "5     231651494.0                           NA                          NA   \n",
       "6     225550150.0                           NA                          NA   \n",
       "7     225550150.0                           NA                          NA   \n",
       "8     225550150.0                           NA                          NA   \n",
       "9     225550150.0                           NA                          NA   \n",
       "10    225550150.0                           NA                          NA   \n",
       "11    225550150.0                           NA                          NA   \n",
       "12    225550150.0                           NA                          NA   \n",
       "13    225550150.0                           NA                          NA   \n",
       "14    225550150.0                           NA                          NA   \n",
       "15    225550150.0                           NA                          NA   \n",
       "16    225550150.0                           NA                          NA   \n",
       "17    225550150.0                           NA                          NA   \n",
       "18    225550150.0                           NA                          NA   \n",
       "19    166284418.0                  1241.675546              2665488.431511   \n",
       "20   2549086581.0                           NA                          NA   \n",
       "21    231651494.0                           NA                          NA   \n",
       "22    225550150.0                           NA                          NA   \n",
       "23    225550150.0                           NA                          NA   \n",
       "24    225550150.0                           NA                          NA   \n",
       "25    225550150.0                           NA                          NA   \n",
       "26    225550150.0                           NA                          NA   \n",
       "27    225550150.0                           NA                          NA   \n",
       "28    225550150.0                           NA                          NA   \n",
       "29    225550150.0                           NA                          NA   \n",
       "30    225550150.0                           NA                          NA   \n",
       "31    225550150.0                           NA                          NA   \n",
       "32    225550150.0                           NA                          NA   \n",
       "33    225550150.0                           NA                          NA   \n",
       "34    225550150.0                           NA                          NA   \n",
       "\n",
       "   training_r2_score training_root_mean_squared_error training_score  \n",
       "0                 NA                               NA             NA  \n",
       "1                 NA                               NA             NA  \n",
       "2                 NA                               NA             NA  \n",
       "3                 NA                               NA             NA  \n",
       "4                 NA                               NA             NA  \n",
       "5                 NA                               NA             NA  \n",
       "6                 NA                               NA             NA  \n",
       "7                 NA                               NA             NA  \n",
       "8                 NA                               NA             NA  \n",
       "9                 NA                               NA             NA  \n",
       "10                NA                               NA             NA  \n",
       "11                NA                               NA             NA  \n",
       "12                NA                               NA             NA  \n",
       "13                NA                               NA             NA  \n",
       "14                NA                               NA             NA  \n",
       "15                NA                               NA             NA  \n",
       "16                NA                               NA             NA  \n",
       "17                NA                               NA             NA  \n",
       "18                NA                               NA             NA  \n",
       "19               0.0                      1632.632363            0.0  \n",
       "20                NA                               NA             NA  \n",
       "21                NA                               NA             NA  \n",
       "22                NA                               NA             NA  \n",
       "23                NA                               NA             NA  \n",
       "24                NA                               NA             NA  \n",
       "25                NA                               NA             NA  \n",
       "26                NA                               NA             NA  \n",
       "27                NA                               NA             NA  \n",
       "28                NA                               NA             NA  \n",
       "29                NA                               NA             NA  \n",
       "30                NA                               NA             NA  \n",
       "31                NA                               NA             NA  \n",
       "32                NA                               NA             NA  \n",
       "33                NA                               NA             NA  \n",
       "34                NA                               NA             NA  \n",
       "\n",
       "[35 rows x 25 columns]"
      ]
     },
     "metadata": {},
     "output_type": "display_data"
    }
   ],
   "source": [
    "import pandas as pd\n",
    "import mlflow.tracking\n",
    "\n",
    "# Replace with your experiment ID\n",
    "experiment_id = \"257795701779964022\"\n",
    "\n",
    "# Get all runs within the experiment\n",
    "client = mlflow.tracking.MlflowClient()\n",
    "runs = client.search_runs(experiment_ids=experiment_id)\n",
    "# Create an empty dataframe\n",
    "df_runs = pd.DataFrame(columns=[\"Run ID\", \"Model Name\"])\n",
    "\n",
    "# Iterate through each run and extract model name and metrics\n",
    "for run in runs:\n",
    "    run_data = client.get_run(run.info.run_id)\n",
    "    model_name = run_data.data.params.get(\"model_name\")  # Assuming \"model_name\" is logged as a parameter\n",
    "    metrics = run_data.data.metrics  # Capture all logged metrics\n",
    "\n",
    "    # Append the run data to the dataframe\n",
    "    row_data = {\"Run ID\": run.info.run_id, \"Model Name\": model_name}\n",
    "    for metric_name, metric_value in metrics.items():\n",
    "        row_data[metric_name] = metric_value\n",
    "        \n",
    "    df_runs = df_runs.append(row_data, ignore_index=True)\n",
    "\n",
    "# Replace missing metric values with \"NA\"\n",
    "df_runs = df_runs.fillna(\"NA\")\n",
    "\n",
    "# Print the dataframe\n",
    "display(df_runs)\n"
   ]
  },
  {
   "cell_type": "markdown",
   "metadata": {},
   "source": [
    "## Model registration"
   ]
  },
  {
   "cell_type": "markdown",
   "metadata": {},
   "source": [
    "- (**) Fetching top 12 models"
   ]
  },
  {
   "cell_type": "code",
   "execution_count": 60,
   "metadata": {},
   "outputs": [
    {
     "data": {
      "text/html": [
       "<div>\n",
       "<style scoped>\n",
       "    .dataframe tbody tr th:only-of-type {\n",
       "        vertical-align: middle;\n",
       "    }\n",
       "\n",
       "    .dataframe tbody tr th {\n",
       "        vertical-align: top;\n",
       "    }\n",
       "\n",
       "    .dataframe thead th {\n",
       "        text-align: right;\n",
       "    }\n",
       "</style>\n",
       "<table border=\"1\" class=\"dataframe\">\n",
       "  <thead>\n",
       "    <tr style=\"text-align: right;\">\n",
       "      <th></th>\n",
       "      <th>run_id</th>\n",
       "      <th>artifact_uri</th>\n",
       "      <th>metrics.aic</th>\n",
       "      <th>metrics.bic</th>\n",
       "      <th>metrics.rsquared</th>\n",
       "    </tr>\n",
       "  </thead>\n",
       "  <tbody>\n",
       "    <tr>\n",
       "      <th>0</th>\n",
       "      <td>3fb19747eb62434dbf3f992885369726</td>\n",
       "      <td>file:///c:/Users/zeesh/OneDrive%20-%20ORMAE/Do...</td>\n",
       "      <td>1244.265180</td>\n",
       "      <td>1277.078456</td>\n",
       "      <td>0.855017</td>\n",
       "    </tr>\n",
       "    <tr>\n",
       "      <th>1</th>\n",
       "      <td>bf8f85432f754329a6e22241ff2e7002</td>\n",
       "      <td>file:///c:/Users/zeesh/OneDrive%20-%20ORMAE/Do...</td>\n",
       "      <td>1244.265180</td>\n",
       "      <td>1277.078456</td>\n",
       "      <td>0.855017</td>\n",
       "    </tr>\n",
       "    <tr>\n",
       "      <th>2</th>\n",
       "      <td>73e59fc1ec46405aad1c457f4db10e53</td>\n",
       "      <td>file:///c:/Users/zeesh/OneDrive%20-%20ORMAE/Do...</td>\n",
       "      <td>1251.090002</td>\n",
       "      <td>1281.559472</td>\n",
       "      <td>0.837412</td>\n",
       "    </tr>\n",
       "    <tr>\n",
       "      <th>3</th>\n",
       "      <td>e6b548b070ac441a8cef4a78b25f6bc9</td>\n",
       "      <td>file:///c:/Users/zeesh/OneDrive%20-%20ORMAE/Do...</td>\n",
       "      <td>1251.090002</td>\n",
       "      <td>1281.559472</td>\n",
       "      <td>0.837412</td>\n",
       "    </tr>\n",
       "    <tr>\n",
       "      <th>4</th>\n",
       "      <td>2081bde40e5b4dfdab69633c5e201c88</td>\n",
       "      <td>file:///c:/Users/zeesh/OneDrive%20-%20ORMAE/Do...</td>\n",
       "      <td>1319.729608</td>\n",
       "      <td>1341.390081</td>\n",
       "      <td>0.837314</td>\n",
       "    </tr>\n",
       "    <tr>\n",
       "      <th>5</th>\n",
       "      <td>fd126a2edf744210803fab7529e53c6f</td>\n",
       "      <td>file:///c:/Users/zeesh/OneDrive%20-%20ORMAE/Do...</td>\n",
       "      <td>1319.729608</td>\n",
       "      <td>1341.390081</td>\n",
       "      <td>0.837314</td>\n",
       "    </tr>\n",
       "    <tr>\n",
       "      <th>6</th>\n",
       "      <td>dcc185933bc946299fcde56560e1d484</td>\n",
       "      <td>file:///c:/Users/zeesh/OneDrive%20-%20ORMAE/Do...</td>\n",
       "      <td>1249.181658</td>\n",
       "      <td>1277.307323</td>\n",
       "      <td>0.837218</td>\n",
       "    </tr>\n",
       "    <tr>\n",
       "      <th>7</th>\n",
       "      <td>c53607def6ea426bae2f8bae7acbbb9e</td>\n",
       "      <td>file:///c:/Users/zeesh/OneDrive%20-%20ORMAE/Do...</td>\n",
       "      <td>1249.181658</td>\n",
       "      <td>1277.307323</td>\n",
       "      <td>0.837218</td>\n",
       "    </tr>\n",
       "    <tr>\n",
       "      <th>8</th>\n",
       "      <td>6c61e821af644b01b29c06f50070908e</td>\n",
       "      <td>file:///c:/Users/zeesh/OneDrive%20-%20ORMAE/Do...</td>\n",
       "      <td>1247.498392</td>\n",
       "      <td>1273.280251</td>\n",
       "      <td>0.836547</td>\n",
       "    </tr>\n",
       "    <tr>\n",
       "      <th>9</th>\n",
       "      <td>0062b2b6cc2d41b7a812567acd3d6ca2</td>\n",
       "      <td>file:///c:/Users/zeesh/OneDrive%20-%20ORMAE/Do...</td>\n",
       "      <td>1247.498392</td>\n",
       "      <td>1273.280251</td>\n",
       "      <td>0.836547</td>\n",
       "    </tr>\n",
       "    <tr>\n",
       "      <th>10</th>\n",
       "      <td>f8d8b7b6afb84628a722a025046ac631</td>\n",
       "      <td>file:///c:/Users/zeesh/OneDrive%20-%20ORMAE/Do...</td>\n",
       "      <td>1245.864834</td>\n",
       "      <td>1269.302888</td>\n",
       "      <td>0.835767</td>\n",
       "    </tr>\n",
       "    <tr>\n",
       "      <th>11</th>\n",
       "      <td>fd679976952440f09c33f7b2eab86ae9</td>\n",
       "      <td>file:///c:/Users/zeesh/OneDrive%20-%20ORMAE/Do...</td>\n",
       "      <td>1245.864834</td>\n",
       "      <td>1269.302888</td>\n",
       "      <td>0.835767</td>\n",
       "    </tr>\n",
       "  </tbody>\n",
       "</table>\n",
       "</div>"
      ],
      "text/plain": [
       "                              run_id  \\\n",
       "0   3fb19747eb62434dbf3f992885369726   \n",
       "1   bf8f85432f754329a6e22241ff2e7002   \n",
       "2   73e59fc1ec46405aad1c457f4db10e53   \n",
       "3   e6b548b070ac441a8cef4a78b25f6bc9   \n",
       "4   2081bde40e5b4dfdab69633c5e201c88   \n",
       "5   fd126a2edf744210803fab7529e53c6f   \n",
       "6   dcc185933bc946299fcde56560e1d484   \n",
       "7   c53607def6ea426bae2f8bae7acbbb9e   \n",
       "8   6c61e821af644b01b29c06f50070908e   \n",
       "9   0062b2b6cc2d41b7a812567acd3d6ca2   \n",
       "10  f8d8b7b6afb84628a722a025046ac631   \n",
       "11  fd679976952440f09c33f7b2eab86ae9   \n",
       "\n",
       "                                         artifact_uri  metrics.aic  \\\n",
       "0   file:///c:/Users/zeesh/OneDrive%20-%20ORMAE/Do...  1244.265180   \n",
       "1   file:///c:/Users/zeesh/OneDrive%20-%20ORMAE/Do...  1244.265180   \n",
       "2   file:///c:/Users/zeesh/OneDrive%20-%20ORMAE/Do...  1251.090002   \n",
       "3   file:///c:/Users/zeesh/OneDrive%20-%20ORMAE/Do...  1251.090002   \n",
       "4   file:///c:/Users/zeesh/OneDrive%20-%20ORMAE/Do...  1319.729608   \n",
       "5   file:///c:/Users/zeesh/OneDrive%20-%20ORMAE/Do...  1319.729608   \n",
       "6   file:///c:/Users/zeesh/OneDrive%20-%20ORMAE/Do...  1249.181658   \n",
       "7   file:///c:/Users/zeesh/OneDrive%20-%20ORMAE/Do...  1249.181658   \n",
       "8   file:///c:/Users/zeesh/OneDrive%20-%20ORMAE/Do...  1247.498392   \n",
       "9   file:///c:/Users/zeesh/OneDrive%20-%20ORMAE/Do...  1247.498392   \n",
       "10  file:///c:/Users/zeesh/OneDrive%20-%20ORMAE/Do...  1245.864834   \n",
       "11  file:///c:/Users/zeesh/OneDrive%20-%20ORMAE/Do...  1245.864834   \n",
       "\n",
       "    metrics.bic  metrics.rsquared  \n",
       "0   1277.078456          0.855017  \n",
       "1   1277.078456          0.855017  \n",
       "2   1281.559472          0.837412  \n",
       "3   1281.559472          0.837412  \n",
       "4   1341.390081          0.837314  \n",
       "5   1341.390081          0.837314  \n",
       "6   1277.307323          0.837218  \n",
       "7   1277.307323          0.837218  \n",
       "8   1273.280251          0.836547  \n",
       "9   1273.280251          0.836547  \n",
       "10  1269.302888          0.835767  \n",
       "11  1269.302888          0.835767  "
      ]
     },
     "execution_count": 60,
     "metadata": {},
     "output_type": "execute_result"
    }
   ],
   "source": [
    "import mlflow\n",
    "\n",
    "# Replace with your experiment ID\n",
    "experiment_id = \"257795701779964022\"\n",
    "\n",
    "# Specify the metric to evaluate the best run\n",
    "metric_r2 = \"rsquared\"\n",
    "\n",
    "# Fetch the best run based on the given metric\n",
    "top_12_best_run = mlflow.search_runs(\n",
    "    experiment_ids=experiment_id,\n",
    "    order_by=[f\"metric.{metric_r2} DESC\"],\n",
    "    max_results=12\n",
    ")\n",
    "top_12_best_run[['run_id','artifact_uri','metrics.aic','metrics.bic','metrics.rsquared']]"
   ]
  },
  {
   "cell_type": "markdown",
   "metadata": {},
   "source": [
    "- ### (a) Getting top 1 best model run_id"
   ]
  },
  {
   "cell_type": "code",
   "execution_count": 46,
   "metadata": {},
   "outputs": [
    {
     "data": {
      "text/plain": [
       "run_id                                            3fb19747eb62434dbf3f992885369726\n",
       "experiment_id                                                   257795701779964022\n",
       "status                                                                    FINISHED\n",
       "artifact_uri                     file:///c:/Users/zeesh/OneDrive%20-%20ORMAE/Do...\n",
       "start_time                                        2024-03-07 09:38:43.033000+00:00\n",
       "end_time                                          2024-03-07 09:38:51.335000+00:00\n",
       "metrics.mse_model                                                  14814815.073154\n",
       "metrics.f_pvalue                                                               0.0\n",
       "metrics.condition_number                                              29319.840747\n",
       "metrics.bic                                                            1277.078456\n",
       "metrics.centered_tss                                              225249930.987013\n",
       "metrics.llf                                                             -608.13259\n",
       "metrics.mse_total                                                   2963814.881408\n",
       "metrics.mse_resid                                                    518370.397397\n",
       "metrics.aic                                                             1244.26518\n",
       "metrics.ssr                                                        32657335.036006\n",
       "metrics.df_resid                                                              63.0\n",
       "metrics.scale                                                        518370.397397\n",
       "metrics.ess                                                       192592595.951007\n",
       "metrics.fvalue                                                           28.579593\n",
       "metrics.uncentered_tss                                                 225550150.0\n",
       "metrics.rsquared_adj                                                        0.8251\n",
       "metrics.rsquared                                                          0.855017\n",
       "metrics.df_model                                                              13.0\n",
       "params.kwargs                                             <class 'inspect._empty'>\n",
       "params.cov_kwds                                                               None\n",
       "params.cov_type                                                          nonrobust\n",
       "params.use_t                                                                  None\n",
       "params.method                                                                 pinv\n",
       "tags.mlflow.log-model.history    [{\"run_id\": \"3fb19747eb62434dbf3f992885369726\"...\n",
       "tags.mlflow.source.type                                                      LOCAL\n",
       "tags.mlflow.source.name          c:\\Users\\zeesh\\anaconda3\\envs\\forecasting_env\\...\n",
       "tags.mlflow.runName                                               painted-swan-477\n",
       "tags.mlflow.user                                                             zeesh\n",
       "tags.mlflow.autologging                                                statsmodels\n",
       "Name: 0, dtype: object"
      ]
     },
     "execution_count": 46,
     "metadata": {},
     "output_type": "execute_result"
    }
   ],
   "source": [
    "import mlflow\n",
    "\n",
    "# Replace with your experiment ID\n",
    "experiment_id = \"257795701779964022\"\n",
    "\n",
    "# Specify the metric to evaluate the best run\n",
    "metric = \"rsquared\"\n",
    "\n",
    "# Fetch the best run based on the given metric\n",
    "best_run = mlflow.search_runs(\n",
    "    experiment_ids=experiment_id,\n",
    "    order_by=[f\"metric.{metric} DESC\"],\n",
    "    max_results=1\n",
    ").iloc[0]\n",
    "best_run"
   ]
  },
  {
   "cell_type": "code",
   "execution_count": 47,
   "metadata": {},
   "outputs": [
    {
     "data": {
      "text/plain": [
       "'3fb19747eb62434dbf3f992885369726'"
      ]
     },
     "execution_count": 47,
     "metadata": {},
     "output_type": "execute_result"
    }
   ],
   "source": [
    "run_id=best_run.run_id\n",
    "run_id"
   ]
  },
  {
   "cell_type": "markdown",
   "metadata": {},
   "source": [
    "- ### (b) Registrattion model"
   ]
  },
  {
   "cell_type": "code",
   "execution_count": null,
   "metadata": {},
   "outputs": [],
   "source": [
    "# model_name='PyCaret_model'\n",
    "# model_path=best_run.artifact_uri\n",
    "# mlflow.register_model(f\"{model_path}/model\",model_name)\n",
    "# time.sleep(15)"
   ]
  },
  {
   "cell_type": "markdown",
   "metadata": {},
   "source": [
    "- ### (c) Changing stage to production"
   ]
  },
  {
   "cell_type": "code",
   "execution_count": null,
   "metadata": {},
   "outputs": [],
   "source": [
    "# from mlflow.tracking import MlflowClient\n",
    "\n",
    "# model_version = 1  # replace with the actual model version\n",
    "# client = MlflowClient()\n",
    "# client.transition_model_version_stage(\n",
    "#     name=model_name,\n",
    "#     version=model_version,\n",
    "#     stage=\"Production\"\n",
    "# )"
   ]
  },
  {
   "cell_type": "markdown",
   "metadata": {},
   "source": [
    "# Testing the best Model saved in Artifacts folder in MLflow"
   ]
  },
  {
   "cell_type": "code",
   "execution_count": null,
   "metadata": {},
   "outputs": [],
   "source": [
    "import mlflow\n",
    "from pycaret.datasets import get_data\n",
    "#...data preparation and setup\n",
    "model_name='PyCaret_model'\n",
    "test_set = get_data('pycaret_downloads')\n",
    "test_set['Date'] = pd.to_datetime(test_set['Date'])\n",
    "test_set.drop('Total', axis=1, inplace=True)\n",
    "\n",
    "logged_model = 'runs:/xx/model'\n",
    "\n",
    "# Load model as a PyFuncModel.\n",
    "loaded_model = mlflow.pyfunc.load_model(logged_model)\n",
    "\n",
    "# Predict on a Pandas DataFrame.\n",
    "import pandas as pd\n",
    "loaded_model.predict(test_set)"
   ]
  },
  {
   "cell_type": "code",
   "execution_count": 45,
   "metadata": {},
   "outputs": [
    {
     "data": {
      "text/html": [
       "<div>\n",
       "<style scoped>\n",
       "    .dataframe tbody tr th:only-of-type {\n",
       "        vertical-align: middle;\n",
       "    }\n",
       "\n",
       "    .dataframe tbody tr th {\n",
       "        vertical-align: top;\n",
       "    }\n",
       "\n",
       "    .dataframe thead th {\n",
       "        text-align: right;\n",
       "    }\n",
       "</style>\n",
       "<table border=\"1\" class=\"dataframe\">\n",
       "  <thead>\n",
       "    <tr style=\"text-align: right;\">\n",
       "      <th></th>\n",
       "      <th>Date</th>\n",
       "      <th>Total</th>\n",
       "    </tr>\n",
       "  </thead>\n",
       "  <tbody>\n",
       "    <tr>\n",
       "      <th>0</th>\n",
       "      <td>7/8/2021</td>\n",
       "      <td>3773</td>\n",
       "    </tr>\n",
       "    <tr>\n",
       "      <th>1</th>\n",
       "      <td>7/9/2021</td>\n",
       "      <td>3172</td>\n",
       "    </tr>\n",
       "    <tr>\n",
       "      <th>2</th>\n",
       "      <td>7/10/2021</td>\n",
       "      <td>2079</td>\n",
       "    </tr>\n",
       "    <tr>\n",
       "      <th>3</th>\n",
       "      <td>7/11/2021</td>\n",
       "      <td>2725</td>\n",
       "    </tr>\n",
       "    <tr>\n",
       "      <th>4</th>\n",
       "      <td>7/12/2021</td>\n",
       "      <td>4542</td>\n",
       "    </tr>\n",
       "  </tbody>\n",
       "</table>\n",
       "</div>"
      ],
      "text/plain": [
       "        Date  Total\n",
       "0   7/8/2021   3773\n",
       "1   7/9/2021   3172\n",
       "2  7/10/2021   2079\n",
       "3  7/11/2021   2725\n",
       "4  7/12/2021   4542"
      ]
     },
     "metadata": {},
     "output_type": "display_data"
    },
    {
     "data": {
      "text/plain": [
       "array([57.29213483, 57.29213483, 57.29213483, 57.29213483, 57.29213483,\n",
       "       57.29213483, 57.29213483, 57.29213483, 57.29213483, 57.29213483,\n",
       "       57.29213483, 57.29213483, 57.29213483, 57.29213483, 57.29213483,\n",
       "       57.29213483, 57.29213483, 57.29213483, 57.29213483, 57.29213483])"
      ]
     },
     "execution_count": 45,
     "metadata": {},
     "output_type": "execute_result"
    }
   ],
   "source": [
    "import pickle\n",
    "import pandas as pd\n",
    "\n",
    "test_set = get_data('pycaret_downloads').head(20)\n",
    "test_set['Date'] = pd.to_datetime(test_set['Date'])\n",
    "test_set.set_index('Date', inplace=True)\n",
    "# Load the saved model from the pickle file\n",
    "model_path=r'C:\\Users\\zeesh\\OneDrive - ORMAE\\Documents\\Projects\\Self_Programming_Practice\\Zee_github_projects\\sales_forecasting\\Pycaret_forecast\\mlruns\\257795701779964022\\31224a34430b4bfc9fbf4be33a9e5acf\\artifacts\\model\\model.pkl'\n",
    "with open(model_path, 'rb') as model_file:\n",
    "    loaded_model = pickle.load(model_file)\n",
    "\n",
    "# Make predictions using the loaded model\n",
    "predictions = loaded_model.predict(test_set)\n",
    "\n",
    "# Display the predictions\n",
    "predictions\n"
   ]
  },
  {
   "cell_type": "code",
   "execution_count": null,
   "metadata": {},
   "outputs": [],
   "source": []
  },
  {
   "cell_type": "code",
   "execution_count": null,
   "metadata": {},
   "outputs": [],
   "source": []
  },
  {
   "cell_type": "code",
   "execution_count": null,
   "metadata": {},
   "outputs": [],
   "source": []
  }
 ],
 "metadata": {
  "kernelspec": {
   "display_name": "Pycaret",
   "language": "python",
   "name": "python3"
  },
  "language_info": {
   "codemirror_mode": {
    "name": "ipython",
    "version": 3
   },
   "file_extension": ".py",
   "mimetype": "text/x-python",
   "name": "python",
   "nbconvert_exporter": "python",
   "pygments_lexer": "ipython3",
   "version": "3.9.18"
  }
 },
 "nbformat": 4,
 "nbformat_minor": 2
}
